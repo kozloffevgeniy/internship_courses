{
 "cells": [
  {
   "cell_type": "code",
   "execution_count": 114,
   "metadata": {},
   "outputs": [],
   "source": [
    "import pandas as pd\n",
    "import numpy as np\n",
    "from pandas_profiling import ProfileReport\n",
    "import warnings\n",
    "from sklearn.model_selection import train_test_split\n",
    "warnings.filterwarnings('ignore')"
   ]
  },
  {
   "cell_type": "code",
   "execution_count": 115,
   "metadata": {},
   "outputs": [],
   "source": [
    "data = pd.read_csv('dataset_57_hypothyroid.csv')\n",
    "data.replace('?', np.nan, inplace=True)\n",
    "# Параметры ниже константны (TBG = NaN)\n",
    "data.drop(['TBG_measured', 'TBG'], axis=1, inplace=True)\n",
    "data.dropna(subset=['Class'], axis=0, inplace=True)"
   ]
  },
  {
   "cell_type": "code",
   "execution_count": 116,
   "metadata": {},
   "outputs": [
    {
     "data": {
      "text/html": [
       "<div>\n",
       "<style scoped>\n",
       "    .dataframe tbody tr th:only-of-type {\n",
       "        vertical-align: middle;\n",
       "    }\n",
       "\n",
       "    .dataframe tbody tr th {\n",
       "        vertical-align: top;\n",
       "    }\n",
       "\n",
       "    .dataframe thead th {\n",
       "        text-align: right;\n",
       "    }\n",
       "</style>\n",
       "<table border=\"1\" class=\"dataframe\">\n",
       "  <thead>\n",
       "    <tr style=\"text-align: right;\">\n",
       "      <th></th>\n",
       "      <th>age</th>\n",
       "      <th>sex</th>\n",
       "      <th>on_thyroxine</th>\n",
       "      <th>query_on_thyroxine</th>\n",
       "      <th>on_antithyroid_medication</th>\n",
       "      <th>sick</th>\n",
       "      <th>pregnant</th>\n",
       "      <th>thyroid_surgery</th>\n",
       "      <th>I131_treatment</th>\n",
       "      <th>query_hypothyroid</th>\n",
       "      <th>...</th>\n",
       "      <th>T3_measured</th>\n",
       "      <th>T3</th>\n",
       "      <th>TT4_measured</th>\n",
       "      <th>TT4</th>\n",
       "      <th>T4U_measured</th>\n",
       "      <th>T4U</th>\n",
       "      <th>FTI_measured</th>\n",
       "      <th>FTI</th>\n",
       "      <th>referral_source</th>\n",
       "      <th>Class</th>\n",
       "    </tr>\n",
       "  </thead>\n",
       "  <tbody>\n",
       "    <tr>\n",
       "      <th>0</th>\n",
       "      <td>41</td>\n",
       "      <td>F</td>\n",
       "      <td>f</td>\n",
       "      <td>f</td>\n",
       "      <td>f</td>\n",
       "      <td>f</td>\n",
       "      <td>f</td>\n",
       "      <td>f</td>\n",
       "      <td>f</td>\n",
       "      <td>f</td>\n",
       "      <td>...</td>\n",
       "      <td>t</td>\n",
       "      <td>2.5</td>\n",
       "      <td>t</td>\n",
       "      <td>125</td>\n",
       "      <td>t</td>\n",
       "      <td>1.14</td>\n",
       "      <td>t</td>\n",
       "      <td>109</td>\n",
       "      <td>SVHC</td>\n",
       "      <td>negative</td>\n",
       "    </tr>\n",
       "    <tr>\n",
       "      <th>1</th>\n",
       "      <td>23</td>\n",
       "      <td>F</td>\n",
       "      <td>f</td>\n",
       "      <td>f</td>\n",
       "      <td>f</td>\n",
       "      <td>f</td>\n",
       "      <td>f</td>\n",
       "      <td>f</td>\n",
       "      <td>f</td>\n",
       "      <td>f</td>\n",
       "      <td>...</td>\n",
       "      <td>t</td>\n",
       "      <td>2</td>\n",
       "      <td>t</td>\n",
       "      <td>102</td>\n",
       "      <td>f</td>\n",
       "      <td>NaN</td>\n",
       "      <td>f</td>\n",
       "      <td>NaN</td>\n",
       "      <td>other</td>\n",
       "      <td>negative</td>\n",
       "    </tr>\n",
       "    <tr>\n",
       "      <th>2</th>\n",
       "      <td>46</td>\n",
       "      <td>M</td>\n",
       "      <td>f</td>\n",
       "      <td>f</td>\n",
       "      <td>f</td>\n",
       "      <td>f</td>\n",
       "      <td>f</td>\n",
       "      <td>f</td>\n",
       "      <td>f</td>\n",
       "      <td>f</td>\n",
       "      <td>...</td>\n",
       "      <td>f</td>\n",
       "      <td>NaN</td>\n",
       "      <td>t</td>\n",
       "      <td>109</td>\n",
       "      <td>t</td>\n",
       "      <td>0.91</td>\n",
       "      <td>t</td>\n",
       "      <td>120</td>\n",
       "      <td>other</td>\n",
       "      <td>negative</td>\n",
       "    </tr>\n",
       "    <tr>\n",
       "      <th>3</th>\n",
       "      <td>70</td>\n",
       "      <td>F</td>\n",
       "      <td>t</td>\n",
       "      <td>f</td>\n",
       "      <td>f</td>\n",
       "      <td>f</td>\n",
       "      <td>f</td>\n",
       "      <td>f</td>\n",
       "      <td>f</td>\n",
       "      <td>f</td>\n",
       "      <td>...</td>\n",
       "      <td>t</td>\n",
       "      <td>1.9</td>\n",
       "      <td>t</td>\n",
       "      <td>175</td>\n",
       "      <td>f</td>\n",
       "      <td>NaN</td>\n",
       "      <td>f</td>\n",
       "      <td>NaN</td>\n",
       "      <td>other</td>\n",
       "      <td>negative</td>\n",
       "    </tr>\n",
       "    <tr>\n",
       "      <th>4</th>\n",
       "      <td>70</td>\n",
       "      <td>F</td>\n",
       "      <td>f</td>\n",
       "      <td>f</td>\n",
       "      <td>f</td>\n",
       "      <td>f</td>\n",
       "      <td>f</td>\n",
       "      <td>f</td>\n",
       "      <td>f</td>\n",
       "      <td>f</td>\n",
       "      <td>...</td>\n",
       "      <td>t</td>\n",
       "      <td>1.2</td>\n",
       "      <td>t</td>\n",
       "      <td>61</td>\n",
       "      <td>t</td>\n",
       "      <td>0.87</td>\n",
       "      <td>t</td>\n",
       "      <td>70</td>\n",
       "      <td>SVI</td>\n",
       "      <td>negative</td>\n",
       "    </tr>\n",
       "  </tbody>\n",
       "</table>\n",
       "<p>5 rows × 28 columns</p>\n",
       "</div>"
      ],
      "text/plain": [
       "  age sex on_thyroxine query_on_thyroxine on_antithyroid_medication sick  \\\n",
       "0  41   F            f                  f                         f    f   \n",
       "1  23   F            f                  f                         f    f   \n",
       "2  46   M            f                  f                         f    f   \n",
       "3  70   F            t                  f                         f    f   \n",
       "4  70   F            f                  f                         f    f   \n",
       "\n",
       "  pregnant thyroid_surgery I131_treatment query_hypothyroid  ... T3_measured  \\\n",
       "0        f               f              f                 f  ...           t   \n",
       "1        f               f              f                 f  ...           t   \n",
       "2        f               f              f                 f  ...           f   \n",
       "3        f               f              f                 f  ...           t   \n",
       "4        f               f              f                 f  ...           t   \n",
       "\n",
       "    T3 TT4_measured  TT4 T4U_measured   T4U FTI_measured  FTI referral_source  \\\n",
       "0  2.5            t  125            t  1.14            t  109            SVHC   \n",
       "1    2            t  102            f   NaN            f  NaN           other   \n",
       "2  NaN            t  109            t  0.91            t  120           other   \n",
       "3  1.9            t  175            f   NaN            f  NaN           other   \n",
       "4  1.2            t   61            t  0.87            t   70             SVI   \n",
       "\n",
       "      Class  \n",
       "0  negative  \n",
       "1  negative  \n",
       "2  negative  \n",
       "3  negative  \n",
       "4  negative  \n",
       "\n",
       "[5 rows x 28 columns]"
      ]
     },
     "execution_count": 116,
     "metadata": {},
     "output_type": "execute_result"
    }
   ],
   "source": [
    "data.head()"
   ]
  },
  {
   "cell_type": "code",
   "execution_count": 117,
   "metadata": {},
   "outputs": [],
   "source": [
    "for col in data.columns:\n",
    "    data[col] = pd.to_numeric(data[col], errors='ignore')"
   ]
  },
  {
   "cell_type": "code",
   "execution_count": 118,
   "metadata": {},
   "outputs": [],
   "source": [
    "report = ProfileReport(data)\n",
    "# report.to_notebook_iframe()"
   ]
  },
  {
   "cell_type": "markdown",
   "metadata": {},
   "source": [
    "## Выводы по EDA\n",
    "\n",
    "Target в выборке несбалансирован. Accuracy для метрики не подойдет. Так как задача касается здоровья, наилучшим вариантом будут метрики с несимметричными ошибками точность и полнота. Числовые значения будут заполены средним значением, категориальные most frequent. <br>\n",
    "Категориальные признаки будут заменены с  использованием One-Hot encoder <br>\n",
    "В данных также есть повторяющиеся строки, от которых следует избавиться"
   ]
  },
  {
   "cell_type": "code",
   "execution_count": 119,
   "metadata": {},
   "outputs": [],
   "source": [
    "bool_cols = [col for col in data.columns if data[col].nunique() == 2 and data[col][0] in ['t', 'f']]\n",
    "for col in bool_cols:\n",
    "    data[col] = data[col] == 't'"
   ]
  },
  {
   "cell_type": "code",
   "execution_count": 120,
   "metadata": {},
   "outputs": [],
   "source": [
    "data.drop_duplicates()\n",
    "y = data['Class']\n",
    "data.drop('Class', axis = 1, inplace=True)\n"
   ]
  },
  {
   "cell_type": "code",
   "execution_count": 139,
   "metadata": {},
   "outputs": [],
   "source": [
    "X_train, X_valid, y_train, y_valid = train_test_split(data, y, stratify=y)"
   ]
  },
  {
   "cell_type": "code",
   "execution_count": 140,
   "metadata": {},
   "outputs": [],
   "source": [
    "from sklearn.compose import ColumnTransformer\n",
    "from sklearn.pipeline import Pipeline\n",
    "from sklearn.impute import SimpleImputer\n",
    "from sklearn.preprocessing import OneHotEncoder\n",
    "from sklearn.preprocessing import StandardScaler"
   ]
  },
  {
   "cell_type": "markdown",
   "metadata": {},
   "source": [
    "## Pipeline для предобработки данных\n",
    "\n",
    "### Состоит из:\n",
    "<ul>\n",
    "    <li>Заполнение пропусков в числовых и категориальных значений</li>\n",
    "    <li>Кодирование категориальных признаков</li>\n",
    "    <li>Далее Pipeline соберется в другой, содержащий модель</li>\n",
    "</ul>"
   ]
  },
  {
   "cell_type": "code",
   "execution_count": 166,
   "metadata": {},
   "outputs": [],
   "source": [
    "num_trans = Pipeline(steps=[\n",
    "    ('imputer', SimpleImputer(strategy='median')),\n",
    "    ('scaler',  StandardScaler())\n",
    "    \n",
    "])\n",
    "cat_trans = Pipeline(steps=[\n",
    "    ('imputer', SimpleImputer(strategy='most_frequent')),\n",
    "    ('encoder', OneHotEncoder(handle_unknown='ignore'))\n",
    "])\n",
    "\n",
    "cat_cols = [col for col in data.columns if data[col].dtype =='object']\n",
    "num_cols = [col for col in data.columns if data[col].dtype in ['int64', 'float64']]\n",
    "\n",
    "\n",
    "\n",
    "preprocessor = ColumnTransformer(\n",
    "transformers =[\n",
    "    ('num', num_trans, num_cols),\n",
    "    ('cat', cat_trans, cat_cols),\n",
    "], remainder='passthrough')"
   ]
  },
  {
   "cell_type": "code",
   "execution_count": 167,
   "metadata": {},
   "outputs": [],
   "source": [
    "from sklearn.linear_model import LogisticRegression\n",
    "\n",
    "from sklearn.metrics import recall_score, precision_score, log_loss, f1_score\n",
    "\n",
    "\n",
    "# логистическая регрессия без регуляризации\n",
    "model = LogisticRegression(penalty='none')\n",
    "logistic_pipeline = Pipeline(steps=[\n",
    "    ('preprocessor', preprocessor),\n",
    "    ('model', model)\n",
    "])\n",
    "\n",
    "logistic_pipeline.fit(X_train, y_train)\n",
    "\n",
    "preds = logistic_pipeline.predict(X_valid)\n",
    "prob_preds=logistic_pipeline.predict_proba(X_valid)\n"
   ]
  },
  {
   "cell_type": "code",
   "execution_count": 168,
   "metadata": {},
   "outputs": [
    {
     "name": "stdout",
     "output_type": "stream",
     "text": [
      "logloss  0.16195918293890094\n",
      "Полнота  0.5711925287356322\n",
      "Точность  0.6316940592364322\n",
      "F1  0.597603121516165\n"
     ]
    }
   ],
   "source": [
    "print('logloss ', log_loss(y_valid, prob_preds))\n",
    "print('Полнота ', recall_score(y_valid, preds, average='macro'))\n",
    "print('Точность ', precision_score(y_valid, preds, average='macro'))\n",
    "print('F1 ', f1_score(y_valid, preds, average='macro'))"
   ]
  },
  {
   "cell_type": "code",
   "execution_count": 169,
   "metadata": {},
   "outputs": [
    {
     "data": {
      "text/plain": [
       "[('preprocessor',\n",
       "  ColumnTransformer(remainder='passthrough',\n",
       "                    transformers=[('num',\n",
       "                                   Pipeline(steps=[('imputer',\n",
       "                                                    SimpleImputer(strategy='median')),\n",
       "                                                   ('scaler', StandardScaler())]),\n",
       "                                   ['age', 'TSH', 'T3', 'TT4', 'T4U', 'FTI']),\n",
       "                                  ('cat',\n",
       "                                   Pipeline(steps=[('imputer',\n",
       "                                                    SimpleImputer(strategy='most_frequent')),\n",
       "                                                   ('encoder',\n",
       "                                                    OneHotEncoder(handle_unknown='ignore'))]),\n",
       "                                   ['sex', 'referral_source'])])),\n",
       " ('model', LogisticRegression(penalty='none'))]"
      ]
     },
     "execution_count": 169,
     "metadata": {},
     "output_type": "execute_result"
    }
   ],
   "source": [
    "logistic_pipeline.steps"
   ]
  },
  {
   "cell_type": "markdown",
   "metadata": {},
   "source": [
    "## Логистическая регрессия с разными видами регуляризации\n",
    "\n",
    "### L2"
   ]
  },
  {
   "cell_type": "code",
   "execution_count": 170,
   "metadata": {},
   "outputs": [
    {
     "name": "stdout",
     "output_type": "stream",
     "text": [
      "logloss 0.15734298918820386\n",
      "Полнота  0.4678879310344828\n",
      "Точность  0.6316626530202689\n",
      "F1  0.5235750173250173\n"
     ]
    }
   ],
   "source": [
    "model = LogisticRegression(penalty='l2')\n",
    "logistic_pipeline = Pipeline(steps=[\n",
    "    ('preprocessor', preprocessor),\n",
    "    ('model', model)\n",
    "])\n",
    "logistic_pipeline.fit(X_train, y_train)\n",
    "preds = logistic_pipeline.predict(X_valid)\n",
    "prob_preds = logistic_pipeline.predict_proba(X_valid)\n",
    "print('logloss', log_loss(y_valid, prob_preds))\n",
    "print('Полнота ', recall_score(y_valid, preds, average='macro'))\n",
    "print('Точность ',precision_score(y_valid, preds, average='macro'))\n",
    "print('F1 ', f1_score(y_valid, preds, average='macro'))\n"
   ]
  },
  {
   "cell_type": "markdown",
   "metadata": {},
   "source": [
    "###  Elastic net"
   ]
  },
  {
   "cell_type": "code",
   "execution_count": 171,
   "metadata": {},
   "outputs": [
    {
     "name": "stdout",
     "output_type": "stream",
     "text": [
      "logloss 0.1599561320207567\n",
      "Полнота  0.4519755747126437\n",
      "Точность  0.6101275791463223\n",
      "F1  0.5045386704509309\n"
     ]
    }
   ],
   "source": [
    "model = LogisticRegression(solver = 'saga' ,penalty='elasticnet', l1_ratio=0.5)\n",
    "logistic_pipeline = Pipeline(steps=[\n",
    "    ('preprocessor', preprocessor),\n",
    "    ('model', model)\n",
    "])\n",
    "logistic_pipeline.fit(X_train, y_train)\n",
    "preds = logistic_pipeline.predict(X_valid)\n",
    "prob_preds = logistic_pipeline.predict_proba(X_valid)\n",
    "print('logloss', log_loss(y_valid, prob_preds))\n",
    "print('Полнота ', recall_score(y_valid, preds, average='macro'))\n",
    "print('Точность ',precision_score(y_valid, preds, average='macro'))\n",
    "print('F1 ', f1_score(y_valid, preds, average='macro'))"
   ]
  },
  {
   "cell_type": "markdown",
   "metadata": {},
   "source": [
    "### L1"
   ]
  },
  {
   "cell_type": "code",
   "execution_count": 172,
   "metadata": {},
   "outputs": [
    {
     "name": "stdout",
     "output_type": "stream",
     "text": [
      "logloss 0.1600471598218187\n",
      "Полнота  0.4519755747126437\n",
      "Точность  0.6101275791463223\n",
      "F1  0.5045386704509309\n"
     ]
    }
   ],
   "source": [
    "model = LogisticRegression(solver = 'saga' ,penalty='l1')\n",
    "logistic_pipeline = Pipeline(steps=[\n",
    "    ('preprocessor', preprocessor),\n",
    "    ('model', model)\n",
    "])\n",
    "logistic_pipeline.fit(X_train, y_train)\n",
    "prob_preds = logistic_pipeline.predict_proba(X_valid)\n",
    "print('logloss', log_loss(y_valid, prob_preds))\n",
    "print('Полнота ', recall_score(y_valid, preds, average='macro'))\n",
    "print('Точность ',precision_score(y_valid, preds, average='macro'))\n",
    "print('F1 ', f1_score(y_valid, preds, average='macro'))"
   ]
  },
  {
   "cell_type": "markdown",
   "metadata": {},
   "source": [
    "## Выводы\n",
    "\n",
    "Так как в задаче речь идет о здоровье человека, в этом случае будет выгодным взять модель без регуляризации, так как этот вариант имеет наибольшую полноту, то есть наилучшим образом определяет больных. \n",
    "\n",
    "## Кросс-валидация для L2"
   ]
  },
  {
   "cell_type": "code",
   "execution_count": 178,
   "metadata": {},
   "outputs": [
    {
     "data": {
      "text/plain": [
       "array([0.57150255, 0.4819837 , 0.73578074, 0.76659627, 0.80144852])"
      ]
     },
     "execution_count": 178,
     "metadata": {},
     "output_type": "execute_result"
    }
   ],
   "source": [
    "from sklearn.model_selection import cross_val_score\n",
    "\n",
    "model = LogisticRegression(penalty='l2')\n",
    "logistic_pipeline = Pipeline(steps=[\n",
    "    ('preprocessor', preprocessor),\n",
    "    ('model', model)\n",
    "])\n",
    "scores = cross_val_score(logistic_pipeline, data, y, cv=5, scoring='f1_macro')\n",
    "scores"
   ]
  },
  {
   "cell_type": "markdown",
   "metadata": {},
   "source": [
    "# KNN"
   ]
  },
  {
   "cell_type": "code",
   "execution_count": 151,
   "metadata": {},
   "outputs": [
    {
     "name": "stdout",
     "output_type": "stream",
     "text": [
      "Полнота  0.3845545977011494\n",
      "Точность  0.5471362876254181\n",
      "F1  0.425310178219059\n"
     ]
    }
   ],
   "source": [
    "from sklearn.neighbors import KNeighborsClassifier\n",
    "from sklearn.metrics import f1_score\n",
    "\n",
    "model = KNeighborsClassifier(algorithm='kd_tree')\n",
    "KNN_pipeline = Pipeline(steps=[\n",
    "    ('preprocessor', preprocessor),\n",
    "    ('model', model)\n",
    "])\n",
    "\n",
    "KNN_pipeline.fit(X_train, y_train)\n",
    "preds=KNN_pipeline.predict(X_valid)\n",
    "print('Полнота ', recall_score(y_valid, preds, average='macro'))\n",
    "print('Точность ',precision_score(y_valid, preds, average='macro'))\n",
    "print('F1 ', f1_score(y_valid, preds, average='macro'))\n"
   ]
  },
  {
   "cell_type": "code",
   "execution_count": 159,
   "metadata": {},
   "outputs": [
    {
     "name": "stdout",
     "output_type": "stream",
     "text": [
      "logloss 1.1131013413175477\n",
      "Полнота  0.3845545977011494\n",
      "Точность  0.5471362876254181\n",
      "F1  0.425310178219059\n"
     ]
    }
   ],
   "source": [
    "model = KNeighborsClassifier(algorithm='brute')\n",
    "KNN_pipeline = Pipeline(steps=[\n",
    "    ('preprocessor', preprocessor),\n",
    "    ('model', model)\n",
    "])\n",
    "\n",
    "KNN_pipeline.fit(X_train, y_train)\n",
    "preds=KNN_pipeline.predict(X_valid)\n",
    "prob_preds = KNN_pipeline.predict_proba(X_valid)\n",
    "print('logloss', log_loss(y_valid, prob_preds))\n",
    "print('Полнота ', recall_score(y_valid, preds, average='macro'))\n",
    "print('Точность ',precision_score(y_valid, preds, average='macro'))\n",
    "print('F1 ', f1_score(y_valid, preds, average='macro'))\n"
   ]
  },
  {
   "cell_type": "code",
   "execution_count": 153,
   "metadata": {},
   "outputs": [
    {
     "name": "stdout",
     "output_type": "stream",
     "text": [
      "Полнота  0.3845545977011494\n",
      "Точность  0.5471362876254181\n",
      "F1  0.425310178219059\n"
     ]
    }
   ],
   "source": [
    "model = KNeighborsClassifier(algorithm='ball_tree')\n",
    "KNN_pipeline = Pipeline(steps=[\n",
    "    ('preprocessor', preprocessor),\n",
    "    ('model', model)\n",
    "])\n",
    "\n",
    "KNN_pipeline.fit(X_train, y_train)\n",
    "preds=KNN_pipeline.predict(X_valid)\n",
    "\n",
    "print('Полнота ', recall_score(y_valid, preds, average='macro'))\n",
    "print('Точность ',precision_score(y_valid, preds, average='macro'))\n",
    "print('F1 ', f1_score(y_valid, preds, average='macro'))\n"
   ]
  }
 ],
 "metadata": {
  "kernelspec": {
   "display_name": "Python 3",
   "language": "python",
   "name": "python3"
  },
  "language_info": {
   "codemirror_mode": {
    "name": "ipython",
    "version": 3
   },
   "file_extension": ".py",
   "mimetype": "text/x-python",
   "name": "python",
   "nbconvert_exporter": "python",
   "pygments_lexer": "ipython3",
   "version": "3.7.4"
  }
 },
 "nbformat": 4,
 "nbformat_minor": 4
}
