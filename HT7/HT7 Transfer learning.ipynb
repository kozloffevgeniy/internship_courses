{
 "cells": [
  {
   "cell_type": "code",
   "execution_count": 18,
   "metadata": {},
   "outputs": [],
   "source": [
    "from tensorflow.keras.applications import ResNet50\n",
    "from tensorflow.keras.models import Sequential\n",
    "from tensorflow.keras.layers import Dense, Flatten, GlobalAveragePooling2D\n",
    "import os\n",
    "\n",
    "# Бинарная классификация\n",
    "num_classes = 2\n",
    "\n",
    "# Загруженные веса модели ResNet50\n",
    "resnet_weights_path = os.getcwd() + '/resnet50_weights_tf_dim_ordering_tf_kernels_notop.h5'\n"
   ]
  },
  {
   "cell_type": "code",
   "execution_count": 19,
   "metadata": {},
   "outputs": [],
   "source": [
    "model = Sequential()\n",
    "# ResNet с загруженными весами\n",
    "model.add(ResNet50(include_top=False, pooling='avg', weights=resnet_weights_path))\n",
    "\n",
    "# Последний слой с 2 выходами (бинарная классификация)\n",
    "model.add(Dense(num_classes, activation='softmax'))\n",
    "\n",
    "model.layers[0].trainable = False"
   ]
  },
  {
   "cell_type": "code",
   "execution_count": 20,
   "metadata": {},
   "outputs": [],
   "source": [
    "model.compile(optimizer='sgd', loss='categorical_crossentropy', metrics=['accuracy'])"
   ]
  },
  {
   "cell_type": "code",
   "execution_count": 21,
   "metadata": {},
   "outputs": [
    {
     "name": "stdout",
     "output_type": "stream",
     "text": [
      "Found 498 images belonging to 2 classes.\n",
      "Found 500 images belonging to 2 classes.\n",
      "Epoch 1/10\n",
      "5/5 [==============================] - 40s 8s/step - loss: 0.7525 - accuracy: 0.7004 - val_loss: 1.0115 - val_accuracy: 0.6250\n",
      "Epoch 2/10\n",
      "5/5 [==============================] - 37s 7s/step - loss: 0.7628 - accuracy: 0.6519 - val_loss: 0.6747 - val_accuracy: 0.7188\n",
      "Epoch 3/10\n",
      "5/5 [==============================] - 37s 7s/step - loss: 0.4981 - accuracy: 0.7848 - val_loss: 0.2701 - val_accuracy: 0.8438\n",
      "Epoch 4/10\n",
      "5/5 [==============================] - 37s 7s/step - loss: 0.2445 - accuracy: 0.8887 - val_loss: 0.1848 - val_accuracy: 0.9375\n",
      "Epoch 5/10\n",
      "5/5 [==============================] - 37s 7s/step - loss: 0.2303 - accuracy: 0.8940 - val_loss: 0.1998 - val_accuracy: 0.9375\n",
      "Epoch 6/10\n",
      "5/5 [==============================] - 37s 7s/step - loss: 0.2102 - accuracy: 0.9107 - val_loss: 0.3431 - val_accuracy: 0.7812\n",
      "Epoch 7/10\n",
      "5/5 [==============================] - 37s 7s/step - loss: 0.2767 - accuracy: 0.8771 - val_loss: 0.2085 - val_accuracy: 0.9375\n",
      "Epoch 8/10\n",
      "5/5 [==============================] - 37s 7s/step - loss: 0.1749 - accuracy: 0.9328 - val_loss: 0.2092 - val_accuracy: 0.9375\n",
      "Epoch 9/10\n",
      "5/5 [==============================] - 37s 7s/step - loss: 0.1687 - accuracy: 0.9374 - val_loss: 0.1819 - val_accuracy: 0.9375\n",
      "Epoch 10/10\n",
      "5/5 [==============================] - 37s 7s/step - loss: 0.1688 - accuracy: 0.9479 - val_loss: 0.1414 - val_accuracy: 0.9688\n"
     ]
    },
    {
     "data": {
      "text/plain": [
       "<tensorflow.python.keras.callbacks.History at 0x20183044e08>"
      ]
     },
     "execution_count": 21,
     "metadata": {},
     "output_type": "execute_result"
    }
   ],
   "source": [
    "from keras.applications.resnet50 import preprocess_input\n",
    "from keras.preprocessing.image import ImageDataGenerator\n",
    "\n",
    "image_size = 224\n",
    "data_generator = ImageDataGenerator(preprocessing_function=preprocess_input)\n",
    "\n",
    "# Дата генераторы собрают фотографии сразу раздлеяя их на классы\n",
    "train_generator = data_generator.flow_from_directory(\n",
    "        os.getcwd()+'/hotdogs/train',\n",
    "        target_size=(image_size, image_size),\n",
    "        batch_size=100,\n",
    "        class_mode='categorical')\n",
    "\n",
    "validation_generator = data_generator.flow_from_directory(\n",
    "        os.getcwd()+'/hotdogs/test',\n",
    "        target_size=(image_size, image_size),\n",
    "        class_mode='categorical')\n",
    "\n",
    "# Фит модели\n",
    "model.fit_generator(\n",
    "    train_generator,\n",
    "    epochs = 10,\n",
    "    steps_per_epoch=5,\n",
    "    validation_data=validation_generator,\n",
    "    validation_steps=1)"
   ]
  },
  {
   "cell_type": "code",
   "execution_count": null,
   "metadata": {},
   "outputs": [],
   "source": []
  }
 ],
 "metadata": {
  "kernelspec": {
   "display_name": "Python 3",
   "language": "python",
   "name": "python3"
  },
  "language_info": {
   "codemirror_mode": {
    "name": "ipython",
    "version": 3
   },
   "file_extension": ".py",
   "mimetype": "text/x-python",
   "name": "python",
   "nbconvert_exporter": "python",
   "pygments_lexer": "ipython3",
   "version": "3.7.4"
  }
 },
 "nbformat": 4,
 "nbformat_minor": 5
}
