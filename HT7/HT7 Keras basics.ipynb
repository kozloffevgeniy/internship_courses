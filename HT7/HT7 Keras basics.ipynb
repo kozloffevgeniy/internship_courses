{
 "cells": [
  {
   "cell_type": "code",
   "execution_count": 1,
   "metadata": {},
   "outputs": [],
   "source": [
    "import tensorflow as tf\n",
    "import pandas as pd\n",
    "import numpy as np"
   ]
  },
  {
   "cell_type": "code",
   "execution_count": 2,
   "metadata": {},
   "outputs": [],
   "source": [
    "file = open('feedback.csv',  encoding='utf-8')\n",
    "columns = file.readline()[:-1].split(',')"
   ]
  },
  {
   "cell_type": "code",
   "execution_count": 3,
   "metadata": {},
   "outputs": [
    {
     "data": {
      "text/plain": [
       "['rating', 'product_id', 'name', 'date', 'feedback']"
      ]
     },
     "execution_count": 3,
     "metadata": {},
     "output_type": "execute_result"
    }
   ],
   "source": [
    "columns"
   ]
  },
  {
   "cell_type": "code",
   "execution_count": 4,
   "metadata": {
    "scrolled": true
   },
   "outputs": [
    {
     "name": "stdout",
     "output_type": "stream",
     "text": [
      "\"6 входов, предохранитель\",\"искрит при включении любого устройства в любой сетевой вход\",\"Данный сетевой фильтр начал искрить после недели эксплуатации. Защитить компьютер от перепада напряжения, я думаю, он вряд ли сможет.\"\n",
      "\n",
      "['1', '8342', 'Александр', '2017-04-12', '\"6 входов', ' предохранитель\"', '\"искрит при включении любого устройства в любой сетевой вход\"', '\"Данный сетевой фильтр начал искрить после недели эксплуатации. Защитить компьютер от перепада напряжения', ' я думаю', ' он вряд ли сможет.\"\\n']\n"
     ]
    }
   ],
   "source": [
    "for line in file:\n",
    "    tmp = line.split(',')\n",
    "    \n",
    "    print(','.join(tmp[4:]))\n",
    "    print(tmp)\n",
    "    break"
   ]
  },
  {
   "cell_type": "markdown",
   "metadata": {},
   "source": [
    "### В некоторых местах в данных три отзыва, а не один (минусы, плюсы, и сам фидбек)"
   ]
  },
  {
   "cell_type": "code",
   "execution_count": 5,
   "metadata": {},
   "outputs": [],
   "source": [
    "data = pd.read_csv('feedback.csv', names=['rating', 'product_id', 'name', 'date', 'pos', 'neg', 'feedback'])"
   ]
  },
  {
   "cell_type": "code",
   "execution_count": 6,
   "metadata": {},
   "outputs": [],
   "source": [
    "data = data.drop(0)"
   ]
  },
  {
   "cell_type": "code",
   "execution_count": 7,
   "metadata": {},
   "outputs": [
    {
     "data": {
      "text/html": [
       "<div>\n",
       "<style scoped>\n",
       "    .dataframe tbody tr th:only-of-type {\n",
       "        vertical-align: middle;\n",
       "    }\n",
       "\n",
       "    .dataframe tbody tr th {\n",
       "        vertical-align: top;\n",
       "    }\n",
       "\n",
       "    .dataframe thead th {\n",
       "        text-align: right;\n",
       "    }\n",
       "</style>\n",
       "<table border=\"1\" class=\"dataframe\">\n",
       "  <thead>\n",
       "    <tr style=\"text-align: right;\">\n",
       "      <th></th>\n",
       "      <th>rating</th>\n",
       "      <th>product_id</th>\n",
       "      <th>name</th>\n",
       "      <th>date</th>\n",
       "      <th>pos</th>\n",
       "      <th>neg</th>\n",
       "      <th>feedback</th>\n",
       "    </tr>\n",
       "  </thead>\n",
       "  <tbody>\n",
       "    <tr>\n",
       "      <th>1</th>\n",
       "      <td>1</td>\n",
       "      <td>8342</td>\n",
       "      <td>Александр</td>\n",
       "      <td>2017-04-12</td>\n",
       "      <td>6 входов, предохранитель</td>\n",
       "      <td>искрит при включении любого устройства в любой...</td>\n",
       "      <td>Данный сетевой фильтр начал искрить после неде...</td>\n",
       "    </tr>\n",
       "    <tr>\n",
       "      <th>2</th>\n",
       "      <td>5</td>\n",
       "      <td>8342</td>\n",
       "      <td>Елена</td>\n",
       "      <td>2015-08-04</td>\n",
       "      <td>Я являюсь пользователем Пилотов уже больше 10 ...</td>\n",
       "      <td>NaN</td>\n",
       "      <td>NaN</td>\n",
       "    </tr>\n",
       "    <tr>\n",
       "      <th>3</th>\n",
       "      <td>5</td>\n",
       "      <td>5311</td>\n",
       "      <td>Леонид</td>\n",
       "      <td>2017-07-16</td>\n",
       "      <td>хорошо мелет</td>\n",
       "      <td>маркий, остаются следы</td>\n",
       "      <td>Использую 1 месяц. Пока  проблем нет.</td>\n",
       "    </tr>\n",
       "    <tr>\n",
       "      <th>4</th>\n",
       "      <td>4</td>\n",
       "      <td>5311</td>\n",
       "      <td>Сергей</td>\n",
       "      <td>2017-06-28</td>\n",
       "      <td>Компактная</td>\n",
       "      <td>Не нашел</td>\n",
       "      <td>Работает на ура. В инструкции четко написано, ...</td>\n",
       "    </tr>\n",
       "    <tr>\n",
       "      <th>5</th>\n",
       "      <td>5</td>\n",
       "      <td>5311</td>\n",
       "      <td>Ольга</td>\n",
       "      <td>2017-01-21</td>\n",
       "      <td>Цена и качество</td>\n",
       "      <td>Нет</td>\n",
       "      <td>В использовании 2 месяца перемалывает быстро и...</td>\n",
       "    </tr>\n",
       "    <tr>\n",
       "      <th>...</th>\n",
       "      <td>...</td>\n",
       "      <td>...</td>\n",
       "      <td>...</td>\n",
       "      <td>...</td>\n",
       "      <td>...</td>\n",
       "      <td>...</td>\n",
       "      <td>...</td>\n",
       "    </tr>\n",
       "    <tr>\n",
       "      <th>18337</th>\n",
       "      <td>5</td>\n",
       "      <td>50037359</td>\n",
       "      <td>Антон</td>\n",
       "      <td>2017-02-22</td>\n",
       "      <td>Удобная, качественная</td>\n",
       "      <td>Не обнаружил, если только цена</td>\n",
       "      <td>Доска была куплена в январе месяце, так как же...</td>\n",
       "    </tr>\n",
       "    <tr>\n",
       "      <th>18338</th>\n",
       "      <td>4</td>\n",
       "      <td>50037359</td>\n",
       "      <td>Мария</td>\n",
       "      <td>2016-04-10</td>\n",
       "      <td>доска большого размера - не для маленьких квар...</td>\n",
       "      <td>NaN</td>\n",
       "      <td>NaN</td>\n",
       "    </tr>\n",
       "    <tr>\n",
       "      <th>18339</th>\n",
       "      <td>5</td>\n",
       "      <td>50037359</td>\n",
       "      <td>Екатерина</td>\n",
       "      <td>2016-04-09</td>\n",
       "      <td>Пользуюсь уже 2 года, ничего не скрипит, по по...</td>\n",
       "      <td>NaN</td>\n",
       "      <td>NaN</td>\n",
       "    </tr>\n",
       "    <tr>\n",
       "      <th>18340</th>\n",
       "      <td>1</td>\n",
       "      <td>50037359</td>\n",
       "      <td>Дормидонт</td>\n",
       "      <td>2015-12-10</td>\n",
       "      <td>за эти деньги можно купить как минимум две оте...</td>\n",
       "      <td>NaN</td>\n",
       "      <td>NaN</td>\n",
       "    </tr>\n",
       "    <tr>\n",
       "      <th>18341</th>\n",
       "      <td>4</td>\n",
       "      <td>50037359</td>\n",
       "      <td>Лена</td>\n",
       "      <td>2014-02-05</td>\n",
       "      <td>Доска очень понравилась. + Большая поверхность...</td>\n",
       "      <td>NaN</td>\n",
       "      <td>NaN</td>\n",
       "    </tr>\n",
       "  </tbody>\n",
       "</table>\n",
       "<p>18341 rows × 7 columns</p>\n",
       "</div>"
      ],
      "text/plain": [
       "      rating product_id       name        date  \\\n",
       "1          1       8342  Александр  2017-04-12   \n",
       "2          5       8342      Елена  2015-08-04   \n",
       "3          5       5311     Леонид  2017-07-16   \n",
       "4          4       5311     Сергей  2017-06-28   \n",
       "5          5       5311      Ольга  2017-01-21   \n",
       "...      ...        ...        ...         ...   \n",
       "18337      5   50037359      Антон  2017-02-22   \n",
       "18338      4   50037359      Мария  2016-04-10   \n",
       "18339      5   50037359  Екатерина  2016-04-09   \n",
       "18340      1   50037359  Дормидонт  2015-12-10   \n",
       "18341      4   50037359       Лена  2014-02-05   \n",
       "\n",
       "                                                     pos  \\\n",
       "1                               6 входов, предохранитель   \n",
       "2      Я являюсь пользователем Пилотов уже больше 10 ...   \n",
       "3                                           хорошо мелет   \n",
       "4                                             Компактная   \n",
       "5                                        Цена и качество   \n",
       "...                                                  ...   \n",
       "18337                              Удобная, качественная   \n",
       "18338  доска большого размера - не для маленьких квар...   \n",
       "18339  Пользуюсь уже 2 года, ничего не скрипит, по по...   \n",
       "18340  за эти деньги можно купить как минимум две оте...   \n",
       "18341  Доска очень понравилась. + Большая поверхность...   \n",
       "\n",
       "                                                     neg  \\\n",
       "1      искрит при включении любого устройства в любой...   \n",
       "2                                                    NaN   \n",
       "3                                 маркий, остаются следы   \n",
       "4                                               Не нашел   \n",
       "5                                                    Нет   \n",
       "...                                                  ...   \n",
       "18337                     Не обнаружил, если только цена   \n",
       "18338                                                NaN   \n",
       "18339                                                NaN   \n",
       "18340                                                NaN   \n",
       "18341                                                NaN   \n",
       "\n",
       "                                                feedback  \n",
       "1      Данный сетевой фильтр начал искрить после неде...  \n",
       "2                                                    NaN  \n",
       "3                  Использую 1 месяц. Пока  проблем нет.  \n",
       "4      Работает на ура. В инструкции четко написано, ...  \n",
       "5      В использовании 2 месяца перемалывает быстро и...  \n",
       "...                                                  ...  \n",
       "18337  Доска была куплена в январе месяце, так как же...  \n",
       "18338                                                NaN  \n",
       "18339                                                NaN  \n",
       "18340                                                NaN  \n",
       "18341                                                NaN  \n",
       "\n",
       "[18341 rows x 7 columns]"
      ]
     },
     "execution_count": 7,
     "metadata": {},
     "output_type": "execute_result"
    }
   ],
   "source": [
    "data"
   ]
  },
  {
   "cell_type": "code",
   "execution_count": 8,
   "metadata": {},
   "outputs": [],
   "source": [
    "def y(x):\n",
    "    if x['feedback'].isnan():\n",
    "        return x['pos'] \n",
    "    else:\n",
    "        return x['feedback']"
   ]
  },
  {
   "cell_type": "code",
   "execution_count": 9,
   "metadata": {},
   "outputs": [
    {
     "data": {
      "text/plain": [
       "17254"
      ]
     },
     "execution_count": 9,
     "metadata": {},
     "output_type": "execute_result"
    }
   ],
   "source": [
    "sum(data['feedback'].isnull())"
   ]
  },
  {
   "cell_type": "code",
   "execution_count": 10,
   "metadata": {},
   "outputs": [],
   "source": [
    "data['feedback'][data['feedback'].isnull()] = data['pos'].loc[data[data['feedback'].isnull()].index]"
   ]
  },
  {
   "cell_type": "code",
   "execution_count": 11,
   "metadata": {},
   "outputs": [
    {
     "data": {
      "text/html": [
       "<div>\n",
       "<style scoped>\n",
       "    .dataframe tbody tr th:only-of-type {\n",
       "        vertical-align: middle;\n",
       "    }\n",
       "\n",
       "    .dataframe tbody tr th {\n",
       "        vertical-align: top;\n",
       "    }\n",
       "\n",
       "    .dataframe thead th {\n",
       "        text-align: right;\n",
       "    }\n",
       "</style>\n",
       "<table border=\"1\" class=\"dataframe\">\n",
       "  <thead>\n",
       "    <tr style=\"text-align: right;\">\n",
       "      <th></th>\n",
       "      <th>rating</th>\n",
       "      <th>product_id</th>\n",
       "      <th>name</th>\n",
       "      <th>date</th>\n",
       "      <th>feedback</th>\n",
       "    </tr>\n",
       "  </thead>\n",
       "  <tbody>\n",
       "    <tr>\n",
       "      <th>1</th>\n",
       "      <td>1</td>\n",
       "      <td>8342</td>\n",
       "      <td>Александр</td>\n",
       "      <td>2017-04-12</td>\n",
       "      <td>Данный сетевой фильтр начал искрить после неде...</td>\n",
       "    </tr>\n",
       "    <tr>\n",
       "      <th>2</th>\n",
       "      <td>5</td>\n",
       "      <td>8342</td>\n",
       "      <td>Елена</td>\n",
       "      <td>2015-08-04</td>\n",
       "      <td>Я являюсь пользователем Пилотов уже больше 10 ...</td>\n",
       "    </tr>\n",
       "    <tr>\n",
       "      <th>3</th>\n",
       "      <td>5</td>\n",
       "      <td>5311</td>\n",
       "      <td>Леонид</td>\n",
       "      <td>2017-07-16</td>\n",
       "      <td>Использую 1 месяц. Пока  проблем нет.</td>\n",
       "    </tr>\n",
       "    <tr>\n",
       "      <th>4</th>\n",
       "      <td>4</td>\n",
       "      <td>5311</td>\n",
       "      <td>Сергей</td>\n",
       "      <td>2017-06-28</td>\n",
       "      <td>Работает на ура. В инструкции четко написано, ...</td>\n",
       "    </tr>\n",
       "    <tr>\n",
       "      <th>5</th>\n",
       "      <td>5</td>\n",
       "      <td>5311</td>\n",
       "      <td>Ольга</td>\n",
       "      <td>2017-01-21</td>\n",
       "      <td>В использовании 2 месяца перемалывает быстро и...</td>\n",
       "    </tr>\n",
       "    <tr>\n",
       "      <th>...</th>\n",
       "      <td>...</td>\n",
       "      <td>...</td>\n",
       "      <td>...</td>\n",
       "      <td>...</td>\n",
       "      <td>...</td>\n",
       "    </tr>\n",
       "    <tr>\n",
       "      <th>18337</th>\n",
       "      <td>5</td>\n",
       "      <td>50037359</td>\n",
       "      <td>Антон</td>\n",
       "      <td>2017-02-22</td>\n",
       "      <td>Доска была куплена в январе месяце, так как же...</td>\n",
       "    </tr>\n",
       "    <tr>\n",
       "      <th>18338</th>\n",
       "      <td>4</td>\n",
       "      <td>50037359</td>\n",
       "      <td>Мария</td>\n",
       "      <td>2016-04-10</td>\n",
       "      <td>доска большого размера - не для маленьких квар...</td>\n",
       "    </tr>\n",
       "    <tr>\n",
       "      <th>18339</th>\n",
       "      <td>5</td>\n",
       "      <td>50037359</td>\n",
       "      <td>Екатерина</td>\n",
       "      <td>2016-04-09</td>\n",
       "      <td>Пользуюсь уже 2 года, ничего не скрипит, по по...</td>\n",
       "    </tr>\n",
       "    <tr>\n",
       "      <th>18340</th>\n",
       "      <td>1</td>\n",
       "      <td>50037359</td>\n",
       "      <td>Дормидонт</td>\n",
       "      <td>2015-12-10</td>\n",
       "      <td>за эти деньги можно купить как минимум две оте...</td>\n",
       "    </tr>\n",
       "    <tr>\n",
       "      <th>18341</th>\n",
       "      <td>4</td>\n",
       "      <td>50037359</td>\n",
       "      <td>Лена</td>\n",
       "      <td>2014-02-05</td>\n",
       "      <td>Доска очень понравилась. + Большая поверхность...</td>\n",
       "    </tr>\n",
       "  </tbody>\n",
       "</table>\n",
       "<p>18341 rows × 5 columns</p>\n",
       "</div>"
      ],
      "text/plain": [
       "      rating product_id       name        date  \\\n",
       "1          1       8342  Александр  2017-04-12   \n",
       "2          5       8342      Елена  2015-08-04   \n",
       "3          5       5311     Леонид  2017-07-16   \n",
       "4          4       5311     Сергей  2017-06-28   \n",
       "5          5       5311      Ольга  2017-01-21   \n",
       "...      ...        ...        ...         ...   \n",
       "18337      5   50037359      Антон  2017-02-22   \n",
       "18338      4   50037359      Мария  2016-04-10   \n",
       "18339      5   50037359  Екатерина  2016-04-09   \n",
       "18340      1   50037359  Дормидонт  2015-12-10   \n",
       "18341      4   50037359       Лена  2014-02-05   \n",
       "\n",
       "                                                feedback  \n",
       "1      Данный сетевой фильтр начал искрить после неде...  \n",
       "2      Я являюсь пользователем Пилотов уже больше 10 ...  \n",
       "3                  Использую 1 месяц. Пока  проблем нет.  \n",
       "4      Работает на ура. В инструкции четко написано, ...  \n",
       "5      В использовании 2 месяца перемалывает быстро и...  \n",
       "...                                                  ...  \n",
       "18337  Доска была куплена в январе месяце, так как же...  \n",
       "18338  доска большого размера - не для маленьких квар...  \n",
       "18339  Пользуюсь уже 2 года, ничего не скрипит, по по...  \n",
       "18340  за эти деньги можно купить как минимум две оте...  \n",
       "18341  Доска очень понравилась. + Большая поверхность...  \n",
       "\n",
       "[18341 rows x 5 columns]"
      ]
     },
     "execution_count": 11,
     "metadata": {},
     "output_type": "execute_result"
    }
   ],
   "source": [
    "data.drop(['pos', 'neg'], axis=1, inplace=True)\n",
    "data"
   ]
  },
  {
   "cell_type": "markdown",
   "metadata": {},
   "source": [
    "## Keras example"
   ]
  },
  {
   "cell_type": "markdown",
   "metadata": {},
   "source": [
    "## Text prep\n",
    "\n",
    "В примере керас используется индексация по частоте встречаемости слова (самое частое слово 1, самое редкое n, где n размер словаря). В данной задаче используется аналогичная индесация слов"
   ]
  },
  {
   "cell_type": "code",
   "execution_count": 12,
   "metadata": {},
   "outputs": [
    {
     "data": {
      "text/html": [
       "<div>\n",
       "<style scoped>\n",
       "    .dataframe tbody tr th:only-of-type {\n",
       "        vertical-align: middle;\n",
       "    }\n",
       "\n",
       "    .dataframe tbody tr th {\n",
       "        vertical-align: top;\n",
       "    }\n",
       "\n",
       "    .dataframe thead th {\n",
       "        text-align: right;\n",
       "    }\n",
       "</style>\n",
       "<table border=\"1\" class=\"dataframe\">\n",
       "  <thead>\n",
       "    <tr style=\"text-align: right;\">\n",
       "      <th></th>\n",
       "      <th>rating</th>\n",
       "      <th>product_id</th>\n",
       "      <th>name</th>\n",
       "      <th>date</th>\n",
       "      <th>feedback</th>\n",
       "    </tr>\n",
       "  </thead>\n",
       "  <tbody>\n",
       "    <tr>\n",
       "      <th>1</th>\n",
       "      <td>1</td>\n",
       "      <td>8342</td>\n",
       "      <td>Александр</td>\n",
       "      <td>2017-04-12</td>\n",
       "      <td>Данный сетевой фильтр начал искрить после неде...</td>\n",
       "    </tr>\n",
       "    <tr>\n",
       "      <th>2</th>\n",
       "      <td>5</td>\n",
       "      <td>8342</td>\n",
       "      <td>Елена</td>\n",
       "      <td>2015-08-04</td>\n",
       "      <td>Я являюсь пользователем Пилотов уже больше 10 ...</td>\n",
       "    </tr>\n",
       "    <tr>\n",
       "      <th>3</th>\n",
       "      <td>5</td>\n",
       "      <td>5311</td>\n",
       "      <td>Леонид</td>\n",
       "      <td>2017-07-16</td>\n",
       "      <td>Использую 1 месяц. Пока  проблем нет.</td>\n",
       "    </tr>\n",
       "    <tr>\n",
       "      <th>4</th>\n",
       "      <td>4</td>\n",
       "      <td>5311</td>\n",
       "      <td>Сергей</td>\n",
       "      <td>2017-06-28</td>\n",
       "      <td>Работает на ура. В инструкции четко написано, ...</td>\n",
       "    </tr>\n",
       "    <tr>\n",
       "      <th>5</th>\n",
       "      <td>5</td>\n",
       "      <td>5311</td>\n",
       "      <td>Ольга</td>\n",
       "      <td>2017-01-21</td>\n",
       "      <td>В использовании 2 месяца перемалывает быстро и...</td>\n",
       "    </tr>\n",
       "    <tr>\n",
       "      <th>...</th>\n",
       "      <td>...</td>\n",
       "      <td>...</td>\n",
       "      <td>...</td>\n",
       "      <td>...</td>\n",
       "      <td>...</td>\n",
       "    </tr>\n",
       "    <tr>\n",
       "      <th>18337</th>\n",
       "      <td>5</td>\n",
       "      <td>50037359</td>\n",
       "      <td>Антон</td>\n",
       "      <td>2017-02-22</td>\n",
       "      <td>Доска была куплена в январе месяце, так как же...</td>\n",
       "    </tr>\n",
       "    <tr>\n",
       "      <th>18338</th>\n",
       "      <td>4</td>\n",
       "      <td>50037359</td>\n",
       "      <td>Мария</td>\n",
       "      <td>2016-04-10</td>\n",
       "      <td>доска большого размера - не для маленьких квар...</td>\n",
       "    </tr>\n",
       "    <tr>\n",
       "      <th>18339</th>\n",
       "      <td>5</td>\n",
       "      <td>50037359</td>\n",
       "      <td>Екатерина</td>\n",
       "      <td>2016-04-09</td>\n",
       "      <td>Пользуюсь уже 2 года, ничего не скрипит, по по...</td>\n",
       "    </tr>\n",
       "    <tr>\n",
       "      <th>18340</th>\n",
       "      <td>1</td>\n",
       "      <td>50037359</td>\n",
       "      <td>Дормидонт</td>\n",
       "      <td>2015-12-10</td>\n",
       "      <td>за эти деньги можно купить как минимум две оте...</td>\n",
       "    </tr>\n",
       "    <tr>\n",
       "      <th>18341</th>\n",
       "      <td>4</td>\n",
       "      <td>50037359</td>\n",
       "      <td>Лена</td>\n",
       "      <td>2014-02-05</td>\n",
       "      <td>Доска очень понравилась. + Большая поверхность...</td>\n",
       "    </tr>\n",
       "  </tbody>\n",
       "</table>\n",
       "<p>18341 rows × 5 columns</p>\n",
       "</div>"
      ],
      "text/plain": [
       "      rating product_id       name        date  \\\n",
       "1          1       8342  Александр  2017-04-12   \n",
       "2          5       8342      Елена  2015-08-04   \n",
       "3          5       5311     Леонид  2017-07-16   \n",
       "4          4       5311     Сергей  2017-06-28   \n",
       "5          5       5311      Ольга  2017-01-21   \n",
       "...      ...        ...        ...         ...   \n",
       "18337      5   50037359      Антон  2017-02-22   \n",
       "18338      4   50037359      Мария  2016-04-10   \n",
       "18339      5   50037359  Екатерина  2016-04-09   \n",
       "18340      1   50037359  Дормидонт  2015-12-10   \n",
       "18341      4   50037359       Лена  2014-02-05   \n",
       "\n",
       "                                                feedback  \n",
       "1      Данный сетевой фильтр начал искрить после неде...  \n",
       "2      Я являюсь пользователем Пилотов уже больше 10 ...  \n",
       "3                  Использую 1 месяц. Пока  проблем нет.  \n",
       "4      Работает на ура. В инструкции четко написано, ...  \n",
       "5      В использовании 2 месяца перемалывает быстро и...  \n",
       "...                                                  ...  \n",
       "18337  Доска была куплена в январе месяце, так как же...  \n",
       "18338  доска большого размера - не для маленьких квар...  \n",
       "18339  Пользуюсь уже 2 года, ничего не скрипит, по по...  \n",
       "18340  за эти деньги можно купить как минимум две оте...  \n",
       "18341  Доска очень понравилась. + Большая поверхность...  \n",
       "\n",
       "[18341 rows x 5 columns]"
      ]
     },
     "execution_count": 12,
     "metadata": {},
     "output_type": "execute_result"
    }
   ],
   "source": [
    "data"
   ]
  },
  {
   "cell_type": "code",
   "execution_count": 13,
   "metadata": {},
   "outputs": [],
   "source": [
    "div = len(data) * 3 // 4\n",
    "X_train, X_test, y_train, y_test = data['feedback'][:div] , data['feedback'][div:], data['rating'][:div], data['rating'][div:]   "
   ]
  },
  {
   "cell_type": "code",
   "execution_count": 14,
   "metadata": {},
   "outputs": [
    {
     "data": {
      "text/plain": [
       "1        Данный сетевой фильтр начал искрить после неде...\n",
       "2        Я являюсь пользователем Пилотов уже больше 10 ...\n",
       "3                    Использую 1 месяц. Пока  проблем нет.\n",
       "4        Работает на ура. В инструкции четко написано, ...\n",
       "5        В использовании 2 месяца перемалывает быстро и...\n",
       "                               ...                        \n",
       "13751    Купил,хожу по городу и радуюсь! Не знаю, как у...\n",
       "13752    +Всё нормально. Звук на твёрдую четвёрку. Ради...\n",
       "13753          Очень плохое качество радио приема - шипит.\n",
       "13754    Сначала горела нокией эксперсс мьюзик, но сест...\n",
       "13755    хожу с этим телефошкой с июля 2009 года.фото х...\n",
       "Name: feedback, Length: 13755, dtype: object"
      ]
     },
     "execution_count": 14,
     "metadata": {},
     "output_type": "execute_result"
    }
   ],
   "source": [
    "X_train"
   ]
  },
  {
   "cell_type": "code",
   "execution_count": 15,
   "metadata": {},
   "outputs": [],
   "source": [
    "import re\n",
    "import pymorphy2\n",
    "from nltk.corpus import stopwords\n",
    "morph = pymorphy2.MorphAnalyzer()\n",
    "\n",
    "def text_prep(text):\n",
    "    text = text.lower()\n",
    "#     print(text)\n",
    "    text = re.sub('[!?.,()-:+]', ' ', text)\n",
    "    text = re.sub('\"', '', text)\n",
    "    return [morph.parse(i)[0].normal_form for i in text.split() if i not in stopwords.words('russian')]"
   ]
  },
  {
   "cell_type": "code",
   "execution_count": 16,
   "metadata": {},
   "outputs": [],
   "source": [
    "X_train = X_train.apply(text_prep)\n",
    "X_test = X_test.apply(text_prep)"
   ]
  },
  {
   "cell_type": "code",
   "execution_count": 17,
   "metadata": {},
   "outputs": [
    {
     "data": {
      "text/plain": [
       "['данный',\n",
       " 'сетевой',\n",
       " 'фильтр',\n",
       " 'начать',\n",
       " 'искрить',\n",
       " 'неделя',\n",
       " 'эксплуатация',\n",
       " 'защитить',\n",
       " 'компьютер',\n",
       " 'перепад',\n",
       " 'напряжение',\n",
       " 'думать',\n",
       " 'вряд',\n",
       " 'смочь']"
      ]
     },
     "execution_count": 17,
     "metadata": {},
     "output_type": "execute_result"
    }
   ],
   "source": [
    "X_train.iloc[0]"
   ]
  },
  {
   "cell_type": "code",
   "execution_count": 18,
   "metadata": {},
   "outputs": [],
   "source": [
    "res = []\n",
    "for i in range(len(X_train)):\n",
    "    try:\n",
    "        res += X_train.iloc[i]\n",
    "    except:\n",
    "        print(i)\n",
    "        break"
   ]
  },
  {
   "cell_type": "code",
   "execution_count": 19,
   "metadata": {},
   "outputs": [],
   "source": [
    "dictionary = pd.DataFrame(pd.Series(res))"
   ]
  },
  {
   "cell_type": "code",
   "execution_count": 20,
   "metadata": {},
   "outputs": [],
   "source": [
    "dictionary[1] = 1"
   ]
  },
  {
   "cell_type": "code",
   "execution_count": 21,
   "metadata": {},
   "outputs": [],
   "source": [
    "dictionary = dictionary.groupby(0).count().sort_values(by=1, ascending=False)"
   ]
  },
  {
   "cell_type": "code",
   "execution_count": 22,
   "metadata": {},
   "outputs": [],
   "source": [
    "dictionary = dictionary.reset_index()"
   ]
  },
  {
   "cell_type": "code",
   "execution_count": 23,
   "metadata": {},
   "outputs": [],
   "source": [
    "res = []\n",
    "for i in range(len(X_test)):\n",
    "    try:\n",
    "        res += X_test.iloc[i]\n",
    "    except:\n",
    "        print(i)\n",
    "        break\n",
    "test_dict = pd.DataFrame(pd.Series(res))\n",
    "test_dict[1] = 1\n",
    "test_dict = test_dict.groupby(0).count().sort_values(by=1, ascending=False)\n"
   ]
  },
  {
   "cell_type": "code",
   "execution_count": 24,
   "metadata": {},
   "outputs": [],
   "source": [
    "test_dict = test_dict.reset_index()"
   ]
  },
  {
   "cell_type": "code",
   "execution_count": 25,
   "metadata": {},
   "outputs": [],
   "source": [
    "test_dict.index += 1\n",
    "dictionary.index += 1"
   ]
  },
  {
   "cell_type": "code",
   "execution_count": 26,
   "metadata": {},
   "outputs": [],
   "source": [
    "dictionary = dictionary.reset_index().set_index(0)\n",
    "test_dict = test_dict.reset_index().set_index(0)"
   ]
  },
  {
   "cell_type": "code",
   "execution_count": 27,
   "metadata": {},
   "outputs": [
    {
     "data": {
      "text/html": [
       "<div>\n",
       "<style scoped>\n",
       "    .dataframe tbody tr th:only-of-type {\n",
       "        vertical-align: middle;\n",
       "    }\n",
       "\n",
       "    .dataframe tbody tr th {\n",
       "        vertical-align: top;\n",
       "    }\n",
       "\n",
       "    .dataframe thead th {\n",
       "        text-align: right;\n",
       "    }\n",
       "</style>\n",
       "<table border=\"1\" class=\"dataframe\">\n",
       "  <thead>\n",
       "    <tr style=\"text-align: right;\">\n",
       "      <th></th>\n",
       "      <th>index</th>\n",
       "      <th>1</th>\n",
       "    </tr>\n",
       "    <tr>\n",
       "      <th>0</th>\n",
       "      <th></th>\n",
       "      <th></th>\n",
       "    </tr>\n",
       "  </thead>\n",
       "  <tbody>\n",
       "    <tr>\n",
       "      <th>очень</th>\n",
       "      <td>1</td>\n",
       "      <td>6979</td>\n",
       "    </tr>\n",
       "    <tr>\n",
       "      <th>купить</th>\n",
       "      <td>2</td>\n",
       "      <td>4206</td>\n",
       "    </tr>\n",
       "    <tr>\n",
       "      <th>это</th>\n",
       "      <td>3</td>\n",
       "      <td>3953</td>\n",
       "    </tr>\n",
       "    <tr>\n",
       "      <th>год</th>\n",
       "      <td>4</td>\n",
       "      <td>3759</td>\n",
       "    </tr>\n",
       "    <tr>\n",
       "      <th>хороший</th>\n",
       "      <td>5</td>\n",
       "      <td>2904</td>\n",
       "    </tr>\n",
       "    <tr>\n",
       "      <th>...</th>\n",
       "      <td>...</td>\n",
       "      <td>...</td>\n",
       "    </tr>\n",
       "    <tr>\n",
       "      <th>многокомнатный</th>\n",
       "      <td>23885</td>\n",
       "      <td>1</td>\n",
       "    </tr>\n",
       "    <tr>\n",
       "      <th>многомесячный</th>\n",
       "      <td>23886</td>\n",
       "      <td>1</td>\n",
       "    </tr>\n",
       "    <tr>\n",
       "      <th>многоооооо</th>\n",
       "      <td>23887</td>\n",
       "      <td>1</td>\n",
       "    </tr>\n",
       "    <tr>\n",
       "      <th>многооперационный</th>\n",
       "      <td>23888</td>\n",
       "      <td>1</td>\n",
       "    </tr>\n",
       "    <tr>\n",
       "      <th>！без</th>\n",
       "      <td>23889</td>\n",
       "      <td>1</td>\n",
       "    </tr>\n",
       "  </tbody>\n",
       "</table>\n",
       "<p>23889 rows × 2 columns</p>\n",
       "</div>"
      ],
      "text/plain": [
       "                   index     1\n",
       "0                             \n",
       "очень                  1  6979\n",
       "купить                 2  4206\n",
       "это                    3  3953\n",
       "год                    4  3759\n",
       "хороший                5  2904\n",
       "...                  ...   ...\n",
       "многокомнатный     23885     1\n",
       "многомесячный      23886     1\n",
       "многоооооо         23887     1\n",
       "многооперационный  23888     1\n",
       "！без               23889     1\n",
       "\n",
       "[23889 rows x 2 columns]"
      ]
     },
     "execution_count": 27,
     "metadata": {},
     "output_type": "execute_result"
    }
   ],
   "source": [
    "dictionary"
   ]
  },
  {
   "cell_type": "code",
   "execution_count": 28,
   "metadata": {},
   "outputs": [
    {
     "data": {
      "text/plain": [
       "1        [данный, сетевой, фильтр, начать, искрить, нед...\n",
       "2        [являться, пользователь, пилот, год, какой, ли...\n",
       "3                    [использовать, месяц, пока, проблема]\n",
       "4        [работать, ура, инструкция, чётко, написать, т...\n",
       "5        [использование, месяц, перемалывать, быстро, к...\n",
       "                               ...                        \n",
       "13751    [купить, ходить, город, радоваться, знать, кто...\n",
       "13752    [всё, нормально, звук, твёрдый, четвёрка, ради...\n",
       "13753      [очень, плохой, качество, радио, приём, шипеть]\n",
       "13754    [сначала, гореть, нокия, эксперсс, мьюзик, сес...\n",
       "13755    [ходить, это, телефошка, июль, год, фото, хоро...\n",
       "Name: feedback, Length: 13755, dtype: object"
      ]
     },
     "execution_count": 28,
     "metadata": {},
     "output_type": "execute_result"
    }
   ],
   "source": [
    "X_train"
   ]
  },
  {
   "cell_type": "markdown",
   "metadata": {},
   "source": [
    "### Слова из тестовой выборки отсутствующие в обучающей.\n",
    "Такие слова встречаются редко, всего 4185 раз за всю выборку (142067 слово), а максимум встречаемости среди таких слов 6. Все они при индексации будут помечены len(dictionary) + 1"
   ]
  },
  {
   "cell_type": "code",
   "execution_count": 29,
   "metadata": {},
   "outputs": [
    {
     "data": {
      "text/html": [
       "<div>\n",
       "<style scoped>\n",
       "    .dataframe tbody tr th:only-of-type {\n",
       "        vertical-align: middle;\n",
       "    }\n",
       "\n",
       "    .dataframe tbody tr th {\n",
       "        vertical-align: top;\n",
       "    }\n",
       "\n",
       "    .dataframe thead th {\n",
       "        text-align: right;\n",
       "    }\n",
       "</style>\n",
       "<table border=\"1\" class=\"dataframe\">\n",
       "  <thead>\n",
       "    <tr style=\"text-align: right;\">\n",
       "      <th></th>\n",
       "      <th>index</th>\n",
       "      <th>1</th>\n",
       "    </tr>\n",
       "    <tr>\n",
       "      <th>0</th>\n",
       "      <th></th>\n",
       "      <th></th>\n",
       "    </tr>\n",
       "  </thead>\n",
       "  <tbody>\n",
       "    <tr>\n",
       "      <th>поклейка</th>\n",
       "      <td>12460</td>\n",
       "      <td>1</td>\n",
       "    </tr>\n",
       "    <tr>\n",
       "      <th>энный</th>\n",
       "      <td>7943</td>\n",
       "      <td>1</td>\n",
       "    </tr>\n",
       "    <tr>\n",
       "      <th>not</th>\n",
       "      <td>9291</td>\n",
       "      <td>1</td>\n",
       "    </tr>\n",
       "    <tr>\n",
       "      <th>привeзлить</th>\n",
       "      <td>12918</td>\n",
       "      <td>1</td>\n",
       "    </tr>\n",
       "    <tr>\n",
       "      <th>повседневно</th>\n",
       "      <td>13835</td>\n",
       "      <td>1</td>\n",
       "    </tr>\n",
       "    <tr>\n",
       "      <th>...</th>\n",
       "      <td>...</td>\n",
       "      <td>...</td>\n",
       "    </tr>\n",
       "    <tr>\n",
       "      <th>нфс</th>\n",
       "      <td>3369</td>\n",
       "      <td>5</td>\n",
       "    </tr>\n",
       "    <tr>\n",
       "      <th>видеовыход</th>\n",
       "      <td>3399</td>\n",
       "      <td>5</td>\n",
       "    </tr>\n",
       "    <tr>\n",
       "      <th>магия</th>\n",
       "      <td>3689</td>\n",
       "      <td>5</td>\n",
       "    </tr>\n",
       "    <tr>\n",
       "      <th>офф</th>\n",
       "      <td>2950</td>\n",
       "      <td>6</td>\n",
       "    </tr>\n",
       "    <tr>\n",
       "      <th>открывашка</th>\n",
       "      <td>2965</td>\n",
       "      <td>6</td>\n",
       "    </tr>\n",
       "  </tbody>\n",
       "</table>\n",
       "<p>3757 rows × 2 columns</p>\n",
       "</div>"
      ],
      "text/plain": [
       "             index  1\n",
       "0                    \n",
       "поклейка     12460  1\n",
       "энный         7943  1\n",
       "not           9291  1\n",
       "привeзлить   12918  1\n",
       "повседневно  13835  1\n",
       "...            ... ..\n",
       "нфс           3369  5\n",
       "видеовыход    3399  5\n",
       "магия         3689  5\n",
       "офф           2950  6\n",
       "открывашка    2965  6\n",
       "\n",
       "[3757 rows x 2 columns]"
      ]
     },
     "execution_count": 29,
     "metadata": {},
     "output_type": "execute_result"
    }
   ],
   "source": [
    "test_dict.loc[list(set(test_dict.index).difference(set(dictionary.index)))].sort_values(by=1)"
   ]
  },
  {
   "cell_type": "code",
   "execution_count": 30,
   "metadata": {},
   "outputs": [
    {
     "data": {
      "text/plain": [
       "4185"
      ]
     },
     "execution_count": 30,
     "metadata": {},
     "output_type": "execute_result"
    }
   ],
   "source": [
    "sum(test_dict.loc[list(set(test_dict.index).difference(set(dictionary.index)))][1])"
   ]
  },
  {
   "cell_type": "code",
   "execution_count": 31,
   "metadata": {},
   "outputs": [
    {
     "data": {
      "text/html": [
       "<div>\n",
       "<style scoped>\n",
       "    .dataframe tbody tr th:only-of-type {\n",
       "        vertical-align: middle;\n",
       "    }\n",
       "\n",
       "    .dataframe tbody tr th {\n",
       "        vertical-align: top;\n",
       "    }\n",
       "\n",
       "    .dataframe thead th {\n",
       "        text-align: right;\n",
       "    }\n",
       "</style>\n",
       "<table border=\"1\" class=\"dataframe\">\n",
       "  <thead>\n",
       "    <tr style=\"text-align: right;\">\n",
       "      <th></th>\n",
       "      <th>index</th>\n",
       "      <th>1</th>\n",
       "    </tr>\n",
       "    <tr>\n",
       "      <th>0</th>\n",
       "      <th></th>\n",
       "      <th></th>\n",
       "    </tr>\n",
       "  </thead>\n",
       "  <tbody>\n",
       "    <tr>\n",
       "      <th>очень</th>\n",
       "      <td>1</td>\n",
       "      <td>6979</td>\n",
       "    </tr>\n",
       "    <tr>\n",
       "      <th>купить</th>\n",
       "      <td>2</td>\n",
       "      <td>4206</td>\n",
       "    </tr>\n",
       "    <tr>\n",
       "      <th>это</th>\n",
       "      <td>3</td>\n",
       "      <td>3953</td>\n",
       "    </tr>\n",
       "    <tr>\n",
       "      <th>год</th>\n",
       "      <td>4</td>\n",
       "      <td>3759</td>\n",
       "    </tr>\n",
       "    <tr>\n",
       "      <th>хороший</th>\n",
       "      <td>5</td>\n",
       "      <td>2904</td>\n",
       "    </tr>\n",
       "    <tr>\n",
       "      <th>...</th>\n",
       "      <td>...</td>\n",
       "      <td>...</td>\n",
       "    </tr>\n",
       "    <tr>\n",
       "      <th>многокомнатный</th>\n",
       "      <td>23885</td>\n",
       "      <td>1</td>\n",
       "    </tr>\n",
       "    <tr>\n",
       "      <th>многомесячный</th>\n",
       "      <td>23886</td>\n",
       "      <td>1</td>\n",
       "    </tr>\n",
       "    <tr>\n",
       "      <th>многоооооо</th>\n",
       "      <td>23887</td>\n",
       "      <td>1</td>\n",
       "    </tr>\n",
       "    <tr>\n",
       "      <th>многооперационный</th>\n",
       "      <td>23888</td>\n",
       "      <td>1</td>\n",
       "    </tr>\n",
       "    <tr>\n",
       "      <th>！без</th>\n",
       "      <td>23889</td>\n",
       "      <td>1</td>\n",
       "    </tr>\n",
       "  </tbody>\n",
       "</table>\n",
       "<p>23889 rows × 2 columns</p>\n",
       "</div>"
      ],
      "text/plain": [
       "                   index     1\n",
       "0                             \n",
       "очень                  1  6979\n",
       "купить                 2  4206\n",
       "это                    3  3953\n",
       "год                    4  3759\n",
       "хороший                5  2904\n",
       "...                  ...   ...\n",
       "многокомнатный     23885     1\n",
       "многомесячный      23886     1\n",
       "многоооооо         23887     1\n",
       "многооперационный  23888     1\n",
       "！без               23889     1\n",
       "\n",
       "[23889 rows x 2 columns]"
      ]
     },
     "execution_count": 31,
     "metadata": {},
     "output_type": "execute_result"
    }
   ],
   "source": [
    "dictionary"
   ]
  },
  {
   "cell_type": "code",
   "execution_count": 32,
   "metadata": {},
   "outputs": [],
   "source": [
    "def change_words(t):\n",
    "    text = t.copy()\n",
    "    for i in range(len(text)):\n",
    "        \n",
    "#         print(text[i])\n",
    "#         text[i] = dictionary.loc[text[i]]['index']\n",
    "        try:\n",
    "            text[i] = dictionary.loc[text[i]]['index']\n",
    "        except:\n",
    "            text[i] = len(dictionary) + 1\n",
    "    return text"
   ]
  },
  {
   "cell_type": "code",
   "execution_count": 33,
   "metadata": {},
   "outputs": [],
   "source": [
    "X_train_indeces = X_train.apply(change_words)"
   ]
  },
  {
   "cell_type": "code",
   "execution_count": 34,
   "metadata": {},
   "outputs": [],
   "source": [
    "X_test_indeces = X_test.apply(change_words)"
   ]
  },
  {
   "cell_type": "code",
   "execution_count": 35,
   "metadata": {},
   "outputs": [
    {
     "data": {
      "text/plain": [
       "<AxesSubplot:>"
      ]
     },
     "execution_count": 35,
     "metadata": {},
     "output_type": "execute_result"
    },
    {
     "data": {
      "image/png": "[encoded data removed]",
      "text/plain": [
       "<Figure size 432x288 with 1 Axes>"
      ]
     },
     "metadata": {
      "needs_background": "light"
     },
     "output_type": "display_data"
    }
   ],
   "source": [
    "X_train.apply(len).hist()"
   ]
  },
  {
   "cell_type": "code",
   "execution_count": 36,
   "metadata": {},
   "outputs": [
    {
     "data": {
      "text/plain": [
       "array(['1', '5', '4', '4.3', '4.7', '2', '3', '3.7', '2.3', '2.7', '3.3',\n",
       "       '1.3', '1.7'], dtype=object)"
      ]
     },
     "execution_count": 36,
     "metadata": {},
     "output_type": "execute_result"
    }
   ],
   "source": [
    "y_train.unique()"
   ]
  },
  {
   "cell_type": "markdown",
   "metadata": {},
   "source": [
    "# TODO: change y to matrix and run the model"
   ]
  },
  {
   "cell_type": "code",
   "execution_count": 37,
   "metadata": {},
   "outputs": [
    {
     "name": "stdout",
     "output_type": "stream",
     "text": [
      "Model: \"model\"\n",
      "_________________________________________________________________\n",
      "Layer (type)                 Output Shape              Param #   \n",
      "=================================================================\n",
      "input_1 (InputLayer)         [(None, None)]            0         \n",
      "_________________________________________________________________\n",
      "embedding (Embedding)        (None, None, 128)         3200000   \n",
      "_________________________________________________________________\n",
      "bidirectional (Bidirectional (None, None, 128)         98816     \n",
      "_________________________________________________________________\n",
      "bidirectional_1 (Bidirection (None, 128)               98816     \n",
      "_________________________________________________________________\n",
      "dense (Dense)                (None, 1)                 129       \n",
      "=================================================================\n",
      "Total params: 3,397,761\n",
      "Trainable params: 3,397,761\n",
      "Non-trainable params: 0\n",
      "_________________________________________________________________\n",
      "13755 Training sequences\n",
      "4586 Validation sequences\n",
      "Epoch 1/2\n",
      "430/430 [==============================] - 148s 308ms/step - loss: 2.7272 - mse: 2.7272 - mae: 1.1640 - val_loss: 0.9392 - val_mse: 0.9392 - val_mae: 0.6411\n",
      "Epoch 2/2\n",
      "430/430 [==============================] - 124s 289ms/step - loss: 0.5863 - mse: 0.5863 - mae: 0.5170 - val_loss: 0.8915 - val_mse: 0.8915 - val_mae: 0.6228\n"
     ]
    },
    {
     "data": {
      "text/plain": [
       "<tensorflow.python.keras.callbacks.History at 0x1e9e0c85c88>"
      ]
     },
     "execution_count": 37,
     "metadata": {},
     "output_type": "execute_result"
    }
   ],
   "source": [
    "import numpy as np\n",
    "from tensorflow import keras\n",
    "from tensorflow.keras import layers\n",
    "\n",
    "max_features = 25000  # Only consider the top 20k words\n",
    "maxlen = 150  # Only consider the first 150 words of each review\n",
    "\n",
    "\"\"\"\n",
    "## Build the model\n",
    "\"\"\"\n",
    "\n",
    "# Input for variable-length sequences of integers\n",
    "inputs = keras.Input(shape=(None,), dtype=\"int32\")\n",
    "# Embed each integer in a 128-dimensional vector\n",
    "x = layers.Embedding(max_features, 128)(inputs)\n",
    "# Add 2 bidirectional LSTMs\n",
    "x = layers.Bidirectional(layers.LSTM(64, return_sequences=True))(x)\n",
    "x = layers.Bidirectional(layers.LSTM(64))(x)\n",
    "# Add a regression\n",
    "outputs = layers.Dense(1, activation=\"relu\")(x)\n",
    "model = keras.Model(inputs, outputs)\n",
    "model.summary()\n",
    "\n",
    "\"\"\"\n",
    "## Load the IMDB movie review sentiment data\n",
    "\"\"\"\n",
    "\n",
    "\n",
    "print(len(X_train), \"Training sequences\")\n",
    "print(len(X_test), \"Validation sequences\")\n",
    "# Use pad_sequence to standardize sequence length:\n",
    "# this will truncate sequences longer than 200 words and zero-pad sequences shorter than 200 words.\n",
    "X_train = keras.preprocessing.sequence.pad_sequences(X_train_indeces, maxlen=maxlen)\n",
    "X_test = keras.preprocessing.sequence.pad_sequences(X_test_indeces, maxlen=maxlen)\n",
    "\n",
    "\"\"\"\n",
    "## Train and evaluate the model\n",
    "\"\"\"\n",
    "\n",
    "model.compile(optimizer=\"adam\", loss=\"mse\", metrics=[\"mse\", 'mae'])\n",
    "model.fit(X_train, y_train.apply(float), batch_size=32, epochs=2, validation_data=(X_test, y_test.apply(float)))"
   ]
  },
  {
   "cell_type": "markdown",
   "metadata": {},
   "source": [
    "## Fasttext"
   ]
  },
  {
   "cell_type": "code",
   "execution_count": 38,
   "metadata": {},
   "outputs": [],
   "source": [
    "def create_ngram_set(input_list, ngram_value=2):\n",
    "    return set(zip(*[input_list[i:] for i in range(ngram_value)]))\n",
    "\n",
    "\n",
    "def add_ngram(sequences, token_indice, ngram_range=2):\n",
    "\n",
    "    new_sequences = []\n",
    "    for input_list in sequences:\n",
    "        new_list = input_list[:]\n",
    "        for ngram_value in range(2, ngram_range + 1):\n",
    "            for i in range(len(new_list) - ngram_value + 1):\n",
    "                ngram = tuple(new_list[i:i + ngram_value])\n",
    "                if ngram in token_indice:\n",
    "                    new_list.append(token_indice[ngram])\n",
    "        new_sequences.append(new_list)\n",
    "\n",
    "    return new_sequences"
   ]
  },
  {
   "cell_type": "code",
   "execution_count": 39,
   "metadata": {},
   "outputs": [],
   "source": [
    "ngram_range = 3\n",
    "max_features = 20000\n",
    "maxlen = 400\n",
    "batch_size = 32\n",
    "embedding_dims = 50\n",
    "epochs = 5"
   ]
  },
  {
   "cell_type": "code",
   "execution_count": 40,
   "metadata": {},
   "outputs": [],
   "source": [
    "ngram_set = set()\n",
    "for input_list in X_train_indeces:\n",
    "    for i in range(2, ngram_range + 1):\n",
    "        set_of_ngram = create_ngram_set(input_list, ngram_value=i)\n",
    "        ngram_set.update(set_of_ngram)"
   ]
  },
  {
   "cell_type": "code",
   "execution_count": 41,
   "metadata": {},
   "outputs": [],
   "source": [
    "start_index = max_features + 1\n",
    "token_indice = {v: k + start_index for k, v in enumerate(ngram_set)}\n",
    "indice_token = {token_indice[k]: k for k in token_indice}"
   ]
  },
  {
   "cell_type": "code",
   "execution_count": 42,
   "metadata": {},
   "outputs": [],
   "source": [
    "max_features = np.max(list(indice_token.keys())) + 1"
   ]
  },
  {
   "cell_type": "code",
   "execution_count": 43,
   "metadata": {},
   "outputs": [],
   "source": [
    "X_train_indeces = add_ngram(X_train_indeces, token_indice, ngram_range)\n",
    "X_test_indeces = add_ngram(X_test_indeces, token_indice, ngram_range)"
   ]
  },
  {
   "cell_type": "code",
   "execution_count": 44,
   "metadata": {},
   "outputs": [],
   "source": [
    "X_train = keras.preprocessing.sequence.pad_sequences(X_train_indeces, maxlen=maxlen)\n",
    "X_test = keras.preprocessing.sequence.pad_sequences(X_test_indeces, maxlen=maxlen)"
   ]
  },
  {
   "cell_type": "code",
   "execution_count": 45,
   "metadata": {},
   "outputs": [],
   "source": [
    "y_train = y_train.apply(float)\n",
    "y_test = y_test.apply(float)"
   ]
  },
  {
   "cell_type": "code",
   "execution_count": 46,
   "metadata": {},
   "outputs": [
    {
     "name": "stdout",
     "output_type": "stream",
     "text": [
      "Epoch 1/5\n",
      "430/430 [==============================] - 212s 492ms/step - loss: 10.8757 - mse: 10.8757 - mae: 2.9066 - val_loss: 1.8003 - val_mse: 1.8003 - val_mae: 0.9379\n",
      "Epoch 2/5\n",
      "430/430 [==============================] - 211s 492ms/step - loss: 2.0561 - mse: 2.0561 - mae: 1.1232 - val_loss: 1.7066 - val_mse: 1.7066 - val_mae: 0.9212\n",
      "Epoch 3/5\n",
      "430/430 [==============================] - 215s 499ms/step - loss: 1.5955 - mse: 1.5955 - mae: 0.9857 - val_loss: 1.6658 - val_mse: 1.6658 - val_mae: 0.9047\n",
      "Epoch 4/5\n",
      "430/430 [==============================] - 213s 495ms/step - loss: 1.3463 - mse: 1.3463 - mae: 0.8976 - val_loss: 1.6622 - val_mse: 1.6622 - val_mae: 0.9103\n",
      "Epoch 5/5\n",
      "430/430 [==============================] - 211s 492ms/step - loss: 1.0827 - mse: 1.0827 - mae: 0.7843 - val_loss: 1.5634 - val_mse: 1.5634 - val_mae: 0.9173\n"
     ]
    },
    {
     "data": {
      "text/plain": [
       "<tensorflow.python.keras.callbacks.History at 0x1e9e3b30e88>"
      ]
     },
     "execution_count": 46,
     "metadata": {},
     "output_type": "execute_result"
    }
   ],
   "source": [
    "model = keras.Sequential()\n",
    "\n",
    "model.add(layers.Embedding(max_features,\n",
    "                    embedding_dims,\n",
    "                    input_length=maxlen))\n",
    "\n",
    "\n",
    "model.add(layers.GlobalAveragePooling1D())\n",
    "\n",
    "\n",
    "model.add(layers.Dense(1, activation='relu'))\n",
    "\n",
    "model.compile(optimizer=\"adam\", loss=\"mse\", metrics=[\"mse\", 'mae'])\n",
    "\n",
    "model.fit(X_train, y_train,\n",
    "          batch_size=batch_size,\n",
    "          epochs=epochs,\n",
    "          validation_data=(X_test, y_test))"
   ]
  },
  {
   "cell_type": "markdown",
   "metadata": {},
   "source": [
    "# Model with pretrained Word2Vec"
   ]
  },
  {
   "cell_type": "code",
   "execution_count": null,
   "metadata": {},
   "outputs": [],
   "source": []
  }
 ],
 "metadata": {
  "kernelspec": {
   "display_name": "Python 3",
   "language": "python",
   "name": "python3"
  },
  "language_info": {
   "codemirror_mode": {
    "name": "ipython",
    "version": 3
   },
   "file_extension": ".py",
   "mimetype": "text/x-python",
   "name": "python",
   "nbconvert_exporter": "python",
   "pygments_lexer": "ipython3",
   "version": "3.7.4"
  }
 },
 "nbformat": 4,
 "nbformat_minor": 4
}
