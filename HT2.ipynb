{
 "cells": [
  {
   "cell_type": "code",
   "execution_count": 118,
   "metadata": {},
   "outputs": [],
   "source": [
    "import pandas as pd\n",
    "import numpy as np\n",
    "import matplotlib.pyplot as plt\n",
    "import seaborn as sns\n",
    "\n",
    "from scipy import stats\n",
    "import warnings\n",
    "warnings.filterwarnings('ignore')"
   ]
  },
  {
   "cell_type": "code",
   "execution_count": 138,
   "metadata": {},
   "outputs": [],
   "source": [
    "data = pd.read_excel('AirQualityUCI.xlsx')\n",
    "data.replace(-200, np.nan, inplace=True)\n",
    "data.dropna(subset=['C6H6(GT)'] ,axis=0, inplace=True)"
   ]
  },
  {
   "cell_type": "code",
   "execution_count": 139,
   "metadata": {},
   "outputs": [
    {
     "data": {
      "text/html": [
       "<div>\n",
       "<style scoped>\n",
       "    .dataframe tbody tr th:only-of-type {\n",
       "        vertical-align: middle;\n",
       "    }\n",
       "\n",
       "    .dataframe tbody tr th {\n",
       "        vertical-align: top;\n",
       "    }\n",
       "\n",
       "    .dataframe thead th {\n",
       "        text-align: right;\n",
       "    }\n",
       "</style>\n",
       "<table border=\"1\" class=\"dataframe\">\n",
       "  <thead>\n",
       "    <tr style=\"text-align: right;\">\n",
       "      <th></th>\n",
       "      <th>Date</th>\n",
       "      <th>Time</th>\n",
       "      <th>CO(GT)</th>\n",
       "      <th>PT08.S1(CO)</th>\n",
       "      <th>NMHC(GT)</th>\n",
       "      <th>C6H6(GT)</th>\n",
       "      <th>PT08.S2(NMHC)</th>\n",
       "      <th>NOx(GT)</th>\n",
       "      <th>PT08.S3(NOx)</th>\n",
       "      <th>NO2(GT)</th>\n",
       "      <th>PT08.S4(NO2)</th>\n",
       "      <th>PT08.S5(O3)</th>\n",
       "      <th>T</th>\n",
       "      <th>RH</th>\n",
       "      <th>AH</th>\n",
       "    </tr>\n",
       "  </thead>\n",
       "  <tbody>\n",
       "    <tr>\n",
       "      <th>0</th>\n",
       "      <td>2004-03-10</td>\n",
       "      <td>18:00:00</td>\n",
       "      <td>2.6</td>\n",
       "      <td>1360.00</td>\n",
       "      <td>150.0</td>\n",
       "      <td>11.881723</td>\n",
       "      <td>1045.50</td>\n",
       "      <td>166.0</td>\n",
       "      <td>1056.25</td>\n",
       "      <td>113.0</td>\n",
       "      <td>1692.00</td>\n",
       "      <td>1267.50</td>\n",
       "      <td>13.60</td>\n",
       "      <td>48.875001</td>\n",
       "      <td>0.757754</td>\n",
       "    </tr>\n",
       "    <tr>\n",
       "      <th>1</th>\n",
       "      <td>2004-03-10</td>\n",
       "      <td>19:00:00</td>\n",
       "      <td>2.0</td>\n",
       "      <td>1292.25</td>\n",
       "      <td>112.0</td>\n",
       "      <td>9.397165</td>\n",
       "      <td>954.75</td>\n",
       "      <td>103.0</td>\n",
       "      <td>1173.75</td>\n",
       "      <td>92.0</td>\n",
       "      <td>1558.75</td>\n",
       "      <td>972.25</td>\n",
       "      <td>13.30</td>\n",
       "      <td>47.700000</td>\n",
       "      <td>0.725487</td>\n",
       "    </tr>\n",
       "    <tr>\n",
       "      <th>2</th>\n",
       "      <td>2004-03-10</td>\n",
       "      <td>20:00:00</td>\n",
       "      <td>2.2</td>\n",
       "      <td>1402.00</td>\n",
       "      <td>88.0</td>\n",
       "      <td>8.997817</td>\n",
       "      <td>939.25</td>\n",
       "      <td>131.0</td>\n",
       "      <td>1140.00</td>\n",
       "      <td>114.0</td>\n",
       "      <td>1554.50</td>\n",
       "      <td>1074.00</td>\n",
       "      <td>11.90</td>\n",
       "      <td>53.975000</td>\n",
       "      <td>0.750239</td>\n",
       "    </tr>\n",
       "    <tr>\n",
       "      <th>3</th>\n",
       "      <td>2004-03-10</td>\n",
       "      <td>21:00:00</td>\n",
       "      <td>2.2</td>\n",
       "      <td>1375.50</td>\n",
       "      <td>80.0</td>\n",
       "      <td>9.228796</td>\n",
       "      <td>948.25</td>\n",
       "      <td>172.0</td>\n",
       "      <td>1092.00</td>\n",
       "      <td>122.0</td>\n",
       "      <td>1583.75</td>\n",
       "      <td>1203.25</td>\n",
       "      <td>11.00</td>\n",
       "      <td>60.000000</td>\n",
       "      <td>0.786713</td>\n",
       "    </tr>\n",
       "    <tr>\n",
       "      <th>4</th>\n",
       "      <td>2004-03-10</td>\n",
       "      <td>22:00:00</td>\n",
       "      <td>1.6</td>\n",
       "      <td>1272.25</td>\n",
       "      <td>51.0</td>\n",
       "      <td>6.518224</td>\n",
       "      <td>835.50</td>\n",
       "      <td>131.0</td>\n",
       "      <td>1205.00</td>\n",
       "      <td>116.0</td>\n",
       "      <td>1490.00</td>\n",
       "      <td>1110.00</td>\n",
       "      <td>11.15</td>\n",
       "      <td>59.575001</td>\n",
       "      <td>0.788794</td>\n",
       "    </tr>\n",
       "  </tbody>\n",
       "</table>\n",
       "</div>"
      ],
      "text/plain": [
       "        Date      Time  CO(GT)  PT08.S1(CO)  NMHC(GT)   C6H6(GT)  \\\n",
       "0 2004-03-10  18:00:00     2.6      1360.00     150.0  11.881723   \n",
       "1 2004-03-10  19:00:00     2.0      1292.25     112.0   9.397165   \n",
       "2 2004-03-10  20:00:00     2.2      1402.00      88.0   8.997817   \n",
       "3 2004-03-10  21:00:00     2.2      1375.50      80.0   9.228796   \n",
       "4 2004-03-10  22:00:00     1.6      1272.25      51.0   6.518224   \n",
       "\n",
       "   PT08.S2(NMHC)  NOx(GT)  PT08.S3(NOx)  NO2(GT)  PT08.S4(NO2)  PT08.S5(O3)  \\\n",
       "0        1045.50    166.0       1056.25    113.0       1692.00      1267.50   \n",
       "1         954.75    103.0       1173.75     92.0       1558.75       972.25   \n",
       "2         939.25    131.0       1140.00    114.0       1554.50      1074.00   \n",
       "3         948.25    172.0       1092.00    122.0       1583.75      1203.25   \n",
       "4         835.50    131.0       1205.00    116.0       1490.00      1110.00   \n",
       "\n",
       "       T         RH        AH  \n",
       "0  13.60  48.875001  0.757754  \n",
       "1  13.30  47.700000  0.725487  \n",
       "2  11.90  53.975000  0.750239  \n",
       "3  11.00  60.000000  0.786713  \n",
       "4  11.15  59.575001  0.788794  "
      ]
     },
     "execution_count": 139,
     "metadata": {},
     "output_type": "execute_result"
    }
   ],
   "source": [
    "data.head()"
   ]
  },
  {
   "cell_type": "code",
   "execution_count": 140,
   "metadata": {},
   "outputs": [],
   "source": [
    "# %pip install https://github.com/pandas-profiling/pandas-profiling/archive/master.zip\n",
    "from pandas_profiling import ProfileReport"
   ]
  },
  {
   "cell_type": "code",
   "execution_count": 141,
   "metadata": {},
   "outputs": [],
   "source": [
    "report = ProfileReport(data, title='AirQuality', explorative=True)"
   ]
  },
  {
   "cell_type": "code",
   "execution_count": 142,
   "metadata": {},
   "outputs": [],
   "source": [
    "# report.to_notebook_iframe()"
   ]
  },
  {
   "cell_type": "code",
   "execution_count": 143,
   "metadata": {},
   "outputs": [
    {
     "data": {
      "image/png": "[encoded data removed]",
      "text/plain": [
       "<Figure size 1008x720 with 2 Axes>"
      ]
     },
     "metadata": {
      "needs_background": "light"
     },
     "output_type": "display_data"
    }
   ],
   "source": [
    "plt.figure(figsize=(14,10))\n",
    "ax = sns.heatmap(data.corr(), xticklabels=data.corr().columns, yticklabels=data.corr().columns, center=0, annot=True)\n",
    "i, k = ax.get_ylim()\n",
    "ax.set_ylim(i+0.5, k-0.5)\n",
    "plt.title('HeatMap корреляции', fontsize=20)\n",
    "plt.xticks(fontsize=8)\n",
    "plt.yticks(fontsize=8)\n",
    "plt.show()"
   ]
  },
  {
   "cell_type": "markdown",
   "metadata": {},
   "source": [
    "# Выводы по EDA\n",
    "\n",
    "Параметр NMHC(GT) имеет более 90% пропусков, при заполнении пропусков будет удален <br>\n",
    "Некоторые параметры имеют высокую взаимную корреляцию"
   ]
  },
  {
   "cell_type": "code",
   "execution_count": 144,
   "metadata": {},
   "outputs": [
    {
     "data": {
      "text/plain": [
       "<AxesSubplot:xlabel='C6H6(GT)'>"
      ]
     },
     "execution_count": 144,
     "metadata": {},
     "output_type": "execute_result"
    },
    {
     "data": {
      "image/png": "[encoded data removed]",
      "text/plain": [
       "<Figure size 720x1080 with 2 Axes>"
      ]
     },
     "metadata": {
      "needs_background": "light"
     },
     "output_type": "display_data"
    }
   ],
   "source": [
    "# Вывод target колонки\n",
    "plt.figure(figsize = (10, 15))\n",
    "plt.subplot(3, 1, 1)\n",
    "data['C6H6(GT)'].hist(bins=20)\n",
    "plt.subplot(3, 1, 2)\n",
    "sns.boxplot(data['C6H6(GT)'])\n"
   ]
  },
  {
   "cell_type": "markdown",
   "metadata": {},
   "source": [
    "Данные имеют большое количество выбросов, при обучении модели будет использоваться MAE, как основная метрика, так как она более устойчива к ним. "
   ]
  },
  {
   "cell_type": "code",
   "execution_count": 145,
   "metadata": {},
   "outputs": [],
   "source": [
    "cols_with_missing = [col for col in data.columns if data[col].isnull().any()]"
   ]
  },
  {
   "cell_type": "code",
   "execution_count": 146,
   "metadata": {},
   "outputs": [
    {
     "data": {
      "text/html": [
       "<div>\n",
       "<style scoped>\n",
       "    .dataframe tbody tr th:only-of-type {\n",
       "        vertical-align: middle;\n",
       "    }\n",
       "\n",
       "    .dataframe tbody tr th {\n",
       "        vertical-align: top;\n",
       "    }\n",
       "\n",
       "    .dataframe thead th {\n",
       "        text-align: right;\n",
       "    }\n",
       "</style>\n",
       "<table border=\"1\" class=\"dataframe\">\n",
       "  <thead>\n",
       "    <tr style=\"text-align: right;\">\n",
       "      <th></th>\n",
       "      <th>CO(GT)</th>\n",
       "      <th>NMHC(GT)</th>\n",
       "      <th>NOx(GT)</th>\n",
       "      <th>NO2(GT)</th>\n",
       "    </tr>\n",
       "  </thead>\n",
       "  <tbody>\n",
       "    <tr>\n",
       "      <th>count</th>\n",
       "      <td>7344.000000</td>\n",
       "      <td>887.000000</td>\n",
       "      <td>7396.000000</td>\n",
       "      <td>7393.000000</td>\n",
       "    </tr>\n",
       "    <tr>\n",
       "      <th>mean</th>\n",
       "      <td>2.129711</td>\n",
       "      <td>218.607666</td>\n",
       "      <td>242.174351</td>\n",
       "      <td>112.129974</td>\n",
       "    </tr>\n",
       "    <tr>\n",
       "      <th>std</th>\n",
       "      <td>1.436472</td>\n",
       "      <td>206.615130</td>\n",
       "      <td>206.304577</td>\n",
       "      <td>47.618852</td>\n",
       "    </tr>\n",
       "    <tr>\n",
       "      <th>min</th>\n",
       "      <td>0.100000</td>\n",
       "      <td>7.000000</td>\n",
       "      <td>2.000000</td>\n",
       "      <td>2.000000</td>\n",
       "    </tr>\n",
       "    <tr>\n",
       "      <th>25%</th>\n",
       "      <td>1.100000</td>\n",
       "      <td>66.000000</td>\n",
       "      <td>97.000000</td>\n",
       "      <td>77.000000</td>\n",
       "    </tr>\n",
       "    <tr>\n",
       "      <th>50%</th>\n",
       "      <td>1.800000</td>\n",
       "      <td>145.000000</td>\n",
       "      <td>178.000000</td>\n",
       "      <td>108.500000</td>\n",
       "    </tr>\n",
       "    <tr>\n",
       "      <th>75%</th>\n",
       "      <td>2.800000</td>\n",
       "      <td>297.000000</td>\n",
       "      <td>321.000000</td>\n",
       "      <td>140.000000</td>\n",
       "    </tr>\n",
       "    <tr>\n",
       "      <th>max</th>\n",
       "      <td>11.900000</td>\n",
       "      <td>1189.000000</td>\n",
       "      <td>1479.000000</td>\n",
       "      <td>332.600000</td>\n",
       "    </tr>\n",
       "  </tbody>\n",
       "</table>\n",
       "</div>"
      ],
      "text/plain": [
       "            CO(GT)     NMHC(GT)      NOx(GT)      NO2(GT)\n",
       "count  7344.000000   887.000000  7396.000000  7393.000000\n",
       "mean      2.129711   218.607666   242.174351   112.129974\n",
       "std       1.436472   206.615130   206.304577    47.618852\n",
       "min       0.100000     7.000000     2.000000     2.000000\n",
       "25%       1.100000    66.000000    97.000000    77.000000\n",
       "50%       1.800000   145.000000   178.000000   108.500000\n",
       "75%       2.800000   297.000000   321.000000   140.000000\n",
       "max      11.900000  1189.000000  1479.000000   332.600000"
      ]
     },
     "execution_count": 146,
     "metadata": {},
     "output_type": "execute_result"
    }
   ],
   "source": [
    "# Колонки в которых встречаются пропущенные значения\n",
    "data[cols_with_missing].describe()"
   ]
  },
  {
   "cell_type": "code",
   "execution_count": 147,
   "metadata": {},
   "outputs": [
    {
     "name": "stdout",
     "output_type": "stream",
     "text": [
      "CO(GT) 1647\n",
      "NMHC(GT) 8104\n",
      "NOx(GT) 1595\n",
      "NO2(GT) 1598\n"
     ]
    }
   ],
   "source": [
    "for col in cols_with_missing:\n",
    "    print(col, len(data[data[col].isnull()]))"
   ]
  },
  {
   "cell_type": "markdown",
   "metadata": {},
   "source": [
    "NMHC(GT) - отсутсвует более 90% записей, в отдельных случаях имеет смысл предсказать значение этой переменной с помощью линейной модели, в данном случае есть два варианта, либо удалить столбец полностью, либо добавить отдельный бинарный параметр, отвечающий за наличие данных по NMHC(GT) в n-ой строке датафрема. Остальные столбцы можно заполнить средним, в соответсвии с распредлением. В целом, эти данные представляют собой временной ряд, и имеет смысл воспользоваться алгоритмом заполнения пропусков в них."
   ]
  },
  {
   "cell_type": "markdown",
   "metadata": {},
   "source": [
    "### Заполнение пропусков\n",
    "\n",
    "Для заполнения "
   ]
  },
  {
   "cell_type": "code",
   "execution_count": 148,
   "metadata": {},
   "outputs": [
    {
     "data": {
      "image/png": "[encoded data removed]",
      "text/plain": [
       "<Figure size 720x720 with 4 Axes>"
      ]
     },
     "metadata": {
      "needs_background": "light"
     },
     "output_type": "display_data"
    }
   ],
   "source": [
    "plt.figure(figsize=(10,10))\n",
    "i = 1\n",
    "for col in cols_with_missing:\n",
    "    plt.subplot(2, 2, i)\n",
    "    plt.xlabel(col)\n",
    "    data[col].hist()\n",
    "    i += 1"
   ]
  },
  {
   "cell_type": "markdown",
   "metadata": {},
   "source": [
    "Для 3 остальных параметров лучше использовать median, как способ заполнения, так как mean будет чувтвителен к выбросам, которые присутвуют в 2/3 параметров. Для NO2, можно использовать mean, так как выбросов не так много."
   ]
  },
  {
   "cell_type": "code",
   "execution_count": 149,
   "metadata": {},
   "outputs": [],
   "source": [
    "data.drop('NMHC(GT)', axis = 1, inplace=True)\n",
    "data.set_index(['Date', 'Time'], inplace=True)\n",
    "y = data['C6H6(GT)'] \n",
    "data.drop('C6H6(GT)', axis=1, inplace=True)"
   ]
  },
  {
   "cell_type": "markdown",
   "metadata": {},
   "source": [
    "Изначально, я использовал Imputer со стратегией mean, ради эксперимента решил попробовать заполнять через метод ближайших соседей."
   ]
  },
  {
   "cell_type": "code",
   "execution_count": 150,
   "metadata": {},
   "outputs": [],
   "source": [
    "from sklearn.impute import KNNImputer\n",
    "imp = KNNImputer()\n",
    "c = data.columns\n",
    "data = pd.DataFrame(imp.fit_transform(data))\n",
    "data.columns = c"
   ]
  },
  {
   "cell_type": "code",
   "execution_count": 151,
   "metadata": {},
   "outputs": [
    {
     "data": {
      "text/plain": [
       "[]"
      ]
     },
     "execution_count": 151,
     "metadata": {},
     "output_type": "execute_result"
    }
   ],
   "source": [
    "cols_with_missing = [col for col in data.columns if data[col].isnull().any()]\n",
    "cols_with_missing"
   ]
  },
  {
   "cell_type": "markdown",
   "metadata": {},
   "source": [
    "## Нормализация данных (z-score)"
   ]
  },
  {
   "cell_type": "code",
   "execution_count": 152,
   "metadata": {},
   "outputs": [],
   "source": [
    "from sklearn.preprocessing import StandardScaler as scaler\n",
    "sc = scaler()\n",
    "c = data.columns\n",
    "data = pd.DataFrame(sc.fit_transform(data, y))\n",
    "data.columns = c"
   ]
  },
  {
   "cell_type": "code",
   "execution_count": 154,
   "metadata": {},
   "outputs": [
    {
     "data": {
      "text/html": [
       "<div>\n",
       "<style scoped>\n",
       "    .dataframe tbody tr th:only-of-type {\n",
       "        vertical-align: middle;\n",
       "    }\n",
       "\n",
       "    .dataframe tbody tr th {\n",
       "        vertical-align: top;\n",
       "    }\n",
       "\n",
       "    .dataframe thead th {\n",
       "        text-align: right;\n",
       "    }\n",
       "</style>\n",
       "<table border=\"1\" class=\"dataframe\">\n",
       "  <thead>\n",
       "    <tr style=\"text-align: right;\">\n",
       "      <th></th>\n",
       "      <th>CO(GT)</th>\n",
       "      <th>PT08.S1(CO)</th>\n",
       "      <th>PT08.S2(NMHC)</th>\n",
       "      <th>NOx(GT)</th>\n",
       "      <th>PT08.S3(NOx)</th>\n",
       "      <th>NO2(GT)</th>\n",
       "      <th>PT08.S4(NO2)</th>\n",
       "      <th>PT08.S5(O3)</th>\n",
       "      <th>T</th>\n",
       "      <th>RH</th>\n",
       "      <th>AH</th>\n",
       "    </tr>\n",
       "  </thead>\n",
       "  <tbody>\n",
       "    <tr>\n",
       "      <th>0</th>\n",
       "      <td>0.380014</td>\n",
       "      <td>1.199102</td>\n",
       "      <td>0.399045</td>\n",
       "      <td>-0.317784</td>\n",
       "      <td>0.860118</td>\n",
       "      <td>0.116775</td>\n",
       "      <td>0.681301</td>\n",
       "      <td>0.614165</td>\n",
       "      <td>-0.533950</td>\n",
       "      <td>-0.020638</td>\n",
       "      <td>-0.663157</td>\n",
       "    </tr>\n",
       "    <tr>\n",
       "      <th>1</th>\n",
       "      <td>-0.043779</td>\n",
       "      <td>0.886995</td>\n",
       "      <td>0.058920</td>\n",
       "      <td>-0.634133</td>\n",
       "      <td>1.317671</td>\n",
       "      <td>-0.333185</td>\n",
       "      <td>0.296392</td>\n",
       "      <td>-0.126815</td>\n",
       "      <td>-0.567915</td>\n",
       "      <td>-0.088497</td>\n",
       "      <td>-0.743065</td>\n",
       "    </tr>\n",
       "    <tr>\n",
       "      <th>2</th>\n",
       "      <td>0.097485</td>\n",
       "      <td>1.392586</td>\n",
       "      <td>0.000828</td>\n",
       "      <td>-0.493534</td>\n",
       "      <td>1.186246</td>\n",
       "      <td>0.138201</td>\n",
       "      <td>0.284115</td>\n",
       "      <td>0.128543</td>\n",
       "      <td>-0.726423</td>\n",
       "      <td>0.273897</td>\n",
       "      <td>-0.681767</td>\n",
       "    </tr>\n",
       "    <tr>\n",
       "      <th>3</th>\n",
       "      <td>0.097485</td>\n",
       "      <td>1.270507</td>\n",
       "      <td>0.034559</td>\n",
       "      <td>-0.287655</td>\n",
       "      <td>0.999331</td>\n",
       "      <td>0.309614</td>\n",
       "      <td>0.368608</td>\n",
       "      <td>0.452918</td>\n",
       "      <td>-0.828320</td>\n",
       "      <td>0.621852</td>\n",
       "      <td>-0.591440</td>\n",
       "    </tr>\n",
       "    <tr>\n",
       "      <th>4</th>\n",
       "      <td>-0.326308</td>\n",
       "      <td>0.794860</td>\n",
       "      <td>-0.388020</td>\n",
       "      <td>-0.493534</td>\n",
       "      <td>1.439361</td>\n",
       "      <td>0.181055</td>\n",
       "      <td>0.097799</td>\n",
       "      <td>0.218892</td>\n",
       "      <td>-0.811337</td>\n",
       "      <td>0.597308</td>\n",
       "      <td>-0.586284</td>\n",
       "    </tr>\n",
       "  </tbody>\n",
       "</table>\n",
       "</div>"
      ],
      "text/plain": [
       "     CO(GT)  PT08.S1(CO)  PT08.S2(NMHC)   NOx(GT)  PT08.S3(NOx)   NO2(GT)  \\\n",
       "0  0.380014     1.199102       0.399045 -0.317784      0.860118  0.116775   \n",
       "1 -0.043779     0.886995       0.058920 -0.634133      1.317671 -0.333185   \n",
       "2  0.097485     1.392586       0.000828 -0.493534      1.186246  0.138201   \n",
       "3  0.097485     1.270507       0.034559 -0.287655      0.999331  0.309614   \n",
       "4 -0.326308     0.794860      -0.388020 -0.493534      1.439361  0.181055   \n",
       "\n",
       "   PT08.S4(NO2)  PT08.S5(O3)         T        RH        AH  \n",
       "0      0.681301     0.614165 -0.533950 -0.020638 -0.663157  \n",
       "1      0.296392    -0.126815 -0.567915 -0.088497 -0.743065  \n",
       "2      0.284115     0.128543 -0.726423  0.273897 -0.681767  \n",
       "3      0.368608     0.452918 -0.828320  0.621852 -0.591440  \n",
       "4      0.097799     0.218892 -0.811337  0.597308 -0.586284  "
      ]
     },
     "execution_count": 154,
     "metadata": {},
     "output_type": "execute_result"
    }
   ],
   "source": [
    "data.head()"
   ]
  },
  {
   "cell_type": "markdown",
   "metadata": {},
   "source": [
    "## Линейная регрессия"
   ]
  },
  {
   "cell_type": "markdown",
   "metadata": {},
   "source": [
    "Алгоритм ниже - линейная регрессия с минимизацией MSE, что не очень хорошо подходит к данному датафрейму.\n",
    "Написал так, потому что mae не может быть дифференцирована, градиентный спуск написан, через производные для MSE"
   ]
  },
  {
   "cell_type": "markdown",
   "metadata": {},
   "source": [
    "## Линейная регрессия без регуляризации"
   ]
  },
  {
   "cell_type": "code",
   "execution_count": 155,
   "metadata": {},
   "outputs": [],
   "source": [
    "from sklearn.metrics import mean_squared_error as mse\n",
    "from sklearn.metrics import mean_absolute_error as mae\n",
    "\n",
    "def lin_reg(data, target, error = mae, eps=0.05, k = 3):\n",
    "    data['b'] = 1\n",
    "    data = data.to_numpy()\n",
    "    target = target.to_numpy()\n",
    "    weights = np.zeros(data.shape[1])\n",
    "    er = 0\n",
    "    new_target = np.dot(data, weights)\n",
    "    new_er = error(new_target, target)\n",
    "    t = 1\n",
    "    while abs(new_er - er) > eps:\n",
    "        grad = np.zeros(data.shape[1])\n",
    "        for i in range(len(data)):\n",
    "            dif = sum(data[i] * weights) - target[i]\n",
    "            for j in range(data.shape[1]):\n",
    "                grad[j] += dif * data[i][j] * 2 / data.shape[0]\n",
    "                \n",
    "        for j in range(len(weights)):\n",
    "            weights[j] -= k / t  * grad[j]\n",
    "        new_target = np.dot(data, weights)\n",
    "        er = new_er\n",
    "        new_er = error(new_target, target)\n",
    "        t += 1\n",
    "    return weights\n",
    "\n",
    "\n",
    "\n",
    "def mape(y_pred, y_true): \n",
    "    y_true, y_pred = np.array(y_true), np.array(y_pred)\n",
    "    return np.mean(np.abs((y_true - y_pred) / y_true)) * 100"
   ]
  },
  {
   "cell_type": "code",
   "execution_count": 194,
   "metadata": {},
   "outputs": [],
   "source": [
    "from sklearn.model_selection import train_test_split\n",
    "x_train, x_valid, y_train, y_valid = train_test_split(data, y, shuffle=False)"
   ]
  },
  {
   "cell_type": "code",
   "execution_count": 190,
   "metadata": {},
   "outputs": [
    {
     "data": {
      "text/plain": [
       "(8991, 11)"
      ]
     },
     "execution_count": 190,
     "metadata": {},
     "output_type": "execute_result"
    }
   ],
   "source": [
    "data.shape"
   ]
  },
  {
   "cell_type": "code",
   "execution_count": 191,
   "metadata": {},
   "outputs": [
    {
     "name": "stdout",
     "output_type": "stream",
     "text": [
      "Линейная регрессия (ручная функция) mae 1.7511925576045555\n",
      "Линейная регрессия (ручная функция) mape 75.3689486532315\n"
     ]
    },
    {
     "data": {
      "text/html": [
       "<div>\n",
       "<style scoped>\n",
       "    .dataframe tbody tr th:only-of-type {\n",
       "        vertical-align: middle;\n",
       "    }\n",
       "\n",
       "    .dataframe tbody tr th {\n",
       "        vertical-align: top;\n",
       "    }\n",
       "\n",
       "    .dataframe thead th {\n",
       "        text-align: right;\n",
       "    }\n",
       "</style>\n",
       "<table border=\"1\" class=\"dataframe\">\n",
       "  <thead>\n",
       "    <tr style=\"text-align: right;\">\n",
       "      <th></th>\n",
       "      <th>0</th>\n",
       "    </tr>\n",
       "  </thead>\n",
       "  <tbody>\n",
       "    <tr>\n",
       "      <th>CO(GT)</th>\n",
       "      <td>1.880877</td>\n",
       "    </tr>\n",
       "    <tr>\n",
       "      <th>PT08.S1(CO)</th>\n",
       "      <td>-0.636205</td>\n",
       "    </tr>\n",
       "    <tr>\n",
       "      <th>PT08.S2(NMHC)</th>\n",
       "      <td>4.514028</td>\n",
       "    </tr>\n",
       "    <tr>\n",
       "      <th>NOx(GT)</th>\n",
       "      <td>1.275329</td>\n",
       "    </tr>\n",
       "    <tr>\n",
       "      <th>PT08.S3(NOx)</th>\n",
       "      <td>0.617981</td>\n",
       "    </tr>\n",
       "    <tr>\n",
       "      <th>NO2(GT)</th>\n",
       "      <td>-0.769982</td>\n",
       "    </tr>\n",
       "    <tr>\n",
       "      <th>PT08.S4(NO2)</th>\n",
       "      <td>1.868043</td>\n",
       "    </tr>\n",
       "    <tr>\n",
       "      <th>PT08.S5(O3)</th>\n",
       "      <td>0.639640</td>\n",
       "    </tr>\n",
       "    <tr>\n",
       "      <th>T</th>\n",
       "      <td>0.095772</td>\n",
       "    </tr>\n",
       "    <tr>\n",
       "      <th>RH</th>\n",
       "      <td>-0.263680</td>\n",
       "    </tr>\n",
       "    <tr>\n",
       "      <th>AH</th>\n",
       "      <td>-0.352606</td>\n",
       "    </tr>\n",
       "    <tr>\n",
       "      <th>b</th>\n",
       "      <td>9.692151</td>\n",
       "    </tr>\n",
       "  </tbody>\n",
       "</table>\n",
       "</div>"
      ],
      "text/plain": [
       "                      0\n",
       "CO(GT)         1.880877\n",
       "PT08.S1(CO)   -0.636205\n",
       "PT08.S2(NMHC)  4.514028\n",
       "NOx(GT)        1.275329\n",
       "PT08.S3(NOx)   0.617981\n",
       "NO2(GT)       -0.769982\n",
       "PT08.S4(NO2)   1.868043\n",
       "PT08.S5(O3)    0.639640\n",
       "T              0.095772\n",
       "RH            -0.263680\n",
       "AH            -0.352606\n",
       "b              9.692151"
      ]
     },
     "execution_count": 191,
     "metadata": {},
     "output_type": "execute_result"
    }
   ],
   "source": [
    "from sklearn.metrics import mean_absolute_error as mae\n",
    "#from sklearn.metrics import mean_absolute_percentage_error as mape\n",
    "from sklearn.linear_model import LinearRegression\n",
    "w = lin_reg(x_train, y_train)\n",
    "tmp = x_valid\n",
    "tmp['b'] = 1\n",
    "print('Линейная регрессия (ручная функция) mae', mae(np.dot(tmp, w), y_valid))\n",
    "print('Линейная регрессия (ручная функция) mape', mape(np.dot(tmp, w), y_valid))\n",
    "pd.DataFrame(w, tmp.columns)"
   ]
  },
  {
   "cell_type": "code",
   "execution_count": 198,
   "metadata": {},
   "outputs": [
    {
     "name": "stdout",
     "output_type": "stream",
     "text": [
      "(6743, 11)\n",
      "Лин. рег, sklearn, mae 1.8588962258235768\n",
      "Линейная регрессия sklearn, mape 75.68491334903754\n"
     ]
    },
    {
     "data": {
      "text/html": [
       "<div>\n",
       "<style scoped>\n",
       "    .dataframe tbody tr th:only-of-type {\n",
       "        vertical-align: middle;\n",
       "    }\n",
       "\n",
       "    .dataframe tbody tr th {\n",
       "        vertical-align: top;\n",
       "    }\n",
       "\n",
       "    .dataframe thead th {\n",
       "        text-align: right;\n",
       "    }\n",
       "</style>\n",
       "<table border=\"1\" class=\"dataframe\">\n",
       "  <thead>\n",
       "    <tr style=\"text-align: right;\">\n",
       "      <th></th>\n",
       "      <th>Коэф</th>\n",
       "    </tr>\n",
       "  </thead>\n",
       "  <tbody>\n",
       "    <tr>\n",
       "      <th>CO(GT)</th>\n",
       "      <td>1.489999</td>\n",
       "    </tr>\n",
       "    <tr>\n",
       "      <th>PT08.S1(CO)</th>\n",
       "      <td>-0.628138</td>\n",
       "    </tr>\n",
       "    <tr>\n",
       "      <th>PT08.S2(NMHC)</th>\n",
       "      <td>6.750028</td>\n",
       "    </tr>\n",
       "    <tr>\n",
       "      <th>NOx(GT)</th>\n",
       "      <td>0.764830</td>\n",
       "    </tr>\n",
       "    <tr>\n",
       "      <th>PT08.S3(NOx)</th>\n",
       "      <td>1.089169</td>\n",
       "    </tr>\n",
       "    <tr>\n",
       "      <th>NO2(GT)</th>\n",
       "      <td>-0.846181</td>\n",
       "    </tr>\n",
       "    <tr>\n",
       "      <th>PT08.S4(NO2)</th>\n",
       "      <td>0.720075</td>\n",
       "    </tr>\n",
       "    <tr>\n",
       "      <th>PT08.S5(O3)</th>\n",
       "      <td>0.411138</td>\n",
       "    </tr>\n",
       "    <tr>\n",
       "      <th>T</th>\n",
       "      <td>-0.196291</td>\n",
       "    </tr>\n",
       "    <tr>\n",
       "      <th>RH</th>\n",
       "      <td>-0.250397</td>\n",
       "    </tr>\n",
       "    <tr>\n",
       "      <th>AH</th>\n",
       "      <td>0.212827</td>\n",
       "    </tr>\n",
       "  </tbody>\n",
       "</table>\n",
       "</div>"
      ],
      "text/plain": [
       "                   Коэф\n",
       "CO(GT)         1.489999\n",
       "PT08.S1(CO)   -0.628138\n",
       "PT08.S2(NMHC)  6.750028\n",
       "NOx(GT)        0.764830\n",
       "PT08.S3(NOx)   1.089169\n",
       "NO2(GT)       -0.846181\n",
       "PT08.S4(NO2)   0.720075\n",
       "PT08.S5(O3)    0.411138\n",
       "T             -0.196291\n",
       "RH            -0.250397\n",
       "AH             0.212827"
      ]
     },
     "execution_count": 198,
     "metadata": {},
     "output_type": "execute_result"
    }
   ],
   "source": [
    "from sklearn.model_selection import train_test_split\n",
    "x_train, x_valid, y_train, y_valid = train_test_split(data, y, shuffle=False)\n",
    "model = LinearRegression()\n",
    "model.fit(x_train, y_train)\n",
    "print(x_train.shape)\n",
    "print('Лин. рег, sklearn, mae', mae(model.predict(x_valid), y_valid))\n",
    "print('Линейная регрессия sklearn, mape', mape(model.predict(x_valid), y_valid))\n",
    "t = list(x_train.columns)\n",
    "coef = pd.DataFrame(model.coef_, t)\n",
    "coef.columns = ['Коэф']\n",
    "coef"
   ]
  },
  {
   "cell_type": "markdown",
   "metadata": {},
   "source": [
    "Алгоритм из библиотеки точнее на 1/100, скорее всего, потому что использует не градиентный спуск, как метод оптимизации, а аналитическое решение регрессии."
   ]
  },
  {
   "cell_type": "code",
   "execution_count": 165,
   "metadata": {},
   "outputs": [
    {
     "data": {
      "text/html": [
       "<div>\n",
       "<style scoped>\n",
       "    .dataframe tbody tr th:only-of-type {\n",
       "        vertical-align: middle;\n",
       "    }\n",
       "\n",
       "    .dataframe tbody tr th {\n",
       "        vertical-align: top;\n",
       "    }\n",
       "\n",
       "    .dataframe thead th {\n",
       "        text-align: right;\n",
       "    }\n",
       "</style>\n",
       "<table border=\"1\" class=\"dataframe\">\n",
       "  <thead>\n",
       "    <tr style=\"text-align: right;\">\n",
       "      <th></th>\n",
       "      <th>CO(GT)</th>\n",
       "      <th>PT08.S1(CO)</th>\n",
       "      <th>PT08.S2(NMHC)</th>\n",
       "      <th>NOx(GT)</th>\n",
       "      <th>PT08.S3(NOx)</th>\n",
       "      <th>NO2(GT)</th>\n",
       "      <th>PT08.S4(NO2)</th>\n",
       "      <th>PT08.S5(O3)</th>\n",
       "      <th>T</th>\n",
       "      <th>RH</th>\n",
       "      <th>AH</th>\n",
       "    </tr>\n",
       "  </thead>\n",
       "  <tbody>\n",
       "    <tr>\n",
       "      <th>0</th>\n",
       "      <td>0.380014</td>\n",
       "      <td>1.199102</td>\n",
       "      <td>0.399045</td>\n",
       "      <td>-0.317784</td>\n",
       "      <td>0.860118</td>\n",
       "      <td>0.116775</td>\n",
       "      <td>0.681301</td>\n",
       "      <td>0.614165</td>\n",
       "      <td>-0.533950</td>\n",
       "      <td>-0.020638</td>\n",
       "      <td>-0.663157</td>\n",
       "    </tr>\n",
       "    <tr>\n",
       "      <th>1</th>\n",
       "      <td>-0.043779</td>\n",
       "      <td>0.886995</td>\n",
       "      <td>0.058920</td>\n",
       "      <td>-0.634133</td>\n",
       "      <td>1.317671</td>\n",
       "      <td>-0.333185</td>\n",
       "      <td>0.296392</td>\n",
       "      <td>-0.126815</td>\n",
       "      <td>-0.567915</td>\n",
       "      <td>-0.088497</td>\n",
       "      <td>-0.743065</td>\n",
       "    </tr>\n",
       "    <tr>\n",
       "      <th>2</th>\n",
       "      <td>0.097485</td>\n",
       "      <td>1.392586</td>\n",
       "      <td>0.000828</td>\n",
       "      <td>-0.493534</td>\n",
       "      <td>1.186246</td>\n",
       "      <td>0.138201</td>\n",
       "      <td>0.284115</td>\n",
       "      <td>0.128543</td>\n",
       "      <td>-0.726423</td>\n",
       "      <td>0.273897</td>\n",
       "      <td>-0.681767</td>\n",
       "    </tr>\n",
       "    <tr>\n",
       "      <th>3</th>\n",
       "      <td>0.097485</td>\n",
       "      <td>1.270507</td>\n",
       "      <td>0.034559</td>\n",
       "      <td>-0.287655</td>\n",
       "      <td>0.999331</td>\n",
       "      <td>0.309614</td>\n",
       "      <td>0.368608</td>\n",
       "      <td>0.452918</td>\n",
       "      <td>-0.828320</td>\n",
       "      <td>0.621852</td>\n",
       "      <td>-0.591440</td>\n",
       "    </tr>\n",
       "    <tr>\n",
       "      <th>4</th>\n",
       "      <td>-0.326308</td>\n",
       "      <td>0.794860</td>\n",
       "      <td>-0.388020</td>\n",
       "      <td>-0.493534</td>\n",
       "      <td>1.439361</td>\n",
       "      <td>0.181055</td>\n",
       "      <td>0.097799</td>\n",
       "      <td>0.218892</td>\n",
       "      <td>-0.811337</td>\n",
       "      <td>0.597308</td>\n",
       "      <td>-0.586284</td>\n",
       "    </tr>\n",
       "  </tbody>\n",
       "</table>\n",
       "</div>"
      ],
      "text/plain": [
       "     CO(GT)  PT08.S1(CO)  PT08.S2(NMHC)   NOx(GT)  PT08.S3(NOx)   NO2(GT)  \\\n",
       "0  0.380014     1.199102       0.399045 -0.317784      0.860118  0.116775   \n",
       "1 -0.043779     0.886995       0.058920 -0.634133      1.317671 -0.333185   \n",
       "2  0.097485     1.392586       0.000828 -0.493534      1.186246  0.138201   \n",
       "3  0.097485     1.270507       0.034559 -0.287655      0.999331  0.309614   \n",
       "4 -0.326308     0.794860      -0.388020 -0.493534      1.439361  0.181055   \n",
       "\n",
       "   PT08.S4(NO2)  PT08.S5(O3)         T        RH        AH  \n",
       "0      0.681301     0.614165 -0.533950 -0.020638 -0.663157  \n",
       "1      0.296392    -0.126815 -0.567915 -0.088497 -0.743065  \n",
       "2      0.284115     0.128543 -0.726423  0.273897 -0.681767  \n",
       "3      0.368608     0.452918 -0.828320  0.621852 -0.591440  \n",
       "4      0.097799     0.218892 -0.811337  0.597308 -0.586284  "
      ]
     },
     "execution_count": 165,
     "metadata": {},
     "output_type": "execute_result"
    }
   ],
   "source": [
    "data.head()"
   ]
  },
  {
   "cell_type": "markdown",
   "metadata": {},
   "source": [
    "## Проверка гипотез\n",
    "\n",
    "Для улучшения базовой модели можно удалить коррелирующие строки, проверка через критерий Фишера. Для след. переменных (CO, PT08.S1), (CO, PT08.S2)<br>\n",
    "H0 - коэфициент корреляции не равен 1 <br>\n",
    "H1 - коэфициент корреляции равен 1"
   ]
  },
  {
   "cell_type": "code",
   "execution_count": 166,
   "metadata": {},
   "outputs": [],
   "source": [
    "# Критерий Фишера\n",
    "def f1(x, y, a):\n",
    "    x_m = np.mean(x)\n",
    "    y_m = np.mean(y)\n",
    "    r = sum((x-x_m)*(y-y_m))\n",
    "    r /= sum((x-x_m) ** 2) ** 0.5\n",
    "    r /= sum((y-y_m) ** 2) ** 0.5\n",
    "    t = r/(1-r**2)**0.5 * (len(x)-2)**0.5\n",
    "    t1 = stats.t.ppf(1 - a, len(x)-2)\n",
    "    if abs(t) > t1:\n",
    "        return 'Отвергаем H0'\n",
    "    else:\n",
    "        return 'Не отвергаем H0'"
   ]
  },
  {
   "cell_type": "code",
   "execution_count": 167,
   "metadata": {},
   "outputs": [
    {
     "name": "stdout",
     "output_type": "stream",
     "text": [
      "Отвергаем H0\n",
      "Отвергаем H0\n"
     ]
    }
   ],
   "source": [
    "print(f1(data['CO(GT)'], data['PT08.S1(CO)'], 0.95))\n",
    "print(f1(data['CO(GT)'], data['PT08.S2(NMHC)'], 0.95))"
   ]
  },
  {
   "cell_type": "markdown",
   "metadata": {},
   "source": [
    "Оба параметра имеют высокий коэфициент корреляции и вносят помехи в данные. Стоит их удалить"
   ]
  },
  {
   "cell_type": "code",
   "execution_count": 199,
   "metadata": {},
   "outputs": [],
   "source": [
    "new_data = data.drop(['PT08.S1(CO)','PT08.S2(NMHC)'], axis = 1)"
   ]
  },
  {
   "cell_type": "markdown",
   "metadata": {},
   "source": [
    "## Результаты модели после удаления коллинеарных параметров"
   ]
  },
  {
   "cell_type": "code",
   "execution_count": 200,
   "metadata": {},
   "outputs": [
    {
     "name": "stdout",
     "output_type": "stream",
     "text": [
      "(6743, 9)\n",
      "Лин. рег, sklearn, mae 1.5495232323166976\n",
      "Линейная регрессия sklearn, mape 64.82653796049141\n"
     ]
    },
    {
     "data": {
      "text/html": [
       "<div>\n",
       "<style scoped>\n",
       "    .dataframe tbody tr th:only-of-type {\n",
       "        vertical-align: middle;\n",
       "    }\n",
       "\n",
       "    .dataframe tbody tr th {\n",
       "        vertical-align: top;\n",
       "    }\n",
       "\n",
       "    .dataframe thead th {\n",
       "        text-align: right;\n",
       "    }\n",
       "</style>\n",
       "<table border=\"1\" class=\"dataframe\">\n",
       "  <thead>\n",
       "    <tr style=\"text-align: right;\">\n",
       "      <th></th>\n",
       "      <th>Коэф</th>\n",
       "    </tr>\n",
       "  </thead>\n",
       "  <tbody>\n",
       "    <tr>\n",
       "      <th>CO(GT)</th>\n",
       "      <td>2.606220</td>\n",
       "    </tr>\n",
       "    <tr>\n",
       "      <th>NOx(GT)</th>\n",
       "      <td>2.133906</td>\n",
       "    </tr>\n",
       "    <tr>\n",
       "      <th>PT08.S3(NOx)</th>\n",
       "      <td>-0.206922</td>\n",
       "    </tr>\n",
       "    <tr>\n",
       "      <th>NO2(GT)</th>\n",
       "      <td>-0.493852</td>\n",
       "    </tr>\n",
       "    <tr>\n",
       "      <th>PT08.S4(NO2)</th>\n",
       "      <td>3.630688</td>\n",
       "    </tr>\n",
       "    <tr>\n",
       "      <th>PT08.S5(O3)</th>\n",
       "      <td>1.010691</td>\n",
       "    </tr>\n",
       "    <tr>\n",
       "      <th>T</th>\n",
       "      <td>0.237853</td>\n",
       "    </tr>\n",
       "    <tr>\n",
       "      <th>RH</th>\n",
       "      <td>-0.687573</td>\n",
       "    </tr>\n",
       "    <tr>\n",
       "      <th>AH</th>\n",
       "      <td>-0.905107</td>\n",
       "    </tr>\n",
       "  </tbody>\n",
       "</table>\n",
       "</div>"
      ],
      "text/plain": [
       "                  Коэф\n",
       "CO(GT)        2.606220\n",
       "NOx(GT)       2.133906\n",
       "PT08.S3(NOx) -0.206922\n",
       "NO2(GT)      -0.493852\n",
       "PT08.S4(NO2)  3.630688\n",
       "PT08.S5(O3)   1.010691\n",
       "T             0.237853\n",
       "RH           -0.687573\n",
       "AH           -0.905107"
      ]
     },
     "execution_count": 200,
     "metadata": {},
     "output_type": "execute_result"
    }
   ],
   "source": [
    "x_train, x_valid, y_train, y_valid = train_test_split(new_data, y, shuffle=False)\n",
    "model = LinearRegression()\n",
    "print(x_train.shape)\n",
    "model.fit(x_train, y_train)\n",
    "print('Лин. рег, sklearn, mae', mae(model.predict(x_valid), y_valid))\n",
    "print('Линейная регрессия sklearn, mape', mape(model.predict(x_valid), y_valid))\n",
    "t = list(x_train.columns)\n",
    "coef = pd.DataFrame(model.coef_, t)\n",
    "coef.columns = ['Коэф']\n",
    "coef"
   ]
  },
  {
   "cell_type": "markdown",
   "metadata": {},
   "source": [
    "При удалении первого параметра ошибки незначительно понижаются, а при удалении второго повышаются. Разница не настолько велика, чтобы делать выводы о влиянии параметра на результат работы модели."
   ]
  },
  {
   "cell_type": "markdown",
   "metadata": {},
   "source": [
    "Подбор гиперпараметров для модели с градиентным спуском (Шаг и точность)"
   ]
  },
  {
   "cell_type": "code",
   "execution_count": 207,
   "metadata": {},
   "outputs": [
    {
     "name": "stdout",
     "output_type": "stream",
     "text": [
      "k =  1 , mae 1.6070574420179413\n",
      "mape 63.68380462697143\n",
      "k =  2 , mae 1.556476887581509\n",
      "mape 63.41438772545972\n",
      "k =  3 , mae 1.5509001363370698\n",
      "mape 63.748260238799816\n",
      "k =  4 , mae 1.552974345298104\n",
      "mape 64.33832508538543\n"
     ]
    }
   ],
   "source": [
    "x_train, x_valid, y_train, y_valid = train_test_split(new_data, y, shuffle = False)\n",
    "from sklearn.metrics import mean_absolute_error as mae\n",
    "#from sklearn.metrics import mean_absolute_percentage_error as mape\n",
    "from sklearn.linear_model import LinearRegression\n",
    "for i in range(1, 5):\n",
    "    w = lin_reg(x_train, y_train, eps=0.01, k = i)\n",
    "    tmp = x_valid\n",
    "    tmp['b'] = 1\n",
    "    print('k = ', str(i), ', mae', mae(np.dot(tmp, w), y_valid))\n",
    "    print('mape', mape(np.dot(tmp, w), y_valid))\n"
   ]
  },
  {
   "cell_type": "markdown",
   "metadata": {},
   "source": [
    "При шаге равном 5/t, где t - номер шага регрессия перестает сходится при заданой точности. Оптимальный выбор k = 1"
   ]
  },
  {
   "cell_type": "code",
   "execution_count": 205,
   "metadata": {},
   "outputs": [
    {
     "name": "stdout",
     "output_type": "stream",
     "text": [
      "eps =  0.002 , mae 1.6111656824944594\n",
      "mape 64.07186686357727\n",
      "eps =  0.004 , mae 1.6070574420179413\n",
      "mape 63.68380462697143\n",
      "eps =  0.006 , mae 1.6070574420179413\n",
      "mape 63.68380462697143\n",
      "eps =  0.008 , mae 1.6070574420179413\n",
      "mape 63.68380462697143\n",
      "eps =  0.01 , mae 1.6070574420179413\n",
      "mape 63.68380462697143\n"
     ]
    }
   ],
   "source": [
    "for i in range(1, 6):\n",
    "    w = lin_reg(x_train, y_train, eps=0.002 * i, k = 1)\n",
    "    tmp = x_valid\n",
    "    tmp['b'] = 1\n",
    "    print('eps = ', str(i * 0.002), ', mae', mae(np.dot(tmp, w), y_valid))\n",
    "    print('mape', mape(np.dot(tmp, w), y_valid))\n"
   ]
  },
  {
   "cell_type": "markdown",
   "metadata": {},
   "source": [
    "Оптимальная точность получается при eps >= 0.01"
   ]
  },
  {
   "cell_type": "markdown",
   "metadata": {},
   "source": [
    "## Nonlinear feature engineering\n",
    "\n",
    "Возьмем самый важный фактор (с максимальным по мoдулю весом), и возведем его в квадрат и добавим его как доп. столбец"
   ]
  },
  {
   "cell_type": "code",
   "execution_count": 209,
   "metadata": {},
   "outputs": [],
   "source": [
    "new_data['PT08.S4^2'] = new_data['PT08.S4(NO2)'] ** 2"
   ]
  },
  {
   "cell_type": "code",
   "execution_count": 210,
   "metadata": {},
   "outputs": [
    {
     "name": "stdout",
     "output_type": "stream",
     "text": [
      "(6743, 10)\n",
      "Лин. рег, sklearn, mae 0.9872537641218808\n",
      "Линейная регрессия sklearn, mape 24.436426952714342\n"
     ]
    },
    {
     "data": {
      "text/html": [
       "<div>\n",
       "<style scoped>\n",
       "    .dataframe tbody tr th:only-of-type {\n",
       "        vertical-align: middle;\n",
       "    }\n",
       "\n",
       "    .dataframe tbody tr th {\n",
       "        vertical-align: top;\n",
       "    }\n",
       "\n",
       "    .dataframe thead th {\n",
       "        text-align: right;\n",
       "    }\n",
       "</style>\n",
       "<table border=\"1\" class=\"dataframe\">\n",
       "  <thead>\n",
       "    <tr style=\"text-align: right;\">\n",
       "      <th></th>\n",
       "      <th>Коэф</th>\n",
       "    </tr>\n",
       "  </thead>\n",
       "  <tbody>\n",
       "    <tr>\n",
       "      <th>CO(GT)</th>\n",
       "      <td>1.673884</td>\n",
       "    </tr>\n",
       "    <tr>\n",
       "      <th>NOx(GT)</th>\n",
       "      <td>2.305694</td>\n",
       "    </tr>\n",
       "    <tr>\n",
       "      <th>PT08.S3(NOx)</th>\n",
       "      <td>-0.525129</td>\n",
       "    </tr>\n",
       "    <tr>\n",
       "      <th>NO2(GT)</th>\n",
       "      <td>-0.198781</td>\n",
       "    </tr>\n",
       "    <tr>\n",
       "      <th>PT08.S4(NO2)</th>\n",
       "      <td>3.288504</td>\n",
       "    </tr>\n",
       "    <tr>\n",
       "      <th>PT08.S5(O3)</th>\n",
       "      <td>0.940006</td>\n",
       "    </tr>\n",
       "    <tr>\n",
       "      <th>T</th>\n",
       "      <td>1.018792</td>\n",
       "    </tr>\n",
       "    <tr>\n",
       "      <th>RH</th>\n",
       "      <td>-0.099191</td>\n",
       "    </tr>\n",
       "    <tr>\n",
       "      <th>AH</th>\n",
       "      <td>-1.371663</td>\n",
       "    </tr>\n",
       "    <tr>\n",
       "      <th>new_column</th>\n",
       "      <td>0.718283</td>\n",
       "    </tr>\n",
       "  </tbody>\n",
       "</table>\n",
       "</div>"
      ],
      "text/plain": [
       "                  Коэф\n",
       "CO(GT)        1.673884\n",
       "NOx(GT)       2.305694\n",
       "PT08.S3(NOx) -0.525129\n",
       "NO2(GT)      -0.198781\n",
       "PT08.S4(NO2)  3.288504\n",
       "PT08.S5(O3)   0.940006\n",
       "T             1.018792\n",
       "RH           -0.099191\n",
       "AH           -1.371663\n",
       "new_column    0.718283"
      ]
     },
     "execution_count": 210,
     "metadata": {},
     "output_type": "execute_result"
    }
   ],
   "source": [
    "x_train, x_valid, y_train, y_valid = train_test_split(new_data, y, shuffle=False)\n",
    "model = LinearRegression()\n",
    "print(x_train.shape)\n",
    "model.fit(x_train, y_train)\n",
    "print('Лин. рег, sklearn, mae', mae(model.predict(x_valid), y_valid))\n",
    "print('Линейная регрессия sklearn, mape', mape(model.predict(x_valid), y_valid))\n",
    "t = list(x_train.columns)\n",
    "coef = pd.DataFrame(model.coef_, t)\n",
    "coef.columns = ['Коэф']\n",
    "coef"
   ]
  },
  {
   "cell_type": "code",
   "execution_count": 214,
   "metadata": {},
   "outputs": [
    {
     "name": "stdout",
     "output_type": "stream",
     "text": [
      "SGD MAE без выбора гиперпараметров 1.5262938337648344\n",
      "SGD MAPE без выбора гиперпараметров  38.010516778287\n"
     ]
    },
    {
     "data": {
      "text/html": [
       "<div>\n",
       "<style scoped>\n",
       "    .dataframe tbody tr th:only-of-type {\n",
       "        vertical-align: middle;\n",
       "    }\n",
       "\n",
       "    .dataframe tbody tr th {\n",
       "        vertical-align: top;\n",
       "    }\n",
       "\n",
       "    .dataframe thead th {\n",
       "        text-align: right;\n",
       "    }\n",
       "</style>\n",
       "<table border=\"1\" class=\"dataframe\">\n",
       "  <thead>\n",
       "    <tr style=\"text-align: right;\">\n",
       "      <th></th>\n",
       "      <th>Коэф</th>\n",
       "    </tr>\n",
       "  </thead>\n",
       "  <tbody>\n",
       "    <tr>\n",
       "      <th>CO(GT)</th>\n",
       "      <td>1.844440</td>\n",
       "    </tr>\n",
       "    <tr>\n",
       "      <th>NOx(GT)</th>\n",
       "      <td>1.412085</td>\n",
       "    </tr>\n",
       "    <tr>\n",
       "      <th>PT08.S3(NOx)</th>\n",
       "      <td>-0.601193</td>\n",
       "    </tr>\n",
       "    <tr>\n",
       "      <th>NO2(GT)</th>\n",
       "      <td>0.327024</td>\n",
       "    </tr>\n",
       "    <tr>\n",
       "      <th>PT08.S4(NO2)</th>\n",
       "      <td>2.398761</td>\n",
       "    </tr>\n",
       "    <tr>\n",
       "      <th>PT08.S5(O3)</th>\n",
       "      <td>1.204616</td>\n",
       "    </tr>\n",
       "    <tr>\n",
       "      <th>T</th>\n",
       "      <td>0.861256</td>\n",
       "    </tr>\n",
       "    <tr>\n",
       "      <th>RH</th>\n",
       "      <td>-0.088101</td>\n",
       "    </tr>\n",
       "    <tr>\n",
       "      <th>AH</th>\n",
       "      <td>-0.761936</td>\n",
       "    </tr>\n",
       "    <tr>\n",
       "      <th>new_column</th>\n",
       "      <td>1.103120</td>\n",
       "    </tr>\n",
       "  </tbody>\n",
       "</table>\n",
       "</div>"
      ],
      "text/plain": [
       "                  Коэф\n",
       "CO(GT)        1.844440\n",
       "NOx(GT)       1.412085\n",
       "PT08.S3(NOx) -0.601193\n",
       "NO2(GT)       0.327024\n",
       "PT08.S4(NO2)  2.398761\n",
       "PT08.S5(O3)   1.204616\n",
       "T             0.861256\n",
       "RH           -0.088101\n",
       "AH           -0.761936\n",
       "new_column    1.103120"
      ]
     },
     "execution_count": 214,
     "metadata": {},
     "output_type": "execute_result"
    }
   ],
   "source": [
    "from sklearn.linear_model import SGDRegressor\n",
    "model = SGDRegressor(loss='huber', shuffle=False)\n",
    "model.fit(x_train, y_train)\n",
    "print('SGD MAE без выбора гиперпараметров', mae(model.predict(x_valid), y_valid))\n",
    "print('SGD MAPE без выбора гиперпараметров ', mape(model.predict(x_valid), y_valid))\n",
    "t = list(x_train.columns)\n",
    "coef = pd.DataFrame(model.coef_, t)\n",
    "coef.columns = ['Коэф']\n",
    "coef"
   ]
  },
  {
   "cell_type": "markdown",
   "metadata": {},
   "source": [
    "## Выбор гиперпараметров для SGD\n",
    "\n",
    "Изначально в функции sklearn, SGD используется с регуляризацией L2"
   ]
  },
  {
   "cell_type": "code",
   "execution_count": 217,
   "metadata": {},
   "outputs": [
    {
     "name": "stdout",
     "output_type": "stream",
     "text": [
      "max_iter =  500\n",
      "SGD MAE 1.5262938337648344\n",
      "SGD MAPE  38.010516778287\n",
      "max_iter =  750\n",
      "SGD MAE 1.5262938337648344\n",
      "SGD MAPE  38.010516778287\n",
      "max_iter =  1000\n",
      "SGD MAE 1.5262938337648344\n",
      "SGD MAPE  38.010516778287\n",
      "max_iter =  1250\n",
      "SGD MAE 1.5262938337648344\n",
      "SGD MAPE  38.010516778287\n",
      "max_iter =  1500\n",
      "SGD MAE 1.5262938337648344\n",
      "SGD MAPE  38.010516778287\n",
      "max_iter =  1750\n",
      "SGD MAE 1.5262938337648344\n",
      "SGD MAPE  38.010516778287\n",
      "max_iter =  2000\n",
      "SGD MAE 1.5262938337648344\n",
      "SGD MAPE  38.010516778287\n",
      "max_iter =  2250\n",
      "SGD MAE 1.5262938337648344\n",
      "SGD MAPE  38.010516778287\n"
     ]
    }
   ],
   "source": [
    "for i in range(500, 2500, 250):\n",
    "    model = SGDRegressor(loss='huber', shuffle=False, max_iter=i)\n",
    "    model.fit(x_train, y_train)\n",
    "    print('max_iter = ', i )\n",
    "    print('SGD MAE', mae(model.predict(x_valid), y_valid))\n",
    "    print('SGD MAPE ', mape(model.predict(x_valid), y_valid))"
   ]
  },
  {
   "cell_type": "code",
   "execution_count": 220,
   "metadata": {},
   "outputs": [
    {
     "name": "stdout",
     "output_type": "stream",
     "text": [
      "Регуляризация l1\n",
      "SGD MAE 1.5194100226985903\n",
      "SGD MAPE  37.82607948805254\n"
     ]
    }
   ],
   "source": [
    "model = SGDRegressor(loss='huber', shuffle=False, penalty='l1')\n",
    "model.fit(x_train, y_train)\n",
    "print('Регуляризация l1')\n",
    "print('SGD MAE', mae(model.predict(x_valid), y_valid))\n",
    "print('SGD MAPE ', mape(model.predict(x_valid), y_valid))"
   ]
  },
  {
   "cell_type": "code",
   "execution_count": 221,
   "metadata": {},
   "outputs": [
    {
     "name": "stdout",
     "output_type": "stream",
     "text": [
      "Регуляризация elastic net\n",
      "SGD MAE 1.5252888369563549\n",
      "SGD MAPE  37.98409297978299\n"
     ]
    }
   ],
   "source": [
    "model = SGDRegressor(loss='huber', shuffle=False, penalty='elasticnet')\n",
    "model.fit(x_train, y_train)\n",
    "print('Регуляризация elastic net')\n",
    "print('SGD MAE', mae(model.predict(x_valid), y_valid))\n",
    "print('SGD MAPE ', mape(model.predict(x_valid), y_valid))"
   ]
  },
  {
   "cell_type": "markdown",
   "metadata": {},
   "source": [
    "При выборе количества проходов по данным, ошибка не меняется. Лучшие результаты модель показывает при регуляризации L1"
   ]
  },
  {
   "cell_type": "markdown",
   "metadata": {},
   "source": [
    "## Линейная регрессия с регуляризацией"
   ]
  },
  {
   "cell_type": "code",
   "execution_count": 222,
   "metadata": {},
   "outputs": [],
   "source": [
    "from sklearn.linear_model import Ridge\n",
    "from sklearn.linear_model import Lasso\n",
    "from sklearn.linear_model import ElasticNet"
   ]
  },
  {
   "cell_type": "code",
   "execution_count": 232,
   "metadata": {},
   "outputs": [
    {
     "name": "stdout",
     "output_type": "stream",
     "text": [
      "Регуляризация L2\n",
      "Ridge MAE 0.9884763100298255\n",
      "Ridge MAPE  24.437483704907688\n"
     ]
    },
    {
     "data": {
      "text/html": [
       "<div>\n",
       "<style scoped>\n",
       "    .dataframe tbody tr th:only-of-type {\n",
       "        vertical-align: middle;\n",
       "    }\n",
       "\n",
       "    .dataframe tbody tr th {\n",
       "        vertical-align: top;\n",
       "    }\n",
       "\n",
       "    .dataframe thead th {\n",
       "        text-align: right;\n",
       "    }\n",
       "</style>\n",
       "<table border=\"1\" class=\"dataframe\">\n",
       "  <thead>\n",
       "    <tr style=\"text-align: right;\">\n",
       "      <th></th>\n",
       "      <th>Коэф</th>\n",
       "    </tr>\n",
       "  </thead>\n",
       "  <tbody>\n",
       "    <tr>\n",
       "      <th>CO(GT)</th>\n",
       "      <td>1.676460</td>\n",
       "    </tr>\n",
       "    <tr>\n",
       "      <th>NOx(GT)</th>\n",
       "      <td>2.302619</td>\n",
       "    </tr>\n",
       "    <tr>\n",
       "      <th>PT08.S3(NOx)</th>\n",
       "      <td>-0.525074</td>\n",
       "    </tr>\n",
       "    <tr>\n",
       "      <th>NO2(GT)</th>\n",
       "      <td>-0.197089</td>\n",
       "    </tr>\n",
       "    <tr>\n",
       "      <th>PT08.S4(NO2)</th>\n",
       "      <td>3.284671</td>\n",
       "    </tr>\n",
       "    <tr>\n",
       "      <th>PT08.S5(O3)</th>\n",
       "      <td>0.940851</td>\n",
       "    </tr>\n",
       "    <tr>\n",
       "      <th>T</th>\n",
       "      <td>1.015206</td>\n",
       "    </tr>\n",
       "    <tr>\n",
       "      <th>RH</th>\n",
       "      <td>-0.101664</td>\n",
       "    </tr>\n",
       "    <tr>\n",
       "      <th>AH</th>\n",
       "      <td>-1.367250</td>\n",
       "    </tr>\n",
       "    <tr>\n",
       "      <th>new_column</th>\n",
       "      <td>0.718358</td>\n",
       "    </tr>\n",
       "  </tbody>\n",
       "</table>\n",
       "</div>"
      ],
      "text/plain": [
       "                  Коэф\n",
       "CO(GT)        1.676460\n",
       "NOx(GT)       2.302619\n",
       "PT08.S3(NOx) -0.525074\n",
       "NO2(GT)      -0.197089\n",
       "PT08.S4(NO2)  3.284671\n",
       "PT08.S5(O3)   0.940851\n",
       "T             1.015206\n",
       "RH           -0.101664\n",
       "AH           -1.367250\n",
       "new_column    0.718358"
      ]
     },
     "execution_count": 232,
     "metadata": {},
     "output_type": "execute_result"
    }
   ],
   "source": [
    "model = Ridge()\n",
    "model.fit(x_train, y_train)\n",
    "print('Регуляризация L2')\n",
    "print('Ridge MAE', mae(model.predict(x_valid), y_valid))\n",
    "print('Ridge MAPE ', mape(model.predict(x_valid), y_valid))\n",
    "t = list(x_train.columns)\n",
    "coef = pd.DataFrame(model.coef_, t)\n",
    "coef.columns = ['Коэф']\n",
    "coef"
   ]
  },
  {
   "cell_type": "code",
   "execution_count": 233,
   "metadata": {},
   "outputs": [
    {
     "name": "stdout",
     "output_type": "stream",
     "text": [
      "Регуляризация L1\n",
      "Ridge MAE 2.2693721423826685\n",
      "Ridge MAPE  71.98022163901186\n"
     ]
    },
    {
     "data": {
      "text/html": [
       "<div>\n",
       "<style scoped>\n",
       "    .dataframe tbody tr th:only-of-type {\n",
       "        vertical-align: middle;\n",
       "    }\n",
       "\n",
       "    .dataframe tbody tr th {\n",
       "        vertical-align: top;\n",
       "    }\n",
       "\n",
       "    .dataframe thead th {\n",
       "        text-align: right;\n",
       "    }\n",
       "</style>\n",
       "<table border=\"1\" class=\"dataframe\">\n",
       "  <thead>\n",
       "    <tr style=\"text-align: right;\">\n",
       "      <th></th>\n",
       "      <th>Коэф</th>\n",
       "    </tr>\n",
       "  </thead>\n",
       "  <tbody>\n",
       "    <tr>\n",
       "      <th>CO(GT)</th>\n",
       "      <td>4.248524</td>\n",
       "    </tr>\n",
       "    <tr>\n",
       "      <th>NOx(GT)</th>\n",
       "      <td>0.000000</td>\n",
       "    </tr>\n",
       "    <tr>\n",
       "      <th>PT08.S3(NOx)</th>\n",
       "      <td>-0.333150</td>\n",
       "    </tr>\n",
       "    <tr>\n",
       "      <th>NO2(GT)</th>\n",
       "      <td>0.000000</td>\n",
       "    </tr>\n",
       "    <tr>\n",
       "      <th>PT08.S4(NO2)</th>\n",
       "      <td>0.895557</td>\n",
       "    </tr>\n",
       "    <tr>\n",
       "      <th>PT08.S5(O3)</th>\n",
       "      <td>0.786863</td>\n",
       "    </tr>\n",
       "    <tr>\n",
       "      <th>T</th>\n",
       "      <td>0.000000</td>\n",
       "    </tr>\n",
       "    <tr>\n",
       "      <th>RH</th>\n",
       "      <td>-0.000000</td>\n",
       "    </tr>\n",
       "    <tr>\n",
       "      <th>AH</th>\n",
       "      <td>0.000000</td>\n",
       "    </tr>\n",
       "    <tr>\n",
       "      <th>new_column</th>\n",
       "      <td>0.488296</td>\n",
       "    </tr>\n",
       "  </tbody>\n",
       "</table>\n",
       "</div>"
      ],
      "text/plain": [
       "                  Коэф\n",
       "CO(GT)        4.248524\n",
       "NOx(GT)       0.000000\n",
       "PT08.S3(NOx) -0.333150\n",
       "NO2(GT)       0.000000\n",
       "PT08.S4(NO2)  0.895557\n",
       "PT08.S5(O3)   0.786863\n",
       "T             0.000000\n",
       "RH           -0.000000\n",
       "AH            0.000000\n",
       "new_column    0.488296"
      ]
     },
     "execution_count": 233,
     "metadata": {},
     "output_type": "execute_result"
    }
   ],
   "source": [
    "model = Lasso()\n",
    "model.fit(x_train, y_train)\n",
    "print('Регуляризация L1')\n",
    "print('Ridge MAE', mae(model.predict(x_valid), y_valid))\n",
    "print('Ridge MAPE ', mape(model.predict(x_valid), y_valid))\n",
    "t = list(x_train.columns)\n",
    "coef = pd.DataFrame(model.coef_, t)\n",
    "coef.columns = ['Коэф']\n",
    "coef"
   ]
  },
  {
   "cell_type": "code",
   "execution_count": 234,
   "metadata": {},
   "outputs": [
    {
     "name": "stdout",
     "output_type": "stream",
     "text": [
      "Регуляризация Elastic net\n",
      "Ridge MAE 3.3213268576844563\n",
      "Ridge MAPE  105.84691129785597\n"
     ]
    },
    {
     "data": {
      "text/html": [
       "<div>\n",
       "<style scoped>\n",
       "    .dataframe tbody tr th:only-of-type {\n",
       "        vertical-align: middle;\n",
       "    }\n",
       "\n",
       "    .dataframe tbody tr th {\n",
       "        vertical-align: top;\n",
       "    }\n",
       "\n",
       "    .dataframe thead th {\n",
       "        text-align: right;\n",
       "    }\n",
       "</style>\n",
       "<table border=\"1\" class=\"dataframe\">\n",
       "  <thead>\n",
       "    <tr style=\"text-align: right;\">\n",
       "      <th></th>\n",
       "      <th>Коэф</th>\n",
       "    </tr>\n",
       "  </thead>\n",
       "  <tbody>\n",
       "    <tr>\n",
       "      <th>CO(GT)</th>\n",
       "      <td>1.601693</td>\n",
       "    </tr>\n",
       "    <tr>\n",
       "      <th>NOx(GT)</th>\n",
       "      <td>0.859276</td>\n",
       "    </tr>\n",
       "    <tr>\n",
       "      <th>PT08.S3(NOx)</th>\n",
       "      <td>-0.817019</td>\n",
       "    </tr>\n",
       "    <tr>\n",
       "      <th>NO2(GT)</th>\n",
       "      <td>0.713230</td>\n",
       "    </tr>\n",
       "    <tr>\n",
       "      <th>PT08.S4(NO2)</th>\n",
       "      <td>1.213820</td>\n",
       "    </tr>\n",
       "    <tr>\n",
       "      <th>PT08.S5(O3)</th>\n",
       "      <td>1.086189</td>\n",
       "    </tr>\n",
       "    <tr>\n",
       "      <th>T</th>\n",
       "      <td>0.017348</td>\n",
       "    </tr>\n",
       "    <tr>\n",
       "      <th>RH</th>\n",
       "      <td>-0.100877</td>\n",
       "    </tr>\n",
       "    <tr>\n",
       "      <th>AH</th>\n",
       "      <td>-0.000000</td>\n",
       "    </tr>\n",
       "    <tr>\n",
       "      <th>new_column</th>\n",
       "      <td>0.968830</td>\n",
       "    </tr>\n",
       "  </tbody>\n",
       "</table>\n",
       "</div>"
      ],
      "text/plain": [
       "                  Коэф\n",
       "CO(GT)        1.601693\n",
       "NOx(GT)       0.859276\n",
       "PT08.S3(NOx) -0.817019\n",
       "NO2(GT)       0.713230\n",
       "PT08.S4(NO2)  1.213820\n",
       "PT08.S5(O3)   1.086189\n",
       "T             0.017348\n",
       "RH           -0.100877\n",
       "AH           -0.000000\n",
       "new_column    0.968830"
      ]
     },
     "execution_count": 234,
     "metadata": {},
     "output_type": "execute_result"
    }
   ],
   "source": [
    "model = ElasticNet()\n",
    "model.fit(x_train, y_train)\n",
    "print('Регуляризация Elastic net')\n",
    "print('Ridge MAE', mae(model.predict(x_valid), y_valid))\n",
    "print('Ridge MAPE ', mape(model.predict(x_valid), y_valid))\n",
    "t = list(x_train.columns)\n",
    "coef = pd.DataFrame(model.coef_, t)\n",
    "coef.columns = ['Коэф']\n",
    "coef"
   ]
  },
  {
   "cell_type": "markdown",
   "metadata": {},
   "source": [
    "Параметр CO(GT) имеет большой вес во всех трех моделях. Возможно имеет смысл добавить квадрат и этого параметра"
   ]
  },
  {
   "cell_type": "code",
   "execution_count": 237,
   "metadata": {},
   "outputs": [],
   "source": [
    "new_data['CO^2'] = new_data['CO(GT)']**2\n",
    "x_train, x_valid, y_train, y_valid = train_test_split(new_data, y, shuffle=False)"
   ]
  },
  {
   "cell_type": "code",
   "execution_count": 252,
   "metadata": {},
   "outputs": [
    {
     "name": "stdout",
     "output_type": "stream",
     "text": [
      "Регуляризация L2\n",
      "Ridge MAE 0.9832387670395071\n",
      "Ridge MAPE  23.52606739773212\n"
     ]
    },
    {
     "data": {
      "text/html": [
       "<div>\n",
       "<style scoped>\n",
       "    .dataframe tbody tr th:only-of-type {\n",
       "        vertical-align: middle;\n",
       "    }\n",
       "\n",
       "    .dataframe tbody tr th {\n",
       "        vertical-align: top;\n",
       "    }\n",
       "\n",
       "    .dataframe thead th {\n",
       "        text-align: right;\n",
       "    }\n",
       "</style>\n",
       "<table border=\"1\" class=\"dataframe\">\n",
       "  <thead>\n",
       "    <tr style=\"text-align: right;\">\n",
       "      <th></th>\n",
       "      <th>Коэф</th>\n",
       "    </tr>\n",
       "  </thead>\n",
       "  <tbody>\n",
       "    <tr>\n",
       "      <th>CO(GT)</th>\n",
       "      <td>1.825105</td>\n",
       "    </tr>\n",
       "    <tr>\n",
       "      <th>NOx(GT)</th>\n",
       "      <td>2.358777</td>\n",
       "    </tr>\n",
       "    <tr>\n",
       "      <th>PT08.S3(NOx)</th>\n",
       "      <td>-0.467723</td>\n",
       "    </tr>\n",
       "    <tr>\n",
       "      <th>NO2(GT)</th>\n",
       "      <td>-0.263463</td>\n",
       "    </tr>\n",
       "    <tr>\n",
       "      <th>PT08.S4(NO2)</th>\n",
       "      <td>3.260591</td>\n",
       "    </tr>\n",
       "    <tr>\n",
       "      <th>PT08.S5(O3)</th>\n",
       "      <td>0.923619</td>\n",
       "    </tr>\n",
       "    <tr>\n",
       "      <th>T</th>\n",
       "      <td>1.050303</td>\n",
       "    </tr>\n",
       "    <tr>\n",
       "      <th>RH</th>\n",
       "      <td>-0.084565</td>\n",
       "    </tr>\n",
       "    <tr>\n",
       "      <th>AH</th>\n",
       "      <td>-1.363063</td>\n",
       "    </tr>\n",
       "    <tr>\n",
       "      <th>new_column</th>\n",
       "      <td>0.747662</td>\n",
       "    </tr>\n",
       "    <tr>\n",
       "      <th>CO^2</th>\n",
       "      <td>-0.067405</td>\n",
       "    </tr>\n",
       "  </tbody>\n",
       "</table>\n",
       "</div>"
      ],
      "text/plain": [
       "                  Коэф\n",
       "CO(GT)        1.825105\n",
       "NOx(GT)       2.358777\n",
       "PT08.S3(NOx) -0.467723\n",
       "NO2(GT)      -0.263463\n",
       "PT08.S4(NO2)  3.260591\n",
       "PT08.S5(O3)   0.923619\n",
       "T             1.050303\n",
       "RH           -0.084565\n",
       "AH           -1.363063\n",
       "new_column    0.747662\n",
       "CO^2         -0.067405"
      ]
     },
     "execution_count": 252,
     "metadata": {},
     "output_type": "execute_result"
    }
   ],
   "source": [
    "model = Ridge()\n",
    "model.fit(x_train, y_train)\n",
    "print('Регуляризация L2')\n",
    "print('Ridge MAE', mae(model.predict(x_valid), y_valid))\n",
    "print('Ridge MAPE ', mape(model.predict(x_valid), y_valid))\n",
    "t = list(x_train.columns)\n",
    "coef = pd.DataFrame(model.coef_, t)\n",
    "coef.columns = ['Коэф']\n",
    "coef"
   ]
  },
  {
   "cell_type": "code",
   "execution_count": 239,
   "metadata": {},
   "outputs": [
    {
     "name": "stdout",
     "output_type": "stream",
     "text": [
      "Регуляризация L1\n",
      "Ridge MAE 2.2471311878644635\n",
      "Ridge MAPE  71.07614487772595\n"
     ]
    },
    {
     "data": {
      "text/html": [
       "<div>\n",
       "<style scoped>\n",
       "    .dataframe tbody tr th:only-of-type {\n",
       "        vertical-align: middle;\n",
       "    }\n",
       "\n",
       "    .dataframe tbody tr th {\n",
       "        vertical-align: top;\n",
       "    }\n",
       "\n",
       "    .dataframe thead th {\n",
       "        text-align: right;\n",
       "    }\n",
       "</style>\n",
       "<table border=\"1\" class=\"dataframe\">\n",
       "  <thead>\n",
       "    <tr style=\"text-align: right;\">\n",
       "      <th></th>\n",
       "      <th>Коэф</th>\n",
       "    </tr>\n",
       "  </thead>\n",
       "  <tbody>\n",
       "    <tr>\n",
       "      <th>CO(GT)</th>\n",
       "      <td>4.158385</td>\n",
       "    </tr>\n",
       "    <tr>\n",
       "      <th>NOx(GT)</th>\n",
       "      <td>0.000000</td>\n",
       "    </tr>\n",
       "    <tr>\n",
       "      <th>PT08.S3(NOx)</th>\n",
       "      <td>-0.360516</td>\n",
       "    </tr>\n",
       "    <tr>\n",
       "      <th>NO2(GT)</th>\n",
       "      <td>0.000000</td>\n",
       "    </tr>\n",
       "    <tr>\n",
       "      <th>PT08.S4(NO2)</th>\n",
       "      <td>0.903625</td>\n",
       "    </tr>\n",
       "    <tr>\n",
       "      <th>PT08.S5(O3)</th>\n",
       "      <td>0.806890</td>\n",
       "    </tr>\n",
       "    <tr>\n",
       "      <th>T</th>\n",
       "      <td>0.000000</td>\n",
       "    </tr>\n",
       "    <tr>\n",
       "      <th>RH</th>\n",
       "      <td>-0.000000</td>\n",
       "    </tr>\n",
       "    <tr>\n",
       "      <th>AH</th>\n",
       "      <td>0.000000</td>\n",
       "    </tr>\n",
       "    <tr>\n",
       "      <th>new_column</th>\n",
       "      <td>0.468799</td>\n",
       "    </tr>\n",
       "    <tr>\n",
       "      <th>CO^2</th>\n",
       "      <td>0.043877</td>\n",
       "    </tr>\n",
       "  </tbody>\n",
       "</table>\n",
       "</div>"
      ],
      "text/plain": [
       "                  Коэф\n",
       "CO(GT)        4.158385\n",
       "NOx(GT)       0.000000\n",
       "PT08.S3(NOx) -0.360516\n",
       "NO2(GT)       0.000000\n",
       "PT08.S4(NO2)  0.903625\n",
       "PT08.S5(O3)   0.806890\n",
       "T             0.000000\n",
       "RH           -0.000000\n",
       "AH            0.000000\n",
       "new_column    0.468799\n",
       "CO^2          0.043877"
      ]
     },
     "execution_count": 239,
     "metadata": {},
     "output_type": "execute_result"
    }
   ],
   "source": [
    "model = Lasso()\n",
    "model.fit(x_train, y_train)\n",
    "print('Регуляризация L1')\n",
    "print('Ridge MAE', mae(model.predict(x_valid), y_valid))\n",
    "print('Ridge MAPE ', mape(model.predict(x_valid), y_valid))\n",
    "t = list(x_train.columns)\n",
    "coef = pd.DataFrame(model.coef_, t)\n",
    "coef.columns = ['Коэф']\n",
    "coef"
   ]
  },
  {
   "cell_type": "code",
   "execution_count": 240,
   "metadata": {},
   "outputs": [
    {
     "name": "stdout",
     "output_type": "stream",
     "text": [
      "Регуляризация Elastic net\n",
      "Ridge MAE 3.1159513051961776\n",
      "Ridge MAPE  99.68769412946888\n"
     ]
    },
    {
     "data": {
      "text/html": [
       "<div>\n",
       "<style scoped>\n",
       "    .dataframe tbody tr th:only-of-type {\n",
       "        vertical-align: middle;\n",
       "    }\n",
       "\n",
       "    .dataframe tbody tr th {\n",
       "        vertical-align: top;\n",
       "    }\n",
       "\n",
       "    .dataframe thead th {\n",
       "        text-align: right;\n",
       "    }\n",
       "</style>\n",
       "<table border=\"1\" class=\"dataframe\">\n",
       "  <thead>\n",
       "    <tr style=\"text-align: right;\">\n",
       "      <th></th>\n",
       "      <th>Коэф</th>\n",
       "    </tr>\n",
       "  </thead>\n",
       "  <tbody>\n",
       "    <tr>\n",
       "      <th>CO(GT)</th>\n",
       "      <td>1.399025</td>\n",
       "    </tr>\n",
       "    <tr>\n",
       "      <th>NOx(GT)</th>\n",
       "      <td>0.675264</td>\n",
       "    </tr>\n",
       "    <tr>\n",
       "      <th>PT08.S3(NOx)</th>\n",
       "      <td>-0.900286</td>\n",
       "    </tr>\n",
       "    <tr>\n",
       "      <th>NO2(GT)</th>\n",
       "      <td>0.753929</td>\n",
       "    </tr>\n",
       "    <tr>\n",
       "      <th>PT08.S4(NO2)</th>\n",
       "      <td>1.178334</td>\n",
       "    </tr>\n",
       "    <tr>\n",
       "      <th>PT08.S5(O3)</th>\n",
       "      <td>1.071893</td>\n",
       "    </tr>\n",
       "    <tr>\n",
       "      <th>T</th>\n",
       "      <td>0.017954</td>\n",
       "    </tr>\n",
       "    <tr>\n",
       "      <th>RH</th>\n",
       "      <td>-0.144614</td>\n",
       "    </tr>\n",
       "    <tr>\n",
       "      <th>AH</th>\n",
       "      <td>-0.000000</td>\n",
       "    </tr>\n",
       "    <tr>\n",
       "      <th>new_column</th>\n",
       "      <td>0.770380</td>\n",
       "    </tr>\n",
       "    <tr>\n",
       "      <th>CO^2</th>\n",
       "      <td>0.373106</td>\n",
       "    </tr>\n",
       "  </tbody>\n",
       "</table>\n",
       "</div>"
      ],
      "text/plain": [
       "                  Коэф\n",
       "CO(GT)        1.399025\n",
       "NOx(GT)       0.675264\n",
       "PT08.S3(NOx) -0.900286\n",
       "NO2(GT)       0.753929\n",
       "PT08.S4(NO2)  1.178334\n",
       "PT08.S5(O3)   1.071893\n",
       "T             0.017954\n",
       "RH           -0.144614\n",
       "AH           -0.000000\n",
       "new_column    0.770380\n",
       "CO^2          0.373106"
      ]
     },
     "execution_count": 240,
     "metadata": {},
     "output_type": "execute_result"
    }
   ],
   "source": [
    "model = ElasticNet()\n",
    "model.fit(x_train, y_train)\n",
    "print('Регуляризация Elastic net')\n",
    "print('Ridge MAE', mae(model.predict(x_valid), y_valid))\n",
    "print('Ridge MAPE ', mape(model.predict(x_valid), y_valid))\n",
    "t = list(x_train.columns)\n",
    "coef = pd.DataFrame(model.coef_, t)\n",
    "coef.columns = ['Коэф']\n",
    "coef"
   ]
  },
  {
   "cell_type": "markdown",
   "metadata": {},
   "source": [
    "## Настройка гиперпараметров для регуляризации\n",
    "\n",
    "L2 имеет результат лучше чем, два других метода, следовательно стоит повысить коэф. регуляризации при L1"
   ]
  },
  {
   "cell_type": "code",
   "execution_count": 246,
   "metadata": {},
   "outputs": [
    {
     "name": "stdout",
     "output_type": "stream",
     "text": [
      "Регуляризация L1\n",
      "alpha =  1\n",
      "Ridge MAE 2.2471311878644635\n",
      "Ridge MAPE  71.07614487772595\n",
      "alpha =  2\n",
      "Ridge MAE 3.3142341095505214\n",
      "Ridge MAPE  125.58295545670097\n",
      "alpha =  3\n",
      "Ridge MAE 3.6492285218242237\n",
      "Ridge MAPE  145.57749357805056\n",
      "alpha =  4\n",
      "Ridge MAE 4.053349362216945\n",
      "Ridge MAPE  162.56218655559337\n"
     ]
    }
   ],
   "source": [
    "print('Регуляризация L1')\n",
    "\n",
    "for i in range(1, 5):\n",
    "    model = Lasso(alpha=i)\n",
    "    model.fit(x_train, y_train)\n",
    "    print('alpha = ', i)\n",
    "    print('Lasso MAE', mae(model.predict(x_valid), y_valid))\n",
    "    print('Lasso MAPE ', mape(model.predict(x_valid), y_valid))"
   ]
  },
  {
   "cell_type": "markdown",
   "metadata": {},
   "source": [
    "И Ridge, и Lasso показывают наилучшие результаты при alpha = 1 -> В Elastic net используем alpha = 1"
   ]
  },
  {
   "cell_type": "code",
   "execution_count": 251,
   "metadata": {},
   "outputs": [
    {
     "name": "stdout",
     "output_type": "stream",
     "text": [
      "L1 ratio =  0.0\n",
      "EN MAE 3.098192190065523\n",
      "EN MAPE  99.17404097014827\n",
      "L1 ratio =  0.1\n",
      "EN MAE 3.0941315130620177\n",
      "EN MAPE  98.97648892006603\n",
      "L1 ratio =  0.2\n",
      "EN MAE 3.104417049880433\n",
      "EN MAPE  99.34287177924035\n",
      "L1 ratio =  0.30000000000000004\n",
      "EN MAE 3.1126071025835134\n",
      "EN MAPE  99.62759952169053\n",
      "L1 ratio =  0.4\n",
      "EN MAE 3.117426498434468\n",
      "EN MAPE  99.77456654918763\n",
      "L1 ratio =  0.5\n",
      "EN MAE 3.1159513051961776\n",
      "EN MAPE  99.68769412946888\n",
      "L1 ratio =  0.6000000000000001\n",
      "EN MAE 3.06724121978516\n",
      "EN MAPE  97.75234007136838\n",
      "L1 ratio =  0.7000000000000001\n",
      "EN MAE 2.986823155694638\n",
      "EN MAPE  94.63521990032486\n",
      "L1 ratio =  0.8\n",
      "EN MAE 2.828163721296577\n",
      "EN MAPE  89.21522451886852\n",
      "L1 ratio =  0.9\n",
      "EN MAE 2.5748935551084977\n",
      "EN MAPE  81.1115982502608\n",
      "L1 ratio =  1.0\n",
      "EN MAE 2.2471311878644635\n",
      "EN MAPE  71.07614487772595\n"
     ]
    }
   ],
   "source": [
    "for i in np.arange(0, 1.1, 0.1):\n",
    "    model = ElasticNet(l1_ratio=i)\n",
    "    model.fit(x_train, y_train)\n",
    "    print('L1 ratio = ', i)\n",
    "    print('EN MAE', mae(model.predict(x_valid), y_valid))\n",
    "    print('EN MAPE ', mape(model.predict(x_valid), y_valid))"
   ]
  },
  {
   "cell_type": "markdown",
   "metadata": {},
   "source": [
    "# Выводы\n",
    "\n",
    "В данном случае, наилучший результат имеет регуляризация L2"
   ]
  },
  {
   "cell_type": "code",
   "execution_count": null,
   "metadata": {},
   "outputs": [],
   "source": []
  }
 ],
 "metadata": {
  "kernelspec": {
   "display_name": "Python 3",
   "language": "python",
   "name": "python3"
  },
  "language_info": {
   "codemirror_mode": {
    "name": "ipython",
    "version": 3
   },
   "file_extension": ".py",
   "mimetype": "text/x-python",
   "name": "python",
   "nbconvert_exporter": "python",
   "pygments_lexer": "ipython3",
   "version": "3.7.4"
  }
 },
 "nbformat": 4,
 "nbformat_minor": 2
}
