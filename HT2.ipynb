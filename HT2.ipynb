{
 "cells": [
  {
   "cell_type": "code",
   "execution_count": 195,
   "metadata": {},
   "outputs": [],
   "source": [
    "import pandas as pd\n",
    "import numpy as np\n",
    "import matplotlib.pyplot as plt\n",
    "import seaborn as sns\n",
    "from scipy import stats\n",
    "import warnings\n",
    "warnings.filterwarnings('ignore')"
   ]
  },
  {
   "cell_type": "code",
   "execution_count": 196,
   "metadata": {},
   "outputs": [],
   "source": [
    "# Загрузка данных с Excel таблицы\n",
    "data = pd.read_excel('AirQualityUCI.xlsx')\n",
    "data.replace(-200, np.nan, inplace=True)"
   ]
  },
  {
   "cell_type": "code",
   "execution_count": 197,
   "metadata": {},
   "outputs": [
    {
     "data": {
      "text/html": [
       "<div>\n",
       "<style scoped>\n",
       "    .dataframe tbody tr th:only-of-type {\n",
       "        vertical-align: middle;\n",
       "    }\n",
       "\n",
       "    .dataframe tbody tr th {\n",
       "        vertical-align: top;\n",
       "    }\n",
       "\n",
       "    .dataframe thead th {\n",
       "        text-align: right;\n",
       "    }\n",
       "</style>\n",
       "<table border=\"1\" class=\"dataframe\">\n",
       "  <thead>\n",
       "    <tr style=\"text-align: right;\">\n",
       "      <th></th>\n",
       "      <th>Date</th>\n",
       "      <th>Time</th>\n",
       "      <th>CO(GT)</th>\n",
       "      <th>PT08.S1(CO)</th>\n",
       "      <th>NMHC(GT)</th>\n",
       "      <th>C6H6(GT)</th>\n",
       "      <th>PT08.S2(NMHC)</th>\n",
       "      <th>NOx(GT)</th>\n",
       "      <th>PT08.S3(NOx)</th>\n",
       "      <th>NO2(GT)</th>\n",
       "      <th>PT08.S4(NO2)</th>\n",
       "      <th>PT08.S5(O3)</th>\n",
       "      <th>T</th>\n",
       "      <th>RH</th>\n",
       "      <th>AH</th>\n",
       "    </tr>\n",
       "  </thead>\n",
       "  <tbody>\n",
       "    <tr>\n",
       "      <td>0</td>\n",
       "      <td>2004-03-10</td>\n",
       "      <td>18:00:00</td>\n",
       "      <td>2.6</td>\n",
       "      <td>1360.00</td>\n",
       "      <td>150.0</td>\n",
       "      <td>11.881723</td>\n",
       "      <td>1045.50</td>\n",
       "      <td>166.0</td>\n",
       "      <td>1056.25</td>\n",
       "      <td>113.0</td>\n",
       "      <td>1692.00</td>\n",
       "      <td>1267.50</td>\n",
       "      <td>13.60</td>\n",
       "      <td>48.875001</td>\n",
       "      <td>0.757754</td>\n",
       "    </tr>\n",
       "    <tr>\n",
       "      <td>1</td>\n",
       "      <td>2004-03-10</td>\n",
       "      <td>19:00:00</td>\n",
       "      <td>2.0</td>\n",
       "      <td>1292.25</td>\n",
       "      <td>112.0</td>\n",
       "      <td>9.397165</td>\n",
       "      <td>954.75</td>\n",
       "      <td>103.0</td>\n",
       "      <td>1173.75</td>\n",
       "      <td>92.0</td>\n",
       "      <td>1558.75</td>\n",
       "      <td>972.25</td>\n",
       "      <td>13.30</td>\n",
       "      <td>47.700000</td>\n",
       "      <td>0.725487</td>\n",
       "    </tr>\n",
       "    <tr>\n",
       "      <td>2</td>\n",
       "      <td>2004-03-10</td>\n",
       "      <td>20:00:00</td>\n",
       "      <td>2.2</td>\n",
       "      <td>1402.00</td>\n",
       "      <td>88.0</td>\n",
       "      <td>8.997817</td>\n",
       "      <td>939.25</td>\n",
       "      <td>131.0</td>\n",
       "      <td>1140.00</td>\n",
       "      <td>114.0</td>\n",
       "      <td>1554.50</td>\n",
       "      <td>1074.00</td>\n",
       "      <td>11.90</td>\n",
       "      <td>53.975000</td>\n",
       "      <td>0.750239</td>\n",
       "    </tr>\n",
       "    <tr>\n",
       "      <td>3</td>\n",
       "      <td>2004-03-10</td>\n",
       "      <td>21:00:00</td>\n",
       "      <td>2.2</td>\n",
       "      <td>1375.50</td>\n",
       "      <td>80.0</td>\n",
       "      <td>9.228796</td>\n",
       "      <td>948.25</td>\n",
       "      <td>172.0</td>\n",
       "      <td>1092.00</td>\n",
       "      <td>122.0</td>\n",
       "      <td>1583.75</td>\n",
       "      <td>1203.25</td>\n",
       "      <td>11.00</td>\n",
       "      <td>60.000000</td>\n",
       "      <td>0.786713</td>\n",
       "    </tr>\n",
       "    <tr>\n",
       "      <td>4</td>\n",
       "      <td>2004-03-10</td>\n",
       "      <td>22:00:00</td>\n",
       "      <td>1.6</td>\n",
       "      <td>1272.25</td>\n",
       "      <td>51.0</td>\n",
       "      <td>6.518224</td>\n",
       "      <td>835.50</td>\n",
       "      <td>131.0</td>\n",
       "      <td>1205.00</td>\n",
       "      <td>116.0</td>\n",
       "      <td>1490.00</td>\n",
       "      <td>1110.00</td>\n",
       "      <td>11.15</td>\n",
       "      <td>59.575001</td>\n",
       "      <td>0.788794</td>\n",
       "    </tr>\n",
       "  </tbody>\n",
       "</table>\n",
       "</div>"
      ],
      "text/plain": [
       "        Date      Time  CO(GT)  PT08.S1(CO)  NMHC(GT)   C6H6(GT)  \\\n",
       "0 2004-03-10  18:00:00     2.6      1360.00     150.0  11.881723   \n",
       "1 2004-03-10  19:00:00     2.0      1292.25     112.0   9.397165   \n",
       "2 2004-03-10  20:00:00     2.2      1402.00      88.0   8.997817   \n",
       "3 2004-03-10  21:00:00     2.2      1375.50      80.0   9.228796   \n",
       "4 2004-03-10  22:00:00     1.6      1272.25      51.0   6.518224   \n",
       "\n",
       "   PT08.S2(NMHC)  NOx(GT)  PT08.S3(NOx)  NO2(GT)  PT08.S4(NO2)  PT08.S5(O3)  \\\n",
       "0        1045.50    166.0       1056.25    113.0       1692.00      1267.50   \n",
       "1         954.75    103.0       1173.75     92.0       1558.75       972.25   \n",
       "2         939.25    131.0       1140.00    114.0       1554.50      1074.00   \n",
       "3         948.25    172.0       1092.00    122.0       1583.75      1203.25   \n",
       "4         835.50    131.0       1205.00    116.0       1490.00      1110.00   \n",
       "\n",
       "       T         RH        AH  \n",
       "0  13.60  48.875001  0.757754  \n",
       "1  13.30  47.700000  0.725487  \n",
       "2  11.90  53.975000  0.750239  \n",
       "3  11.00  60.000000  0.786713  \n",
       "4  11.15  59.575001  0.788794  "
      ]
     },
     "execution_count": 197,
     "metadata": {},
     "output_type": "execute_result"
    }
   ],
   "source": [
    "data.head()"
   ]
  },
  {
   "cell_type": "code",
   "execution_count": 198,
   "metadata": {},
   "outputs": [
    {
     "data": {
      "text/html": [
       "<div>\n",
       "<style scoped>\n",
       "    .dataframe tbody tr th:only-of-type {\n",
       "        vertical-align: middle;\n",
       "    }\n",
       "\n",
       "    .dataframe tbody tr th {\n",
       "        vertical-align: top;\n",
       "    }\n",
       "\n",
       "    .dataframe thead th {\n",
       "        text-align: right;\n",
       "    }\n",
       "</style>\n",
       "<table border=\"1\" class=\"dataframe\">\n",
       "  <thead>\n",
       "    <tr style=\"text-align: right;\">\n",
       "      <th></th>\n",
       "      <th>CO(GT)</th>\n",
       "      <th>PT08.S1(CO)</th>\n",
       "      <th>NMHC(GT)</th>\n",
       "      <th>C6H6(GT)</th>\n",
       "      <th>PT08.S2(NMHC)</th>\n",
       "      <th>NOx(GT)</th>\n",
       "      <th>PT08.S3(NOx)</th>\n",
       "      <th>NO2(GT)</th>\n",
       "      <th>PT08.S4(NO2)</th>\n",
       "      <th>PT08.S5(O3)</th>\n",
       "      <th>T</th>\n",
       "      <th>RH</th>\n",
       "      <th>AH</th>\n",
       "    </tr>\n",
       "  </thead>\n",
       "  <tbody>\n",
       "    <tr>\n",
       "      <td>count</td>\n",
       "      <td>7674.000000</td>\n",
       "      <td>8991.000000</td>\n",
       "      <td>914.000000</td>\n",
       "      <td>8991.000000</td>\n",
       "      <td>8991.000000</td>\n",
       "      <td>7718.000000</td>\n",
       "      <td>8991.000000</td>\n",
       "      <td>7715.000000</td>\n",
       "      <td>8991.000000</td>\n",
       "      <td>8991.000000</td>\n",
       "      <td>8991.000000</td>\n",
       "      <td>8991.000000</td>\n",
       "      <td>8991.000000</td>\n",
       "    </tr>\n",
       "    <tr>\n",
       "      <td>mean</td>\n",
       "      <td>2.152750</td>\n",
       "      <td>1099.707856</td>\n",
       "      <td>218.811816</td>\n",
       "      <td>10.082993</td>\n",
       "      <td>939.029205</td>\n",
       "      <td>246.881252</td>\n",
       "      <td>835.370973</td>\n",
       "      <td>113.075515</td>\n",
       "      <td>1456.143486</td>\n",
       "      <td>1022.780725</td>\n",
       "      <td>18.316054</td>\n",
       "      <td>49.232360</td>\n",
       "      <td>1.025530</td>\n",
       "    </tr>\n",
       "    <tr>\n",
       "      <td>std</td>\n",
       "      <td>1.453252</td>\n",
       "      <td>217.084571</td>\n",
       "      <td>204.459921</td>\n",
       "      <td>7.449640</td>\n",
       "      <td>266.829000</td>\n",
       "      <td>212.971224</td>\n",
       "      <td>256.815106</td>\n",
       "      <td>48.359250</td>\n",
       "      <td>346.204540</td>\n",
       "      <td>398.480897</td>\n",
       "      <td>8.832888</td>\n",
       "      <td>17.316389</td>\n",
       "      <td>0.403813</td>\n",
       "    </tr>\n",
       "    <tr>\n",
       "      <td>min</td>\n",
       "      <td>0.100000</td>\n",
       "      <td>647.250000</td>\n",
       "      <td>7.000000</td>\n",
       "      <td>0.149048</td>\n",
       "      <td>383.250000</td>\n",
       "      <td>2.000000</td>\n",
       "      <td>322.000000</td>\n",
       "      <td>2.000000</td>\n",
       "      <td>551.000000</td>\n",
       "      <td>221.000000</td>\n",
       "      <td>-1.900000</td>\n",
       "      <td>9.175000</td>\n",
       "      <td>0.184679</td>\n",
       "    </tr>\n",
       "    <tr>\n",
       "      <td>25%</td>\n",
       "      <td>1.100000</td>\n",
       "      <td>936.750000</td>\n",
       "      <td>67.000000</td>\n",
       "      <td>4.436942</td>\n",
       "      <td>734.375000</td>\n",
       "      <td>98.000000</td>\n",
       "      <td>657.875000</td>\n",
       "      <td>78.000000</td>\n",
       "      <td>1226.625000</td>\n",
       "      <td>731.375000</td>\n",
       "      <td>11.787500</td>\n",
       "      <td>35.812500</td>\n",
       "      <td>0.736769</td>\n",
       "    </tr>\n",
       "    <tr>\n",
       "      <td>50%</td>\n",
       "      <td>1.800000</td>\n",
       "      <td>1063.000000</td>\n",
       "      <td>150.000000</td>\n",
       "      <td>8.239851</td>\n",
       "      <td>909.000000</td>\n",
       "      <td>179.800000</td>\n",
       "      <td>805.500000</td>\n",
       "      <td>109.000000</td>\n",
       "      <td>1462.750000</td>\n",
       "      <td>963.250000</td>\n",
       "      <td>17.750000</td>\n",
       "      <td>49.550000</td>\n",
       "      <td>0.995395</td>\n",
       "    </tr>\n",
       "    <tr>\n",
       "      <td>75%</td>\n",
       "      <td>2.900000</td>\n",
       "      <td>1231.250000</td>\n",
       "      <td>297.000000</td>\n",
       "      <td>13.988478</td>\n",
       "      <td>1116.250000</td>\n",
       "      <td>326.000000</td>\n",
       "      <td>969.250000</td>\n",
       "      <td>142.000000</td>\n",
       "      <td>1673.500000</td>\n",
       "      <td>1273.375000</td>\n",
       "      <td>24.400000</td>\n",
       "      <td>62.500001</td>\n",
       "      <td>1.313701</td>\n",
       "    </tr>\n",
       "    <tr>\n",
       "      <td>max</td>\n",
       "      <td>11.900000</td>\n",
       "      <td>2039.750000</td>\n",
       "      <td>1189.000000</td>\n",
       "      <td>63.741476</td>\n",
       "      <td>2214.000000</td>\n",
       "      <td>1479.000000</td>\n",
       "      <td>2682.750000</td>\n",
       "      <td>339.700000</td>\n",
       "      <td>2775.000000</td>\n",
       "      <td>2522.750000</td>\n",
       "      <td>44.600000</td>\n",
       "      <td>88.725000</td>\n",
       "      <td>2.231036</td>\n",
       "    </tr>\n",
       "  </tbody>\n",
       "</table>\n",
       "</div>"
      ],
      "text/plain": [
       "            CO(GT)  PT08.S1(CO)     NMHC(GT)     C6H6(GT)  PT08.S2(NMHC)  \\\n",
       "count  7674.000000  8991.000000   914.000000  8991.000000    8991.000000   \n",
       "mean      2.152750  1099.707856   218.811816    10.082993     939.029205   \n",
       "std       1.453252   217.084571   204.459921     7.449640     266.829000   \n",
       "min       0.100000   647.250000     7.000000     0.149048     383.250000   \n",
       "25%       1.100000   936.750000    67.000000     4.436942     734.375000   \n",
       "50%       1.800000  1063.000000   150.000000     8.239851     909.000000   \n",
       "75%       2.900000  1231.250000   297.000000    13.988478    1116.250000   \n",
       "max      11.900000  2039.750000  1189.000000    63.741476    2214.000000   \n",
       "\n",
       "           NOx(GT)  PT08.S3(NOx)      NO2(GT)  PT08.S4(NO2)  PT08.S5(O3)  \\\n",
       "count  7718.000000   8991.000000  7715.000000   8991.000000  8991.000000   \n",
       "mean    246.881252    835.370973   113.075515   1456.143486  1022.780725   \n",
       "std     212.971224    256.815106    48.359250    346.204540   398.480897   \n",
       "min       2.000000    322.000000     2.000000    551.000000   221.000000   \n",
       "25%      98.000000    657.875000    78.000000   1226.625000   731.375000   \n",
       "50%     179.800000    805.500000   109.000000   1462.750000   963.250000   \n",
       "75%     326.000000    969.250000   142.000000   1673.500000  1273.375000   \n",
       "max    1479.000000   2682.750000   339.700000   2775.000000  2522.750000   \n",
       "\n",
       "                 T           RH           AH  \n",
       "count  8991.000000  8991.000000  8991.000000  \n",
       "mean     18.316054    49.232360     1.025530  \n",
       "std       8.832888    17.316389     0.403813  \n",
       "min      -1.900000     9.175000     0.184679  \n",
       "25%      11.787500    35.812500     0.736769  \n",
       "50%      17.750000    49.550000     0.995395  \n",
       "75%      24.400000    62.500001     1.313701  \n",
       "max      44.600000    88.725000     2.231036  "
      ]
     },
     "execution_count": 198,
     "metadata": {},
     "output_type": "execute_result"
    }
   ],
   "source": [
    "data.describe()"
   ]
  },
  {
   "cell_type": "code",
   "execution_count": 199,
   "metadata": {},
   "outputs": [
    {
     "data": {
      "text/plain": [
       "Date             datetime64[ns]\n",
       "Time                     object\n",
       "CO(GT)                  float64\n",
       "PT08.S1(CO)             float64\n",
       "NMHC(GT)                float64\n",
       "C6H6(GT)                float64\n",
       "PT08.S2(NMHC)           float64\n",
       "NOx(GT)                 float64\n",
       "PT08.S3(NOx)            float64\n",
       "NO2(GT)                 float64\n",
       "PT08.S4(NO2)            float64\n",
       "PT08.S5(O3)             float64\n",
       "T                       float64\n",
       "RH                      float64\n",
       "AH                      float64\n",
       "dtype: object"
      ]
     },
     "execution_count": 199,
     "metadata": {},
     "output_type": "execute_result"
    }
   ],
   "source": [
    "data.dtypes"
   ]
  },
  {
   "cell_type": "code",
   "execution_count": 200,
   "metadata": {},
   "outputs": [],
   "source": [
    "# Убираем строчки в которых отсутствует искомая величина\n",
    "data.dropna(axis=0, subset=['C6H6(GT)'], inplace=True)"
   ]
  },
  {
   "cell_type": "code",
   "execution_count": 201,
   "metadata": {},
   "outputs": [
    {
     "data": {
      "image/png": "[encoded data removed]",
      "text/plain": [
       "<Figure size 1008x720 with 2 Axes>"
      ]
     },
     "metadata": {
      "needs_background": "light"
     },
     "output_type": "display_data"
    }
   ],
   "source": [
    "plt.figure(figsize=(14,10))\n",
    "ax = sns.heatmap(data.corr(), xticklabels=data.corr().columns, yticklabels=data.corr().columns, center=0, annot=True)\n",
    "i, k = ax.get_ylim()\n",
    "ax.set_ylim(i+0.5, k-0.5)\n",
    "plt.title('HeatMap корреляции', fontsize=20)\n",
    "plt.xticks(fontsize=8)\n",
    "plt.yticks(fontsize=8)\n",
    "plt.show()"
   ]
  },
  {
   "cell_type": "code",
   "execution_count": 202,
   "metadata": {},
   "outputs": [
    {
     "data": {
      "text/plain": [
       "<matplotlib.axes._subplots.AxesSubplot at 0x1b8990ed5c8>"
      ]
     },
     "execution_count": 202,
     "metadata": {},
     "output_type": "execute_result"
    },
    {
     "data": {
      "image/png": "[encoded data removed]",
      "text/plain": [
       "<Figure size 720x1080 with 2 Axes>"
      ]
     },
     "metadata": {
      "needs_background": "light"
     },
     "output_type": "display_data"
    }
   ],
   "source": [
    "# Вывод target колонки\n",
    "plt.figure(figsize = (10, 15))\n",
    "plt.subplot(3, 1, 1)\n",
    "data['C6H6(GT)'].hist(bins=20)\n",
    "plt.subplot(3, 1, 2)\n",
    "sns.boxplot(data['C6H6(GT)'])\n"
   ]
  },
  {
   "cell_type": "markdown",
   "metadata": {},
   "source": [
    "Данные имеют большое количество выбросов, при обучении модели будет использоваться MAE, как основная метрика, так как она более устойчива к ним. "
   ]
  },
  {
   "cell_type": "code",
   "execution_count": 203,
   "metadata": {},
   "outputs": [],
   "source": [
    "cols_with_missing = [col for col in data.columns if data[col].isnull().any()]"
   ]
  },
  {
   "cell_type": "code",
   "execution_count": 204,
   "metadata": {},
   "outputs": [
    {
     "data": {
      "text/html": [
       "<div>\n",
       "<style scoped>\n",
       "    .dataframe tbody tr th:only-of-type {\n",
       "        vertical-align: middle;\n",
       "    }\n",
       "\n",
       "    .dataframe tbody tr th {\n",
       "        vertical-align: top;\n",
       "    }\n",
       "\n",
       "    .dataframe thead th {\n",
       "        text-align: right;\n",
       "    }\n",
       "</style>\n",
       "<table border=\"1\" class=\"dataframe\">\n",
       "  <thead>\n",
       "    <tr style=\"text-align: right;\">\n",
       "      <th></th>\n",
       "      <th>CO(GT)</th>\n",
       "      <th>NMHC(GT)</th>\n",
       "      <th>NOx(GT)</th>\n",
       "      <th>NO2(GT)</th>\n",
       "    </tr>\n",
       "  </thead>\n",
       "  <tbody>\n",
       "    <tr>\n",
       "      <td>count</td>\n",
       "      <td>7344.000000</td>\n",
       "      <td>887.000000</td>\n",
       "      <td>7396.000000</td>\n",
       "      <td>7393.000000</td>\n",
       "    </tr>\n",
       "    <tr>\n",
       "      <td>mean</td>\n",
       "      <td>2.129711</td>\n",
       "      <td>218.607666</td>\n",
       "      <td>242.174351</td>\n",
       "      <td>112.129974</td>\n",
       "    </tr>\n",
       "    <tr>\n",
       "      <td>std</td>\n",
       "      <td>1.436472</td>\n",
       "      <td>206.615130</td>\n",
       "      <td>206.304577</td>\n",
       "      <td>47.618852</td>\n",
       "    </tr>\n",
       "    <tr>\n",
       "      <td>min</td>\n",
       "      <td>0.100000</td>\n",
       "      <td>7.000000</td>\n",
       "      <td>2.000000</td>\n",
       "      <td>2.000000</td>\n",
       "    </tr>\n",
       "    <tr>\n",
       "      <td>25%</td>\n",
       "      <td>1.100000</td>\n",
       "      <td>66.000000</td>\n",
       "      <td>97.000000</td>\n",
       "      <td>77.000000</td>\n",
       "    </tr>\n",
       "    <tr>\n",
       "      <td>50%</td>\n",
       "      <td>1.800000</td>\n",
       "      <td>145.000000</td>\n",
       "      <td>178.000000</td>\n",
       "      <td>108.500000</td>\n",
       "    </tr>\n",
       "    <tr>\n",
       "      <td>75%</td>\n",
       "      <td>2.800000</td>\n",
       "      <td>297.000000</td>\n",
       "      <td>321.000000</td>\n",
       "      <td>140.000000</td>\n",
       "    </tr>\n",
       "    <tr>\n",
       "      <td>max</td>\n",
       "      <td>11.900000</td>\n",
       "      <td>1189.000000</td>\n",
       "      <td>1479.000000</td>\n",
       "      <td>332.600000</td>\n",
       "    </tr>\n",
       "  </tbody>\n",
       "</table>\n",
       "</div>"
      ],
      "text/plain": [
       "            CO(GT)     NMHC(GT)      NOx(GT)      NO2(GT)\n",
       "count  7344.000000   887.000000  7396.000000  7393.000000\n",
       "mean      2.129711   218.607666   242.174351   112.129974\n",
       "std       1.436472   206.615130   206.304577    47.618852\n",
       "min       0.100000     7.000000     2.000000     2.000000\n",
       "25%       1.100000    66.000000    97.000000    77.000000\n",
       "50%       1.800000   145.000000   178.000000   108.500000\n",
       "75%       2.800000   297.000000   321.000000   140.000000\n",
       "max      11.900000  1189.000000  1479.000000   332.600000"
      ]
     },
     "execution_count": 204,
     "metadata": {},
     "output_type": "execute_result"
    }
   ],
   "source": [
    "# Колонки в которых встречаются пропущенные значения\n",
    "data[cols_with_missing].describe()"
   ]
  },
  {
   "cell_type": "code",
   "execution_count": 205,
   "metadata": {},
   "outputs": [
    {
     "name": "stdout",
     "output_type": "stream",
     "text": [
      "CO(GT) 1647\n",
      "NMHC(GT) 8104\n",
      "NOx(GT) 1595\n",
      "NO2(GT) 1598\n"
     ]
    }
   ],
   "source": [
    "for col in cols_with_missing:\n",
    "    print(col, len(data[data[col].isnull()]))"
   ]
  },
  {
   "cell_type": "markdown",
   "metadata": {},
   "source": [
    "NMHC(GT) - отсутсвует более 90% записей, в отдельных случаях имеет смысл предсказать значение этой переменной с помощью линейной модели, в данном случае есть два варианта, либо удалить столбец полностью, либо добавить отдельный бинарный параметр, отвечающий за наличие данных по NMHC(GT) в n-ой строке датафрема. Остальные столбцы можно заполнить средним, в соответсвии с распредлением. В целом, эти данные представляют собой временной ряд, и имеет смысл воспользоваться алгоритмом заполнения пропусков в них."
   ]
  },
  {
   "cell_type": "markdown",
   "metadata": {},
   "source": [
    "### Заполнение пропусков\n",
    "\n",
    "Для заполнения "
   ]
  },
  {
   "cell_type": "code",
   "execution_count": 206,
   "metadata": {},
   "outputs": [],
   "source": [
    "# from datetime import datetime, time\n",
    "# data['is_NMHC_nan']=data['NMHC(GT)'].isnull()"
   ]
  },
  {
   "cell_type": "code",
   "execution_count": 207,
   "metadata": {},
   "outputs": [],
   "source": [
    "# data[~data['is_NMHC_nan']]['NMHC(GT)'].plot()"
   ]
  },
  {
   "cell_type": "markdown",
   "metadata": {},
   "source": [
    "Так как, данные представляют собой временной ряд, внесение константного параметра сильно испортит данные, в данной ситуации"
   ]
  },
  {
   "cell_type": "code",
   "execution_count": 208,
   "metadata": {},
   "outputs": [
    {
     "data": {
      "image/png": "[encoded data removed]",
      "text/plain": [
       "<Figure size 720x720 with 4 Axes>"
      ]
     },
     "metadata": {
      "needs_background": "light"
     },
     "output_type": "display_data"
    }
   ],
   "source": [
    "plt.figure(figsize=(10,10))\n",
    "i = 1\n",
    "for col in cols_with_missing:\n",
    "    plt.subplot(2, 2, i)\n",
    "    plt.xlabel(col)\n",
    "    data[col].hist()\n",
    "    i += 1"
   ]
  },
  {
   "cell_type": "markdown",
   "metadata": {},
   "source": [
    "Для 3 остальных параметров лучше использовать median, как способ заполнения, так как mean будет чувтвителен к выбросам, которые присутвуют в 2/3 параметров. Для NO2, можно использовать mean, так как выбросов не так много."
   ]
  },
  {
   "cell_type": "code",
   "execution_count": 209,
   "metadata": {},
   "outputs": [],
   "source": [
    "data.drop('NMHC(GT)', axis = 1, inplace=True)\n",
    "data.set_index(['Date', 'Time'], inplace=True)"
   ]
  },
  {
   "cell_type": "code",
   "execution_count": 210,
   "metadata": {},
   "outputs": [],
   "source": [
    "from sklearn.preprocessing import Imputer\n",
    "\n",
    "imp = Imputer(strategy='median')\n",
    "c = data.columns\n",
    "data = pd.DataFrame(imp.fit_transform(data))\n",
    "data.columns=c"
   ]
  },
  {
   "cell_type": "code",
   "execution_count": 211,
   "metadata": {},
   "outputs": [
    {
     "data": {
      "text/plain": [
       "[]"
      ]
     },
     "execution_count": 211,
     "metadata": {},
     "output_type": "execute_result"
    }
   ],
   "source": [
    "cols_with_missing = [col for col in data.columns if data[col].isnull().any()]\n",
    "cols_with_missing"
   ]
  },
  {
   "cell_type": "code",
   "execution_count": 212,
   "metadata": {},
   "outputs": [],
   "source": [
    "# plt.figure(figsize=(16,10), dpi= 80)\n",
    "# plt.plot('date', 'NMHC(GT)', data=df, color='tab:red')\n",
    "\n",
    "# # Decoration\n",
    "# plt.ylim(50, 750)\n",
    "# xtick_location = df.index.tolist()[::12]\n",
    "# xtick_labels = [x[-4:] for x in df.date.tolist()[::12]]\n",
    "# plt.xticks(ticks=xtick_location, labels=xtick_labels, rotation=0, fontsize=12, horizontalalignment='center', alpha=.7)\n",
    "# plt.yticks(fontsize=12, alpha=.7)\n",
    "# plt.title(\"Air Passengers Traffic (1949 - 1969)\", fontsize=22)\n",
    "# plt.grid(axis='both', alpha=.3)\n",
    "# plt.show()"
   ]
  },
  {
   "cell_type": "markdown",
   "metadata": {},
   "source": [
    "## Нормализация данных (z-score)"
   ]
  },
  {
   "cell_type": "code",
   "execution_count": 213,
   "metadata": {},
   "outputs": [],
   "source": [
    "from sklearn.preprocessing import StandardScaler as scaler\n",
    "data.sample(frac=1)\n",
    "y = data['C6H6(GT)']\n",
    "data.drop('C6H6(GT)', axis=1, inplace = True)\n",
    "sc = scaler()\n",
    "c = data.columns\n",
    "data = pd.DataFrame(sc.fit_transform(data, y))\n",
    "data.columns = c"
   ]
  },
  {
   "cell_type": "code",
   "execution_count": 214,
   "metadata": {},
   "outputs": [
    {
     "data": {
      "text/html": [
       "<div>\n",
       "<style scoped>\n",
       "    .dataframe tbody tr th:only-of-type {\n",
       "        vertical-align: middle;\n",
       "    }\n",
       "\n",
       "    .dataframe tbody tr th {\n",
       "        vertical-align: top;\n",
       "    }\n",
       "\n",
       "    .dataframe thead th {\n",
       "        text-align: right;\n",
       "    }\n",
       "</style>\n",
       "<table border=\"1\" class=\"dataframe\">\n",
       "  <thead>\n",
       "    <tr style=\"text-align: right;\">\n",
       "      <th></th>\n",
       "      <th>CO(GT)</th>\n",
       "      <th>PT08.S1(CO)</th>\n",
       "      <th>PT08.S2(NMHC)</th>\n",
       "      <th>NOx(GT)</th>\n",
       "      <th>PT08.S3(NOx)</th>\n",
       "      <th>NO2(GT)</th>\n",
       "      <th>PT08.S4(NO2)</th>\n",
       "      <th>PT08.S5(O3)</th>\n",
       "      <th>T</th>\n",
       "      <th>RH</th>\n",
       "      <th>AH</th>\n",
       "    </tr>\n",
       "  </thead>\n",
       "  <tbody>\n",
       "    <tr>\n",
       "      <td>0</td>\n",
       "      <td>0.406839</td>\n",
       "      <td>1.199102</td>\n",
       "      <td>0.399045</td>\n",
       "      <td>-0.343350</td>\n",
       "      <td>0.860118</td>\n",
       "      <td>0.035074</td>\n",
       "      <td>0.681301</td>\n",
       "      <td>0.614165</td>\n",
       "      <td>-0.533950</td>\n",
       "      <td>-0.020638</td>\n",
       "      <td>-0.663157</td>\n",
       "    </tr>\n",
       "    <tr>\n",
       "      <td>1</td>\n",
       "      <td>-0.053138</td>\n",
       "      <td>0.886995</td>\n",
       "      <td>0.058920</td>\n",
       "      <td>-0.677214</td>\n",
       "      <td>1.317671</td>\n",
       "      <td>-0.451041</td>\n",
       "      <td>0.296392</td>\n",
       "      <td>-0.126815</td>\n",
       "      <td>-0.567915</td>\n",
       "      <td>-0.088497</td>\n",
       "      <td>-0.743065</td>\n",
       "    </tr>\n",
       "    <tr>\n",
       "      <td>2</td>\n",
       "      <td>0.100188</td>\n",
       "      <td>1.392586</td>\n",
       "      <td>0.000828</td>\n",
       "      <td>-0.528830</td>\n",
       "      <td>1.186246</td>\n",
       "      <td>0.058223</td>\n",
       "      <td>0.284115</td>\n",
       "      <td>0.128543</td>\n",
       "      <td>-0.726423</td>\n",
       "      <td>0.273897</td>\n",
       "      <td>-0.681767</td>\n",
       "    </tr>\n",
       "    <tr>\n",
       "      <td>3</td>\n",
       "      <td>0.100188</td>\n",
       "      <td>1.270507</td>\n",
       "      <td>0.034559</td>\n",
       "      <td>-0.311553</td>\n",
       "      <td>0.999331</td>\n",
       "      <td>0.243409</td>\n",
       "      <td>0.368608</td>\n",
       "      <td>0.452918</td>\n",
       "      <td>-0.828320</td>\n",
       "      <td>0.621852</td>\n",
       "      <td>-0.591440</td>\n",
       "    </tr>\n",
       "    <tr>\n",
       "      <td>4</td>\n",
       "      <td>-0.359789</td>\n",
       "      <td>0.794860</td>\n",
       "      <td>-0.388020</td>\n",
       "      <td>-0.528830</td>\n",
       "      <td>1.439361</td>\n",
       "      <td>0.104519</td>\n",
       "      <td>0.097799</td>\n",
       "      <td>0.218892</td>\n",
       "      <td>-0.811337</td>\n",
       "      <td>0.597308</td>\n",
       "      <td>-0.586284</td>\n",
       "    </tr>\n",
       "  </tbody>\n",
       "</table>\n",
       "</div>"
      ],
      "text/plain": [
       "     CO(GT)  PT08.S1(CO)  PT08.S2(NMHC)   NOx(GT)  PT08.S3(NOx)   NO2(GT)  \\\n",
       "0  0.406839     1.199102       0.399045 -0.343350      0.860118  0.035074   \n",
       "1 -0.053138     0.886995       0.058920 -0.677214      1.317671 -0.451041   \n",
       "2  0.100188     1.392586       0.000828 -0.528830      1.186246  0.058223   \n",
       "3  0.100188     1.270507       0.034559 -0.311553      0.999331  0.243409   \n",
       "4 -0.359789     0.794860      -0.388020 -0.528830      1.439361  0.104519   \n",
       "\n",
       "   PT08.S4(NO2)  PT08.S5(O3)         T        RH        AH  \n",
       "0      0.681301     0.614165 -0.533950 -0.020638 -0.663157  \n",
       "1      0.296392    -0.126815 -0.567915 -0.088497 -0.743065  \n",
       "2      0.284115     0.128543 -0.726423  0.273897 -0.681767  \n",
       "3      0.368608     0.452918 -0.828320  0.621852 -0.591440  \n",
       "4      0.097799     0.218892 -0.811337  0.597308 -0.586284  "
      ]
     },
     "execution_count": 214,
     "metadata": {},
     "output_type": "execute_result"
    }
   ],
   "source": [
    "data.head()"
   ]
  },
  {
   "cell_type": "markdown",
   "metadata": {},
   "source": [
    "## Линейная регрессия"
   ]
  },
  {
   "cell_type": "markdown",
   "metadata": {},
   "source": [
    "Алгоритм ниже - линейная регрессия с минимизацией MSE, что не очень хорошо подходит к данному датафрейму.\n",
    "Написал так, потому что mae не может быть дифференцирована, градиентный спуск написан, через производные для MSE"
   ]
  },
  {
   "cell_type": "code",
   "execution_count": 242,
   "metadata": {},
   "outputs": [],
   "source": [
    "from sklearn.metrics import mean_squared_error as mse\n",
    "\n",
    "def lin_reg(data, target, error = mae, eps=0.05, k = 3):\n",
    "    data['b'] = 1\n",
    "    data = data.to_numpy()\n",
    "    target = target.to_numpy()\n",
    "    weights = np.zeros(data.shape[1])\n",
    "    er = 0\n",
    "    new_target = np.dot(data, weights)\n",
    "    new_er = error(new_target, target)\n",
    "    t = 1\n",
    "    while abs(new_er - er) > eps:\n",
    "        grad = np.zeros(data.shape[1])\n",
    "        for i in range(len(data)):\n",
    "            dif = sum(data[i] * weights) - target[i]\n",
    "            for j in range(data.shape[1]):\n",
    "                grad[j] += dif * data[i][j] * 2 / data.shape[0]\n",
    "                \n",
    "        for j in range(len(weights)):\n",
    "            weights[j] -= k / t  * grad[j]\n",
    "        new_target = np.dot(data, weights)\n",
    "        er = new_er\n",
    "        new_er = error(new_target, target)\n",
    "        t += 1\n",
    "    return weights\n",
    "\n",
    "\n",
    "\n",
    "def mape(y_pred, y_true): \n",
    "    y_true, y_pred = np.array(y_true), np.array(y_pred)\n",
    "    return np.mean(np.abs((y_true - y_pred) / y_true)) * 100"
   ]
  },
  {
   "cell_type": "markdown",
   "metadata": {},
   "source": [
    "Так как в данном случае мы не используем алгоритмы для анализа временных рядов, данные лучше перемешать для повышения точности алгоритма"
   ]
  },
  {
   "cell_type": "code",
   "execution_count": 216,
   "metadata": {},
   "outputs": [],
   "source": [
    "from sklearn.model_selection import train_test_split\n",
    "x_train, x_valid, y_train, y_valid = train_test_split(data, y)"
   ]
  },
  {
   "cell_type": "code",
   "execution_count": 222,
   "metadata": {},
   "outputs": [
    {
     "name": "stdout",
     "output_type": "stream",
     "text": [
      "Линейная регрессия (ручная функция) mae 0.8567770411325524\n",
      "Линейная регрессия (ручная функция) mape 23.67608003012306\n"
     ]
    },
    {
     "data": {
      "text/html": [
       "<div>\n",
       "<style scoped>\n",
       "    .dataframe tbody tr th:only-of-type {\n",
       "        vertical-align: middle;\n",
       "    }\n",
       "\n",
       "    .dataframe tbody tr th {\n",
       "        vertical-align: top;\n",
       "    }\n",
       "\n",
       "    .dataframe thead th {\n",
       "        text-align: right;\n",
       "    }\n",
       "</style>\n",
       "<table border=\"1\" class=\"dataframe\">\n",
       "  <thead>\n",
       "    <tr style=\"text-align: right;\">\n",
       "      <th></th>\n",
       "      <th>0</th>\n",
       "    </tr>\n",
       "  </thead>\n",
       "  <tbody>\n",
       "    <tr>\n",
       "      <td>0.488728</td>\n",
       "      <td>CO(GT)</td>\n",
       "    </tr>\n",
       "    <tr>\n",
       "      <td>0.214517</td>\n",
       "      <td>PT08.S1(CO)</td>\n",
       "    </tr>\n",
       "    <tr>\n",
       "      <td>5.626073</td>\n",
       "      <td>PT08.S2(NMHC)</td>\n",
       "    </tr>\n",
       "    <tr>\n",
       "      <td>0.898522</td>\n",
       "      <td>NOx(GT)</td>\n",
       "    </tr>\n",
       "    <tr>\n",
       "      <td>0.465924</td>\n",
       "      <td>PT08.S3(NOx)</td>\n",
       "    </tr>\n",
       "    <tr>\n",
       "      <td>-0.530527</td>\n",
       "      <td>NO2(GT)</td>\n",
       "    </tr>\n",
       "    <tr>\n",
       "      <td>1.301615</td>\n",
       "      <td>PT08.S4(NO2)</td>\n",
       "    </tr>\n",
       "    <tr>\n",
       "      <td>0.276407</td>\n",
       "      <td>PT08.S5(O3)</td>\n",
       "    </tr>\n",
       "    <tr>\n",
       "      <td>-0.407179</td>\n",
       "      <td>T</td>\n",
       "    </tr>\n",
       "    <tr>\n",
       "      <td>-0.368136</td>\n",
       "      <td>RH</td>\n",
       "    </tr>\n",
       "    <tr>\n",
       "      <td>-0.285481</td>\n",
       "      <td>AH</td>\n",
       "    </tr>\n",
       "    <tr>\n",
       "      <td>10.077333</td>\n",
       "      <td>b</td>\n",
       "    </tr>\n",
       "  </tbody>\n",
       "</table>\n",
       "</div>"
      ],
      "text/plain": [
       "                        0\n",
       " 0.488728          CO(GT)\n",
       " 0.214517     PT08.S1(CO)\n",
       " 5.626073   PT08.S2(NMHC)\n",
       " 0.898522         NOx(GT)\n",
       " 0.465924    PT08.S3(NOx)\n",
       "-0.530527         NO2(GT)\n",
       " 1.301615    PT08.S4(NO2)\n",
       " 0.276407     PT08.S5(O3)\n",
       "-0.407179               T\n",
       "-0.368136              RH\n",
       "-0.285481              AH\n",
       " 10.077333              b"
      ]
     },
     "execution_count": 222,
     "metadata": {},
     "output_type": "execute_result"
    }
   ],
   "source": [
    "from sklearn.metrics import mean_absolute_error as mae\n",
    "#from sklearn.metrics import mean_absolute_percentage_error as mape\n",
    "from sklearn.linear_model import LinearRegression\n",
    "w = lin_reg(x_train, y_train)\n",
    "tmp = x_valid\n",
    "tmp['b'] = 1\n",
    "print('Линейная регрессия (ручная функция) mae', mae(np.dot(tmp, w), y_valid))\n",
    "print('Линейная регрессия (ручная функция) mape', mape(np.dot(tmp, w), y_valid))\n",
    "pd.DataFrame(tmp.columns, w)"
   ]
  },
  {
   "cell_type": "code",
   "execution_count": 223,
   "metadata": {},
   "outputs": [
    {
     "name": "stdout",
     "output_type": "stream",
     "text": [
      "Лин. рег, sklearn, mae 0.8369776525271354\n",
      "Линейная регрессия sklearn, mape 22.425572254440194\n"
     ]
    },
    {
     "data": {
      "text/html": [
       "<div>\n",
       "<style scoped>\n",
       "    .dataframe tbody tr th:only-of-type {\n",
       "        vertical-align: middle;\n",
       "    }\n",
       "\n",
       "    .dataframe tbody tr th {\n",
       "        vertical-align: top;\n",
       "    }\n",
       "\n",
       "    .dataframe thead th {\n",
       "        text-align: right;\n",
       "    }\n",
       "</style>\n",
       "<table border=\"1\" class=\"dataframe\">\n",
       "  <thead>\n",
       "    <tr style=\"text-align: right;\">\n",
       "      <th></th>\n",
       "      <th>0</th>\n",
       "    </tr>\n",
       "  </thead>\n",
       "  <tbody>\n",
       "    <tr>\n",
       "      <td>0.424941</td>\n",
       "      <td>CO(GT)</td>\n",
       "    </tr>\n",
       "    <tr>\n",
       "      <td>0.219674</td>\n",
       "      <td>PT08.S1(CO)</td>\n",
       "    </tr>\n",
       "    <tr>\n",
       "      <td>7.558746</td>\n",
       "      <td>PT08.S2(NMHC)</td>\n",
       "    </tr>\n",
       "    <tr>\n",
       "      <td>0.476849</td>\n",
       "      <td>NOx(GT)</td>\n",
       "    </tr>\n",
       "    <tr>\n",
       "      <td>1.002981</td>\n",
       "      <td>PT08.S3(NOx)</td>\n",
       "    </tr>\n",
       "    <tr>\n",
       "      <td>-0.377503</td>\n",
       "      <td>NO2(GT)</td>\n",
       "    </tr>\n",
       "    <tr>\n",
       "      <td>0.089034</td>\n",
       "      <td>PT08.S4(NO2)</td>\n",
       "    </tr>\n",
       "    <tr>\n",
       "      <td>-0.103741</td>\n",
       "      <td>PT08.S5(O3)</td>\n",
       "    </tr>\n",
       "    <tr>\n",
       "      <td>-0.826892</td>\n",
       "      <td>T</td>\n",
       "    </tr>\n",
       "    <tr>\n",
       "      <td>-0.445954</td>\n",
       "      <td>RH</td>\n",
       "    </tr>\n",
       "    <tr>\n",
       "      <td>0.557948</td>\n",
       "      <td>AH</td>\n",
       "    </tr>\n",
       "    <tr>\n",
       "      <td>0.000000</td>\n",
       "      <td>b</td>\n",
       "    </tr>\n",
       "  </tbody>\n",
       "</table>\n",
       "</div>"
      ],
      "text/plain": [
       "                       0\n",
       " 0.424941         CO(GT)\n",
       " 0.219674    PT08.S1(CO)\n",
       " 7.558746  PT08.S2(NMHC)\n",
       " 0.476849        NOx(GT)\n",
       " 1.002981   PT08.S3(NOx)\n",
       "-0.377503        NO2(GT)\n",
       " 0.089034   PT08.S4(NO2)\n",
       "-0.103741    PT08.S5(O3)\n",
       "-0.826892              T\n",
       "-0.445954             RH\n",
       " 0.557948             AH\n",
       " 0.000000              b"
      ]
     },
     "execution_count": 223,
     "metadata": {},
     "output_type": "execute_result"
    }
   ],
   "source": [
    "model = LinearRegression()\n",
    "model.fit(x_train, y_train)\n",
    "print('Лин. рег, sklearn, mae', mae(model.predict(x_valid), y_valid))\n",
    "print('Линейная регрессия sklearn, mape', mape(model.predict(x_valid), y_valid))\n",
    "t = list(data.columns)\n",
    "t.append('b')\n",
    "pd.DataFrame(t, model.coef_)"
   ]
  },
  {
   "cell_type": "markdown",
   "metadata": {},
   "source": [
    "Алгоритм из библиотеки точнее на 1/100, скорее всего, потому что использует не градиентный спуск, как метод оптимизации, а аналитическое решение регрессии."
   ]
  },
  {
   "cell_type": "code",
   "execution_count": 219,
   "metadata": {},
   "outputs": [
    {
     "data": {
      "text/html": [
       "<div>\n",
       "<style scoped>\n",
       "    .dataframe tbody tr th:only-of-type {\n",
       "        vertical-align: middle;\n",
       "    }\n",
       "\n",
       "    .dataframe tbody tr th {\n",
       "        vertical-align: top;\n",
       "    }\n",
       "\n",
       "    .dataframe thead th {\n",
       "        text-align: right;\n",
       "    }\n",
       "</style>\n",
       "<table border=\"1\" class=\"dataframe\">\n",
       "  <thead>\n",
       "    <tr style=\"text-align: right;\">\n",
       "      <th></th>\n",
       "      <th>CO(GT)</th>\n",
       "      <th>PT08.S1(CO)</th>\n",
       "      <th>PT08.S2(NMHC)</th>\n",
       "      <th>NOx(GT)</th>\n",
       "      <th>PT08.S3(NOx)</th>\n",
       "      <th>NO2(GT)</th>\n",
       "      <th>PT08.S4(NO2)</th>\n",
       "      <th>PT08.S5(O3)</th>\n",
       "      <th>T</th>\n",
       "      <th>RH</th>\n",
       "      <th>AH</th>\n",
       "    </tr>\n",
       "  </thead>\n",
       "  <tbody>\n",
       "    <tr>\n",
       "      <td>0</td>\n",
       "      <td>0.406839</td>\n",
       "      <td>1.199102</td>\n",
       "      <td>0.399045</td>\n",
       "      <td>-0.343350</td>\n",
       "      <td>0.860118</td>\n",
       "      <td>0.035074</td>\n",
       "      <td>0.681301</td>\n",
       "      <td>0.614165</td>\n",
       "      <td>-0.533950</td>\n",
       "      <td>-0.020638</td>\n",
       "      <td>-0.663157</td>\n",
       "    </tr>\n",
       "    <tr>\n",
       "      <td>1</td>\n",
       "      <td>-0.053138</td>\n",
       "      <td>0.886995</td>\n",
       "      <td>0.058920</td>\n",
       "      <td>-0.677214</td>\n",
       "      <td>1.317671</td>\n",
       "      <td>-0.451041</td>\n",
       "      <td>0.296392</td>\n",
       "      <td>-0.126815</td>\n",
       "      <td>-0.567915</td>\n",
       "      <td>-0.088497</td>\n",
       "      <td>-0.743065</td>\n",
       "    </tr>\n",
       "    <tr>\n",
       "      <td>2</td>\n",
       "      <td>0.100188</td>\n",
       "      <td>1.392586</td>\n",
       "      <td>0.000828</td>\n",
       "      <td>-0.528830</td>\n",
       "      <td>1.186246</td>\n",
       "      <td>0.058223</td>\n",
       "      <td>0.284115</td>\n",
       "      <td>0.128543</td>\n",
       "      <td>-0.726423</td>\n",
       "      <td>0.273897</td>\n",
       "      <td>-0.681767</td>\n",
       "    </tr>\n",
       "    <tr>\n",
       "      <td>3</td>\n",
       "      <td>0.100188</td>\n",
       "      <td>1.270507</td>\n",
       "      <td>0.034559</td>\n",
       "      <td>-0.311553</td>\n",
       "      <td>0.999331</td>\n",
       "      <td>0.243409</td>\n",
       "      <td>0.368608</td>\n",
       "      <td>0.452918</td>\n",
       "      <td>-0.828320</td>\n",
       "      <td>0.621852</td>\n",
       "      <td>-0.591440</td>\n",
       "    </tr>\n",
       "    <tr>\n",
       "      <td>4</td>\n",
       "      <td>-0.359789</td>\n",
       "      <td>0.794860</td>\n",
       "      <td>-0.388020</td>\n",
       "      <td>-0.528830</td>\n",
       "      <td>1.439361</td>\n",
       "      <td>0.104519</td>\n",
       "      <td>0.097799</td>\n",
       "      <td>0.218892</td>\n",
       "      <td>-0.811337</td>\n",
       "      <td>0.597308</td>\n",
       "      <td>-0.586284</td>\n",
       "    </tr>\n",
       "  </tbody>\n",
       "</table>\n",
       "</div>"
      ],
      "text/plain": [
       "     CO(GT)  PT08.S1(CO)  PT08.S2(NMHC)   NOx(GT)  PT08.S3(NOx)   NO2(GT)  \\\n",
       "0  0.406839     1.199102       0.399045 -0.343350      0.860118  0.035074   \n",
       "1 -0.053138     0.886995       0.058920 -0.677214      1.317671 -0.451041   \n",
       "2  0.100188     1.392586       0.000828 -0.528830      1.186246  0.058223   \n",
       "3  0.100188     1.270507       0.034559 -0.311553      0.999331  0.243409   \n",
       "4 -0.359789     0.794860      -0.388020 -0.528830      1.439361  0.104519   \n",
       "\n",
       "   PT08.S4(NO2)  PT08.S5(O3)         T        RH        AH  \n",
       "0      0.681301     0.614165 -0.533950 -0.020638 -0.663157  \n",
       "1      0.296392    -0.126815 -0.567915 -0.088497 -0.743065  \n",
       "2      0.284115     0.128543 -0.726423  0.273897 -0.681767  \n",
       "3      0.368608     0.452918 -0.828320  0.621852 -0.591440  \n",
       "4      0.097799     0.218892 -0.811337  0.597308 -0.586284  "
      ]
     },
     "execution_count": 219,
     "metadata": {},
     "output_type": "execute_result"
    }
   ],
   "source": [
    "data.head()"
   ]
  },
  {
   "cell_type": "code",
   "execution_count": 220,
   "metadata": {},
   "outputs": [
    {
     "data": {
      "image/png": "[encoded data removed]",
      "text/plain": [
       "<Figure size 1008x720 with 2 Axes>"
      ]
     },
     "metadata": {
      "needs_background": "light"
     },
     "output_type": "display_data"
    }
   ],
   "source": [
    "plt.figure(figsize=(14,10))\n",
    "ax = sns.heatmap(data.corr(), xticklabels=data.corr().columns, yticklabels=data.corr().columns, center=0, annot=True)\n",
    "i, k = ax.get_ylim()\n",
    "ax.set_ylim(i+0.5, k-0.5)\n",
    "plt.title('HeatMap корреляции', fontsize=20)\n",
    "plt.xticks(fontsize=8)\n",
    "plt.yticks(fontsize=8)\n",
    "plt.show()"
   ]
  },
  {
   "cell_type": "markdown",
   "metadata": {},
   "source": [
    "Для улучшения базовой модели можно удалить коррелирующие строки, проверка через критерий Фишера. Для след. переменных (CO, PT08.S1), (CO, PT08.S2)<br>\n",
    "H0 - корреляции нет\n",
    "H1 - корреляция есть"
   ]
  },
  {
   "cell_type": "code",
   "execution_count": 163,
   "metadata": {},
   "outputs": [
    {
     "data": {
      "text/plain": [
       "<matplotlib.axes._subplots.AxesSubplot at 0x1b8989937c8>"
      ]
     },
     "execution_count": 163,
     "metadata": {},
     "output_type": "execute_result"
    },
    {
     "data": {
      "image/png": "[encoded data removed]",
      "text/plain": [
       "<Figure size 432x288 with 1 Axes>"
      ]
     },
     "metadata": {
      "needs_background": "light"
     },
     "output_type": "display_data"
    }
   ],
   "source": [
    "sns.scatterplot(data['CO(GT)'], data['PT08.S1(CO)']) "
   ]
  },
  {
   "cell_type": "code",
   "execution_count": 177,
   "metadata": {},
   "outputs": [],
   "source": [
    "# Критерий Фишера\n",
    "def f1(x, y, a):\n",
    "    x_m = np.mean(x)\n",
    "    y_m = np.mean(y)\n",
    "    r = sum((x-x_m)*(y-y_m))\n",
    "    r /= sum((x-x_m) ** 2) ** 0.5\n",
    "    r /= sum((y-y_m) ** 2) ** 0.5\n",
    "    t = r/(1-r**2)**0.5 * (len(x)-2)**0.5\n",
    "    t1 = stats.t.ppf(1 - a, len(x)-2)\n",
    "    if abs(t) > t1:\n",
    "        return 'Отвергаем H0'\n",
    "    else:\n",
    "        return 'Не отвергаем H0'"
   ]
  },
  {
   "cell_type": "code",
   "execution_count": 186,
   "metadata": {},
   "outputs": [
    {
     "name": "stdout",
     "output_type": "stream",
     "text": [
      "Отвергаем H0\n",
      "Отвергаем H0\n"
     ]
    }
   ],
   "source": [
    "print(f1(data['CO(GT)'], data['PT08.S1(CO)'], 0.95))\n",
    "print(f1(data['CO(GT)'], data['PT08.S2(NMHC)'], 0.95))"
   ]
  },
  {
   "cell_type": "markdown",
   "metadata": {},
   "source": [
    "Удаляем коррелирующие строки"
   ]
  },
  {
   "cell_type": "code",
   "execution_count": 230,
   "metadata": {},
   "outputs": [],
   "source": [
    "new_data = data.drop('PT08.S2(NMHC)', axis = 1)"
   ]
  },
  {
   "cell_type": "code",
   "execution_count": 231,
   "metadata": {},
   "outputs": [
    {
     "name": "stdout",
     "output_type": "stream",
     "text": [
      "Лин. рег, sklearn, mae 1.4024572499135088\n",
      "Линейная регрессия sklearn, mape 30.90960782601687\n"
     ]
    },
    {
     "data": {
      "text/html": [
       "<div>\n",
       "<style scoped>\n",
       "    .dataframe tbody tr th:only-of-type {\n",
       "        vertical-align: middle;\n",
       "    }\n",
       "\n",
       "    .dataframe tbody tr th {\n",
       "        vertical-align: top;\n",
       "    }\n",
       "\n",
       "    .dataframe thead th {\n",
       "        text-align: right;\n",
       "    }\n",
       "</style>\n",
       "<table border=\"1\" class=\"dataframe\">\n",
       "  <thead>\n",
       "    <tr style=\"text-align: right;\">\n",
       "      <th></th>\n",
       "      <th>0</th>\n",
       "    </tr>\n",
       "  </thead>\n",
       "  <tbody>\n",
       "    <tr>\n",
       "      <td>0</td>\n",
       "      <td>0.775092</td>\n",
       "    </tr>\n",
       "    <tr>\n",
       "      <td>1</td>\n",
       "      <td>0.809467</td>\n",
       "    </tr>\n",
       "    <tr>\n",
       "      <td>2</td>\n",
       "      <td>1.985412</td>\n",
       "    </tr>\n",
       "    <tr>\n",
       "      <td>3</td>\n",
       "      <td>-0.734891</td>\n",
       "    </tr>\n",
       "    <tr>\n",
       "      <td>4</td>\n",
       "      <td>-0.702493</td>\n",
       "    </tr>\n",
       "    <tr>\n",
       "      <td>5</td>\n",
       "      <td>4.425563</td>\n",
       "    </tr>\n",
       "    <tr>\n",
       "      <td>6</td>\n",
       "      <td>1.110439</td>\n",
       "    </tr>\n",
       "    <tr>\n",
       "      <td>7</td>\n",
       "      <td>-0.994069</td>\n",
       "    </tr>\n",
       "    <tr>\n",
       "      <td>8</td>\n",
       "      <td>-1.507151</td>\n",
       "    </tr>\n",
       "    <tr>\n",
       "      <td>9</td>\n",
       "      <td>-0.890509</td>\n",
       "    </tr>\n",
       "  </tbody>\n",
       "</table>\n",
       "</div>"
      ],
      "text/plain": [
       "          0\n",
       "0  0.775092\n",
       "1  0.809467\n",
       "2  1.985412\n",
       "3 -0.734891\n",
       "4 -0.702493\n",
       "5  4.425563\n",
       "6  1.110439\n",
       "7 -0.994069\n",
       "8 -1.507151\n",
       "9 -0.890509"
      ]
     },
     "execution_count": 231,
     "metadata": {},
     "output_type": "execute_result"
    }
   ],
   "source": [
    "x_train, x_valid, y_train, y_valid = train_test_split(new_data, y)\n",
    "model = LinearRegression()\n",
    "model.fit(x_train, y_train)\n",
    "print('Лин. рег, sklearn, mae', mae(model.predict(x_valid), y_valid))\n",
    "print('Линейная регрессия sklearn, mape', mape(model.predict(x_valid), y_valid))\n",
    "t = list(data.columns)\n",
    "pd.DataFrame(model.coef_)"
   ]
  },
  {
   "cell_type": "markdown",
   "metadata": {},
   "source": [
    "При удалении первого параметра ошибки незначительно понижаются, а при удалении второго повышаются. Разница не настолько велика, чтобы делать выводы о влиянии параметра на результат работы модели."
   ]
  },
  {
   "cell_type": "markdown",
   "metadata": {},
   "source": [
    "Подбор гиперпараметров для модели с градиентным спуском (Шаг и точность)"
   ]
  },
  {
   "cell_type": "code",
   "execution_count": 236,
   "metadata": {},
   "outputs": [
    {
     "name": "stdout",
     "output_type": "stream",
     "text": [
      "k =  1 , mae 1.0381909433169285\n",
      "mape 25.14444863488905\n",
      "k =  2 , mae 0.8982523013891718\n",
      "mape 24.02992140611951\n",
      "k =  3 , mae 0.8537149575414313\n",
      "mape 23.625679542019114\n",
      "k =  4 , mae 0.8369923249539523\n",
      "mape 23.207389687906073\n",
      "k =  5 , mae 2.1644725032579\n",
      "mape 47.931518305431084\n"
     ]
    },
    {
     "ename": "KeyboardInterrupt",
     "evalue": "",
     "output_type": "error",
     "traceback": [
      "\u001b[1;31m---------------------------------------------------------------------------\u001b[0m",
      "\u001b[1;31mKeyboardInterrupt\u001b[0m                         Traceback (most recent call last)",
      "\u001b[1;32m<ipython-input-236-075cd6d24329>\u001b[0m in \u001b[0;36m<module>\u001b[1;34m\u001b[0m\n\u001b[0;32m      4\u001b[0m \u001b[1;32mfrom\u001b[0m \u001b[0msklearn\u001b[0m\u001b[1;33m.\u001b[0m\u001b[0mlinear_model\u001b[0m \u001b[1;32mimport\u001b[0m \u001b[0mLinearRegression\u001b[0m\u001b[1;33m\u001b[0m\u001b[1;33m\u001b[0m\u001b[0m\n\u001b[0;32m      5\u001b[0m \u001b[1;32mfor\u001b[0m \u001b[0mi\u001b[0m \u001b[1;32min\u001b[0m \u001b[0mrange\u001b[0m\u001b[1;33m(\u001b[0m\u001b[1;36m1\u001b[0m\u001b[1;33m,\u001b[0m \u001b[1;36m10\u001b[0m\u001b[1;33m)\u001b[0m\u001b[1;33m:\u001b[0m\u001b[1;33m\u001b[0m\u001b[1;33m\u001b[0m\u001b[0m\n\u001b[1;32m----> 6\u001b[1;33m     \u001b[0mw\u001b[0m \u001b[1;33m=\u001b[0m \u001b[0mlin_reg\u001b[0m\u001b[1;33m(\u001b[0m\u001b[0mx_train\u001b[0m\u001b[1;33m,\u001b[0m \u001b[0my_train\u001b[0m\u001b[1;33m,\u001b[0m \u001b[0meps\u001b[0m\u001b[1;33m=\u001b[0m\u001b[1;36m0.01\u001b[0m\u001b[1;33m,\u001b[0m \u001b[0mk\u001b[0m \u001b[1;33m=\u001b[0m \u001b[0mi\u001b[0m\u001b[1;33m)\u001b[0m\u001b[1;33m\u001b[0m\u001b[1;33m\u001b[0m\u001b[0m\n\u001b[0m\u001b[0;32m      7\u001b[0m     \u001b[0mtmp\u001b[0m \u001b[1;33m=\u001b[0m \u001b[0mx_valid\u001b[0m\u001b[1;33m\u001b[0m\u001b[1;33m\u001b[0m\u001b[0m\n\u001b[0;32m      8\u001b[0m     \u001b[0mtmp\u001b[0m\u001b[1;33m[\u001b[0m\u001b[1;34m'b'\u001b[0m\u001b[1;33m]\u001b[0m \u001b[1;33m=\u001b[0m \u001b[1;36m1\u001b[0m\u001b[1;33m\u001b[0m\u001b[1;33m\u001b[0m\u001b[0m\n",
      "\u001b[1;32m<ipython-input-221-de3e1854ac1d>\u001b[0m in \u001b[0;36mlin_reg\u001b[1;34m(data, target, error, eps, k)\u001b[0m\n\u001b[0;32m     13\u001b[0m         \u001b[0mgrad\u001b[0m \u001b[1;33m=\u001b[0m \u001b[0mnp\u001b[0m\u001b[1;33m.\u001b[0m\u001b[0mzeros\u001b[0m\u001b[1;33m(\u001b[0m\u001b[0mdata\u001b[0m\u001b[1;33m.\u001b[0m\u001b[0mshape\u001b[0m\u001b[1;33m[\u001b[0m\u001b[1;36m1\u001b[0m\u001b[1;33m]\u001b[0m\u001b[1;33m)\u001b[0m\u001b[1;33m\u001b[0m\u001b[1;33m\u001b[0m\u001b[0m\n\u001b[0;32m     14\u001b[0m         \u001b[1;32mfor\u001b[0m \u001b[0mi\u001b[0m \u001b[1;32min\u001b[0m \u001b[0mrange\u001b[0m\u001b[1;33m(\u001b[0m\u001b[0mlen\u001b[0m\u001b[1;33m(\u001b[0m\u001b[0mdata\u001b[0m\u001b[1;33m)\u001b[0m\u001b[1;33m)\u001b[0m\u001b[1;33m:\u001b[0m\u001b[1;33m\u001b[0m\u001b[1;33m\u001b[0m\u001b[0m\n\u001b[1;32m---> 15\u001b[1;33m             \u001b[0mdif\u001b[0m \u001b[1;33m=\u001b[0m \u001b[0msum\u001b[0m\u001b[1;33m(\u001b[0m\u001b[0mdata\u001b[0m\u001b[1;33m[\u001b[0m\u001b[0mi\u001b[0m\u001b[1;33m]\u001b[0m \u001b[1;33m*\u001b[0m \u001b[0mweights\u001b[0m\u001b[1;33m)\u001b[0m \u001b[1;33m-\u001b[0m \u001b[0mtarget\u001b[0m\u001b[1;33m[\u001b[0m\u001b[0mi\u001b[0m\u001b[1;33m]\u001b[0m\u001b[1;33m\u001b[0m\u001b[1;33m\u001b[0m\u001b[0m\n\u001b[0m\u001b[0;32m     16\u001b[0m             \u001b[1;32mfor\u001b[0m \u001b[0mj\u001b[0m \u001b[1;32min\u001b[0m \u001b[0mrange\u001b[0m\u001b[1;33m(\u001b[0m\u001b[0mdata\u001b[0m\u001b[1;33m.\u001b[0m\u001b[0mshape\u001b[0m\u001b[1;33m[\u001b[0m\u001b[1;36m1\u001b[0m\u001b[1;33m]\u001b[0m\u001b[1;33m)\u001b[0m\u001b[1;33m:\u001b[0m\u001b[1;33m\u001b[0m\u001b[1;33m\u001b[0m\u001b[0m\n\u001b[0;32m     17\u001b[0m                 \u001b[0mgrad\u001b[0m\u001b[1;33m[\u001b[0m\u001b[0mj\u001b[0m\u001b[1;33m]\u001b[0m \u001b[1;33m+=\u001b[0m \u001b[0mdif\u001b[0m \u001b[1;33m*\u001b[0m \u001b[0mdata\u001b[0m\u001b[1;33m[\u001b[0m\u001b[0mi\u001b[0m\u001b[1;33m]\u001b[0m\u001b[1;33m[\u001b[0m\u001b[0mj\u001b[0m\u001b[1;33m]\u001b[0m \u001b[1;33m*\u001b[0m \u001b[1;36m2\u001b[0m \u001b[1;33m/\u001b[0m \u001b[0mdata\u001b[0m\u001b[1;33m.\u001b[0m\u001b[0mshape\u001b[0m\u001b[1;33m[\u001b[0m\u001b[1;36m0\u001b[0m\u001b[1;33m]\u001b[0m\u001b[1;33m\u001b[0m\u001b[1;33m\u001b[0m\u001b[0m\n",
      "\u001b[1;31mKeyboardInterrupt\u001b[0m: "
     ]
    }
   ],
   "source": [
    "x_train, x_valid, y_train, y_valid = train_test_split(data, y)\n",
    "from sklearn.metrics import mean_absolute_error as mae\n",
    "#from sklearn.metrics import mean_absolute_percentage_error as mape\n",
    "from sklearn.linear_model import LinearRegression\n",
    "for i in range(1, 6):\n",
    "    w = lin_reg(x_train, y_train, eps=0.01, k = i)\n",
    "    tmp = x_valid\n",
    "    tmp['b'] = 1\n",
    "    print('k = ', str(i), ', mae', mae(np.dot(tmp, w), y_valid))\n",
    "    print('mape', mape(np.dot(tmp, w), y_valid))\n"
   ]
  },
  {
   "cell_type": "markdown",
   "metadata": {},
   "source": [
    "При шаге равном 6/t, где t - номер шага ошибка становится большой. Оптимальный выбор k = 4"
   ]
  },
  {
   "cell_type": "code",
   "execution_count": 241,
   "metadata": {},
   "outputs": [
    {
     "name": "stdout",
     "output_type": "stream",
     "text": [
      "eps =  0.002 , mae 0.8288288999477696\n",
      "mape 24.772699028233536\n",
      "eps =  0.004 , mae 0.8288288999477696\n",
      "mape 24.772699028233536\n",
      "eps =  0.006 , mae 0.8288288999477696\n",
      "mape 24.772699028233536\n",
      "eps =  0.008 , mae 0.8288288999477696\n",
      "mape 24.772699028233536\n",
      "eps =  0.01 , mae 0.8288630105254754\n",
      "mape 24.76549025105866\n"
     ]
    }
   ],
   "source": [
    "x_train, x_valid, y_train, y_valid = train_test_split(data, y)\n",
    "from sklearn.metrics import mean_absolute_error as mae\n",
    "#from sklearn.metrics import mean_absolute_percentage_error as mape\n",
    "from sklearn.linear_model import LinearRegression\n",
    "for i in range(1, 6):\n",
    "    w = lin_reg(x_train, y_train, eps=0.002 * i, k = 4)\n",
    "    tmp = x_valid\n",
    "    tmp['b'] = 1\n",
    "    print('eps = ', str(i * 0.002), ', mae', mae(np.dot(tmp, w), y_valid))\n",
    "    print('mape', mape(np.dot(tmp, w), y_valid))\n"
   ]
  },
  {
   "cell_type": "markdown",
   "metadata": {},
   "source": [
    "Оптимальная точность получается при eps >= 0.01"
   ]
  },
  {
   "cell_type": "code",
   "execution_count": 254,
   "metadata": {},
   "outputs": [],
   "source": [
    "def sgd_reg(data, target, error = mse, eps=0.01, k = 4):\n",
    "    data['b'] = 1\n",
    "    data = data.to_numpy()\n",
    "    target = target.to_numpy()\n",
    "    weights = np.zeros(data.shape[1])\n",
    "    er = 0\n",
    "    new_target = np.dot(data, weights)\n",
    "    new_er = error(new_target, target)\n",
    "    i = 0\n",
    "    for i in range(data.s):\n",
    "        grad = np.zeros(data.shape[1])\n",
    "        dif = sum(data[i] * weights) - target[i]\n",
    "        for j in range(data.shape[1]):\n",
    "                grad[j] += dif * data[i][j] * 2 / data.shape[0]\n",
    "        weights[j] -= k / (i + 1)  * grad[j]\n",
    "        new_target = np.dot(data, weights)\n",
    "        er = new_er\n",
    "        new_er = error(new_target, target)\n",
    "    return weights\n",
    "        "
   ]
  },
  {
   "cell_type": "code",
   "execution_count": 255,
   "metadata": {},
   "outputs": [
    {
     "name": "stdout",
     "output_type": "stream",
     "text": [
      "1\n",
      "2\n",
      "3\n",
      "4\n",
      "5\n",
      "6\n"
     ]
    }
   ],
   "source": [
    "w = sgd_reg(x_train, y_train)"
   ]
  },
  {
   "cell_type": "code",
   "execution_count": 249,
   "metadata": {},
   "outputs": [
    {
     "name": "stdout",
     "output_type": "stream",
     "text": [
      "10.107962025093096\n"
     ]
    }
   ],
   "source": [
    "tmp = x_valid\n",
    "tmp['b'] = 1\n",
    "print(mae(np.dot(tmp, w), y_valid))"
   ]
  },
  {
   "cell_type": "code",
   "execution_count": null,
   "metadata": {},
   "outputs": [],
   "source": [
    "from sklearn.linear_model import SGDRegressor\n",
    "model = SGDRegressor(loss='huber')\n",
    "model.fit(x_train, y_train)\n",
    "print(mae())"
   ]
  }
 ],
 "metadata": {
  "kernelspec": {
   "display_name": "Python 3",
   "language": "python",
   "name": "python3"
  },
  "language_info": {
   "codemirror_mode": {
    "name": "ipython",
    "version": 3
   },
   "file_extension": ".py",
   "mimetype": "text/x-python",
   "name": "python",
   "nbconvert_exporter": "python",
   "pygments_lexer": "ipython3",
   "version": "3.7.4"
  }
 },
 "nbformat": 4,
 "nbformat_minor": 2
}
