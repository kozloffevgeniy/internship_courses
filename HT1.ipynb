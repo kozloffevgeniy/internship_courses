{
 "cells": [
  {
   "cell_type": "code",
   "execution_count": 1,
   "metadata": {},
   "outputs": [],
   "source": [
    "import pandas as pd\n",
    "import numpy as np\n",
    "from scipy import stats\n",
    "import matplotlib.pyplot as plt\n",
    "import seaborn as sns"
   ]
  },
  {
   "cell_type": "markdown",
   "metadata": {},
   "source": [
    "# Задание 1"
   ]
  },
  {
   "cell_type": "code",
   "execution_count": 2,
   "metadata": {},
   "outputs": [],
   "source": [
    "first_data = pd.read_csv('data.tsv', delimiter='\\t', index_col='School')"
   ]
  },
  {
   "cell_type": "markdown",
   "metadata": {},
   "source": [
    "## Data description\n",
    "\n",
    "<ul>\n",
    "    <li><b>School</b> - Contains the name of each school</li>\n",
    "    <li><b>School_Type</b> - Coded 'LibArts' for liberal arts and 'Univ' for university</li>\n",
    "    <li><b>SAT</b> - Median combined Math and Verbal SAT score of students</li>\n",
    "    <li><b>Acceptance</b> - % of applicants accepted</li>\n",
    "    <li><b>$/Student</b> - Money spent per student in dollars</li>\n",
    "    <li><b>Top 10%</b> - % of students in the top 10% of their h.s. graduating class</li>\n",
    "    <li><b>%PhD</b> - % of faculty at the institution that have PhD degrees</li>\n",
    "    <li><b>Grad%</b> - % of students at institution who eventually graduate</li>\n",
    "</ul>"
   ]
  },
  {
   "cell_type": "code",
   "execution_count": 3,
   "metadata": {},
   "outputs": [
    {
     "data": {
      "text/html": [
       "<div>\n",
       "<style scoped>\n",
       "    .dataframe tbody tr th:only-of-type {\n",
       "        vertical-align: middle;\n",
       "    }\n",
       "\n",
       "    .dataframe tbody tr th {\n",
       "        vertical-align: top;\n",
       "    }\n",
       "\n",
       "    .dataframe thead th {\n",
       "        text-align: right;\n",
       "    }\n",
       "</style>\n",
       "<table border=\"1\" class=\"dataframe\">\n",
       "  <thead>\n",
       "    <tr style=\"text-align: right;\">\n",
       "      <th></th>\n",
       "      <th>School_Type</th>\n",
       "      <th>SAT</th>\n",
       "      <th>Acceptance</th>\n",
       "      <th>$/Student</th>\n",
       "      <th>Top 10%</th>\n",
       "      <th>%PhD</th>\n",
       "      <th>Grad%</th>\n",
       "    </tr>\n",
       "    <tr>\n",
       "      <th>School</th>\n",
       "      <th></th>\n",
       "      <th></th>\n",
       "      <th></th>\n",
       "      <th></th>\n",
       "      <th></th>\n",
       "      <th></th>\n",
       "      <th></th>\n",
       "    </tr>\n",
       "  </thead>\n",
       "  <tbody>\n",
       "    <tr>\n",
       "      <td>Amherst</td>\n",
       "      <td>Lib Arts</td>\n",
       "      <td>1315</td>\n",
       "      <td>22</td>\n",
       "      <td>26636</td>\n",
       "      <td>85</td>\n",
       "      <td>81</td>\n",
       "      <td>93</td>\n",
       "    </tr>\n",
       "    <tr>\n",
       "      <td>Swarthmore</td>\n",
       "      <td>Lib Arts</td>\n",
       "      <td>1310</td>\n",
       "      <td>24</td>\n",
       "      <td>27487</td>\n",
       "      <td>78</td>\n",
       "      <td>93</td>\n",
       "      <td>88</td>\n",
       "    </tr>\n",
       "    <tr>\n",
       "      <td>Williams</td>\n",
       "      <td>Lib Arts</td>\n",
       "      <td>1336</td>\n",
       "      <td>28</td>\n",
       "      <td>23772</td>\n",
       "      <td>86</td>\n",
       "      <td>90</td>\n",
       "      <td>93</td>\n",
       "    </tr>\n",
       "    <tr>\n",
       "      <td>Bowdoin</td>\n",
       "      <td>Lib Arts</td>\n",
       "      <td>1300</td>\n",
       "      <td>24</td>\n",
       "      <td>25703</td>\n",
       "      <td>78</td>\n",
       "      <td>95</td>\n",
       "      <td>90</td>\n",
       "    </tr>\n",
       "    <tr>\n",
       "      <td>Wellesley</td>\n",
       "      <td>Lib Arts</td>\n",
       "      <td>1250</td>\n",
       "      <td>49</td>\n",
       "      <td>27879</td>\n",
       "      <td>76</td>\n",
       "      <td>91</td>\n",
       "      <td>86</td>\n",
       "    </tr>\n",
       "    <tr>\n",
       "      <td>Pomona</td>\n",
       "      <td>Lib Arts</td>\n",
       "      <td>1320</td>\n",
       "      <td>33</td>\n",
       "      <td>26668</td>\n",
       "      <td>79</td>\n",
       "      <td>98</td>\n",
       "      <td>80</td>\n",
       "    </tr>\n",
       "    <tr>\n",
       "      <td>Wesleyan (CT)</td>\n",
       "      <td>Lib Arts</td>\n",
       "      <td>1290</td>\n",
       "      <td>35</td>\n",
       "      <td>19948</td>\n",
       "      <td>73</td>\n",
       "      <td>87</td>\n",
       "      <td>91</td>\n",
       "    </tr>\n",
       "    <tr>\n",
       "      <td>Middlebury</td>\n",
       "      <td>Lib Arts</td>\n",
       "      <td>1255</td>\n",
       "      <td>25</td>\n",
       "      <td>24718</td>\n",
       "      <td>65</td>\n",
       "      <td>89</td>\n",
       "      <td>92</td>\n",
       "    </tr>\n",
       "    <tr>\n",
       "      <td>Smith</td>\n",
       "      <td>Lib Arts</td>\n",
       "      <td>1195</td>\n",
       "      <td>57</td>\n",
       "      <td>25271</td>\n",
       "      <td>65</td>\n",
       "      <td>90</td>\n",
       "      <td>87</td>\n",
       "    </tr>\n",
       "    <tr>\n",
       "      <td>Davidson</td>\n",
       "      <td>Lib Arts</td>\n",
       "      <td>1230</td>\n",
       "      <td>36</td>\n",
       "      <td>17721</td>\n",
       "      <td>77</td>\n",
       "      <td>94</td>\n",
       "      <td>89</td>\n",
       "    </tr>\n",
       "    <tr>\n",
       "      <td>Vassar</td>\n",
       "      <td>Lib Arts</td>\n",
       "      <td>1287</td>\n",
       "      <td>43</td>\n",
       "      <td>20179</td>\n",
       "      <td>53</td>\n",
       "      <td>90</td>\n",
       "      <td>84</td>\n",
       "    </tr>\n",
       "    <tr>\n",
       "      <td>Carleton</td>\n",
       "      <td>Lib Arts</td>\n",
       "      <td>1300</td>\n",
       "      <td>40</td>\n",
       "      <td>19504</td>\n",
       "      <td>75</td>\n",
       "      <td>82</td>\n",
       "      <td>80</td>\n",
       "    </tr>\n",
       "    <tr>\n",
       "      <td>Claremont McKenna</td>\n",
       "      <td>Lib Arts</td>\n",
       "      <td>1260</td>\n",
       "      <td>36</td>\n",
       "      <td>20377</td>\n",
       "      <td>68</td>\n",
       "      <td>94</td>\n",
       "      <td>74</td>\n",
       "    </tr>\n",
       "    <tr>\n",
       "      <td>Oberlin</td>\n",
       "      <td>Lib Arts</td>\n",
       "      <td>1247</td>\n",
       "      <td>54</td>\n",
       "      <td>23591</td>\n",
       "      <td>64</td>\n",
       "      <td>98</td>\n",
       "      <td>77</td>\n",
       "    </tr>\n",
       "    <tr>\n",
       "      <td>Washington &amp; Lee</td>\n",
       "      <td>Lib Arts</td>\n",
       "      <td>1234</td>\n",
       "      <td>29</td>\n",
       "      <td>17998</td>\n",
       "      <td>61</td>\n",
       "      <td>89</td>\n",
       "      <td>78</td>\n",
       "    </tr>\n",
       "    <tr>\n",
       "      <td>Grinnell</td>\n",
       "      <td>Lib Arts</td>\n",
       "      <td>1244</td>\n",
       "      <td>67</td>\n",
       "      <td>22301</td>\n",
       "      <td>65</td>\n",
       "      <td>79</td>\n",
       "      <td>73</td>\n",
       "    </tr>\n",
       "    <tr>\n",
       "      <td>Mount Holyoke</td>\n",
       "      <td>Lib Arts</td>\n",
       "      <td>1200</td>\n",
       "      <td>61</td>\n",
       "      <td>23358</td>\n",
       "      <td>47</td>\n",
       "      <td>83</td>\n",
       "      <td>83</td>\n",
       "    </tr>\n",
       "    <tr>\n",
       "      <td>Colby</td>\n",
       "      <td>Lib Arts</td>\n",
       "      <td>1200</td>\n",
       "      <td>46</td>\n",
       "      <td>18872</td>\n",
       "      <td>52</td>\n",
       "      <td>75</td>\n",
       "      <td>84</td>\n",
       "    </tr>\n",
       "    <tr>\n",
       "      <td>Hamilton</td>\n",
       "      <td>Lib Arts</td>\n",
       "      <td>1215</td>\n",
       "      <td>38</td>\n",
       "      <td>20722</td>\n",
       "      <td>51</td>\n",
       "      <td>86</td>\n",
       "      <td>85</td>\n",
       "    </tr>\n",
       "    <tr>\n",
       "      <td>Bates</td>\n",
       "      <td>Lib Arts</td>\n",
       "      <td>1240</td>\n",
       "      <td>36</td>\n",
       "      <td>17554</td>\n",
       "      <td>58</td>\n",
       "      <td>81</td>\n",
       "      <td>88</td>\n",
       "    </tr>\n",
       "    <tr>\n",
       "      <td>Haverford</td>\n",
       "      <td>Lib Arts</td>\n",
       "      <td>1285</td>\n",
       "      <td>35</td>\n",
       "      <td>19418</td>\n",
       "      <td>71</td>\n",
       "      <td>91</td>\n",
       "      <td>87</td>\n",
       "    </tr>\n",
       "    <tr>\n",
       "      <td>Colgate</td>\n",
       "      <td>Lib Arts</td>\n",
       "      <td>1258</td>\n",
       "      <td>38</td>\n",
       "      <td>17520</td>\n",
       "      <td>61</td>\n",
       "      <td>78</td>\n",
       "      <td>85</td>\n",
       "    </tr>\n",
       "    <tr>\n",
       "      <td>Bryn Mawr</td>\n",
       "      <td>Lib Arts</td>\n",
       "      <td>1255</td>\n",
       "      <td>56</td>\n",
       "      <td>18847</td>\n",
       "      <td>70</td>\n",
       "      <td>81</td>\n",
       "      <td>84</td>\n",
       "    </tr>\n",
       "    <tr>\n",
       "      <td>Occidental</td>\n",
       "      <td>Lib Arts</td>\n",
       "      <td>1170</td>\n",
       "      <td>49</td>\n",
       "      <td>20192</td>\n",
       "      <td>54</td>\n",
       "      <td>93</td>\n",
       "      <td>72</td>\n",
       "    </tr>\n",
       "    <tr>\n",
       "      <td>Barnard</td>\n",
       "      <td>Lib Arts</td>\n",
       "      <td>1220</td>\n",
       "      <td>53</td>\n",
       "      <td>17653</td>\n",
       "      <td>69</td>\n",
       "      <td>98</td>\n",
       "      <td>80</td>\n",
       "    </tr>\n",
       "    <tr>\n",
       "      <td>Harvard</td>\n",
       "      <td>Univ</td>\n",
       "      <td>1370</td>\n",
       "      <td>18</td>\n",
       "      <td>46918</td>\n",
       "      <td>90</td>\n",
       "      <td>99</td>\n",
       "      <td>90</td>\n",
       "    </tr>\n",
       "    <tr>\n",
       "      <td>Stanford</td>\n",
       "      <td>Univ</td>\n",
       "      <td>1370</td>\n",
       "      <td>18</td>\n",
       "      <td>61921</td>\n",
       "      <td>92</td>\n",
       "      <td>96</td>\n",
       "      <td>88</td>\n",
       "    </tr>\n",
       "    <tr>\n",
       "      <td>Yale</td>\n",
       "      <td>Univ</td>\n",
       "      <td>1350</td>\n",
       "      <td>19</td>\n",
       "      <td>52468</td>\n",
       "      <td>90</td>\n",
       "      <td>97</td>\n",
       "      <td>93</td>\n",
       "    </tr>\n",
       "    <tr>\n",
       "      <td>Princeton</td>\n",
       "      <td>Univ</td>\n",
       "      <td>1340</td>\n",
       "      <td>17</td>\n",
       "      <td>48123</td>\n",
       "      <td>89</td>\n",
       "      <td>99</td>\n",
       "      <td>93</td>\n",
       "    </tr>\n",
       "    <tr>\n",
       "      <td>Cal Tech</td>\n",
       "      <td>Univ</td>\n",
       "      <td>1400</td>\n",
       "      <td>31</td>\n",
       "      <td>102262</td>\n",
       "      <td>98</td>\n",
       "      <td>98</td>\n",
       "      <td>75</td>\n",
       "    </tr>\n",
       "    <tr>\n",
       "      <td>MIT</td>\n",
       "      <td>Univ</td>\n",
       "      <td>1357</td>\n",
       "      <td>30</td>\n",
       "      <td>56766</td>\n",
       "      <td>95</td>\n",
       "      <td>98</td>\n",
       "      <td>86</td>\n",
       "    </tr>\n",
       "    <tr>\n",
       "      <td>Duke</td>\n",
       "      <td>Univ</td>\n",
       "      <td>1310</td>\n",
       "      <td>25</td>\n",
       "      <td>39504</td>\n",
       "      <td>91</td>\n",
       "      <td>95</td>\n",
       "      <td>91</td>\n",
       "    </tr>\n",
       "    <tr>\n",
       "      <td>Dartmouth</td>\n",
       "      <td>Univ</td>\n",
       "      <td>1306</td>\n",
       "      <td>25</td>\n",
       "      <td>35804</td>\n",
       "      <td>86</td>\n",
       "      <td>100</td>\n",
       "      <td>95</td>\n",
       "    </tr>\n",
       "    <tr>\n",
       "      <td>Cornell</td>\n",
       "      <td>Univ</td>\n",
       "      <td>1280</td>\n",
       "      <td>30</td>\n",
       "      <td>37137</td>\n",
       "      <td>85</td>\n",
       "      <td>90</td>\n",
       "      <td>83</td>\n",
       "    </tr>\n",
       "    <tr>\n",
       "      <td>Columbia</td>\n",
       "      <td>Univ</td>\n",
       "      <td>1268</td>\n",
       "      <td>29</td>\n",
       "      <td>45879</td>\n",
       "      <td>78</td>\n",
       "      <td>93</td>\n",
       "      <td>90</td>\n",
       "    </tr>\n",
       "    <tr>\n",
       "      <td>U of Chicago</td>\n",
       "      <td>Univ</td>\n",
       "      <td>1300</td>\n",
       "      <td>45</td>\n",
       "      <td>38937</td>\n",
       "      <td>74</td>\n",
       "      <td>100</td>\n",
       "      <td>73</td>\n",
       "    </tr>\n",
       "    <tr>\n",
       "      <td>Brown</td>\n",
       "      <td>Univ</td>\n",
       "      <td>1281</td>\n",
       "      <td>24</td>\n",
       "      <td>24201</td>\n",
       "      <td>80</td>\n",
       "      <td>98</td>\n",
       "      <td>90</td>\n",
       "    </tr>\n",
       "    <tr>\n",
       "      <td>U Penn</td>\n",
       "      <td>Univ</td>\n",
       "      <td>1280</td>\n",
       "      <td>41</td>\n",
       "      <td>30882</td>\n",
       "      <td>87</td>\n",
       "      <td>99</td>\n",
       "      <td>86</td>\n",
       "    </tr>\n",
       "    <tr>\n",
       "      <td>Berkeley</td>\n",
       "      <td>Univ</td>\n",
       "      <td>1176</td>\n",
       "      <td>37</td>\n",
       "      <td>23665</td>\n",
       "      <td>95</td>\n",
       "      <td>93</td>\n",
       "      <td>68</td>\n",
       "    </tr>\n",
       "    <tr>\n",
       "      <td>Johns Hopkins</td>\n",
       "      <td>Univ</td>\n",
       "      <td>1290</td>\n",
       "      <td>48</td>\n",
       "      <td>45460</td>\n",
       "      <td>69</td>\n",
       "      <td>58</td>\n",
       "      <td>86</td>\n",
       "    </tr>\n",
       "    <tr>\n",
       "      <td>Rice</td>\n",
       "      <td>Univ</td>\n",
       "      <td>1327</td>\n",
       "      <td>24</td>\n",
       "      <td>26730</td>\n",
       "      <td>85</td>\n",
       "      <td>95</td>\n",
       "      <td>88</td>\n",
       "    </tr>\n",
       "    <tr>\n",
       "      <td>UCLA</td>\n",
       "      <td>Univ</td>\n",
       "      <td>1142</td>\n",
       "      <td>43</td>\n",
       "      <td>26859</td>\n",
       "      <td>96</td>\n",
       "      <td>100</td>\n",
       "      <td>61</td>\n",
       "    </tr>\n",
       "    <tr>\n",
       "      <td>U Va.</td>\n",
       "      <td>Univ</td>\n",
       "      <td>1218</td>\n",
       "      <td>37</td>\n",
       "      <td>19365</td>\n",
       "      <td>77</td>\n",
       "      <td>91</td>\n",
       "      <td>88</td>\n",
       "    </tr>\n",
       "    <tr>\n",
       "      <td>Georgetown</td>\n",
       "      <td>Univ</td>\n",
       "      <td>1278</td>\n",
       "      <td>24</td>\n",
       "      <td>23115</td>\n",
       "      <td>79</td>\n",
       "      <td>89</td>\n",
       "      <td>89</td>\n",
       "    </tr>\n",
       "    <tr>\n",
       "      <td>UNC</td>\n",
       "      <td>Univ</td>\n",
       "      <td>1109</td>\n",
       "      <td>32</td>\n",
       "      <td>19684</td>\n",
       "      <td>82</td>\n",
       "      <td>84</td>\n",
       "      <td>73</td>\n",
       "    </tr>\n",
       "    <tr>\n",
       "      <td>U Michican</td>\n",
       "      <td>Univ</td>\n",
       "      <td>1195</td>\n",
       "      <td>60</td>\n",
       "      <td>21853</td>\n",
       "      <td>71</td>\n",
       "      <td>93</td>\n",
       "      <td>77</td>\n",
       "    </tr>\n",
       "    <tr>\n",
       "      <td>Carnegie Mellon</td>\n",
       "      <td>Univ</td>\n",
       "      <td>1225</td>\n",
       "      <td>64</td>\n",
       "      <td>33607</td>\n",
       "      <td>52</td>\n",
       "      <td>84</td>\n",
       "      <td>77</td>\n",
       "    </tr>\n",
       "    <tr>\n",
       "      <td>Northwestern</td>\n",
       "      <td>Univ</td>\n",
       "      <td>1230</td>\n",
       "      <td>47</td>\n",
       "      <td>28851</td>\n",
       "      <td>77</td>\n",
       "      <td>79</td>\n",
       "      <td>82</td>\n",
       "    </tr>\n",
       "    <tr>\n",
       "      <td>Washington U (MO)</td>\n",
       "      <td>Univ</td>\n",
       "      <td>1225</td>\n",
       "      <td>54</td>\n",
       "      <td>39883</td>\n",
       "      <td>71</td>\n",
       "      <td>98</td>\n",
       "      <td>76</td>\n",
       "    </tr>\n",
       "    <tr>\n",
       "      <td>U of Rochester</td>\n",
       "      <td>Univ</td>\n",
       "      <td>1155</td>\n",
       "      <td>56</td>\n",
       "      <td>38597</td>\n",
       "      <td>52</td>\n",
       "      <td>96</td>\n",
       "      <td>73</td>\n",
       "    </tr>\n",
       "  </tbody>\n",
       "</table>\n",
       "</div>"
      ],
      "text/plain": [
       "                  School_Type   SAT  Acceptance  $/Student  Top 10%  %PhD  \\\n",
       "School                                                                      \n",
       "Amherst              Lib Arts  1315          22      26636       85    81   \n",
       "Swarthmore           Lib Arts  1310          24      27487       78    93   \n",
       "Williams             Lib Arts  1336          28      23772       86    90   \n",
       "Bowdoin              Lib Arts  1300          24      25703       78    95   \n",
       "Wellesley            Lib Arts  1250          49      27879       76    91   \n",
       "Pomona               Lib Arts  1320          33      26668       79    98   \n",
       "Wesleyan (CT)        Lib Arts  1290          35      19948       73    87   \n",
       "Middlebury           Lib Arts  1255          25      24718       65    89   \n",
       "Smith                Lib Arts  1195          57      25271       65    90   \n",
       "Davidson             Lib Arts  1230          36      17721       77    94   \n",
       "Vassar               Lib Arts  1287          43      20179       53    90   \n",
       "Carleton             Lib Arts  1300          40      19504       75    82   \n",
       "Claremont McKenna    Lib Arts  1260          36      20377       68    94   \n",
       "Oberlin              Lib Arts  1247          54      23591       64    98   \n",
       "Washington & Lee     Lib Arts  1234          29      17998       61    89   \n",
       "Grinnell             Lib Arts  1244          67      22301       65    79   \n",
       "Mount Holyoke        Lib Arts  1200          61      23358       47    83   \n",
       "Colby                Lib Arts  1200          46      18872       52    75   \n",
       "Hamilton             Lib Arts  1215          38      20722       51    86   \n",
       "Bates                Lib Arts  1240          36      17554       58    81   \n",
       "Haverford            Lib Arts  1285          35      19418       71    91   \n",
       "Colgate              Lib Arts  1258          38      17520       61    78   \n",
       "Bryn Mawr            Lib Arts  1255          56      18847       70    81   \n",
       "Occidental           Lib Arts  1170          49      20192       54    93   \n",
       "Barnard              Lib Arts  1220          53      17653       69    98   \n",
       "Harvard                  Univ  1370          18      46918       90    99   \n",
       "Stanford                 Univ  1370          18      61921       92    96   \n",
       "Yale                     Univ  1350          19      52468       90    97   \n",
       "Princeton                Univ  1340          17      48123       89    99   \n",
       "Cal Tech                 Univ  1400          31     102262       98    98   \n",
       "MIT                      Univ  1357          30      56766       95    98   \n",
       "Duke                     Univ  1310          25      39504       91    95   \n",
       "Dartmouth                Univ  1306          25      35804       86   100   \n",
       "Cornell                  Univ  1280          30      37137       85    90   \n",
       "Columbia                 Univ  1268          29      45879       78    93   \n",
       "U of Chicago             Univ  1300          45      38937       74   100   \n",
       "Brown                    Univ  1281          24      24201       80    98   \n",
       "U Penn                   Univ  1280          41      30882       87    99   \n",
       "Berkeley                 Univ  1176          37      23665       95    93   \n",
       "Johns Hopkins            Univ  1290          48      45460       69    58   \n",
       "Rice                     Univ  1327          24      26730       85    95   \n",
       "UCLA                     Univ  1142          43      26859       96   100   \n",
       "U Va.                    Univ  1218          37      19365       77    91   \n",
       "Georgetown               Univ  1278          24      23115       79    89   \n",
       "UNC                      Univ  1109          32      19684       82    84   \n",
       "U Michican               Univ  1195          60      21853       71    93   \n",
       "Carnegie Mellon          Univ  1225          64      33607       52    84   \n",
       "Northwestern             Univ  1230          47      28851       77    79   \n",
       "Washington U (MO)        Univ  1225          54      39883       71    98   \n",
       "U of Rochester           Univ  1155          56      38597       52    96   \n",
       "\n",
       "                   Grad%  \n",
       "School                    \n",
       "Amherst               93  \n",
       "Swarthmore            88  \n",
       "Williams              93  \n",
       "Bowdoin               90  \n",
       "Wellesley             86  \n",
       "Pomona                80  \n",
       "Wesleyan (CT)         91  \n",
       "Middlebury            92  \n",
       "Smith                 87  \n",
       "Davidson              89  \n",
       "Vassar                84  \n",
       "Carleton              80  \n",
       "Claremont McKenna     74  \n",
       "Oberlin               77  \n",
       "Washington & Lee      78  \n",
       "Grinnell              73  \n",
       "Mount Holyoke         83  \n",
       "Colby                 84  \n",
       "Hamilton              85  \n",
       "Bates                 88  \n",
       "Haverford             87  \n",
       "Colgate               85  \n",
       "Bryn Mawr             84  \n",
       "Occidental            72  \n",
       "Barnard               80  \n",
       "Harvard               90  \n",
       "Stanford              88  \n",
       "Yale                  93  \n",
       "Princeton             93  \n",
       "Cal Tech              75  \n",
       "MIT                   86  \n",
       "Duke                  91  \n",
       "Dartmouth             95  \n",
       "Cornell               83  \n",
       "Columbia              90  \n",
       "U of Chicago          73  \n",
       "Brown                 90  \n",
       "U Penn                86  \n",
       "Berkeley              68  \n",
       "Johns Hopkins         86  \n",
       "Rice                  88  \n",
       "UCLA                  61  \n",
       "U Va.                 88  \n",
       "Georgetown            89  \n",
       "UNC                   73  \n",
       "U Michican            77  \n",
       "Carnegie Mellon       77  \n",
       "Northwestern          82  \n",
       "Washington U (MO)     76  \n",
       "U of Rochester        73  "
      ]
     },
     "execution_count": 3,
     "metadata": {},
     "output_type": "execute_result"
    }
   ],
   "source": [
    "first_data"
   ]
  },
  {
   "cell_type": "code",
   "execution_count": 4,
   "metadata": {},
   "outputs": [
    {
     "data": {
      "text/html": [
       "<div>\n",
       "<style scoped>\n",
       "    .dataframe tbody tr th:only-of-type {\n",
       "        vertical-align: middle;\n",
       "    }\n",
       "\n",
       "    .dataframe tbody tr th {\n",
       "        vertical-align: top;\n",
       "    }\n",
       "\n",
       "    .dataframe thead th {\n",
       "        text-align: right;\n",
       "    }\n",
       "</style>\n",
       "<table border=\"1\" class=\"dataframe\">\n",
       "  <thead>\n",
       "    <tr style=\"text-align: right;\">\n",
       "      <th></th>\n",
       "      <th>School_Type</th>\n",
       "      <th>SAT</th>\n",
       "      <th>Acceptance</th>\n",
       "      <th>$/Student</th>\n",
       "      <th>Top 10%</th>\n",
       "      <th>%PhD</th>\n",
       "      <th>Grad%</th>\n",
       "    </tr>\n",
       "  </thead>\n",
       "  <tbody>\n",
       "    <tr>\n",
       "      <td>count</td>\n",
       "      <td>50</td>\n",
       "      <td>50.000000</td>\n",
       "      <td>50.000000</td>\n",
       "      <td>50.000000</td>\n",
       "      <td>50.000000</td>\n",
       "      <td>50.000000</td>\n",
       "      <td>50.000000</td>\n",
       "    </tr>\n",
       "    <tr>\n",
       "      <td>unique</td>\n",
       "      <td>2</td>\n",
       "      <td>NaN</td>\n",
       "      <td>NaN</td>\n",
       "      <td>NaN</td>\n",
       "      <td>NaN</td>\n",
       "      <td>NaN</td>\n",
       "      <td>NaN</td>\n",
       "    </tr>\n",
       "    <tr>\n",
       "      <td>top</td>\n",
       "      <td>Univ</td>\n",
       "      <td>NaN</td>\n",
       "      <td>NaN</td>\n",
       "      <td>NaN</td>\n",
       "      <td>NaN</td>\n",
       "      <td>NaN</td>\n",
       "      <td>NaN</td>\n",
       "    </tr>\n",
       "    <tr>\n",
       "      <td>freq</td>\n",
       "      <td>25</td>\n",
       "      <td>NaN</td>\n",
       "      <td>NaN</td>\n",
       "      <td>NaN</td>\n",
       "      <td>NaN</td>\n",
       "      <td>NaN</td>\n",
       "      <td>NaN</td>\n",
       "    </tr>\n",
       "    <tr>\n",
       "      <td>mean</td>\n",
       "      <td>NaN</td>\n",
       "      <td>1263.960000</td>\n",
       "      <td>37.840000</td>\n",
       "      <td>30247.200000</td>\n",
       "      <td>74.440000</td>\n",
       "      <td>90.560000</td>\n",
       "      <td>83.480000</td>\n",
       "    </tr>\n",
       "    <tr>\n",
       "      <td>std</td>\n",
       "      <td>NaN</td>\n",
       "      <td>62.329591</td>\n",
       "      <td>13.363612</td>\n",
       "      <td>15266.172682</td>\n",
       "      <td>13.515162</td>\n",
       "      <td>8.258972</td>\n",
       "      <td>7.557237</td>\n",
       "    </tr>\n",
       "    <tr>\n",
       "      <td>min</td>\n",
       "      <td>NaN</td>\n",
       "      <td>1109.000000</td>\n",
       "      <td>17.000000</td>\n",
       "      <td>17520.000000</td>\n",
       "      <td>47.000000</td>\n",
       "      <td>58.000000</td>\n",
       "      <td>61.000000</td>\n",
       "    </tr>\n",
       "    <tr>\n",
       "      <td>25%</td>\n",
       "      <td>NaN</td>\n",
       "      <td>1225.000000</td>\n",
       "      <td>25.750000</td>\n",
       "      <td>20182.250000</td>\n",
       "      <td>65.000000</td>\n",
       "      <td>86.250000</td>\n",
       "      <td>77.250000</td>\n",
       "    </tr>\n",
       "    <tr>\n",
       "      <td>50%</td>\n",
       "      <td>NaN</td>\n",
       "      <td>1264.000000</td>\n",
       "      <td>36.000000</td>\n",
       "      <td>24994.500000</td>\n",
       "      <td>76.500000</td>\n",
       "      <td>93.000000</td>\n",
       "      <td>85.500000</td>\n",
       "    </tr>\n",
       "    <tr>\n",
       "      <td>75%</td>\n",
       "      <td>NaN</td>\n",
       "      <td>1304.500000</td>\n",
       "      <td>47.750000</td>\n",
       "      <td>36803.750000</td>\n",
       "      <td>85.000000</td>\n",
       "      <td>97.750000</td>\n",
       "      <td>89.000000</td>\n",
       "    </tr>\n",
       "    <tr>\n",
       "      <td>max</td>\n",
       "      <td>NaN</td>\n",
       "      <td>1400.000000</td>\n",
       "      <td>67.000000</td>\n",
       "      <td>102262.000000</td>\n",
       "      <td>98.000000</td>\n",
       "      <td>100.000000</td>\n",
       "      <td>95.000000</td>\n",
       "    </tr>\n",
       "  </tbody>\n",
       "</table>\n",
       "</div>"
      ],
      "text/plain": [
       "       School_Type          SAT  Acceptance      $/Student    Top 10%  \\\n",
       "count           50    50.000000   50.000000      50.000000  50.000000   \n",
       "unique           2          NaN         NaN            NaN        NaN   \n",
       "top           Univ          NaN         NaN            NaN        NaN   \n",
       "freq            25          NaN         NaN            NaN        NaN   \n",
       "mean           NaN  1263.960000   37.840000   30247.200000  74.440000   \n",
       "std            NaN    62.329591   13.363612   15266.172682  13.515162   \n",
       "min            NaN  1109.000000   17.000000   17520.000000  47.000000   \n",
       "25%            NaN  1225.000000   25.750000   20182.250000  65.000000   \n",
       "50%            NaN  1264.000000   36.000000   24994.500000  76.500000   \n",
       "75%            NaN  1304.500000   47.750000   36803.750000  85.000000   \n",
       "max            NaN  1400.000000   67.000000  102262.000000  98.000000   \n",
       "\n",
       "              %PhD      Grad%  \n",
       "count    50.000000  50.000000  \n",
       "unique         NaN        NaN  \n",
       "top            NaN        NaN  \n",
       "freq           NaN        NaN  \n",
       "mean     90.560000  83.480000  \n",
       "std       8.258972   7.557237  \n",
       "min      58.000000  61.000000  \n",
       "25%      86.250000  77.250000  \n",
       "50%      93.000000  85.500000  \n",
       "75%      97.750000  89.000000  \n",
       "max     100.000000  95.000000  "
      ]
     },
     "execution_count": 4,
     "metadata": {},
     "output_type": "execute_result"
    }
   ],
   "source": [
    "#Описательная статистика данных\n",
    "first_data.describe(include='all')"
   ]
  },
  {
   "cell_type": "markdown",
   "metadata": {},
   "source": [
    "<ul>\n",
    "    <li>\n",
    "    <p>Параметр $/Student имеет большое различие между медианой и мат.ожиданием. Mean на 20% больше медианы, что может говорить о наличии выбросов в большую сторону (что подтверждается строкой max)</p>\n",
    "</li>\n",
    "<li></li>\n",
    "</ul>"
   ]
  },
  {
   "cell_type": "code",
   "execution_count": 5,
   "metadata": {},
   "outputs": [],
   "source": [
    "#Подсчёт мод для количественных признаков\n",
    "from scipy.stats import mode\n",
    "s = (first_data.dtypes != 'object')\n",
    "num_cols = list(s[s].index)\n",
    "mds = mode(first_data[num_cols])\n",
    "mds = pd.Series(mds.mode[0], index=num_cols)"
   ]
  },
  {
   "cell_type": "code",
   "execution_count": 6,
   "metadata": {},
   "outputs": [
    {
     "data": {
      "text/plain": [
       "SAT            1300\n",
       "Acceptance       24\n",
       "$/Student     17520\n",
       "Top 10%          52\n",
       "%PhD             98\n",
       "Grad%            88\n",
       "dtype: int64"
      ]
     },
     "execution_count": 6,
     "metadata": {},
     "output_type": "execute_result"
    }
   ],
   "source": [
    "mds"
   ]
  },
  {
   "cell_type": "code",
   "execution_count": 7,
   "metadata": {},
   "outputs": [],
   "source": [
    "#Настройка графиков\n",
    "import matplotlib\n",
    "from matplotlib import pyplot as plt\n",
    "import seaborn as sns\n",
    "%matplotlib inline\n",
    "\n",
    "matplotlib.style.use('seaborn-deep')"
   ]
  },
  {
   "cell_type": "markdown",
   "metadata": {},
   "source": [
    "### Поиск и отсечение выбросов\n",
    "\n",
    "Отсечение выбросов через z-преобразование, отсечение при |z|<3"
   ]
  },
  {
   "cell_type": "code",
   "execution_count": 8,
   "metadata": {},
   "outputs": [
    {
     "data": {
      "image/png": "[encoded data removed]",
      "text/plain": [
       "<Figure size 1800x504 with 6 Axes>"
      ]
     },
     "metadata": {
      "needs_background": "light"
     },
     "output_type": "display_data"
    }
   ],
   "source": [
    "fig = plt.figure(figsize=(25,7))\n",
    "fig.suptitle('Данные до обрабтки выбросов', fontsize=20)\n",
    "for col in range(len(num_cols)):\n",
    "    plt.subplot(2, 3, col + 1)\n",
    "    sns.boxplot(first_data[num_cols[col]])"
   ]
  },
  {
   "cell_type": "markdown",
   "metadata": {},
   "source": [
    "### Отсечение выбросов через интерквантильный размах"
   ]
  },
  {
   "cell_type": "code",
   "execution_count": 9,
   "metadata": {},
   "outputs": [],
   "source": [
    "from scipy import stats\n",
    "s = (first_data.dtypes != 'object')\n",
    "num_cols = list(s[s].index)\n",
    "for col in num_cols:\n",
    "    iqr = stats.iqr(first_data[col])\n",
    "    mean = np.mean(first_data[col])\n",
    "    first_data = first_data[(first_data[col] > mean - 3*iqr) & (first_data[col] < mean + 3*iqr)]"
   ]
  },
  {
   "cell_type": "markdown",
   "metadata": {},
   "source": [
    "### Отсечение выбросов через три сигма"
   ]
  },
  {
   "cell_type": "code",
   "execution_count": 10,
   "metadata": {},
   "outputs": [],
   "source": [
    "#Отсечение через три сигма\n",
    "s = (first_data.dtypes != 'object')\n",
    "num_cols = list(s[s].index)\n",
    "# Поиск строк, где все признаки удовлетворяют условию |z| < 3\n",
    "new_data = first_data[(np.abs(stats.zscore(first_data[num_cols])) < 3).all(axis=1)]"
   ]
  },
  {
   "cell_type": "code",
   "execution_count": 11,
   "metadata": {},
   "outputs": [
    {
     "data": {
      "image/png": "[encoded data removed]",
      "text/plain": [
       "<Figure size 1800x504 with 6 Axes>"
      ]
     },
     "metadata": {
      "needs_background": "light"
     },
     "output_type": "display_data"
    }
   ],
   "source": [
    "# Вывод данных после отсечения выбросов\n",
    "fig = plt.figure(figsize=(25,7))\n",
    "fig.suptitle('Данные после обрабтки выбросов', fontsize=20)\n",
    "for col in range(len(num_cols)):\n",
    "    plt.subplot(2, 3, col + 1)\n",
    "    sns.boxplot(first_data[num_cols[col]])"
   ]
  },
  {
   "cell_type": "code",
   "execution_count": 12,
   "metadata": {},
   "outputs": [
    {
     "data": {
      "text/plain": [
       "(array([15.,  5.,  7.,  6.,  1.,  1.,  2.,  4.,  0.,  2.,  1.,  1.,  0.,\n",
       "         1.,  1.]),\n",
       " array([-0.98163791, -0.71611548, -0.45059305, -0.18507062,  0.08045182,\n",
       "         0.34597425,  0.61149668,  0.87701911,  1.14254155,  1.40806398,\n",
       "         1.67358641,  1.93910884,  2.20463128,  2.47015371,  2.73567614,\n",
       "         3.00119857]),\n",
       " <a list of 15 Patch objects>)"
      ]
     },
     "execution_count": 12,
     "metadata": {},
     "output_type": "execute_result"
    },
    {
     "data": {
      "image/png": "[encoded data removed]",
      "text/plain": [
       "<Figure size 432x288 with 1 Axes>"
      ]
     },
     "metadata": {
      "needs_background": "light"
     },
     "output_type": "display_data"
    }
   ],
   "source": [
    "plt.xlabel('Money spent per student Z score')\n",
    "plt.hist(stats.zscore(new_data['$/Student']), bins=15)"
   ]
  },
  {
   "cell_type": "markdown",
   "metadata": {},
   "source": [
    "<b>При использовании межквартильного размаха отсекается на две записи меньше чем при использовании три сигма</b>"
   ]
  },
  {
   "cell_type": "code",
   "execution_count": 13,
   "metadata": {},
   "outputs": [
    {
     "data": {
      "text/plain": [
       "(49, 7)"
      ]
     },
     "execution_count": 13,
     "metadata": {},
     "output_type": "execute_result"
    }
   ],
   "source": [
    "first_data.shape"
   ]
  },
  {
   "cell_type": "code",
   "execution_count": 14,
   "metadata": {},
   "outputs": [
    {
     "data": {
      "text/plain": [
       "(47, 7)"
      ]
     },
     "execution_count": 14,
     "metadata": {},
     "output_type": "execute_result"
    }
   ],
   "source": [
    "new_data.shape"
   ]
  },
  {
   "cell_type": "code",
   "execution_count": 15,
   "metadata": {},
   "outputs": [
    {
     "data": {
      "text/html": [
       "<div>\n",
       "<style scoped>\n",
       "    .dataframe tbody tr th:only-of-type {\n",
       "        vertical-align: middle;\n",
       "    }\n",
       "\n",
       "    .dataframe tbody tr th {\n",
       "        vertical-align: top;\n",
       "    }\n",
       "\n",
       "    .dataframe thead th {\n",
       "        text-align: right;\n",
       "    }\n",
       "</style>\n",
       "<table border=\"1\" class=\"dataframe\">\n",
       "  <thead>\n",
       "    <tr style=\"text-align: right;\">\n",
       "      <th></th>\n",
       "      <th>SAT</th>\n",
       "      <th>Acceptance</th>\n",
       "      <th>$/Student</th>\n",
       "      <th>Top 10%</th>\n",
       "      <th>%PhD</th>\n",
       "      <th>Grad%</th>\n",
       "    </tr>\n",
       "  </thead>\n",
       "  <tbody>\n",
       "    <tr>\n",
       "      <td>count</td>\n",
       "      <td>47.000000</td>\n",
       "      <td>47.000000</td>\n",
       "      <td>47.000000</td>\n",
       "      <td>47.000000</td>\n",
       "      <td>47.000000</td>\n",
       "      <td>47.000000</td>\n",
       "    </tr>\n",
       "    <tr>\n",
       "      <td>mean</td>\n",
       "      <td>1263.106383</td>\n",
       "      <td>37.659574</td>\n",
       "      <td>28463.382979</td>\n",
       "      <td>73.595745</td>\n",
       "      <td>90.893617</td>\n",
       "      <td>84.085106</td>\n",
       "    </tr>\n",
       "    <tr>\n",
       "      <td>std</td>\n",
       "      <td>58.285368</td>\n",
       "      <td>13.651368</td>\n",
       "      <td>11268.608416</td>\n",
       "      <td>13.077793</td>\n",
       "      <td>6.808671</td>\n",
       "      <td>6.911961</td>\n",
       "    </tr>\n",
       "    <tr>\n",
       "      <td>min</td>\n",
       "      <td>1109.000000</td>\n",
       "      <td>17.000000</td>\n",
       "      <td>17520.000000</td>\n",
       "      <td>47.000000</td>\n",
       "      <td>75.000000</td>\n",
       "      <td>68.000000</td>\n",
       "    </tr>\n",
       "    <tr>\n",
       "      <td>25%</td>\n",
       "      <td>1225.000000</td>\n",
       "      <td>25.000000</td>\n",
       "      <td>20063.500000</td>\n",
       "      <td>65.000000</td>\n",
       "      <td>86.500000</td>\n",
       "      <td>79.000000</td>\n",
       "    </tr>\n",
       "    <tr>\n",
       "      <td>50%</td>\n",
       "      <td>1260.000000</td>\n",
       "      <td>36.000000</td>\n",
       "      <td>24201.000000</td>\n",
       "      <td>76.000000</td>\n",
       "      <td>93.000000</td>\n",
       "      <td>86.000000</td>\n",
       "    </tr>\n",
       "    <tr>\n",
       "      <td>75%</td>\n",
       "      <td>1303.000000</td>\n",
       "      <td>48.000000</td>\n",
       "      <td>34705.500000</td>\n",
       "      <td>85.000000</td>\n",
       "      <td>96.500000</td>\n",
       "      <td>89.500000</td>\n",
       "    </tr>\n",
       "    <tr>\n",
       "      <td>max</td>\n",
       "      <td>1370.000000</td>\n",
       "      <td>67.000000</td>\n",
       "      <td>61921.000000</td>\n",
       "      <td>95.000000</td>\n",
       "      <td>100.000000</td>\n",
       "      <td>95.000000</td>\n",
       "    </tr>\n",
       "  </tbody>\n",
       "</table>\n",
       "</div>"
      ],
      "text/plain": [
       "               SAT  Acceptance     $/Student    Top 10%        %PhD      Grad%\n",
       "count    47.000000   47.000000     47.000000  47.000000   47.000000  47.000000\n",
       "mean   1263.106383   37.659574  28463.382979  73.595745   90.893617  84.085106\n",
       "std      58.285368   13.651368  11268.608416  13.077793    6.808671   6.911961\n",
       "min    1109.000000   17.000000  17520.000000  47.000000   75.000000  68.000000\n",
       "25%    1225.000000   25.000000  20063.500000  65.000000   86.500000  79.000000\n",
       "50%    1260.000000   36.000000  24201.000000  76.000000   93.000000  86.000000\n",
       "75%    1303.000000   48.000000  34705.500000  85.000000   96.500000  89.500000\n",
       "max    1370.000000   67.000000  61921.000000  95.000000  100.000000  95.000000"
      ]
     },
     "execution_count": 15,
     "metadata": {},
     "output_type": "execute_result"
    }
   ],
   "source": [
    "new_data.describe()"
   ]
  },
  {
   "cell_type": "markdown",
   "metadata": {},
   "source": [
    "\n",
    "\n",
    "<p>Отсечение через 3 сигма в данном случае может обрезать важные точки. <br>\n",
    "    \n",
    "</p>"
   ]
  },
  {
   "cell_type": "markdown",
   "metadata": {},
   "source": [
    "### Решение проблемы с пропусками"
   ]
  },
  {
   "cell_type": "code",
   "execution_count": 16,
   "metadata": {},
   "outputs": [],
   "source": [
    "#Поиск столбцов, где хотя бы один элемент пропущен\n",
    "cols_with_missing = [col for col in new_data.columns\n",
    "                     if new_data[col].isnull().any()]"
   ]
  },
  {
   "cell_type": "code",
   "execution_count": 17,
   "metadata": {},
   "outputs": [
    {
     "data": {
      "text/plain": [
       "[]"
      ]
     },
     "execution_count": 17,
     "metadata": {},
     "output_type": "execute_result"
    }
   ],
   "source": [
    "cols_with_missing"
   ]
  },
  {
   "cell_type": "code",
   "execution_count": 18,
   "metadata": {},
   "outputs": [
    {
     "data": {
      "text/html": [
       "<div>\n",
       "<style scoped>\n",
       "    .dataframe tbody tr th:only-of-type {\n",
       "        vertical-align: middle;\n",
       "    }\n",
       "\n",
       "    .dataframe tbody tr th {\n",
       "        vertical-align: top;\n",
       "    }\n",
       "\n",
       "    .dataframe thead th {\n",
       "        text-align: right;\n",
       "    }\n",
       "</style>\n",
       "<table border=\"1\" class=\"dataframe\">\n",
       "  <thead>\n",
       "    <tr style=\"text-align: right;\">\n",
       "      <th></th>\n",
       "      <th>School_Type</th>\n",
       "      <th>SAT</th>\n",
       "      <th>Acceptance</th>\n",
       "      <th>$/Student</th>\n",
       "      <th>Top 10%</th>\n",
       "      <th>%PhD</th>\n",
       "      <th>Grad%</th>\n",
       "    </tr>\n",
       "    <tr>\n",
       "      <th>School</th>\n",
       "      <th></th>\n",
       "      <th></th>\n",
       "      <th></th>\n",
       "      <th></th>\n",
       "      <th></th>\n",
       "      <th></th>\n",
       "      <th></th>\n",
       "    </tr>\n",
       "  </thead>\n",
       "  <tbody>\n",
       "    <tr>\n",
       "      <td>Amherst</td>\n",
       "      <td>Lib Arts</td>\n",
       "      <td>1315</td>\n",
       "      <td>22</td>\n",
       "      <td>26636</td>\n",
       "      <td>85</td>\n",
       "      <td>81</td>\n",
       "      <td>93</td>\n",
       "    </tr>\n",
       "    <tr>\n",
       "      <td>Swarthmore</td>\n",
       "      <td>Lib Arts</td>\n",
       "      <td>1310</td>\n",
       "      <td>24</td>\n",
       "      <td>27487</td>\n",
       "      <td>78</td>\n",
       "      <td>93</td>\n",
       "      <td>88</td>\n",
       "    </tr>\n",
       "    <tr>\n",
       "      <td>Williams</td>\n",
       "      <td>Lib Arts</td>\n",
       "      <td>1336</td>\n",
       "      <td>28</td>\n",
       "      <td>23772</td>\n",
       "      <td>86</td>\n",
       "      <td>90</td>\n",
       "      <td>93</td>\n",
       "    </tr>\n",
       "    <tr>\n",
       "      <td>Bowdoin</td>\n",
       "      <td>Lib Arts</td>\n",
       "      <td>1300</td>\n",
       "      <td>24</td>\n",
       "      <td>25703</td>\n",
       "      <td>78</td>\n",
       "      <td>95</td>\n",
       "      <td>90</td>\n",
       "    </tr>\n",
       "    <tr>\n",
       "      <td>Wellesley</td>\n",
       "      <td>Lib Arts</td>\n",
       "      <td>1250</td>\n",
       "      <td>49</td>\n",
       "      <td>27879</td>\n",
       "      <td>76</td>\n",
       "      <td>91</td>\n",
       "      <td>86</td>\n",
       "    </tr>\n",
       "    <tr>\n",
       "      <td>Pomona</td>\n",
       "      <td>Lib Arts</td>\n",
       "      <td>1320</td>\n",
       "      <td>33</td>\n",
       "      <td>26668</td>\n",
       "      <td>79</td>\n",
       "      <td>98</td>\n",
       "      <td>80</td>\n",
       "    </tr>\n",
       "    <tr>\n",
       "      <td>Wesleyan (CT)</td>\n",
       "      <td>Lib Arts</td>\n",
       "      <td>1290</td>\n",
       "      <td>35</td>\n",
       "      <td>19948</td>\n",
       "      <td>73</td>\n",
       "      <td>87</td>\n",
       "      <td>91</td>\n",
       "    </tr>\n",
       "    <tr>\n",
       "      <td>Middlebury</td>\n",
       "      <td>Lib Arts</td>\n",
       "      <td>1255</td>\n",
       "      <td>25</td>\n",
       "      <td>24718</td>\n",
       "      <td>65</td>\n",
       "      <td>89</td>\n",
       "      <td>92</td>\n",
       "    </tr>\n",
       "    <tr>\n",
       "      <td>Smith</td>\n",
       "      <td>Lib Arts</td>\n",
       "      <td>1195</td>\n",
       "      <td>57</td>\n",
       "      <td>25271</td>\n",
       "      <td>65</td>\n",
       "      <td>90</td>\n",
       "      <td>87</td>\n",
       "    </tr>\n",
       "    <tr>\n",
       "      <td>Davidson</td>\n",
       "      <td>Lib Arts</td>\n",
       "      <td>1230</td>\n",
       "      <td>36</td>\n",
       "      <td>17721</td>\n",
       "      <td>77</td>\n",
       "      <td>94</td>\n",
       "      <td>89</td>\n",
       "    </tr>\n",
       "    <tr>\n",
       "      <td>Vassar</td>\n",
       "      <td>Lib Arts</td>\n",
       "      <td>1287</td>\n",
       "      <td>43</td>\n",
       "      <td>20179</td>\n",
       "      <td>53</td>\n",
       "      <td>90</td>\n",
       "      <td>84</td>\n",
       "    </tr>\n",
       "    <tr>\n",
       "      <td>Carleton</td>\n",
       "      <td>Lib Arts</td>\n",
       "      <td>1300</td>\n",
       "      <td>40</td>\n",
       "      <td>19504</td>\n",
       "      <td>75</td>\n",
       "      <td>82</td>\n",
       "      <td>80</td>\n",
       "    </tr>\n",
       "    <tr>\n",
       "      <td>Claremont McKenna</td>\n",
       "      <td>Lib Arts</td>\n",
       "      <td>1260</td>\n",
       "      <td>36</td>\n",
       "      <td>20377</td>\n",
       "      <td>68</td>\n",
       "      <td>94</td>\n",
       "      <td>74</td>\n",
       "    </tr>\n",
       "    <tr>\n",
       "      <td>Oberlin</td>\n",
       "      <td>Lib Arts</td>\n",
       "      <td>1247</td>\n",
       "      <td>54</td>\n",
       "      <td>23591</td>\n",
       "      <td>64</td>\n",
       "      <td>98</td>\n",
       "      <td>77</td>\n",
       "    </tr>\n",
       "    <tr>\n",
       "      <td>Washington &amp; Lee</td>\n",
       "      <td>Lib Arts</td>\n",
       "      <td>1234</td>\n",
       "      <td>29</td>\n",
       "      <td>17998</td>\n",
       "      <td>61</td>\n",
       "      <td>89</td>\n",
       "      <td>78</td>\n",
       "    </tr>\n",
       "    <tr>\n",
       "      <td>Grinnell</td>\n",
       "      <td>Lib Arts</td>\n",
       "      <td>1244</td>\n",
       "      <td>67</td>\n",
       "      <td>22301</td>\n",
       "      <td>65</td>\n",
       "      <td>79</td>\n",
       "      <td>73</td>\n",
       "    </tr>\n",
       "    <tr>\n",
       "      <td>Mount Holyoke</td>\n",
       "      <td>Lib Arts</td>\n",
       "      <td>1200</td>\n",
       "      <td>61</td>\n",
       "      <td>23358</td>\n",
       "      <td>47</td>\n",
       "      <td>83</td>\n",
       "      <td>83</td>\n",
       "    </tr>\n",
       "    <tr>\n",
       "      <td>Colby</td>\n",
       "      <td>Lib Arts</td>\n",
       "      <td>1200</td>\n",
       "      <td>46</td>\n",
       "      <td>18872</td>\n",
       "      <td>52</td>\n",
       "      <td>75</td>\n",
       "      <td>84</td>\n",
       "    </tr>\n",
       "    <tr>\n",
       "      <td>Hamilton</td>\n",
       "      <td>Lib Arts</td>\n",
       "      <td>1215</td>\n",
       "      <td>38</td>\n",
       "      <td>20722</td>\n",
       "      <td>51</td>\n",
       "      <td>86</td>\n",
       "      <td>85</td>\n",
       "    </tr>\n",
       "    <tr>\n",
       "      <td>Bates</td>\n",
       "      <td>Lib Arts</td>\n",
       "      <td>1240</td>\n",
       "      <td>36</td>\n",
       "      <td>17554</td>\n",
       "      <td>58</td>\n",
       "      <td>81</td>\n",
       "      <td>88</td>\n",
       "    </tr>\n",
       "    <tr>\n",
       "      <td>Haverford</td>\n",
       "      <td>Lib Arts</td>\n",
       "      <td>1285</td>\n",
       "      <td>35</td>\n",
       "      <td>19418</td>\n",
       "      <td>71</td>\n",
       "      <td>91</td>\n",
       "      <td>87</td>\n",
       "    </tr>\n",
       "    <tr>\n",
       "      <td>Colgate</td>\n",
       "      <td>Lib Arts</td>\n",
       "      <td>1258</td>\n",
       "      <td>38</td>\n",
       "      <td>17520</td>\n",
       "      <td>61</td>\n",
       "      <td>78</td>\n",
       "      <td>85</td>\n",
       "    </tr>\n",
       "    <tr>\n",
       "      <td>Bryn Mawr</td>\n",
       "      <td>Lib Arts</td>\n",
       "      <td>1255</td>\n",
       "      <td>56</td>\n",
       "      <td>18847</td>\n",
       "      <td>70</td>\n",
       "      <td>81</td>\n",
       "      <td>84</td>\n",
       "    </tr>\n",
       "    <tr>\n",
       "      <td>Occidental</td>\n",
       "      <td>Lib Arts</td>\n",
       "      <td>1170</td>\n",
       "      <td>49</td>\n",
       "      <td>20192</td>\n",
       "      <td>54</td>\n",
       "      <td>93</td>\n",
       "      <td>72</td>\n",
       "    </tr>\n",
       "    <tr>\n",
       "      <td>Barnard</td>\n",
       "      <td>Lib Arts</td>\n",
       "      <td>1220</td>\n",
       "      <td>53</td>\n",
       "      <td>17653</td>\n",
       "      <td>69</td>\n",
       "      <td>98</td>\n",
       "      <td>80</td>\n",
       "    </tr>\n",
       "    <tr>\n",
       "      <td>Harvard</td>\n",
       "      <td>Univ</td>\n",
       "      <td>1370</td>\n",
       "      <td>18</td>\n",
       "      <td>46918</td>\n",
       "      <td>90</td>\n",
       "      <td>99</td>\n",
       "      <td>90</td>\n",
       "    </tr>\n",
       "    <tr>\n",
       "      <td>Stanford</td>\n",
       "      <td>Univ</td>\n",
       "      <td>1370</td>\n",
       "      <td>18</td>\n",
       "      <td>61921</td>\n",
       "      <td>92</td>\n",
       "      <td>96</td>\n",
       "      <td>88</td>\n",
       "    </tr>\n",
       "    <tr>\n",
       "      <td>Yale</td>\n",
       "      <td>Univ</td>\n",
       "      <td>1350</td>\n",
       "      <td>19</td>\n",
       "      <td>52468</td>\n",
       "      <td>90</td>\n",
       "      <td>97</td>\n",
       "      <td>93</td>\n",
       "    </tr>\n",
       "    <tr>\n",
       "      <td>Princeton</td>\n",
       "      <td>Univ</td>\n",
       "      <td>1340</td>\n",
       "      <td>17</td>\n",
       "      <td>48123</td>\n",
       "      <td>89</td>\n",
       "      <td>99</td>\n",
       "      <td>93</td>\n",
       "    </tr>\n",
       "    <tr>\n",
       "      <td>MIT</td>\n",
       "      <td>Univ</td>\n",
       "      <td>1357</td>\n",
       "      <td>30</td>\n",
       "      <td>56766</td>\n",
       "      <td>95</td>\n",
       "      <td>98</td>\n",
       "      <td>86</td>\n",
       "    </tr>\n",
       "    <tr>\n",
       "      <td>Duke</td>\n",
       "      <td>Univ</td>\n",
       "      <td>1310</td>\n",
       "      <td>25</td>\n",
       "      <td>39504</td>\n",
       "      <td>91</td>\n",
       "      <td>95</td>\n",
       "      <td>91</td>\n",
       "    </tr>\n",
       "    <tr>\n",
       "      <td>Dartmouth</td>\n",
       "      <td>Univ</td>\n",
       "      <td>1306</td>\n",
       "      <td>25</td>\n",
       "      <td>35804</td>\n",
       "      <td>86</td>\n",
       "      <td>100</td>\n",
       "      <td>95</td>\n",
       "    </tr>\n",
       "    <tr>\n",
       "      <td>Cornell</td>\n",
       "      <td>Univ</td>\n",
       "      <td>1280</td>\n",
       "      <td>30</td>\n",
       "      <td>37137</td>\n",
       "      <td>85</td>\n",
       "      <td>90</td>\n",
       "      <td>83</td>\n",
       "    </tr>\n",
       "    <tr>\n",
       "      <td>Columbia</td>\n",
       "      <td>Univ</td>\n",
       "      <td>1268</td>\n",
       "      <td>29</td>\n",
       "      <td>45879</td>\n",
       "      <td>78</td>\n",
       "      <td>93</td>\n",
       "      <td>90</td>\n",
       "    </tr>\n",
       "    <tr>\n",
       "      <td>U of Chicago</td>\n",
       "      <td>Univ</td>\n",
       "      <td>1300</td>\n",
       "      <td>45</td>\n",
       "      <td>38937</td>\n",
       "      <td>74</td>\n",
       "      <td>100</td>\n",
       "      <td>73</td>\n",
       "    </tr>\n",
       "    <tr>\n",
       "      <td>Brown</td>\n",
       "      <td>Univ</td>\n",
       "      <td>1281</td>\n",
       "      <td>24</td>\n",
       "      <td>24201</td>\n",
       "      <td>80</td>\n",
       "      <td>98</td>\n",
       "      <td>90</td>\n",
       "    </tr>\n",
       "    <tr>\n",
       "      <td>U Penn</td>\n",
       "      <td>Univ</td>\n",
       "      <td>1280</td>\n",
       "      <td>41</td>\n",
       "      <td>30882</td>\n",
       "      <td>87</td>\n",
       "      <td>99</td>\n",
       "      <td>86</td>\n",
       "    </tr>\n",
       "    <tr>\n",
       "      <td>Berkeley</td>\n",
       "      <td>Univ</td>\n",
       "      <td>1176</td>\n",
       "      <td>37</td>\n",
       "      <td>23665</td>\n",
       "      <td>95</td>\n",
       "      <td>93</td>\n",
       "      <td>68</td>\n",
       "    </tr>\n",
       "    <tr>\n",
       "      <td>Rice</td>\n",
       "      <td>Univ</td>\n",
       "      <td>1327</td>\n",
       "      <td>24</td>\n",
       "      <td>26730</td>\n",
       "      <td>85</td>\n",
       "      <td>95</td>\n",
       "      <td>88</td>\n",
       "    </tr>\n",
       "    <tr>\n",
       "      <td>U Va.</td>\n",
       "      <td>Univ</td>\n",
       "      <td>1218</td>\n",
       "      <td>37</td>\n",
       "      <td>19365</td>\n",
       "      <td>77</td>\n",
       "      <td>91</td>\n",
       "      <td>88</td>\n",
       "    </tr>\n",
       "    <tr>\n",
       "      <td>Georgetown</td>\n",
       "      <td>Univ</td>\n",
       "      <td>1278</td>\n",
       "      <td>24</td>\n",
       "      <td>23115</td>\n",
       "      <td>79</td>\n",
       "      <td>89</td>\n",
       "      <td>89</td>\n",
       "    </tr>\n",
       "    <tr>\n",
       "      <td>UNC</td>\n",
       "      <td>Univ</td>\n",
       "      <td>1109</td>\n",
       "      <td>32</td>\n",
       "      <td>19684</td>\n",
       "      <td>82</td>\n",
       "      <td>84</td>\n",
       "      <td>73</td>\n",
       "    </tr>\n",
       "    <tr>\n",
       "      <td>U Michican</td>\n",
       "      <td>Univ</td>\n",
       "      <td>1195</td>\n",
       "      <td>60</td>\n",
       "      <td>21853</td>\n",
       "      <td>71</td>\n",
       "      <td>93</td>\n",
       "      <td>77</td>\n",
       "    </tr>\n",
       "    <tr>\n",
       "      <td>Carnegie Mellon</td>\n",
       "      <td>Univ</td>\n",
       "      <td>1225</td>\n",
       "      <td>64</td>\n",
       "      <td>33607</td>\n",
       "      <td>52</td>\n",
       "      <td>84</td>\n",
       "      <td>77</td>\n",
       "    </tr>\n",
       "    <tr>\n",
       "      <td>Northwestern</td>\n",
       "      <td>Univ</td>\n",
       "      <td>1230</td>\n",
       "      <td>47</td>\n",
       "      <td>28851</td>\n",
       "      <td>77</td>\n",
       "      <td>79</td>\n",
       "      <td>82</td>\n",
       "    </tr>\n",
       "    <tr>\n",
       "      <td>Washington U (MO)</td>\n",
       "      <td>Univ</td>\n",
       "      <td>1225</td>\n",
       "      <td>54</td>\n",
       "      <td>39883</td>\n",
       "      <td>71</td>\n",
       "      <td>98</td>\n",
       "      <td>76</td>\n",
       "    </tr>\n",
       "    <tr>\n",
       "      <td>U of Rochester</td>\n",
       "      <td>Univ</td>\n",
       "      <td>1155</td>\n",
       "      <td>56</td>\n",
       "      <td>38597</td>\n",
       "      <td>52</td>\n",
       "      <td>96</td>\n",
       "      <td>73</td>\n",
       "    </tr>\n",
       "  </tbody>\n",
       "</table>\n",
       "</div>"
      ],
      "text/plain": [
       "                  School_Type   SAT  Acceptance  $/Student  Top 10%  %PhD  \\\n",
       "School                                                                      \n",
       "Amherst              Lib Arts  1315          22      26636       85    81   \n",
       "Swarthmore           Lib Arts  1310          24      27487       78    93   \n",
       "Williams             Lib Arts  1336          28      23772       86    90   \n",
       "Bowdoin              Lib Arts  1300          24      25703       78    95   \n",
       "Wellesley            Lib Arts  1250          49      27879       76    91   \n",
       "Pomona               Lib Arts  1320          33      26668       79    98   \n",
       "Wesleyan (CT)        Lib Arts  1290          35      19948       73    87   \n",
       "Middlebury           Lib Arts  1255          25      24718       65    89   \n",
       "Smith                Lib Arts  1195          57      25271       65    90   \n",
       "Davidson             Lib Arts  1230          36      17721       77    94   \n",
       "Vassar               Lib Arts  1287          43      20179       53    90   \n",
       "Carleton             Lib Arts  1300          40      19504       75    82   \n",
       "Claremont McKenna    Lib Arts  1260          36      20377       68    94   \n",
       "Oberlin              Lib Arts  1247          54      23591       64    98   \n",
       "Washington & Lee     Lib Arts  1234          29      17998       61    89   \n",
       "Grinnell             Lib Arts  1244          67      22301       65    79   \n",
       "Mount Holyoke        Lib Arts  1200          61      23358       47    83   \n",
       "Colby                Lib Arts  1200          46      18872       52    75   \n",
       "Hamilton             Lib Arts  1215          38      20722       51    86   \n",
       "Bates                Lib Arts  1240          36      17554       58    81   \n",
       "Haverford            Lib Arts  1285          35      19418       71    91   \n",
       "Colgate              Lib Arts  1258          38      17520       61    78   \n",
       "Bryn Mawr            Lib Arts  1255          56      18847       70    81   \n",
       "Occidental           Lib Arts  1170          49      20192       54    93   \n",
       "Barnard              Lib Arts  1220          53      17653       69    98   \n",
       "Harvard                  Univ  1370          18      46918       90    99   \n",
       "Stanford                 Univ  1370          18      61921       92    96   \n",
       "Yale                     Univ  1350          19      52468       90    97   \n",
       "Princeton                Univ  1340          17      48123       89    99   \n",
       "MIT                      Univ  1357          30      56766       95    98   \n",
       "Duke                     Univ  1310          25      39504       91    95   \n",
       "Dartmouth                Univ  1306          25      35804       86   100   \n",
       "Cornell                  Univ  1280          30      37137       85    90   \n",
       "Columbia                 Univ  1268          29      45879       78    93   \n",
       "U of Chicago             Univ  1300          45      38937       74   100   \n",
       "Brown                    Univ  1281          24      24201       80    98   \n",
       "U Penn                   Univ  1280          41      30882       87    99   \n",
       "Berkeley                 Univ  1176          37      23665       95    93   \n",
       "Rice                     Univ  1327          24      26730       85    95   \n",
       "U Va.                    Univ  1218          37      19365       77    91   \n",
       "Georgetown               Univ  1278          24      23115       79    89   \n",
       "UNC                      Univ  1109          32      19684       82    84   \n",
       "U Michican               Univ  1195          60      21853       71    93   \n",
       "Carnegie Mellon          Univ  1225          64      33607       52    84   \n",
       "Northwestern             Univ  1230          47      28851       77    79   \n",
       "Washington U (MO)        Univ  1225          54      39883       71    98   \n",
       "U of Rochester           Univ  1155          56      38597       52    96   \n",
       "\n",
       "                   Grad%  \n",
       "School                    \n",
       "Amherst               93  \n",
       "Swarthmore            88  \n",
       "Williams              93  \n",
       "Bowdoin               90  \n",
       "Wellesley             86  \n",
       "Pomona                80  \n",
       "Wesleyan (CT)         91  \n",
       "Middlebury            92  \n",
       "Smith                 87  \n",
       "Davidson              89  \n",
       "Vassar                84  \n",
       "Carleton              80  \n",
       "Claremont McKenna     74  \n",
       "Oberlin               77  \n",
       "Washington & Lee      78  \n",
       "Grinnell              73  \n",
       "Mount Holyoke         83  \n",
       "Colby                 84  \n",
       "Hamilton              85  \n",
       "Bates                 88  \n",
       "Haverford             87  \n",
       "Colgate               85  \n",
       "Bryn Mawr             84  \n",
       "Occidental            72  \n",
       "Barnard               80  \n",
       "Harvard               90  \n",
       "Stanford              88  \n",
       "Yale                  93  \n",
       "Princeton             93  \n",
       "MIT                   86  \n",
       "Duke                  91  \n",
       "Dartmouth             95  \n",
       "Cornell               83  \n",
       "Columbia              90  \n",
       "U of Chicago          73  \n",
       "Brown                 90  \n",
       "U Penn                86  \n",
       "Berkeley              68  \n",
       "Rice                  88  \n",
       "U Va.                 88  \n",
       "Georgetown            89  \n",
       "UNC                   73  \n",
       "U Michican            77  \n",
       "Carnegie Mellon       77  \n",
       "Northwestern          82  \n",
       "Washington U (MO)     76  \n",
       "U of Rochester        73  "
      ]
     },
     "execution_count": 18,
     "metadata": {},
     "output_type": "execute_result"
    }
   ],
   "source": [
    "new_data"
   ]
  },
  {
   "cell_type": "markdown",
   "metadata": {},
   "source": [
    "### В данном датасете отсутствуют пропуски в строках"
   ]
  },
  {
   "cell_type": "markdown",
   "metadata": {},
   "source": [
    "### Взаимная корреляция"
   ]
  },
  {
   "cell_type": "code",
   "execution_count": 19,
   "metadata": {},
   "outputs": [
    {
     "data": {
      "text/plain": [
       "<seaborn.axisgrid.PairGrid at 0x22e35c71748>"
      ]
     },
     "execution_count": 19,
     "metadata": {},
     "output_type": "execute_result"
    },
    {
     "data": {
      "image/png": "[encoded data removed]",
      "text/plain": [
       "<Figure size 1080x1080 with 42 Axes>"
      ]
     },
     "metadata": {
      "needs_background": "light"
     },
     "output_type": "display_data"
    }
   ],
   "source": [
    "sns.pairplot(new_data)"
   ]
  },
  {
   "cell_type": "code",
   "execution_count": 20,
   "metadata": {},
   "outputs": [
    {
     "data": {
      "image/png": "[encoded data removed]",
      "text/plain": [
       "<Figure size 1008x720 with 2 Axes>"
      ]
     },
     "metadata": {
      "needs_background": "light"
     },
     "output_type": "display_data"
    }
   ],
   "source": [
    "# Создание HeatMap для корреляции разных видов\n",
    "plt.figure(figsize=(14,10))\n",
    "ax = sns.heatmap(new_data.corr(), xticklabels=new_data.corr().columns, yticklabels=new_data.corr().columns, center=0, annot=True)\n",
    "i, k = ax.get_ylim()\n",
    "ax.set_ylim(i+0.5, k-0.5)\n",
    "plt.title('HeatMap корреляции Пирсона', fontsize=20)\n",
    "plt.xticks(fontsize=8)\n",
    "plt.yticks(fontsize=8)\n",
    "plt.show()"
   ]
  },
  {
   "cell_type": "code",
   "execution_count": 21,
   "metadata": {},
   "outputs": [
    {
     "data": {
      "image/png": "[encoded data removed]",
      "text/plain": [
       "<Figure size 1008x720 with 2 Axes>"
      ]
     },
     "metadata": {
      "needs_background": "light"
     },
     "output_type": "display_data"
    }
   ],
   "source": [
    "plt.figure(figsize=(14,10))\n",
    "ax = sns.heatmap(new_data.corr(method='kendall'), xticklabels=new_data.corr().columns, yticklabels=new_data.corr().columns, center=0, annot=True)\n",
    "i, k = ax.get_ylim()\n",
    "ax.set_ylim(i+0.5, k-0.5)\n",
    "plt.title('HeatMap корреляции Кендалла', fontsize=20)\n",
    "plt.xticks(fontsize=8)\n",
    "plt.yticks(fontsize=8)\n",
    "plt.show()"
   ]
  },
  {
   "cell_type": "code",
   "execution_count": 22,
   "metadata": {},
   "outputs": [
    {
     "data": {
      "image/png": "[encoded data removed]",
      "text/plain": [
       "<Figure size 1008x720 with 2 Axes>"
      ]
     },
     "metadata": {
      "needs_background": "light"
     },
     "output_type": "display_data"
    }
   ],
   "source": [
    "plt.figure(figsize=(14,10))\n",
    "ax = sns.heatmap(new_data.corr(method='spearman'), xticklabels=new_data.corr().columns, yticklabels=new_data.corr().columns, center=0, annot=True)\n",
    "i, k = ax.get_ylim()\n",
    "ax.set_ylim(i+0.5, k-0.5)\n",
    "plt.title('HeatMap корреляции Спирмана', fontsize=20)\n",
    "plt.xticks(fontsize=8)\n",
    "plt.yticks(fontsize=8)\n",
    "plt.show()"
   ]
  },
  {
   "cell_type": "code",
   "execution_count": 23,
   "metadata": {},
   "outputs": [
    {
     "data": {
      "image/png": "[encoded data removed]",
      "text/plain": [
       "<Figure size 1008x720 with 2 Axes>"
      ]
     },
     "metadata": {
      "needs_background": "light"
     },
     "output_type": "display_data"
    }
   ],
   "source": [
    "# Создание HeatMap для корреляции разных видов\n",
    "plt.figure(figsize=(14,10))\n",
    "ax = sns.heatmap(new_data[new_data['School_Type']=='Univ'].corr(), xticklabels=new_data.corr().columns, yticklabels=new_data.corr().columns, center=0, annot=True)\n",
    "i, k = ax.get_ylim()\n",
    "ax.set_ylim(i+0.5, k-0.5)\n",
    "plt.title('HeatMap корреляции Пирсона для университетов', fontsize=20)\n",
    "plt.xticks(fontsize=8)\n",
    "plt.yticks(fontsize=8)\n",
    "plt.show()"
   ]
  },
  {
   "cell_type": "code",
   "execution_count": 24,
   "metadata": {},
   "outputs": [
    {
     "data": {
      "image/png": "[encoded data removed]",
      "text/plain": [
       "<Figure size 1008x720 with 2 Axes>"
      ]
     },
     "metadata": {
      "needs_background": "light"
     },
     "output_type": "display_data"
    }
   ],
   "source": [
    "# Создание HeatMap для корреляции разных видов\n",
    "plt.figure(figsize=(14,10))\n",
    "ax = sns.heatmap(new_data[new_data['School_Type']!='Univ'].corr(), xticklabels=new_data.corr().columns, yticklabels=new_data.corr().columns, center=0, annot=True)\n",
    "i, k = ax.get_ylim()\n",
    "ax.set_ylim(i+0.5, k-0.5)\n",
    "plt.title('HeatMap корреляции Пирсона для школ искусств', fontsize=20)\n",
    "plt.xticks(fontsize=8)\n",
    "plt.yticks(fontsize=8)\n",
    "plt.show()"
   ]
  },
  {
   "cell_type": "markdown",
   "metadata": {},
   "source": [
    "## Выводы:\n",
    "\n",
    "<p>Коэфциенты корреляции для графы Acceptance относительно всех остальных параметров отрицательные, отсюда вывод: по количеству общих принятых заявлений можно судить о качестве образования в заведении в целом</p>\n",
    "<p></p>\n",
    "<p>\n",
    "    <b>Наибольшая корреляция (по модулю)</b>\n",
    "<ul>\n",
    "    <li><b>Кор. Пирсона: </b> -0.65 (Top 10% & Acceptance)</li>\n",
    "     <li><b>Кор. Кендалла: </b> 0.52 (SAT & Top 10%) и -0.52 (Acceptance & Grad%)</li>\n",
    "     <li><b>Кор. Спирмана: </b> -0.72 (SAT & Acceptance)</li>\n",
    "</ul>\n",
    "\n",
    "Если посмотреть на корреляцию по каждому из типов УЗ, видно, что для творческих заведений параметр SAT, а именно тест не имеет значения, тогда как для университетов имеет большое значение. В целом, имеет смысл рассматривать эти категории\n",
    "</p>\n"
   ]
  },
  {
   "cell_type": "markdown",
   "metadata": {},
   "source": [
    "# Задание 2\n",
    "\n",
    "## Генерация генеральной совокупности\n",
    "\n"
   ]
  },
  {
   "cell_type": "code",
   "execution_count": 81,
   "metadata": {},
   "outputs": [],
   "source": [
    "# Функция генерирует ГС из трех нормальных распредлений\n",
    "# Делит ГС на три страты с долями 1/2, 1/3, 1/6\n",
    "# Принимает на вход мат. ожидания и дисперсии 3 состовляющих ГС\n",
    "def gen(m, d, N = 2000):\n",
    "    first = stats.norm.rvs(size=N//2, loc=m[0], scale=d[0])\n",
    "    second = stats.norm.rvs(size=N//3, loc=m[1], scale=d[1])\n",
    "    third = stats.norm.rvs(size=N - N // 2 - N // 3, loc=m[2], scale=d[2])\n",
    "    mix = np.hstack([first, second, third])\n",
    "    strats = np.zeros(N)\n",
    "    strats[0: N//2] = 1\n",
    "    strats[N//2: N//2 + N//3] = 2\n",
    "    strats[N//2 + N//3:] = 3\n",
    "    data = pd.DataFrame({'strat':strats, 'GP':mix})\n",
    "    return data"
   ]
  },
  {
   "cell_type": "code",
   "execution_count": 82,
   "metadata": {},
   "outputs": [],
   "source": [
    "# Функция оценки параметров ГС\n",
    "# Имеет три метода описанных в презентации (simple, prop, optimal)\n",
    "def sample(n, data, method='simple', N = 2000):\n",
    "    # Метод случайного выбора из ГС\n",
    "    if method == 'simple':\n",
    "        t = data['GP'].sample(n)\n",
    "        EX = np.mean(t)\n",
    "        d = np.var(t)\n",
    "        DX = d * (n - 1) / n * N / (N - 1)\n",
    "    # Пропорциональное разбиение на страты\n",
    "    elif method == 'prop':\n",
    "        strats = ([0] * 3).copy()\n",
    "        strats[0] = data[data['strat'] == 1]['GP'].sample(n//2)\n",
    "        strats[1] = data[data['strat'] == 2]['GP'].sample(n//3)\n",
    "        strats[2] = data[data['strat'] == 3]['GP'].sample(n - n//2 - n//3)\n",
    "        m = sum([sum(strats[i]) for i in range(3)]) / n\n",
    "        EX = np.mean(strats[0])/2 + np.mean(strats[1])/3 + np.mean(strats[2])/6\n",
    "        d = np.var(strats[0])/2 + np.var(strats[1])/3 + np.var(strats[2])/6\n",
    "        DX = d + ((m - np.mean(strats[0]))**2)/2 + ((m - np.mean(strats[1]))**2)/3 + ((m - np.mean(strats[2]))**2)/6\n",
    "    \n",
    "    # Метод оптимального деления\n",
    "    elif method == 'optimal':\n",
    "        prop = [1/2, 1/3, 1/6]\n",
    "        strats = ([0] * 3).copy()\n",
    "        tmp = sum([prop[j] * np.std(data[data['strat'] == j + 1]['GP']) for j in range(3)])\n",
    "        for i in range(3):\n",
    "            nk = n * np.std(data[data['strat'] == i + 1]['GP']) * prop[i] / tmp\n",
    "            strats[i] = data[data['strat'] == i+1]['GP'].sample(round(nk))\n",
    "        m = sum([sum(strats[i]) for i in range(3)]) / n\n",
    "        EX = np.mean(strats[0])/2 + np.mean(strats[1])/3 + np.mean(strats[2])/6\n",
    "        d = np.var(strats[0])/2 + np.var(strats[1])/3 + np.var(strats[2])/6\n",
    "        DX = d + ((m - np.mean(strats[0]))**2)/2 + ((m - np.mean(strats[1]))**2)/3 + ((m - np.mean(strats[2]))**2)/6\n",
    "    return [EX, DX]"
   ]
  },
  {
   "cell_type": "markdown",
   "metadata": {},
   "source": [
    "### Параметры и доли распределений\n",
    "\n",
    "<ol>\n",
    "    <li><b>μ</b> = 5 <b>σ<sup>2</sup></b> = 3 <b>Доля</b> 1/2 </li>\n",
    "    <li><b>μ</b> = 5 <b>σ<sup>2</sup></b> = 3 <b>Доля</b> 1/3 </li>\n",
    "    <li><b>μ</b> = 5 <b>σ<sup>2</sup></b> = 3 <b>Доля</b> 1/6 </li>\n",
    "</ol>"
   ]
  },
  {
   "cell_type": "code",
   "execution_count": 83,
   "metadata": {},
   "outputs": [],
   "source": [
    "# data - сгенированное распредление из введенных данных\n",
    "data = gen([5]*3,[3]*3)"
   ]
  },
  {
   "cell_type": "code",
   "execution_count": 84,
   "metadata": {},
   "outputs": [
    {
     "data": {
      "text/plain": [
       "<matplotlib.legend.Legend at 0x22e3da31348>"
      ]
     },
     "execution_count": 84,
     "metadata": {},
     "output_type": "execute_result"
    },
    {
     "data": {
      "image/png": "[encoded data removed]",
      "text/plain": [
       "<Figure size 504x360 with 1 Axes>"
      ]
     },
     "metadata": {
      "needs_background": "light"
     },
     "output_type": "display_data"
    }
   ],
   "source": [
    "# Гистограмма распределения и стратификация\n",
    "plt.figure(figsize=(7, 5))\n",
    "plt.hist(data['GP'], bins = 30, alpha=0.6, label='Ген.сов.')\n",
    "plt.hist(data[data['strat'] == 1]['GP'], bins = 30, alpha=0.6, label='strat 1')\n",
    "plt.hist(data[data['strat'] == 2]['GP'], bins = 30, alpha=0.6, label='strat 2')\n",
    "plt.hist(data[data['strat'] == 3]['GP'], bins = 30, alpha=0.6, label='strat 3')\n",
    "plt.title(\"Стратификация генеральной совокупности, m=\" + str(round(np.mean(data['GP']), 2))+', d='+str(round(np.var(data['GP']), 2)), fontsize=14)\n",
    "plt.legend(fontsize=12)"
   ]
  },
  {
   "cell_type": "code",
   "execution_count": 85,
   "metadata": {},
   "outputs": [
    {
     "data": {
      "image/png": "[encoded data removed]",
      "text/plain": [
       "<Figure size 504x720 with 2 Axes>"
      ]
     },
     "metadata": {
      "needs_background": "light"
     },
     "output_type": "display_data"
    }
   ],
   "source": [
    "# Здесь и далее идет моделирование 1000 выборок из ГС\n",
    "# Используются выборки 40 и 500 для каждого из трех представленных методов\n",
    "\n",
    "result = []\n",
    "for i in range(1000):\n",
    "    result.append([*sample(40, data), *sample(40, data, method='prop'), *sample(40, data, method='optimal')])\n",
    "result = pd.DataFrame(result)\n",
    "result.columns = ['simple μ', 'simple d' , 'prop μ', 'prop d', 'optimal μ', 'optimal d']\n",
    "plt.figure(figsize = (7,10))\n",
    "\n",
    "plt.subplot(2, 1, 1)\n",
    "result[['simple μ' , 'prop μ', 'optimal μ']].boxplot()\n",
    "plt.title('Равные мат. ожид. и равные дисперсии, выборка 40')\n",
    "plt.subplot(2, 1, 2)\n",
    "result[['simple d', 'prop d', 'optimal d']].boxplot()\n",
    "\n",
    "m = []\n",
    "d = []\n",
    "formula_d =[]\n",
    "for col in ['simple μ' , 'prop μ', 'optimal μ']:\n",
    "    m.append(np.mean(result[col]))\n",
    "    d.append(np.var(result[col]))\n",
    "    \n",
    "for col in ['simple d', 'prop d', 'optimal d']:\n",
    "    formula_d.append(np.mean(result[col]))\n",
    "\n",
    "stat = pd.DataFrame([m, d, formula_d])\n",
    "stat.columns = ['simple', 'prop', 'optimal']\n",
    "stat.index = ['Оценка среднего', 'Дисперсия средних', 'Оценка дисперсии ГС']"
   ]
  },
  {
   "cell_type": "code",
   "execution_count": 87,
   "metadata": {},
   "outputs": [
    {
     "data": {
      "text/html": [
       "<div>\n",
       "<style scoped>\n",
       "    .dataframe tbody tr th:only-of-type {\n",
       "        vertical-align: middle;\n",
       "    }\n",
       "\n",
       "    .dataframe tbody tr th {\n",
       "        vertical-align: top;\n",
       "    }\n",
       "\n",
       "    .dataframe thead th {\n",
       "        text-align: right;\n",
       "    }\n",
       "</style>\n",
       "<table border=\"1\" class=\"dataframe\">\n",
       "  <thead>\n",
       "    <tr style=\"text-align: right;\">\n",
       "      <th></th>\n",
       "      <th>simple</th>\n",
       "      <th>prop</th>\n",
       "      <th>optimal</th>\n",
       "    </tr>\n",
       "  </thead>\n",
       "  <tbody>\n",
       "    <tr>\n",
       "      <td>Оценка среднего</td>\n",
       "      <td>5.054301</td>\n",
       "      <td>5.005104</td>\n",
       "      <td>5.066844</td>\n",
       "    </tr>\n",
       "    <tr>\n",
       "      <td>Дисперсия средних</td>\n",
       "      <td>0.218214</td>\n",
       "      <td>0.214319</td>\n",
       "      <td>0.198941</td>\n",
       "    </tr>\n",
       "    <tr>\n",
       "      <td>Оценка дисперсии ГС</td>\n",
       "      <td>8.066201</td>\n",
       "      <td>8.322284</td>\n",
       "      <td>8.256388</td>\n",
       "    </tr>\n",
       "  </tbody>\n",
       "</table>\n",
       "</div>"
      ],
      "text/plain": [
       "                       simple      prop   optimal\n",
       "Оценка среднего      5.054301  5.005104  5.066844\n",
       "Дисперсия средних    0.218214  0.214319  0.198941\n",
       "Оценка дисперсии ГС  8.066201  8.322284  8.256388"
      ]
     },
     "execution_count": 87,
     "metadata": {},
     "output_type": "execute_result"
    }
   ],
   "source": [
    "stat"
   ]
  },
  {
   "cell_type": "code",
   "execution_count": 88,
   "metadata": {},
   "outputs": [
    {
     "data": {
      "image/png": "[encoded data removed]",
      "text/plain": [
       "<Figure size 504x720 with 2 Axes>"
      ]
     },
     "metadata": {
      "needs_background": "light"
     },
     "output_type": "display_data"
    }
   ],
   "source": [
    "result = []\n",
    "for i in range(1000):\n",
    "    result.append([*sample(500, data), *sample(500, data, method='prop'), *sample(500, data, method='optimal')])\n",
    "result = pd.DataFrame(result)\n",
    "result.columns = ['simple μ', 'simple d' , 'prop μ', 'prop d', 'optimal μ', 'optimal d']\n",
    "plt.figure(figsize = (7,10))\n",
    "\n",
    "plt.subplot(2, 1, 1)\n",
    "result[['simple μ' , 'prop μ', 'optimal μ']].boxplot()\n",
    "plt.title('Равные мат. ожид. и равные дисперсии, выборка 500')\n",
    "plt.subplot(2, 1, 2)\n",
    "result[['simple d', 'prop d', 'optimal d']].boxplot()\n",
    "\n",
    "m = []\n",
    "d = []\n",
    "formula_d =[]\n",
    "for col in ['simple μ' , 'prop μ', 'optimal μ']:\n",
    "    m.append(np.mean(result[col]))\n",
    "    d.append(np.var(result[col]))\n",
    "    \n",
    "for col in ['simple d', 'prop d', 'optimal d']:\n",
    "    formula_d.append(np.mean(result[col]))\n",
    "\n",
    "stat = pd.DataFrame([m, d, formula_d])\n",
    "stat.columns = ['simple', 'prop', 'optimal']\n",
    "stat.index = ['Оценка среднего', 'Дисперсия средних', 'Оценка дисперсии ГС']"
   ]
  },
  {
   "cell_type": "code",
   "execution_count": 89,
   "metadata": {},
   "outputs": [
    {
     "data": {
      "text/html": [
       "<div>\n",
       "<style scoped>\n",
       "    .dataframe tbody tr th:only-of-type {\n",
       "        vertical-align: middle;\n",
       "    }\n",
       "\n",
       "    .dataframe tbody tr th {\n",
       "        vertical-align: top;\n",
       "    }\n",
       "\n",
       "    .dataframe thead th {\n",
       "        text-align: right;\n",
       "    }\n",
       "</style>\n",
       "<table border=\"1\" class=\"dataframe\">\n",
       "  <thead>\n",
       "    <tr style=\"text-align: right;\">\n",
       "      <th></th>\n",
       "      <th>simple</th>\n",
       "      <th>prop</th>\n",
       "      <th>optimal</th>\n",
       "    </tr>\n",
       "  </thead>\n",
       "  <tbody>\n",
       "    <tr>\n",
       "      <td>Оценка среднего</td>\n",
       "      <td>5.039141</td>\n",
       "      <td>5.032264</td>\n",
       "      <td>5.027997</td>\n",
       "    </tr>\n",
       "    <tr>\n",
       "      <td>Дисперсия средних</td>\n",
       "      <td>0.012768</td>\n",
       "      <td>0.012872</td>\n",
       "      <td>0.012464</td>\n",
       "    </tr>\n",
       "    <tr>\n",
       "      <td>Оценка дисперсии ГС</td>\n",
       "      <td>8.487021</td>\n",
       "      <td>8.515328</td>\n",
       "      <td>8.515056</td>\n",
       "    </tr>\n",
       "  </tbody>\n",
       "</table>\n",
       "</div>"
      ],
      "text/plain": [
       "                       simple      prop   optimal\n",
       "Оценка среднего      5.039141  5.032264  5.027997\n",
       "Дисперсия средних    0.012768  0.012872  0.012464\n",
       "Оценка дисперсии ГС  8.487021  8.515328  8.515056"
      ]
     },
     "execution_count": 89,
     "metadata": {},
     "output_type": "execute_result"
    }
   ],
   "source": [
    "stat"
   ]
  },
  {
   "cell_type": "markdown",
   "metadata": {},
   "source": [
    "### Параметры и доли распределений\n",
    "\n",
    "<ol>\n",
    "    <li><b>μ</b> = 5 <b>σ<sup>2</sup></b> = 3 <b>Доля</b> 1/2 </li>\n",
    "    <li><b>μ</b> = 5 <b>σ<sup>2</sup></b> = 4 <b>Доля</b> 1/3 </li>\n",
    "    <li><b>μ</b> = 5 <b>σ<sup>2</sup></b> = 5 <b>Доля</b> 1/6 </li>\n",
    "</ol>"
   ]
  },
  {
   "cell_type": "code",
   "execution_count": 90,
   "metadata": {},
   "outputs": [
    {
     "data": {
      "text/plain": [
       "<matplotlib.legend.Legend at 0x22e3ee03448>"
      ]
     },
     "execution_count": 90,
     "metadata": {},
     "output_type": "execute_result"
    },
    {
     "data": {
      "image/png": "[encoded data removed]",
      "text/plain": [
       "<Figure size 504x360 with 1 Axes>"
      ]
     },
     "metadata": {
      "needs_background": "light"
     },
     "output_type": "display_data"
    }
   ],
   "source": [
    "data = gen([5]*3,[3, 4, 5])\n",
    "plt.figure(figsize=(7, 5))\n",
    "plt.hist(data['GP'], bins = 30, alpha=0.6, label='Ген.сов.')\n",
    "plt.hist(data[data['strat'] == 1]['GP'], bins = 30, alpha=0.6, label='strat 1')\n",
    "plt.hist(data[data['strat'] == 2]['GP'], bins = 30, alpha=0.6, label='strat 2')\n",
    "plt.hist(data[data['strat'] == 3]['GP'], bins = 30, alpha=0.6, label='strat 3')\n",
    "plt.title(\"Стратификация генеральной совокупности, m=\" + str(round(np.mean(data['GP']), 2))+', d='+str(round(np.var(data['GP']), 2)), fontsize=14)\n",
    "plt.legend(fontsize=12)"
   ]
  },
  {
   "cell_type": "code",
   "execution_count": 91,
   "metadata": {},
   "outputs": [
    {
     "data": {
      "image/png": "[encoded data removed]",
      "text/plain": [
       "<Figure size 504x720 with 2 Axes>"
      ]
     },
     "metadata": {
      "needs_background": "light"
     },
     "output_type": "display_data"
    }
   ],
   "source": [
    "result = []\n",
    "for i in range(1000):\n",
    "    result.append([*sample(40, data), *sample(40, data, method='prop'), *sample(40, data, method='optimal')])\n",
    "result = pd.DataFrame(result)\n",
    "result.columns = ['simple μ', 'simple d' , 'prop μ', 'prop d', 'optimal μ', 'optimal d']\n",
    "plt.figure(figsize = (7,10))\n",
    "\n",
    "plt.subplot(2, 1, 1)\n",
    "result[['simple μ' , 'prop μ', 'optimal μ']].boxplot()\n",
    "plt.title('Равные мат. ожид. и разные дисперсии, выборка 40')\n",
    "plt.subplot(2, 1, 2)\n",
    "result[['simple d', 'prop d', 'optimal d']].boxplot()\n",
    "\n",
    "m = []\n",
    "d = []\n",
    "formula_d =[]\n",
    "for col in ['simple μ' , 'prop μ', 'optimal μ']:\n",
    "    m.append(np.mean(result[col]))\n",
    "    d.append(np.var(result[col]))\n",
    "    \n",
    "for col in ['simple d', 'prop d', 'optimal d']:\n",
    "    formula_d.append(np.mean(result[col]))\n",
    "\n",
    "stat = pd.DataFrame([m, d, formula_d])\n",
    "stat.columns = ['simple', 'prop', 'optimal']\n",
    "stat.index = ['Оценка среднего', 'Дисперсия средних', 'Оценка дисперсии ГС']"
   ]
  },
  {
   "cell_type": "code",
   "execution_count": 57,
   "metadata": {},
   "outputs": [
    {
     "data": {
      "text/plain": [
       "<matplotlib.axes._subplots.AxesSubplot at 0x22e3b930308>"
      ]
     },
     "execution_count": 57,
     "metadata": {},
     "output_type": "execute_result"
    },
    {
     "data": {
      "image/png": "[encoded data removed]",
      "text/plain": [
       "<Figure size 504x720 with 2 Axes>"
      ]
     },
     "metadata": {
      "needs_background": "light"
     },
     "output_type": "display_data"
    }
   ],
   "source": [
    "result = []\n",
    "for i in range(1000):\n",
    "    result.append([*sample(500, data), *sample(500, data, method='prop'), *sample(500, data, method='optimal')])\n",
    "result = pd.DataFrame(result)\n",
    "result.columns = ['simple μ', 'simple d' , 'prop μ', 'prop d', 'optimal μ', 'optimal d']\n",
    "plt.figure(figsize = (7,10))\n",
    "\n",
    "plt.subplot(2, 1, 1)\n",
    "result[['simple μ' , 'prop μ', 'optimal μ']].boxplot()\n",
    "plt.title('Равные мат. ожид. и разные дисперсии, выборка 500')\n",
    "plt.subplot(2, 1, 2)\n",
    "result[['simple d', 'prop d', 'optimal d']].boxplot()\n",
    "\n",
    "m = []\n",
    "d = []\n",
    "formula_d =[]\n",
    "for col in ['simple μ' , 'prop μ', 'optimal μ']:\n",
    "    m.append(np.mean(result[col]))\n",
    "    d.append(np.var(result[col]))\n",
    "    \n",
    "for col in ['simple d', 'prop d', 'optimal d']:\n",
    "    formula_d.append(np.mean(result[col]))\n",
    "\n",
    "stat = pd.DataFrame([m, d, formula_d])\n",
    "stat.columns = ['simple', 'prop', 'optimal']\n",
    "stat.index = ['Оценка среднего', 'Дисперсия средних', 'Оценка дисперсии ГС']"
   ]
  },
  {
   "cell_type": "code",
   "execution_count": 92,
   "metadata": {},
   "outputs": [
    {
     "data": {
      "text/html": [
       "<div>\n",
       "<style scoped>\n",
       "    .dataframe tbody tr th:only-of-type {\n",
       "        vertical-align: middle;\n",
       "    }\n",
       "\n",
       "    .dataframe tbody tr th {\n",
       "        vertical-align: top;\n",
       "    }\n",
       "\n",
       "    .dataframe thead th {\n",
       "        text-align: right;\n",
       "    }\n",
       "</style>\n",
       "<table border=\"1\" class=\"dataframe\">\n",
       "  <thead>\n",
       "    <tr style=\"text-align: right;\">\n",
       "      <th></th>\n",
       "      <th>simple</th>\n",
       "      <th>prop</th>\n",
       "      <th>optimal</th>\n",
       "    </tr>\n",
       "  </thead>\n",
       "  <tbody>\n",
       "    <tr>\n",
       "      <td>Оценка среднего</td>\n",
       "      <td>4.997547</td>\n",
       "      <td>4.999308</td>\n",
       "      <td>5.019817</td>\n",
       "    </tr>\n",
       "    <tr>\n",
       "      <td>Дисперсия средних</td>\n",
       "      <td>0.322163</td>\n",
       "      <td>0.327236</td>\n",
       "      <td>0.331088</td>\n",
       "    </tr>\n",
       "    <tr>\n",
       "      <td>Оценка дисперсии ГС</td>\n",
       "      <td>12.808950</td>\n",
       "      <td>13.175815</td>\n",
       "      <td>13.405460</td>\n",
       "    </tr>\n",
       "  </tbody>\n",
       "</table>\n",
       "</div>"
      ],
      "text/plain": [
       "                        simple       prop    optimal\n",
       "Оценка среднего       4.997547   4.999308   5.019817\n",
       "Дисперсия средних     0.322163   0.327236   0.331088\n",
       "Оценка дисперсии ГС  12.808950  13.175815  13.405460"
      ]
     },
     "execution_count": 92,
     "metadata": {},
     "output_type": "execute_result"
    }
   ],
   "source": [
    "stat"
   ]
  },
  {
   "cell_type": "markdown",
   "metadata": {},
   "source": [
    "### Параметры и доли распределений\n",
    "\n",
    "<ol>\n",
    "    <li><b>μ</b> = 5 <b>σ<sup>2</sup></b> = 3 <b>Доля</b> 1/2 </li>\n",
    "    <li><b>μ</b> = 10 <b>σ<sup>2</sup></b> = 4 <b>Доля</b> 1/3 </li>\n",
    "    <li><b>μ</b> = 15 <b>σ<sup>2</sup></b> = 5 <b>Доля</b> 1/6 </li>\n",
    "</ol>"
   ]
  },
  {
   "cell_type": "code",
   "execution_count": 93,
   "metadata": {},
   "outputs": [
    {
     "data": {
      "text/plain": [
       "<matplotlib.legend.Legend at 0x22e3ed4d688>"
      ]
     },
     "execution_count": 93,
     "metadata": {},
     "output_type": "execute_result"
    },
    {
     "data": {
      "image/png": "[encoded data removed]",
      "text/plain": [
       "<Figure size 504x360 with 1 Axes>"
      ]
     },
     "metadata": {
      "needs_background": "light"
     },
     "output_type": "display_data"
    }
   ],
   "source": [
    "data = gen([5, 10, 15],[5, 4, 3])\n",
    "plt.figure(figsize=(7, 5))\n",
    "plt.hist(data['GP'], bins = 30, alpha=0.6, label='Ген.сов.')\n",
    "plt.hist(data[data['strat'] == 1]['GP'], bins = 30, alpha=0.6, label='strat 1')\n",
    "plt.hist(data[data['strat'] == 2]['GP'], bins = 30, alpha=0.6, label='strat 2')\n",
    "plt.hist(data[data['strat'] == 3]['GP'], bins = 30, alpha=0.6, label='strat 3')\n",
    "plt.title(\"Стратификация генеральной совокупности, m=\" + str(round(np.mean(data['GP']), 2))+', d='+str(round(np.var(data['GP']), 2)), fontsize=14)\n",
    "plt.legend(fontsize=12)\n"
   ]
  },
  {
   "cell_type": "code",
   "execution_count": 94,
   "metadata": {},
   "outputs": [
    {
     "data": {
      "image/png": "[encoded data removed]",
      "text/plain": [
       "<Figure size 504x720 with 2 Axes>"
      ]
     },
     "metadata": {
      "needs_background": "light"
     },
     "output_type": "display_data"
    }
   ],
   "source": [
    "result = []\n",
    "for i in range(1000):\n",
    "    result.append([*sample(40, data), *sample(40, data, method='prop'), *sample(40, data, method='optimal')])\n",
    "result = pd.DataFrame(result)\n",
    "result.columns = ['simple μ', 'simple d' , 'prop μ', 'prop d', 'optimal μ', 'optimal d']\n",
    "plt.figure(figsize = (7,10))\n",
    "\n",
    "plt.subplot(2, 1, 1)\n",
    "result[['simple μ' , 'prop μ', 'optimal μ']].boxplot()\n",
    "plt.title('Разные мат. ожид. и разные дисперсии, выборка 40')\n",
    "plt.subplot(2, 1, 2)\n",
    "result[['simple d', 'prop d', 'optimal d']].boxplot()\n",
    "\n",
    "m = []\n",
    "d = []\n",
    "formula_d =[]\n",
    "for col in ['simple μ' , 'prop μ', 'optimal μ']:\n",
    "    m.append(np.mean(result[col]))\n",
    "    d.append(np.var(result[col]))\n",
    "    \n",
    "for col in ['simple d', 'prop d', 'optimal d']:\n",
    "    formula_d.append(np.mean(result[col]))\n",
    "\n",
    "stat = pd.DataFrame([m, d, formula_d])\n",
    "stat.columns = ['simple', 'prop', 'optimal']\n",
    "stat.index = ['Оценка среднего', 'Дисперсия средних', 'Оценка дисперсии ГС']"
   ]
  },
  {
   "cell_type": "code",
   "execution_count": 95,
   "metadata": {},
   "outputs": [
    {
     "data": {
      "text/html": [
       "<div>\n",
       "<style scoped>\n",
       "    .dataframe tbody tr th:only-of-type {\n",
       "        vertical-align: middle;\n",
       "    }\n",
       "\n",
       "    .dataframe tbody tr th {\n",
       "        vertical-align: top;\n",
       "    }\n",
       "\n",
       "    .dataframe thead th {\n",
       "        text-align: right;\n",
       "    }\n",
       "</style>\n",
       "<table border=\"1\" class=\"dataframe\">\n",
       "  <thead>\n",
       "    <tr style=\"text-align: right;\">\n",
       "      <th></th>\n",
       "      <th>simple</th>\n",
       "      <th>prop</th>\n",
       "      <th>optimal</th>\n",
       "    </tr>\n",
       "  </thead>\n",
       "  <tbody>\n",
       "    <tr>\n",
       "      <td>Оценка среднего</td>\n",
       "      <td>8.353590</td>\n",
       "      <td>8.295822</td>\n",
       "      <td>8.280154</td>\n",
       "    </tr>\n",
       "    <tr>\n",
       "      <td>Дисперсия средних</td>\n",
       "      <td>0.786600</td>\n",
       "      <td>0.523980</td>\n",
       "      <td>0.497828</td>\n",
       "    </tr>\n",
       "    <tr>\n",
       "      <td>Оценка дисперсии ГС</td>\n",
       "      <td>32.248241</td>\n",
       "      <td>33.107394</td>\n",
       "      <td>34.244718</td>\n",
       "    </tr>\n",
       "  </tbody>\n",
       "</table>\n",
       "</div>"
      ],
      "text/plain": [
       "                        simple       prop    optimal\n",
       "Оценка среднего       8.353590   8.295822   8.280154\n",
       "Дисперсия средних     0.786600   0.523980   0.497828\n",
       "Оценка дисперсии ГС  32.248241  33.107394  34.244718"
      ]
     },
     "execution_count": 95,
     "metadata": {},
     "output_type": "execute_result"
    }
   ],
   "source": [
    "stat"
   ]
  },
  {
   "cell_type": "code",
   "execution_count": 96,
   "metadata": {},
   "outputs": [
    {
     "data": {
      "image/png": "[encoded data removed]",
      "text/plain": [
       "<Figure size 504x720 with 2 Axes>"
      ]
     },
     "metadata": {
      "needs_background": "light"
     },
     "output_type": "display_data"
    }
   ],
   "source": [
    "result = []\n",
    "for i in range(1000):\n",
    "    result.append([*sample(500, data), *sample(500, data, method='prop'), *sample(500, data, method='optimal')])\n",
    "result = pd.DataFrame(result)\n",
    "result.columns = ['simple μ', 'simple d' , 'prop μ', 'prop d', 'optimal μ', 'optimal d']\n",
    "plt.figure(figsize = (7,10))\n",
    "\n",
    "plt.subplot(2, 1, 1)\n",
    "result[['simple μ' , 'prop μ', 'optimal μ']].boxplot()\n",
    "plt.title('Разные мат. ожид. и разные дисперсии, выборка 500')\n",
    "plt.subplot(2, 1, 2)\n",
    "result[['simple d', 'prop d', 'optimal d']].boxplot()\n",
    "\n",
    "m = []\n",
    "d = []\n",
    "formula_d =[]\n",
    "for col in ['simple μ' , 'prop μ', 'optimal μ']:\n",
    "    m.append(np.mean(result[col]))\n",
    "    d.append(np.var(result[col]))\n",
    "    \n",
    "for col in ['simple d', 'prop d', 'optimal d']:\n",
    "    formula_d.append(np.mean(result[col]))\n",
    "\n",
    "stat = pd.DataFrame([m, d, formula_d])\n",
    "stat.columns = ['simple', 'prop', 'optimal']\n",
    "stat.index = ['Оценка среднего', 'Дисперсия средних', 'Оценка дисперсии ГС']"
   ]
  },
  {
   "cell_type": "code",
   "execution_count": 97,
   "metadata": {},
   "outputs": [
    {
     "data": {
      "text/html": [
       "<div>\n",
       "<style scoped>\n",
       "    .dataframe tbody tr th:only-of-type {\n",
       "        vertical-align: middle;\n",
       "    }\n",
       "\n",
       "    .dataframe tbody tr th {\n",
       "        vertical-align: top;\n",
       "    }\n",
       "\n",
       "    .dataframe thead th {\n",
       "        text-align: right;\n",
       "    }\n",
       "</style>\n",
       "<table border=\"1\" class=\"dataframe\">\n",
       "  <thead>\n",
       "    <tr style=\"text-align: right;\">\n",
       "      <th></th>\n",
       "      <th>simple</th>\n",
       "      <th>prop</th>\n",
       "      <th>optimal</th>\n",
       "    </tr>\n",
       "  </thead>\n",
       "  <tbody>\n",
       "    <tr>\n",
       "      <td>Оценка среднего</td>\n",
       "      <td>8.297728</td>\n",
       "      <td>8.280692</td>\n",
       "      <td>8.290082</td>\n",
       "    </tr>\n",
       "    <tr>\n",
       "      <td>Дисперсия средних</td>\n",
       "      <td>0.050001</td>\n",
       "      <td>0.030808</td>\n",
       "      <td>0.029487</td>\n",
       "    </tr>\n",
       "    <tr>\n",
       "      <td>Оценка дисперсии ГС</td>\n",
       "      <td>33.706701</td>\n",
       "      <td>33.740211</td>\n",
       "      <td>34.237048</td>\n",
       "    </tr>\n",
       "  </tbody>\n",
       "</table>\n",
       "</div>"
      ],
      "text/plain": [
       "                        simple       prop    optimal\n",
       "Оценка среднего       8.297728   8.280692   8.290082\n",
       "Дисперсия средних     0.050001   0.030808   0.029487\n",
       "Оценка дисперсии ГС  33.706701  33.740211  34.237048"
      ]
     },
     "execution_count": 97,
     "metadata": {},
     "output_type": "execute_result"
    }
   ],
   "source": [
    "stat"
   ]
  },
  {
   "cell_type": "markdown",
   "metadata": {},
   "source": [
    "## Выводы\n",
    "<ol>\n",
    "    <li>Все методы приблизительно точно оценивают параметры ГС</li>\n",
    "    <li>Метод простого отбора даже на меленьких выборах имеет большую погрешность, относительно двух других</li>\n",
    "    <li>В большинстве случаев метод простого отбора имеет много выбросов при оценке параметров</li>\n",
    "    <li>На больших выборках разница между оптимальным и пропорциональным разбинением заметнее</li>\n",
    "    <li>В большинстве случаев мат. ожидание точнее с использованием оптимального метода</li>\n",
    "    <li>Дисперсия точнее оценивается пропорциональным методом (зависит от входных данных, мат ожидания и дисперсии)</li>\n",
    "</ol>"
   ]
  },
  {
   "cell_type": "markdown",
   "metadata": {},
   "source": [
    "# Задание 3\n",
    "\n",
    "### Создание синтетических данных"
   ]
  },
  {
   "cell_type": "code",
   "execution_count": 132,
   "metadata": {},
   "outputs": [],
   "source": [
    "mix = np.hstack([stats.norm.rvs(size=100, loc=4, scale=5), stats.norm.rvs(size=100, loc=10, scale=2)])\n",
    "mix_alternative = np.hstack([stats.norm.rvs(size=100, loc=10, scale=5), stats.norm.rvs(size=100, loc=4, scale=2)])"
   ]
  },
  {
   "cell_type": "code",
   "execution_count": 26,
   "metadata": {},
   "outputs": [],
   "source": [
    "# Функция использует критерий SPRT, параметр для ошибки первого рода = 0.05\n",
    "# Параметр для оценки второго рода = 0.2\n",
    "\n",
    "# def sprt(data, sigma, h0, h1, alpha = 0.05, beta = 0.2):\n",
    "#     var = sigma ** 2\n",
    "#     cum_sum = np.cumsum(data)\n",
    "#     up_border = np.log((1-beta)/alpha)\n",
    "#     low_border = np.log(beta/(1-alpha))\n",
    "#     n = len(data)\n",
    "#     sequence = np.array(range(1, n + 1))\n",
    "#     x = np.array(range(0, n+2))\n",
    "#     yl = yu = np.ones(n+2)\n",
    "#     slope = (h1 + h0) / 2\n",
    "#     low_i, up_i = np.array([low_border, up_border]) * var / (h1 - h0)\n",
    "#     low_boundary = sequence * slope + low_i\n",
    "#     up_boundary = sequence * slope + up_i\n",
    "#     yl = x * slope + low_i\n",
    "#     yu = x * slope + up_i\n",
    "#     test = cum_sum[n - 1]\n",
    "#     if test > up_boundary[n - 1]:\n",
    "#         return 'H0: отвергается', True\n",
    "#     elif test < low_boundary[n - 1]:\n",
    "#         return 'H0: принимается', True\n",
    "#     else:\n",
    "#         return 'Продолжить мониторинг', False"
   ]
  },
  {
   "cell_type": "code",
   "execution_count": 112,
   "metadata": {},
   "outputs": [],
   "source": [
    "def sprt(data, sigma, h0, h1, alpha=0.05, beta=0.2):\n",
    "    a = np.log(beta/(1-alpha))\n",
    "    b = np.log((1 - beta)/alpha)\n",
    "    s = 0\n",
    "    i = 0\n",
    "    while s > a and s < b and i < len(data):\n",
    "        s += (h0 - h1)*(2 * data[i] - h0 - h1) / (2 * sigma ** 2)\n",
    "        i += 1\n",
    "    print('Шагов потребовалось', i)\n",
    "    if s < a:\n",
    "        return 'H0 принимается'\n",
    "    elif s > b:\n",
    "        return 'H1 принимается'\n",
    "    else:\n",
    "        return 'Продолжить мониторинг'\n",
    "    "
   ]
  },
  {
   "cell_type": "markdown",
   "metadata": {},
   "source": [
    "<b>H0</b> - ГС представлена нормальным распредлением с параметрами a = 4, sigma = 15 <br>\n",
    "<b>H1</b> - ГС представлена нормальным распредлением с параметрами a = 10, sigma = 15 <br>"
   ]
  },
  {
   "cell_type": "code",
   "execution_count": 133,
   "metadata": {},
   "outputs": [
    {
     "name": "stdout",
     "output_type": "stream",
     "text": [
      "7.307413044656844\n"
     ]
    },
    {
     "data": {
      "image/png": "[encoded data removed]",
      "text/plain": [
       "<Figure size 432x288 with 1 Axes>"
      ]
     },
     "metadata": {
      "needs_background": "light"
     },
     "output_type": "display_data"
    }
   ],
   "source": [
    "plt.xlabel('Генеральная совокупность')\n",
    "plt.hist(mix, bins = 20)\n",
    "print(np.mean(mix))"
   ]
  },
  {
   "cell_type": "code",
   "execution_count": 134,
   "metadata": {},
   "outputs": [
    {
     "name": "stdout",
     "output_type": "stream",
     "text": [
      "6.860024247623478\n"
     ]
    },
    {
     "data": {
      "image/png": "[encoded data removed]",
      "text/plain": [
       "<Figure size 432x288 with 1 Axes>"
      ]
     },
     "metadata": {
      "needs_background": "light"
     },
     "output_type": "display_data"
    }
   ],
   "source": [
    "plt.xlabel('Альтернативная генеральная совокупность')\n",
    "plt.hist(mix_alternative, bins = 20)\n",
    "print(np.mean(mix_alternative))"
   ]
  },
  {
   "cell_type": "code",
   "execution_count": 131,
   "metadata": {},
   "outputs": [
    {
     "name": "stdout",
     "output_type": "stream",
     "text": [
      "Шагов потребовалось 19\n"
     ]
    },
    {
     "data": {
      "text/plain": [
       "'H1 принимается'"
      ]
     },
     "execution_count": 131,
     "metadata": {},
     "output_type": "execute_result"
    }
   ],
   "source": [
    "h0 = 4\n",
    "h1 = 10\n",
    "sigma = 15\n",
    "sprt(mix, sigma, h0, h1)"
   ]
  },
  {
   "cell_type": "markdown",
   "metadata": {},
   "source": [
    "## Оценка среднего числа наблюдений"
   ]
  },
  {
   "cell_type": "code",
   "execution_count": null,
   "metadata": {},
   "outputs": [],
   "source": [
    "def E(alpha, beta, h0, h1, sigma):\n",
    "    w = (1 - alpha) * np.log((1 - alpha)/beta) + alpha * np.log(alpha/(1-beta))\n",
    "    "
   ]
  },
  {
   "cell_type": "markdown",
   "metadata": {},
   "source": [
    "### Выводы\n",
    "\n",
    "Чем ближе h0 к истинному значению тем меньше шагов нужно алгоритму чтобы принять гипотезу<br>\n",
    "Изначально критерий бета (ошибка II рода), больше чем альфа (ошибка I рода), поэтому в нулевая гипотеза в случае небольшой разницы мжду H0 и H1 может неверно отвергаться <br>\n",
    "Алгоритм при данных условиях вероятнее совершит ошибку первого рода, чем ошибку второго рода\n"
   ]
  },
  {
   "cell_type": "markdown",
   "metadata": {},
   "source": [
    "# Задание 4"
   ]
  },
  {
   "cell_type": "markdown",
   "metadata": {},
   "source": [
    "## Проверка гипотезы для коэффициента корреляции"
   ]
  },
  {
   "cell_type": "code",
   "execution_count": 80,
   "metadata": {},
   "outputs": [],
   "source": [
    "brain = pd.read_csv('brain.tsv', delimiter='\\t')\n",
    "carprefs = pd.read_csv('carprefs.tsv', delimiter='\\t')"
   ]
  },
  {
   "cell_type": "code",
   "execution_count": 81,
   "metadata": {},
   "outputs": [
    {
     "data": {
      "text/html": [
       "<div>\n",
       "<style scoped>\n",
       "    .dataframe tbody tr th:only-of-type {\n",
       "        vertical-align: middle;\n",
       "    }\n",
       "\n",
       "    .dataframe tbody tr th {\n",
       "        vertical-align: top;\n",
       "    }\n",
       "\n",
       "    .dataframe thead th {\n",
       "        text-align: right;\n",
       "    }\n",
       "</style>\n",
       "<table border=\"1\" class=\"dataframe\">\n",
       "  <thead>\n",
       "    <tr style=\"text-align: right;\">\n",
       "      <th></th>\n",
       "      <th>Gender</th>\n",
       "      <th>FSIQ</th>\n",
       "      <th>VIQ</th>\n",
       "      <th>PIQ</th>\n",
       "      <th>Weight</th>\n",
       "      <th>Height</th>\n",
       "      <th>MRI_Count</th>\n",
       "    </tr>\n",
       "  </thead>\n",
       "  <tbody>\n",
       "    <tr>\n",
       "      <td>0</td>\n",
       "      <td>Female</td>\n",
       "      <td>133</td>\n",
       "      <td>132</td>\n",
       "      <td>124</td>\n",
       "      <td>118</td>\n",
       "      <td>64.5</td>\n",
       "      <td>816932</td>\n",
       "    </tr>\n",
       "    <tr>\n",
       "      <td>1</td>\n",
       "      <td>Male</td>\n",
       "      <td>140</td>\n",
       "      <td>150</td>\n",
       "      <td>124</td>\n",
       "      <td>�</td>\n",
       "      <td>72.5</td>\n",
       "      <td>1001121</td>\n",
       "    </tr>\n",
       "    <tr>\n",
       "      <td>2</td>\n",
       "      <td>Male</td>\n",
       "      <td>139</td>\n",
       "      <td>123</td>\n",
       "      <td>150</td>\n",
       "      <td>143</td>\n",
       "      <td>73.3</td>\n",
       "      <td>1038437</td>\n",
       "    </tr>\n",
       "    <tr>\n",
       "      <td>3</td>\n",
       "      <td>Male</td>\n",
       "      <td>133</td>\n",
       "      <td>129</td>\n",
       "      <td>128</td>\n",
       "      <td>172</td>\n",
       "      <td>68.8</td>\n",
       "      <td>965353</td>\n",
       "    </tr>\n",
       "    <tr>\n",
       "      <td>4</td>\n",
       "      <td>Female</td>\n",
       "      <td>137</td>\n",
       "      <td>132</td>\n",
       "      <td>134</td>\n",
       "      <td>147</td>\n",
       "      <td>65.0</td>\n",
       "      <td>951545</td>\n",
       "    </tr>\n",
       "  </tbody>\n",
       "</table>\n",
       "</div>"
      ],
      "text/plain": [
       "   Gender  FSIQ  VIQ  PIQ Weight Height  MRI_Count\n",
       "0  Female   133  132  124    118   64.5     816932\n",
       "1    Male   140  150  124      �   72.5    1001121\n",
       "2    Male   139  123  150    143   73.3    1038437\n",
       "3    Male   133  129  128    172   68.8     965353\n",
       "4  Female   137  132  134    147   65.0     951545"
      ]
     },
     "execution_count": 81,
     "metadata": {},
     "output_type": "execute_result"
    }
   ],
   "source": [
    "brain.head()"
   ]
  },
  {
   "cell_type": "code",
   "execution_count": 82,
   "metadata": {},
   "outputs": [
    {
     "data": {
      "text/plain": [
       "<Figure size 1080x360 with 0 Axes>"
      ]
     },
     "metadata": {},
     "output_type": "display_data"
    },
    {
     "data": {
      "image/png": "[encoded data removed]",
      "text/plain": [
       "<Figure size 1224x360 with 1 Axes>"
      ]
     },
     "metadata": {
      "needs_background": "light"
     },
     "output_type": "display_data"
    },
    {
     "data": {
      "image/png": "[encoded data removed]",
      "text/plain": [
       "<Figure size 1224x360 with 1 Axes>"
      ]
     },
     "metadata": {
      "needs_background": "light"
     },
     "output_type": "display_data"
    },
    {
     "data": {
      "image/png": "[encoded data removed]",
      "text/plain": [
       "<Figure size 1224x360 with 1 Axes>"
      ]
     },
     "metadata": {
      "needs_background": "light"
     },
     "output_type": "display_data"
    }
   ],
   "source": [
    "# График корреляции IQ и размера мозга с разбиением по половому признаку\n",
    "import warnings\n",
    "warnings.filterwarnings('ignore')\n",
    "cats = np.unique(brain['Gender'])\n",
    "colors = [plt.cm.tab10(i/float(len(cats)-1)) for i in range(len(cats))]\n",
    "plt.figure(figsize=(15,5))\n",
    "headers = ['FSIQ', 'VIQ', 'PIQ']\n",
    "for j in range(3):\n",
    "    plt.figure(figsize=(17,5))\n",
    "    plt.subplot(1, 3, j+1)\n",
    "    for i, cat in enumerate(cats):\n",
    "        plt.scatter('MRI_Count', headers[j], data = brain.loc[brain.Gender==cat, :], s=20, label=str(cat))\n",
    "    plt.xlabel('Размер мозга')\n",
    "    plt.ylabel(headers[j])\n",
    "    plt.legend(fontsize=12)\n",
    "    plt.show()"
   ]
  },
  {
   "cell_type": "markdown",
   "metadata": {},
   "source": [
    "<b>H0</b> - корреляция есть <br>\n",
    "<b>H1</b> - корреляции нет"
   ]
  },
  {
   "cell_type": "code",
   "execution_count": 84,
   "metadata": {},
   "outputs": [],
   "source": [
    "# Критерий Фишера\n",
    "def f1(x, y, a):\n",
    "    x_m = np.mean(x)\n",
    "    y_m = np.mean(y)\n",
    "    r = sum((x-x_m)*(y-y_m))\n",
    "    r /= sum((x-x_m) ** 2) ** 0.5\n",
    "    r /= sum((y-y_m) ** 2) ** 0.5\n",
    "    t = r/(1-r**2)**0.5 * (len(x)-2)**0.5\n",
    "    t1 = stats.t.ppf(1 - a, len(x)-2)\n",
    "    if abs(t) > abs(t1):\n",
    "        return 'Отвергаем H0'\n",
    "    else:\n",
    "        return 'Не отвергаем H0'"
   ]
  },
  {
   "cell_type": "markdown",
   "metadata": {},
   "source": [
    "### Выборка без разделения по полу"
   ]
  },
  {
   "cell_type": "code",
   "execution_count": 85,
   "metadata": {},
   "outputs": [
    {
     "data": {
      "text/plain": [
       "'Отвергаем H0'"
      ]
     },
     "execution_count": 85,
     "metadata": {},
     "output_type": "execute_result"
    }
   ],
   "source": [
    "f1(brain['FSIQ'], brain['MRI_Count'], 0.95)"
   ]
  },
  {
   "cell_type": "code",
   "execution_count": 86,
   "metadata": {},
   "outputs": [
    {
     "data": {
      "text/plain": [
       "'Отвергаем H0'"
      ]
     },
     "execution_count": 86,
     "metadata": {},
     "output_type": "execute_result"
    }
   ],
   "source": [
    "f1(brain['VIQ'], brain['MRI_Count'], 0.95)"
   ]
  },
  {
   "cell_type": "code",
   "execution_count": 87,
   "metadata": {},
   "outputs": [
    {
     "data": {
      "text/plain": [
       "'Отвергаем H0'"
      ]
     },
     "execution_count": 87,
     "metadata": {},
     "output_type": "execute_result"
    }
   ],
   "source": [
    "f1(brain['PIQ'], brain['MRI_Count'], 0.95)"
   ]
  },
  {
   "cell_type": "markdown",
   "metadata": {},
   "source": [
    "## Вывод\n",
    "\n",
    "Во всех трех случаях H0 отвергается. Если корреляция все таки есть, вероятность существования такой выборки менее 0.05"
   ]
  },
  {
   "cell_type": "code",
   "execution_count": 92,
   "metadata": {},
   "outputs": [],
   "source": [
    "men_brain = brain[brain['Gender']=='Male']\n",
    "women_brain = brain[brain['Gender']=='Female']"
   ]
  },
  {
   "cell_type": "markdown",
   "metadata": {},
   "source": [
    "### Выборка по мужскому полу"
   ]
  },
  {
   "cell_type": "code",
   "execution_count": 93,
   "metadata": {},
   "outputs": [
    {
     "data": {
      "text/plain": [
       "'Отвергаем H0'"
      ]
     },
     "execution_count": 93,
     "metadata": {},
     "output_type": "execute_result"
    }
   ],
   "source": [
    "f1(men_brain['FSIQ'], men_brain['MRI_Count'], 0.95)"
   ]
  },
  {
   "cell_type": "code",
   "execution_count": 94,
   "metadata": {},
   "outputs": [
    {
     "data": {
      "text/plain": [
       "'Отвергаем H0'"
      ]
     },
     "execution_count": 94,
     "metadata": {},
     "output_type": "execute_result"
    }
   ],
   "source": [
    "f1(men_brain['VIQ'], men_brain['MRI_Count'], 0.95)"
   ]
  },
  {
   "cell_type": "code",
   "execution_count": 95,
   "metadata": {},
   "outputs": [
    {
     "data": {
      "text/plain": [
       "'Отвергаем H0'"
      ]
     },
     "execution_count": 95,
     "metadata": {},
     "output_type": "execute_result"
    }
   ],
   "source": [
    "f1(men_brain['PIQ'], men_brain['MRI_Count'], 0.95)"
   ]
  },
  {
   "cell_type": "markdown",
   "metadata": {},
   "source": [
    "### Выборка по женскому полу"
   ]
  },
  {
   "cell_type": "code",
   "execution_count": 102,
   "metadata": {},
   "outputs": [
    {
     "data": {
      "text/plain": [
       "'Не отвергаем H0'"
      ]
     },
     "execution_count": 102,
     "metadata": {},
     "output_type": "execute_result"
    }
   ],
   "source": [
    "f1(women_brain['FSIQ'], women_brain['MRI_Count'], 0.95)"
   ]
  },
  {
   "cell_type": "code",
   "execution_count": 103,
   "metadata": {},
   "outputs": [
    {
     "data": {
      "text/plain": [
       "'Не отвергаем H0'"
      ]
     },
     "execution_count": 103,
     "metadata": {},
     "output_type": "execute_result"
    }
   ],
   "source": [
    "f1(women_brain['VIQ'], women_brain['MRI_Count'], 0.95)"
   ]
  },
  {
   "cell_type": "code",
   "execution_count": 98,
   "metadata": {},
   "outputs": [
    {
     "data": {
      "text/plain": [
       "'Отвергаем H0'"
      ]
     },
     "execution_count": 98,
     "metadata": {},
     "output_type": "execute_result"
    }
   ],
   "source": [
    "f1(women_brain['PIQ'], women_brain['MRI_Count'], 0.95)"
   ]
  },
  {
   "cell_type": "markdown",
   "metadata": {},
   "source": [
    "### Вывод\n",
    "\n",
    "Выборка относительно полов тоже не несет ценной информации о наличии корреляции, даже в случаях, где 0-ая гипотеза принимается p-value сильно выше 0.05"
   ]
  },
  {
   "cell_type": "markdown",
   "metadata": {},
   "source": [
    "## Критерий Хи-квадрат"
   ]
  },
  {
   "cell_type": "code",
   "execution_count": 19,
   "metadata": {},
   "outputs": [
    {
     "data": {
      "text/html": [
       "<div>\n",
       "<style scoped>\n",
       "    .dataframe tbody tr th:only-of-type {\n",
       "        vertical-align: middle;\n",
       "    }\n",
       "\n",
       "    .dataframe tbody tr th {\n",
       "        vertical-align: top;\n",
       "    }\n",
       "\n",
       "    .dataframe thead th {\n",
       "        text-align: right;\n",
       "    }\n",
       "</style>\n",
       "<table border=\"1\" class=\"dataframe\">\n",
       "  <thead>\n",
       "    <tr style=\"text-align: right;\">\n",
       "      <th></th>\n",
       "      <th>ID</th>\n",
       "      <th>Age</th>\n",
       "      <th>Sex</th>\n",
       "      <th>LicYr</th>\n",
       "      <th>LicMth</th>\n",
       "      <th>ActCar</th>\n",
       "      <th>Kids5</th>\n",
       "      <th>Kids6</th>\n",
       "      <th>PreferCar</th>\n",
       "      <th>Car15K</th>\n",
       "      <th>...</th>\n",
       "      <th>Reliable</th>\n",
       "      <th>Perform</th>\n",
       "      <th>Fuel</th>\n",
       "      <th>Safety</th>\n",
       "      <th>AC/PS</th>\n",
       "      <th>Park</th>\n",
       "      <th>Room</th>\n",
       "      <th>Doors</th>\n",
       "      <th>Prestige</th>\n",
       "      <th>Colour</th>\n",
       "    </tr>\n",
       "  </thead>\n",
       "  <tbody>\n",
       "    <tr>\n",
       "      <td>0</td>\n",
       "      <td>110</td>\n",
       "      <td>18</td>\n",
       "      <td>2</td>\n",
       "      <td>0</td>\n",
       "      <td>2</td>\n",
       "      <td>3</td>\n",
       "      <td>2</td>\n",
       "      <td>2</td>\n",
       "      <td>2</td>\n",
       "      <td>2</td>\n",
       "      <td>...</td>\n",
       "      <td>4</td>\n",
       "      <td>3</td>\n",
       "      <td>3</td>\n",
       "      <td>3</td>\n",
       "      <td>3</td>\n",
       "      <td>3</td>\n",
       "      <td>3</td>\n",
       "      <td>3</td>\n",
       "      <td>3</td>\n",
       "      <td>2</td>\n",
       "    </tr>\n",
       "    <tr>\n",
       "      <td>1</td>\n",
       "      <td>111</td>\n",
       "      <td>25</td>\n",
       "      <td>1</td>\n",
       "      <td>8</td>\n",
       "      <td>0</td>\n",
       "      <td>1</td>\n",
       "      <td>2</td>\n",
       "      <td>2</td>\n",
       "      <td>1</td>\n",
       "      <td>1</td>\n",
       "      <td>...</td>\n",
       "      <td>4</td>\n",
       "      <td>4</td>\n",
       "      <td>4</td>\n",
       "      <td>4</td>\n",
       "      <td>3</td>\n",
       "      <td>4</td>\n",
       "      <td>4</td>\n",
       "      <td>2</td>\n",
       "      <td>3</td>\n",
       "      <td>3</td>\n",
       "    </tr>\n",
       "    <tr>\n",
       "      <td>2</td>\n",
       "      <td>112</td>\n",
       "      <td>63</td>\n",
       "      <td>2</td>\n",
       "      <td>46</td>\n",
       "      <td>0</td>\n",
       "      <td>3</td>\n",
       "      <td>2</td>\n",
       "      <td>2</td>\n",
       "      <td>3</td>\n",
       "      <td>2</td>\n",
       "      <td>...</td>\n",
       "      <td>3</td>\n",
       "      <td>3</td>\n",
       "      <td>3</td>\n",
       "      <td>3</td>\n",
       "      <td>3</td>\n",
       "      <td>3</td>\n",
       "      <td>3</td>\n",
       "      <td>3</td>\n",
       "      <td>3</td>\n",
       "      <td>3</td>\n",
       "    </tr>\n",
       "    <tr>\n",
       "      <td>3</td>\n",
       "      <td>113</td>\n",
       "      <td>51</td>\n",
       "      <td>1</td>\n",
       "      <td>35</td>\n",
       "      <td>0</td>\n",
       "      <td>3</td>\n",
       "      <td>2</td>\n",
       "      <td>2</td>\n",
       "      <td>2</td>\n",
       "      <td>2</td>\n",
       "      <td>...</td>\n",
       "      <td>3</td>\n",
       "      <td>3</td>\n",
       "      <td>3</td>\n",
       "      <td>4</td>\n",
       "      <td>3</td>\n",
       "      <td>3</td>\n",
       "      <td>3</td>\n",
       "      <td>3</td>\n",
       "      <td>1</td>\n",
       "      <td>3</td>\n",
       "    </tr>\n",
       "    <tr>\n",
       "      <td>4</td>\n",
       "      <td>114</td>\n",
       "      <td>19</td>\n",
       "      <td>1</td>\n",
       "      <td>2</td>\n",
       "      <td>0</td>\n",
       "      <td>2</td>\n",
       "      <td>2</td>\n",
       "      <td>2</td>\n",
       "      <td>2</td>\n",
       "      <td>1</td>\n",
       "      <td>...</td>\n",
       "      <td>3</td>\n",
       "      <td>4</td>\n",
       "      <td>3</td>\n",
       "      <td>3</td>\n",
       "      <td>2</td>\n",
       "      <td>3</td>\n",
       "      <td>3</td>\n",
       "      <td>2</td>\n",
       "      <td>3</td>\n",
       "      <td>3</td>\n",
       "    </tr>\n",
       "  </tbody>\n",
       "</table>\n",
       "<p>5 rows × 22 columns</p>\n",
       "</div>"
      ],
      "text/plain": [
       "    ID  Age  Sex  LicYr  LicMth  ActCar  Kids5  Kids6  PreferCar  Car15K  ...  \\\n",
       "0  110   18    2      0       2       3      2      2          2       2  ...   \n",
       "1  111   25    1      8       0       1      2      2          1       1  ...   \n",
       "2  112   63    2     46       0       3      2      2          3       2  ...   \n",
       "3  113   51    1     35       0       3      2      2          2       2  ...   \n",
       "4  114   19    1      2       0       2      2      2          2       1  ...   \n",
       "\n",
       "   Reliable  Perform  Fuel  Safety  AC/PS  Park  Room  Doors  Prestige  Colour  \n",
       "0         4        3     3       3      3     3     3      3         3       2  \n",
       "1         4        4     4       4      3     4     4      2         3       3  \n",
       "2         3        3     3       3      3     3     3      3         3       3  \n",
       "3         3        3     3       4      3     3     3      3         1       3  \n",
       "4         3        4     3       3      2     3     3      2         3       3  \n",
       "\n",
       "[5 rows x 22 columns]"
      ]
     },
     "execution_count": 19,
     "metadata": {},
     "output_type": "execute_result"
    }
   ],
   "source": [
    "carprefs.head()"
   ]
  },
  {
   "cell_type": "code",
   "execution_count": 20,
   "metadata": {},
   "outputs": [
    {
     "data": {
      "text/plain": [
       "array([1, 2, 3, 4], dtype=int64)"
      ]
     },
     "execution_count": 20,
     "metadata": {},
     "output_type": "execute_result"
    }
   ],
   "source": [
    "np.unique(carprefs.PreferCar)"
   ]
  },
  {
   "cell_type": "code",
   "execution_count": 104,
   "metadata": {},
   "outputs": [],
   "source": [
    "# Создание сводной таблицы с помощью pandas\n",
    "from scipy.stats import chi2_contingency\n",
    "table = pd.crosstab(carprefs['Sex'], carprefs['PreferCar'])\n",
    "stat, p, dof, expected = chi2_contingency(table)"
   ]
  },
  {
   "cell_type": "code",
   "execution_count": 105,
   "metadata": {},
   "outputs": [
    {
     "data": {
      "image/png": "[encoded data removed]",
      "text/plain": [
       "<Figure size 720x504 with 2 Axes>"
      ]
     },
     "metadata": {
      "needs_background": "light"
     },
     "output_type": "display_data"
    }
   ],
   "source": [
    "fig = plt.figure(figsize=(10,7))\n",
    "fig.suptitle('Распределение автомобилей по полу покупателя', fontsize=20)\n",
    "for i in range(1, 3):\n",
    "    plt.subplot(2, 1, i)\n",
    "    plt.hist(carprefs[carprefs['Sex']==i]['PreferCar'],bins=7, normed=1)\n",
    "    plt.xlabel('Sex ' + str(i))\n",
    "plt.show()"
   ]
  },
  {
   "cell_type": "code",
   "execution_count": 106,
   "metadata": {},
   "outputs": [
    {
     "data": {
      "text/plain": [
       "0.0005555699275518034"
      ]
     },
     "execution_count": 106,
     "metadata": {},
     "output_type": "execute_result"
    }
   ],
   "source": [
    "p"
   ]
  },
  {
   "cell_type": "markdown",
   "metadata": {},
   "source": [
    "P уровень значимости < 0.05\n",
    "\n",
    "H0 - не принимается\n",
    "\n",
    "<br>\n",
    "\n",
    "Если корреляция существует, данная выборка существует с вероятностью менее 0.05 "
   ]
  },
  {
   "cell_type": "code",
   "execution_count": null,
   "metadata": {},
   "outputs": [],
   "source": []
  },
  {
   "cell_type": "code",
   "execution_count": null,
   "metadata": {},
   "outputs": [],
   "source": []
  },
  {
   "cell_type": "code",
   "execution_count": null,
   "metadata": {},
   "outputs": [],
   "source": []
  }
 ],
 "metadata": {
  "kernelspec": {
   "display_name": "Python 3",
   "language": "python",
   "name": "python3"
  },
  "language_info": {
   "codemirror_mode": {
    "name": "ipython",
    "version": 3
   },
   "file_extension": ".py",
   "mimetype": "text/x-python",
   "name": "python",
   "nbconvert_exporter": "python",
   "pygments_lexer": "ipython3",
   "version": "3.7.4"
  }
 },
 "nbformat": 4,
 "nbformat_minor": 2
}
