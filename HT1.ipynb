{
 "cells": [
  {
   "cell_type": "code",
   "execution_count": 34,
   "metadata": {},
   "outputs": [],
   "source": [
    "import pandas as pd\n",
    "import numpy as np"
   ]
  },
  {
   "cell_type": "markdown",
   "metadata": {},
   "source": [
    "# Задание 1"
   ]
  },
  {
   "cell_type": "code",
   "execution_count": 10,
   "metadata": {},
   "outputs": [],
   "source": [
    "first_data = pd.read_csv('data.tsv', delimiter='\\t', index_col='School')"
   ]
  },
  {
   "cell_type": "markdown",
   "metadata": {},
   "source": [
    "## Data description\n",
    "\n",
    "<ul>\n",
    "    <li><b>School</b> - Contains the name of each school</li>\n",
    "    <li><b>School_Type</b> - Coded 'LibArts' for liberal arts and 'Univ' for university</li>\n",
    "    <li><b>SAT</b> - Median combined Math and Verbal SAT score of students</li>\n",
    "    <li><b>Acceptance</b> - % of applicants accepted</li>\n",
    "    <li><b>$/Student</b> - Money spent per student in dollars</li>\n",
    "    <li><b>Top 10%</b> - % of students in the top 10% of their h.s. graduating class</li>\n",
    "    <li><b>%PhD</b> - % of faculty at the institution that have PhD degrees</li>\n",
    "    <li><b>Grad%</b> - % of students at institution who eventually graduate</li>\n",
    "</ul>"
   ]
  },
  {
   "cell_type": "code",
   "execution_count": 16,
   "metadata": {},
   "outputs": [
    {
     "data": {
      "text/html": [
       "<div>\n",
       "<style scoped>\n",
       "    .dataframe tbody tr th:only-of-type {\n",
       "        vertical-align: middle;\n",
       "    }\n",
       "\n",
       "    .dataframe tbody tr th {\n",
       "        vertical-align: top;\n",
       "    }\n",
       "\n",
       "    .dataframe thead th {\n",
       "        text-align: right;\n",
       "    }\n",
       "</style>\n",
       "<table border=\"1\" class=\"dataframe\">\n",
       "  <thead>\n",
       "    <tr style=\"text-align: right;\">\n",
       "      <th></th>\n",
       "      <th>School_Type</th>\n",
       "      <th>SAT</th>\n",
       "      <th>Acceptance</th>\n",
       "      <th>$/Student</th>\n",
       "      <th>Top 10%</th>\n",
       "      <th>%PhD</th>\n",
       "      <th>Grad%</th>\n",
       "    </tr>\n",
       "    <tr>\n",
       "      <th>School</th>\n",
       "      <th></th>\n",
       "      <th></th>\n",
       "      <th></th>\n",
       "      <th></th>\n",
       "      <th></th>\n",
       "      <th></th>\n",
       "      <th></th>\n",
       "    </tr>\n",
       "  </thead>\n",
       "  <tbody>\n",
       "    <tr>\n",
       "      <td>Amherst</td>\n",
       "      <td>Lib Arts</td>\n",
       "      <td>1315</td>\n",
       "      <td>22</td>\n",
       "      <td>26636</td>\n",
       "      <td>85</td>\n",
       "      <td>81</td>\n",
       "      <td>93</td>\n",
       "    </tr>\n",
       "    <tr>\n",
       "      <td>Swarthmore</td>\n",
       "      <td>Lib Arts</td>\n",
       "      <td>1310</td>\n",
       "      <td>24</td>\n",
       "      <td>27487</td>\n",
       "      <td>78</td>\n",
       "      <td>93</td>\n",
       "      <td>88</td>\n",
       "    </tr>\n",
       "    <tr>\n",
       "      <td>Williams</td>\n",
       "      <td>Lib Arts</td>\n",
       "      <td>1336</td>\n",
       "      <td>28</td>\n",
       "      <td>23772</td>\n",
       "      <td>86</td>\n",
       "      <td>90</td>\n",
       "      <td>93</td>\n",
       "    </tr>\n",
       "    <tr>\n",
       "      <td>Bowdoin</td>\n",
       "      <td>Lib Arts</td>\n",
       "      <td>1300</td>\n",
       "      <td>24</td>\n",
       "      <td>25703</td>\n",
       "      <td>78</td>\n",
       "      <td>95</td>\n",
       "      <td>90</td>\n",
       "    </tr>\n",
       "    <tr>\n",
       "      <td>Wellesley</td>\n",
       "      <td>Lib Arts</td>\n",
       "      <td>1250</td>\n",
       "      <td>49</td>\n",
       "      <td>27879</td>\n",
       "      <td>76</td>\n",
       "      <td>91</td>\n",
       "      <td>86</td>\n",
       "    </tr>\n",
       "  </tbody>\n",
       "</table>\n",
       "</div>"
      ],
      "text/plain": [
       "           School_Type   SAT  Acceptance  $/Student  Top 10%  %PhD  Grad%\n",
       "School                                                                   \n",
       "Amherst       Lib Arts  1315          22      26636       85    81     93\n",
       "Swarthmore    Lib Arts  1310          24      27487       78    93     88\n",
       "Williams      Lib Arts  1336          28      23772       86    90     93\n",
       "Bowdoin       Lib Arts  1300          24      25703       78    95     90\n",
       "Wellesley     Lib Arts  1250          49      27879       76    91     86"
      ]
     },
     "execution_count": 16,
     "metadata": {},
     "output_type": "execute_result"
    }
   ],
   "source": [
    "first_data.head()"
   ]
  },
  {
   "cell_type": "code",
   "execution_count": 19,
   "metadata": {},
   "outputs": [
    {
     "data": {
      "text/html": [
       "<div>\n",
       "<style scoped>\n",
       "    .dataframe tbody tr th:only-of-type {\n",
       "        vertical-align: middle;\n",
       "    }\n",
       "\n",
       "    .dataframe tbody tr th {\n",
       "        vertical-align: top;\n",
       "    }\n",
       "\n",
       "    .dataframe thead th {\n",
       "        text-align: right;\n",
       "    }\n",
       "</style>\n",
       "<table border=\"1\" class=\"dataframe\">\n",
       "  <thead>\n",
       "    <tr style=\"text-align: right;\">\n",
       "      <th></th>\n",
       "      <th>School_Type</th>\n",
       "      <th>SAT</th>\n",
       "      <th>Acceptance</th>\n",
       "      <th>$/Student</th>\n",
       "      <th>Top 10%</th>\n",
       "      <th>%PhD</th>\n",
       "      <th>Grad%</th>\n",
       "    </tr>\n",
       "  </thead>\n",
       "  <tbody>\n",
       "    <tr>\n",
       "      <td>count</td>\n",
       "      <td>50</td>\n",
       "      <td>50.000000</td>\n",
       "      <td>50.000000</td>\n",
       "      <td>50.000000</td>\n",
       "      <td>50.000000</td>\n",
       "      <td>50.000000</td>\n",
       "      <td>50.000000</td>\n",
       "    </tr>\n",
       "    <tr>\n",
       "      <td>unique</td>\n",
       "      <td>2</td>\n",
       "      <td>NaN</td>\n",
       "      <td>NaN</td>\n",
       "      <td>NaN</td>\n",
       "      <td>NaN</td>\n",
       "      <td>NaN</td>\n",
       "      <td>NaN</td>\n",
       "    </tr>\n",
       "    <tr>\n",
       "      <td>top</td>\n",
       "      <td>Univ</td>\n",
       "      <td>NaN</td>\n",
       "      <td>NaN</td>\n",
       "      <td>NaN</td>\n",
       "      <td>NaN</td>\n",
       "      <td>NaN</td>\n",
       "      <td>NaN</td>\n",
       "    </tr>\n",
       "    <tr>\n",
       "      <td>freq</td>\n",
       "      <td>25</td>\n",
       "      <td>NaN</td>\n",
       "      <td>NaN</td>\n",
       "      <td>NaN</td>\n",
       "      <td>NaN</td>\n",
       "      <td>NaN</td>\n",
       "      <td>NaN</td>\n",
       "    </tr>\n",
       "    <tr>\n",
       "      <td>mean</td>\n",
       "      <td>NaN</td>\n",
       "      <td>1263.960000</td>\n",
       "      <td>37.840000</td>\n",
       "      <td>30247.200000</td>\n",
       "      <td>74.440000</td>\n",
       "      <td>90.560000</td>\n",
       "      <td>83.480000</td>\n",
       "    </tr>\n",
       "    <tr>\n",
       "      <td>std</td>\n",
       "      <td>NaN</td>\n",
       "      <td>62.329591</td>\n",
       "      <td>13.363612</td>\n",
       "      <td>15266.172682</td>\n",
       "      <td>13.515162</td>\n",
       "      <td>8.258972</td>\n",
       "      <td>7.557237</td>\n",
       "    </tr>\n",
       "    <tr>\n",
       "      <td>min</td>\n",
       "      <td>NaN</td>\n",
       "      <td>1109.000000</td>\n",
       "      <td>17.000000</td>\n",
       "      <td>17520.000000</td>\n",
       "      <td>47.000000</td>\n",
       "      <td>58.000000</td>\n",
       "      <td>61.000000</td>\n",
       "    </tr>\n",
       "    <tr>\n",
       "      <td>25%</td>\n",
       "      <td>NaN</td>\n",
       "      <td>1225.000000</td>\n",
       "      <td>25.750000</td>\n",
       "      <td>20182.250000</td>\n",
       "      <td>65.000000</td>\n",
       "      <td>86.250000</td>\n",
       "      <td>77.250000</td>\n",
       "    </tr>\n",
       "    <tr>\n",
       "      <td>50%</td>\n",
       "      <td>NaN</td>\n",
       "      <td>1264.000000</td>\n",
       "      <td>36.000000</td>\n",
       "      <td>24994.500000</td>\n",
       "      <td>76.500000</td>\n",
       "      <td>93.000000</td>\n",
       "      <td>85.500000</td>\n",
       "    </tr>\n",
       "    <tr>\n",
       "      <td>75%</td>\n",
       "      <td>NaN</td>\n",
       "      <td>1304.500000</td>\n",
       "      <td>47.750000</td>\n",
       "      <td>36803.750000</td>\n",
       "      <td>85.000000</td>\n",
       "      <td>97.750000</td>\n",
       "      <td>89.000000</td>\n",
       "    </tr>\n",
       "    <tr>\n",
       "      <td>max</td>\n",
       "      <td>NaN</td>\n",
       "      <td>1400.000000</td>\n",
       "      <td>67.000000</td>\n",
       "      <td>102262.000000</td>\n",
       "      <td>98.000000</td>\n",
       "      <td>100.000000</td>\n",
       "      <td>95.000000</td>\n",
       "    </tr>\n",
       "  </tbody>\n",
       "</table>\n",
       "</div>"
      ],
      "text/plain": [
       "       School_Type          SAT  Acceptance      $/Student    Top 10%  \\\n",
       "count           50    50.000000   50.000000      50.000000  50.000000   \n",
       "unique           2          NaN         NaN            NaN        NaN   \n",
       "top           Univ          NaN         NaN            NaN        NaN   \n",
       "freq            25          NaN         NaN            NaN        NaN   \n",
       "mean           NaN  1263.960000   37.840000   30247.200000  74.440000   \n",
       "std            NaN    62.329591   13.363612   15266.172682  13.515162   \n",
       "min            NaN  1109.000000   17.000000   17520.000000  47.000000   \n",
       "25%            NaN  1225.000000   25.750000   20182.250000  65.000000   \n",
       "50%            NaN  1264.000000   36.000000   24994.500000  76.500000   \n",
       "75%            NaN  1304.500000   47.750000   36803.750000  85.000000   \n",
       "max            NaN  1400.000000   67.000000  102262.000000  98.000000   \n",
       "\n",
       "              %PhD      Grad%  \n",
       "count    50.000000  50.000000  \n",
       "unique         NaN        NaN  \n",
       "top            NaN        NaN  \n",
       "freq           NaN        NaN  \n",
       "mean     90.560000  83.480000  \n",
       "std       8.258972   7.557237  \n",
       "min      58.000000  61.000000  \n",
       "25%      86.250000  77.250000  \n",
       "50%      93.000000  85.500000  \n",
       "75%      97.750000  89.000000  \n",
       "max     100.000000  95.000000  "
      ]
     },
     "execution_count": 19,
     "metadata": {},
     "output_type": "execute_result"
    }
   ],
   "source": [
    "#Описательная статистика данных\n",
    "first_data.describe(include='all')"
   ]
  },
  {
   "cell_type": "code",
   "execution_count": 106,
   "metadata": {},
   "outputs": [],
   "source": [
    "#Подсчёт мод для количественных признаков\n",
    "from scipy.stats import mode\n",
    "s = (first_data.dtypes != 'object')\n",
    "num_cols = list(s[s].index)\n",
    "mds = mode(first_data[num_cols])\n",
    "mds = pd.Series(mds.mode[0], index=num_cols)"
   ]
  },
  {
   "cell_type": "code",
   "execution_count": 107,
   "metadata": {},
   "outputs": [
    {
     "data": {
      "text/plain": [
       "SAT            1300\n",
       "Acceptance       24\n",
       "$/Student     17520\n",
       "Top 10%          52\n",
       "%PhD             98\n",
       "Grad%            88\n",
       "dtype: int64"
      ]
     },
     "execution_count": 107,
     "metadata": {},
     "output_type": "execute_result"
    }
   ],
   "source": [
    "mds"
   ]
  },
  {
   "cell_type": "code",
   "execution_count": 74,
   "metadata": {},
   "outputs": [],
   "source": [
    "import matplotlib\n",
    "from matplotlib import pyplot as plt\n",
    "import seaborn as sns\n",
    "%matplotlib inline\n",
    "\n",
    "matplotlib.style.use('seaborn-deep')"
   ]
  },
  {
   "cell_type": "markdown",
   "metadata": {},
   "source": [
    "### Поиск и отсечение выбросов\n",
    "\n",
    "Отсечение выбросов через z-преобразование, отсечение при |z|<3"
   ]
  },
  {
   "cell_type": "code",
   "execution_count": 79,
   "metadata": {},
   "outputs": [
    {
     "data": {
      "image/png": "[encoded data removed]",
      "text/plain": [
       "<Figure size 1800x504 with 6 Axes>"
      ]
     },
     "metadata": {
      "needs_background": "light"
     },
     "output_type": "display_data"
    }
   ],
   "source": [
    "fig = plt.figure(figsize=(25,7))\n",
    "fig.suptitle('Данные до обрабтки выбросов', fontsize=20)\n",
    "for col in range(len(num_cols)):\n",
    "    plt.subplot(2, 3, col + 1)\n",
    "    sns.boxplot(first_data[num_cols[col]])"
   ]
  },
  {
   "cell_type": "code",
   "execution_count": 108,
   "metadata": {},
   "outputs": [],
   "source": [
    "from scipy import stats\n",
    "s = (first_data.dtypes != 'object')\n",
    "num_cols = list(s[s].index)\n",
    "# Поиск строк, где все признаки удовлетворяют условию |z| < 3\n",
    "new_data = first_data[(np.abs(stats.zscore(first_data[num_cols])) < 3).all(axis=1)]"
   ]
  },
  {
   "cell_type": "code",
   "execution_count": 87,
   "metadata": {},
   "outputs": [
    {
     "data": {
      "image/png": "[encoded data removed]",
      "text/plain": [
       "<Figure size 1800x504 with 6 Axes>"
      ]
     },
     "metadata": {
      "needs_background": "light"
     },
     "output_type": "display_data"
    }
   ],
   "source": [
    "fig = plt.figure(figsize=(25,7))\n",
    "fig.suptitle('Данные после обрабтки выбросов', fontsize=20)\n",
    "for col in range(len(num_cols)):\n",
    "    plt.subplot(2, 3, col + 1)\n",
    "    sns.boxplot(new_data[num_cols[col]])"
   ]
  },
  {
   "cell_type": "code",
   "execution_count": 96,
   "metadata": {},
   "outputs": [
    {
     "data": {
      "text/plain": [
       "(array([15.,  5.,  7.,  6.,  1.,  1.,  2.,  4.,  0.,  2.,  1.,  1.,  0.,\n",
       "         1.,  1.]),\n",
       " array([-0.98163791, -0.71611548, -0.45059305, -0.18507062,  0.08045182,\n",
       "         0.34597425,  0.61149668,  0.87701911,  1.14254155,  1.40806398,\n",
       "         1.67358641,  1.93910884,  2.20463128,  2.47015371,  2.73567614,\n",
       "         3.00119857]),\n",
       " <a list of 15 Patch objects>)"
      ]
     },
     "execution_count": 96,
     "metadata": {},
     "output_type": "execute_result"
    },
    {
     "data": {
      "image/png": "[encoded data removed]",
      "text/plain": [
       "<Figure size 432x288 with 1 Axes>"
      ]
     },
     "metadata": {
      "needs_background": "light"
     },
     "output_type": "display_data"
    }
   ],
   "source": [
    "plt.xlabel('Money spent per student Z score')\n",
    "plt.hist(stats.zscore(new_data['$/Student']), bins=15)"
   ]
  },
  {
   "cell_type": "code",
   "execution_count": 88,
   "metadata": {},
   "outputs": [
    {
     "data": {
      "text/plain": [
       "(47, 7)"
      ]
     },
     "execution_count": 88,
     "metadata": {},
     "output_type": "execute_result"
    }
   ],
   "source": [
    "new_data.shape"
   ]
  },
  {
   "cell_type": "markdown",
   "metadata": {},
   "source": [
    "### Решение проблемы с пропусками"
   ]
  },
  {
   "cell_type": "code",
   "execution_count": 54,
   "metadata": {},
   "outputs": [],
   "source": [
    "#Поиск столбцов, где хотя бы один элемент пропущен\n",
    "cols_with_missing = [col for col in new_data.columns\n",
    "                     if new_data[col].isnull().any()]"
   ]
  },
  {
   "cell_type": "code",
   "execution_count": 55,
   "metadata": {},
   "outputs": [
    {
     "data": {
      "text/plain": [
       "[]"
      ]
     },
     "execution_count": 55,
     "metadata": {},
     "output_type": "execute_result"
    }
   ],
   "source": [
    "cols_with_missing"
   ]
  },
  {
   "cell_type": "code",
   "execution_count": 56,
   "metadata": {},
   "outputs": [
    {
     "data": {
      "text/html": [
       "<div>\n",
       "<style scoped>\n",
       "    .dataframe tbody tr th:only-of-type {\n",
       "        vertical-align: middle;\n",
       "    }\n",
       "\n",
       "    .dataframe tbody tr th {\n",
       "        vertical-align: top;\n",
       "    }\n",
       "\n",
       "    .dataframe thead th {\n",
       "        text-align: right;\n",
       "    }\n",
       "</style>\n",
       "<table border=\"1\" class=\"dataframe\">\n",
       "  <thead>\n",
       "    <tr style=\"text-align: right;\">\n",
       "      <th></th>\n",
       "      <th>School_Type</th>\n",
       "      <th>SAT</th>\n",
       "      <th>Acceptance</th>\n",
       "      <th>$/Student</th>\n",
       "      <th>Top 10%</th>\n",
       "      <th>%PhD</th>\n",
       "      <th>Grad%</th>\n",
       "    </tr>\n",
       "    <tr>\n",
       "      <th>School</th>\n",
       "      <th></th>\n",
       "      <th></th>\n",
       "      <th></th>\n",
       "      <th></th>\n",
       "      <th></th>\n",
       "      <th></th>\n",
       "      <th></th>\n",
       "    </tr>\n",
       "  </thead>\n",
       "  <tbody>\n",
       "    <tr>\n",
       "      <td>Amherst</td>\n",
       "      <td>Lib Arts</td>\n",
       "      <td>1315</td>\n",
       "      <td>22</td>\n",
       "      <td>26636</td>\n",
       "      <td>85</td>\n",
       "      <td>81</td>\n",
       "      <td>93</td>\n",
       "    </tr>\n",
       "    <tr>\n",
       "      <td>Swarthmore</td>\n",
       "      <td>Lib Arts</td>\n",
       "      <td>1310</td>\n",
       "      <td>24</td>\n",
       "      <td>27487</td>\n",
       "      <td>78</td>\n",
       "      <td>93</td>\n",
       "      <td>88</td>\n",
       "    </tr>\n",
       "    <tr>\n",
       "      <td>Williams</td>\n",
       "      <td>Lib Arts</td>\n",
       "      <td>1336</td>\n",
       "      <td>28</td>\n",
       "      <td>23772</td>\n",
       "      <td>86</td>\n",
       "      <td>90</td>\n",
       "      <td>93</td>\n",
       "    </tr>\n",
       "    <tr>\n",
       "      <td>Bowdoin</td>\n",
       "      <td>Lib Arts</td>\n",
       "      <td>1300</td>\n",
       "      <td>24</td>\n",
       "      <td>25703</td>\n",
       "      <td>78</td>\n",
       "      <td>95</td>\n",
       "      <td>90</td>\n",
       "    </tr>\n",
       "    <tr>\n",
       "      <td>Wellesley</td>\n",
       "      <td>Lib Arts</td>\n",
       "      <td>1250</td>\n",
       "      <td>49</td>\n",
       "      <td>27879</td>\n",
       "      <td>76</td>\n",
       "      <td>91</td>\n",
       "      <td>86</td>\n",
       "    </tr>\n",
       "    <tr>\n",
       "      <td>Pomona</td>\n",
       "      <td>Lib Arts</td>\n",
       "      <td>1320</td>\n",
       "      <td>33</td>\n",
       "      <td>26668</td>\n",
       "      <td>79</td>\n",
       "      <td>98</td>\n",
       "      <td>80</td>\n",
       "    </tr>\n",
       "    <tr>\n",
       "      <td>Wesleyan (CT)</td>\n",
       "      <td>Lib Arts</td>\n",
       "      <td>1290</td>\n",
       "      <td>35</td>\n",
       "      <td>19948</td>\n",
       "      <td>73</td>\n",
       "      <td>87</td>\n",
       "      <td>91</td>\n",
       "    </tr>\n",
       "    <tr>\n",
       "      <td>Middlebury</td>\n",
       "      <td>Lib Arts</td>\n",
       "      <td>1255</td>\n",
       "      <td>25</td>\n",
       "      <td>24718</td>\n",
       "      <td>65</td>\n",
       "      <td>89</td>\n",
       "      <td>92</td>\n",
       "    </tr>\n",
       "    <tr>\n",
       "      <td>Smith</td>\n",
       "      <td>Lib Arts</td>\n",
       "      <td>1195</td>\n",
       "      <td>57</td>\n",
       "      <td>25271</td>\n",
       "      <td>65</td>\n",
       "      <td>90</td>\n",
       "      <td>87</td>\n",
       "    </tr>\n",
       "    <tr>\n",
       "      <td>Davidson</td>\n",
       "      <td>Lib Arts</td>\n",
       "      <td>1230</td>\n",
       "      <td>36</td>\n",
       "      <td>17721</td>\n",
       "      <td>77</td>\n",
       "      <td>94</td>\n",
       "      <td>89</td>\n",
       "    </tr>\n",
       "    <tr>\n",
       "      <td>Vassar</td>\n",
       "      <td>Lib Arts</td>\n",
       "      <td>1287</td>\n",
       "      <td>43</td>\n",
       "      <td>20179</td>\n",
       "      <td>53</td>\n",
       "      <td>90</td>\n",
       "      <td>84</td>\n",
       "    </tr>\n",
       "    <tr>\n",
       "      <td>Carleton</td>\n",
       "      <td>Lib Arts</td>\n",
       "      <td>1300</td>\n",
       "      <td>40</td>\n",
       "      <td>19504</td>\n",
       "      <td>75</td>\n",
       "      <td>82</td>\n",
       "      <td>80</td>\n",
       "    </tr>\n",
       "    <tr>\n",
       "      <td>Claremont McKenna</td>\n",
       "      <td>Lib Arts</td>\n",
       "      <td>1260</td>\n",
       "      <td>36</td>\n",
       "      <td>20377</td>\n",
       "      <td>68</td>\n",
       "      <td>94</td>\n",
       "      <td>74</td>\n",
       "    </tr>\n",
       "    <tr>\n",
       "      <td>Oberlin</td>\n",
       "      <td>Lib Arts</td>\n",
       "      <td>1247</td>\n",
       "      <td>54</td>\n",
       "      <td>23591</td>\n",
       "      <td>64</td>\n",
       "      <td>98</td>\n",
       "      <td>77</td>\n",
       "    </tr>\n",
       "    <tr>\n",
       "      <td>Washington &amp; Lee</td>\n",
       "      <td>Lib Arts</td>\n",
       "      <td>1234</td>\n",
       "      <td>29</td>\n",
       "      <td>17998</td>\n",
       "      <td>61</td>\n",
       "      <td>89</td>\n",
       "      <td>78</td>\n",
       "    </tr>\n",
       "    <tr>\n",
       "      <td>Grinnell</td>\n",
       "      <td>Lib Arts</td>\n",
       "      <td>1244</td>\n",
       "      <td>67</td>\n",
       "      <td>22301</td>\n",
       "      <td>65</td>\n",
       "      <td>79</td>\n",
       "      <td>73</td>\n",
       "    </tr>\n",
       "    <tr>\n",
       "      <td>Mount Holyoke</td>\n",
       "      <td>Lib Arts</td>\n",
       "      <td>1200</td>\n",
       "      <td>61</td>\n",
       "      <td>23358</td>\n",
       "      <td>47</td>\n",
       "      <td>83</td>\n",
       "      <td>83</td>\n",
       "    </tr>\n",
       "    <tr>\n",
       "      <td>Colby</td>\n",
       "      <td>Lib Arts</td>\n",
       "      <td>1200</td>\n",
       "      <td>46</td>\n",
       "      <td>18872</td>\n",
       "      <td>52</td>\n",
       "      <td>75</td>\n",
       "      <td>84</td>\n",
       "    </tr>\n",
       "    <tr>\n",
       "      <td>Hamilton</td>\n",
       "      <td>Lib Arts</td>\n",
       "      <td>1215</td>\n",
       "      <td>38</td>\n",
       "      <td>20722</td>\n",
       "      <td>51</td>\n",
       "      <td>86</td>\n",
       "      <td>85</td>\n",
       "    </tr>\n",
       "    <tr>\n",
       "      <td>Bates</td>\n",
       "      <td>Lib Arts</td>\n",
       "      <td>1240</td>\n",
       "      <td>36</td>\n",
       "      <td>17554</td>\n",
       "      <td>58</td>\n",
       "      <td>81</td>\n",
       "      <td>88</td>\n",
       "    </tr>\n",
       "    <tr>\n",
       "      <td>Haverford</td>\n",
       "      <td>Lib Arts</td>\n",
       "      <td>1285</td>\n",
       "      <td>35</td>\n",
       "      <td>19418</td>\n",
       "      <td>71</td>\n",
       "      <td>91</td>\n",
       "      <td>87</td>\n",
       "    </tr>\n",
       "    <tr>\n",
       "      <td>Colgate</td>\n",
       "      <td>Lib Arts</td>\n",
       "      <td>1258</td>\n",
       "      <td>38</td>\n",
       "      <td>17520</td>\n",
       "      <td>61</td>\n",
       "      <td>78</td>\n",
       "      <td>85</td>\n",
       "    </tr>\n",
       "    <tr>\n",
       "      <td>Bryn Mawr</td>\n",
       "      <td>Lib Arts</td>\n",
       "      <td>1255</td>\n",
       "      <td>56</td>\n",
       "      <td>18847</td>\n",
       "      <td>70</td>\n",
       "      <td>81</td>\n",
       "      <td>84</td>\n",
       "    </tr>\n",
       "    <tr>\n",
       "      <td>Occidental</td>\n",
       "      <td>Lib Arts</td>\n",
       "      <td>1170</td>\n",
       "      <td>49</td>\n",
       "      <td>20192</td>\n",
       "      <td>54</td>\n",
       "      <td>93</td>\n",
       "      <td>72</td>\n",
       "    </tr>\n",
       "    <tr>\n",
       "      <td>Barnard</td>\n",
       "      <td>Lib Arts</td>\n",
       "      <td>1220</td>\n",
       "      <td>53</td>\n",
       "      <td>17653</td>\n",
       "      <td>69</td>\n",
       "      <td>98</td>\n",
       "      <td>80</td>\n",
       "    </tr>\n",
       "    <tr>\n",
       "      <td>Harvard</td>\n",
       "      <td>Univ</td>\n",
       "      <td>1370</td>\n",
       "      <td>18</td>\n",
       "      <td>46918</td>\n",
       "      <td>90</td>\n",
       "      <td>99</td>\n",
       "      <td>90</td>\n",
       "    </tr>\n",
       "    <tr>\n",
       "      <td>Stanford</td>\n",
       "      <td>Univ</td>\n",
       "      <td>1370</td>\n",
       "      <td>18</td>\n",
       "      <td>61921</td>\n",
       "      <td>92</td>\n",
       "      <td>96</td>\n",
       "      <td>88</td>\n",
       "    </tr>\n",
       "    <tr>\n",
       "      <td>Yale</td>\n",
       "      <td>Univ</td>\n",
       "      <td>1350</td>\n",
       "      <td>19</td>\n",
       "      <td>52468</td>\n",
       "      <td>90</td>\n",
       "      <td>97</td>\n",
       "      <td>93</td>\n",
       "    </tr>\n",
       "    <tr>\n",
       "      <td>Princeton</td>\n",
       "      <td>Univ</td>\n",
       "      <td>1340</td>\n",
       "      <td>17</td>\n",
       "      <td>48123</td>\n",
       "      <td>89</td>\n",
       "      <td>99</td>\n",
       "      <td>93</td>\n",
       "    </tr>\n",
       "    <tr>\n",
       "      <td>MIT</td>\n",
       "      <td>Univ</td>\n",
       "      <td>1357</td>\n",
       "      <td>30</td>\n",
       "      <td>56766</td>\n",
       "      <td>95</td>\n",
       "      <td>98</td>\n",
       "      <td>86</td>\n",
       "    </tr>\n",
       "    <tr>\n",
       "      <td>Duke</td>\n",
       "      <td>Univ</td>\n",
       "      <td>1310</td>\n",
       "      <td>25</td>\n",
       "      <td>39504</td>\n",
       "      <td>91</td>\n",
       "      <td>95</td>\n",
       "      <td>91</td>\n",
       "    </tr>\n",
       "    <tr>\n",
       "      <td>Dartmouth</td>\n",
       "      <td>Univ</td>\n",
       "      <td>1306</td>\n",
       "      <td>25</td>\n",
       "      <td>35804</td>\n",
       "      <td>86</td>\n",
       "      <td>100</td>\n",
       "      <td>95</td>\n",
       "    </tr>\n",
       "    <tr>\n",
       "      <td>Cornell</td>\n",
       "      <td>Univ</td>\n",
       "      <td>1280</td>\n",
       "      <td>30</td>\n",
       "      <td>37137</td>\n",
       "      <td>85</td>\n",
       "      <td>90</td>\n",
       "      <td>83</td>\n",
       "    </tr>\n",
       "    <tr>\n",
       "      <td>Columbia</td>\n",
       "      <td>Univ</td>\n",
       "      <td>1268</td>\n",
       "      <td>29</td>\n",
       "      <td>45879</td>\n",
       "      <td>78</td>\n",
       "      <td>93</td>\n",
       "      <td>90</td>\n",
       "    </tr>\n",
       "    <tr>\n",
       "      <td>U of Chicago</td>\n",
       "      <td>Univ</td>\n",
       "      <td>1300</td>\n",
       "      <td>45</td>\n",
       "      <td>38937</td>\n",
       "      <td>74</td>\n",
       "      <td>100</td>\n",
       "      <td>73</td>\n",
       "    </tr>\n",
       "    <tr>\n",
       "      <td>Brown</td>\n",
       "      <td>Univ</td>\n",
       "      <td>1281</td>\n",
       "      <td>24</td>\n",
       "      <td>24201</td>\n",
       "      <td>80</td>\n",
       "      <td>98</td>\n",
       "      <td>90</td>\n",
       "    </tr>\n",
       "    <tr>\n",
       "      <td>U Penn</td>\n",
       "      <td>Univ</td>\n",
       "      <td>1280</td>\n",
       "      <td>41</td>\n",
       "      <td>30882</td>\n",
       "      <td>87</td>\n",
       "      <td>99</td>\n",
       "      <td>86</td>\n",
       "    </tr>\n",
       "    <tr>\n",
       "      <td>Berkeley</td>\n",
       "      <td>Univ</td>\n",
       "      <td>1176</td>\n",
       "      <td>37</td>\n",
       "      <td>23665</td>\n",
       "      <td>95</td>\n",
       "      <td>93</td>\n",
       "      <td>68</td>\n",
       "    </tr>\n",
       "    <tr>\n",
       "      <td>Rice</td>\n",
       "      <td>Univ</td>\n",
       "      <td>1327</td>\n",
       "      <td>24</td>\n",
       "      <td>26730</td>\n",
       "      <td>85</td>\n",
       "      <td>95</td>\n",
       "      <td>88</td>\n",
       "    </tr>\n",
       "    <tr>\n",
       "      <td>U Va.</td>\n",
       "      <td>Univ</td>\n",
       "      <td>1218</td>\n",
       "      <td>37</td>\n",
       "      <td>19365</td>\n",
       "      <td>77</td>\n",
       "      <td>91</td>\n",
       "      <td>88</td>\n",
       "    </tr>\n",
       "    <tr>\n",
       "      <td>Georgetown</td>\n",
       "      <td>Univ</td>\n",
       "      <td>1278</td>\n",
       "      <td>24</td>\n",
       "      <td>23115</td>\n",
       "      <td>79</td>\n",
       "      <td>89</td>\n",
       "      <td>89</td>\n",
       "    </tr>\n",
       "    <tr>\n",
       "      <td>UNC</td>\n",
       "      <td>Univ</td>\n",
       "      <td>1109</td>\n",
       "      <td>32</td>\n",
       "      <td>19684</td>\n",
       "      <td>82</td>\n",
       "      <td>84</td>\n",
       "      <td>73</td>\n",
       "    </tr>\n",
       "    <tr>\n",
       "      <td>U Michican</td>\n",
       "      <td>Univ</td>\n",
       "      <td>1195</td>\n",
       "      <td>60</td>\n",
       "      <td>21853</td>\n",
       "      <td>71</td>\n",
       "      <td>93</td>\n",
       "      <td>77</td>\n",
       "    </tr>\n",
       "    <tr>\n",
       "      <td>Carnegie Mellon</td>\n",
       "      <td>Univ</td>\n",
       "      <td>1225</td>\n",
       "      <td>64</td>\n",
       "      <td>33607</td>\n",
       "      <td>52</td>\n",
       "      <td>84</td>\n",
       "      <td>77</td>\n",
       "    </tr>\n",
       "    <tr>\n",
       "      <td>Northwestern</td>\n",
       "      <td>Univ</td>\n",
       "      <td>1230</td>\n",
       "      <td>47</td>\n",
       "      <td>28851</td>\n",
       "      <td>77</td>\n",
       "      <td>79</td>\n",
       "      <td>82</td>\n",
       "    </tr>\n",
       "    <tr>\n",
       "      <td>Washington U (MO)</td>\n",
       "      <td>Univ</td>\n",
       "      <td>1225</td>\n",
       "      <td>54</td>\n",
       "      <td>39883</td>\n",
       "      <td>71</td>\n",
       "      <td>98</td>\n",
       "      <td>76</td>\n",
       "    </tr>\n",
       "    <tr>\n",
       "      <td>U of Rochester</td>\n",
       "      <td>Univ</td>\n",
       "      <td>1155</td>\n",
       "      <td>56</td>\n",
       "      <td>38597</td>\n",
       "      <td>52</td>\n",
       "      <td>96</td>\n",
       "      <td>73</td>\n",
       "    </tr>\n",
       "  </tbody>\n",
       "</table>\n",
       "</div>"
      ],
      "text/plain": [
       "                  School_Type   SAT  Acceptance  $/Student  Top 10%  %PhD  \\\n",
       "School                                                                      \n",
       "Amherst              Lib Arts  1315          22      26636       85    81   \n",
       "Swarthmore           Lib Arts  1310          24      27487       78    93   \n",
       "Williams             Lib Arts  1336          28      23772       86    90   \n",
       "Bowdoin              Lib Arts  1300          24      25703       78    95   \n",
       "Wellesley            Lib Arts  1250          49      27879       76    91   \n",
       "Pomona               Lib Arts  1320          33      26668       79    98   \n",
       "Wesleyan (CT)        Lib Arts  1290          35      19948       73    87   \n",
       "Middlebury           Lib Arts  1255          25      24718       65    89   \n",
       "Smith                Lib Arts  1195          57      25271       65    90   \n",
       "Davidson             Lib Arts  1230          36      17721       77    94   \n",
       "Vassar               Lib Arts  1287          43      20179       53    90   \n",
       "Carleton             Lib Arts  1300          40      19504       75    82   \n",
       "Claremont McKenna    Lib Arts  1260          36      20377       68    94   \n",
       "Oberlin              Lib Arts  1247          54      23591       64    98   \n",
       "Washington & Lee     Lib Arts  1234          29      17998       61    89   \n",
       "Grinnell             Lib Arts  1244          67      22301       65    79   \n",
       "Mount Holyoke        Lib Arts  1200          61      23358       47    83   \n",
       "Colby                Lib Arts  1200          46      18872       52    75   \n",
       "Hamilton             Lib Arts  1215          38      20722       51    86   \n",
       "Bates                Lib Arts  1240          36      17554       58    81   \n",
       "Haverford            Lib Arts  1285          35      19418       71    91   \n",
       "Colgate              Lib Arts  1258          38      17520       61    78   \n",
       "Bryn Mawr            Lib Arts  1255          56      18847       70    81   \n",
       "Occidental           Lib Arts  1170          49      20192       54    93   \n",
       "Barnard              Lib Arts  1220          53      17653       69    98   \n",
       "Harvard                  Univ  1370          18      46918       90    99   \n",
       "Stanford                 Univ  1370          18      61921       92    96   \n",
       "Yale                     Univ  1350          19      52468       90    97   \n",
       "Princeton                Univ  1340          17      48123       89    99   \n",
       "MIT                      Univ  1357          30      56766       95    98   \n",
       "Duke                     Univ  1310          25      39504       91    95   \n",
       "Dartmouth                Univ  1306          25      35804       86   100   \n",
       "Cornell                  Univ  1280          30      37137       85    90   \n",
       "Columbia                 Univ  1268          29      45879       78    93   \n",
       "U of Chicago             Univ  1300          45      38937       74   100   \n",
       "Brown                    Univ  1281          24      24201       80    98   \n",
       "U Penn                   Univ  1280          41      30882       87    99   \n",
       "Berkeley                 Univ  1176          37      23665       95    93   \n",
       "Rice                     Univ  1327          24      26730       85    95   \n",
       "U Va.                    Univ  1218          37      19365       77    91   \n",
       "Georgetown               Univ  1278          24      23115       79    89   \n",
       "UNC                      Univ  1109          32      19684       82    84   \n",
       "U Michican               Univ  1195          60      21853       71    93   \n",
       "Carnegie Mellon          Univ  1225          64      33607       52    84   \n",
       "Northwestern             Univ  1230          47      28851       77    79   \n",
       "Washington U (MO)        Univ  1225          54      39883       71    98   \n",
       "U of Rochester           Univ  1155          56      38597       52    96   \n",
       "\n",
       "                   Grad%  \n",
       "School                    \n",
       "Amherst               93  \n",
       "Swarthmore            88  \n",
       "Williams              93  \n",
       "Bowdoin               90  \n",
       "Wellesley             86  \n",
       "Pomona                80  \n",
       "Wesleyan (CT)         91  \n",
       "Middlebury            92  \n",
       "Smith                 87  \n",
       "Davidson              89  \n",
       "Vassar                84  \n",
       "Carleton              80  \n",
       "Claremont McKenna     74  \n",
       "Oberlin               77  \n",
       "Washington & Lee      78  \n",
       "Grinnell              73  \n",
       "Mount Holyoke         83  \n",
       "Colby                 84  \n",
       "Hamilton              85  \n",
       "Bates                 88  \n",
       "Haverford             87  \n",
       "Colgate               85  \n",
       "Bryn Mawr             84  \n",
       "Occidental            72  \n",
       "Barnard               80  \n",
       "Harvard               90  \n",
       "Stanford              88  \n",
       "Yale                  93  \n",
       "Princeton             93  \n",
       "MIT                   86  \n",
       "Duke                  91  \n",
       "Dartmouth             95  \n",
       "Cornell               83  \n",
       "Columbia              90  \n",
       "U of Chicago          73  \n",
       "Brown                 90  \n",
       "U Penn                86  \n",
       "Berkeley              68  \n",
       "Rice                  88  \n",
       "U Va.                 88  \n",
       "Georgetown            89  \n",
       "UNC                   73  \n",
       "U Michican            77  \n",
       "Carnegie Mellon       77  \n",
       "Northwestern          82  \n",
       "Washington U (MO)     76  \n",
       "U of Rochester        73  "
      ]
     },
     "execution_count": 56,
     "metadata": {},
     "output_type": "execute_result"
    }
   ],
   "source": [
    "new_data"
   ]
  },
  {
   "cell_type": "markdown",
   "metadata": {},
   "source": [
    "### В данном датасете отсутствуют пропуски в строках"
   ]
  },
  {
   "cell_type": "markdown",
   "metadata": {},
   "source": [
    "### Взаимная корреляция"
   ]
  },
  {
   "cell_type": "code",
   "execution_count": 99,
   "metadata": {},
   "outputs": [
    {
     "data": {
      "text/plain": [
       "<seaborn.axisgrid.PairGrid at 0x1dd57d1bac8>"
      ]
     },
     "execution_count": 99,
     "metadata": {},
     "output_type": "execute_result"
    },
    {
     "data": {
      "image/png": "[encoded data removed]",
      "text/plain": [
       "<Figure size 1080x1080 with 42 Axes>"
      ]
     },
     "metadata": {
      "needs_background": "light"
     },
     "output_type": "display_data"
    }
   ],
   "source": [
    "sns.pairplot(new_data)"
   ]
  },
  {
   "cell_type": "code",
   "execution_count": 134,
   "metadata": {},
   "outputs": [
    {
     "data": {
      "image/png": "[encoded data removed]",
      "text/plain": [
       "<Figure size 1008x720 with 2 Axes>"
      ]
     },
     "metadata": {
      "needs_background": "light"
     },
     "output_type": "display_data"
    }
   ],
   "source": [
    "plt.figure(figsize=(14,10))\n",
    "ax = sns.heatmap(new_data.corr(), xticklabels=new_data.corr().columns, yticklabels=new_data.corr().columns, center=0, annot=True)\n",
    "i, k = ax.get_ylim()\n",
    "ax.set_ylim(i+0.5, k-0.5)\n",
    "plt.title('HeatMap взаимной корреляции', fontsize=20)\n",
    "plt.xticks(fontsize=8)\n",
    "plt.yticks(fontsize=8)\n",
    "plt.show()"
   ]
  },
  {
   "cell_type": "markdown",
   "metadata": {},
   "source": [
    "###### Задание 2\n",
    "\n",
    "## Генерация генеральной совокупности\n",
    "\n",
    "### Параметры и доли распределений\n",
    "\n",
    "<ol>\n",
    "    <li><b>μ</b> = 10 <b>σ</b> = 5 <b>Доля</b> 1/6 </li>\n",
    "    <li><b>μ</b> = 4 <b>σ</b> = 2 <b>Доля</b> 1/2 </li>\n",
    "    <li><b>μ</b> = 10 <b>σ</b> = 24 <b>Доля</b> 1/3 </li>\n",
    "</ol>"
   ]
  },
  {
   "cell_type": "code",
   "execution_count": 169,
   "metadata": {},
   "outputs": [],
   "source": [
    "mix = (stats.norm.rvs(size=1000, loc=10, scale=5)/6 + stats.norm.rvs(size=1000, loc=4, scale=2)/2 + stats.norm.rvs(size=1000, loc=6, scale=24)/3)"
   ]
  },
  {
   "cell_type": "code",
   "execution_count": 171,
   "metadata": {},
   "outputs": [
    {
     "data": {
      "text/plain": [
       "(array([ 2.,  1.,  4.,  5., 13., 12., 30., 36., 48., 52., 66., 70., 59.,\n",
       "        86., 90., 97., 62., 57., 47., 44., 32., 24., 24., 15.,  8.,  3.,\n",
       "         5.,  2.,  1.,  5.]),\n",
       " array([-17.96150157, -16.31660415, -14.67170674, -13.02680933,\n",
       "        -11.38191191,  -9.7370145 ,  -8.09211708,  -6.44721967,\n",
       "         -4.80232226,  -3.15742484,  -1.51252743,   0.13236998,\n",
       "          1.7772674 ,   3.42216481,   5.06706222,   6.71195964,\n",
       "          8.35685705,  10.00175446,  11.64665188,  13.29154929,\n",
       "         14.93644671,  16.58134412,  18.22624153,  19.87113895,\n",
       "         21.51603636,  23.16093377,  24.80583119,  26.4507286 ,\n",
       "         28.09562601,  29.74052343,  31.38542084]),\n",
       " <a list of 30 Patch objects>)"
      ]
     },
     "execution_count": 171,
     "metadata": {},
     "output_type": "execute_result"
    },
    {
     "data": {
      "image/png": "[encoded data removed]",
      "text/plain": [
       "<Figure size 432x288 with 1 Axes>"
      ]
     },
     "metadata": {
      "needs_background": "light"
     },
     "output_type": "display_data"
    }
   ],
   "source": [
    "plt.xlabel('Генеральная совокупность')\n",
    "plt.hist(mix, bins = 30)"
   ]
  },
  {
   "cell_type": "code",
   "execution_count": null,
   "metadata": {},
   "outputs": [],
   "source": []
  },
  {
   "cell_type": "markdown",
   "metadata": {},
   "source": [
    "# Задание 3\n",
    "\n",
    "## Создание синтетических данных"
   ]
  },
  {
   "cell_type": "code",
   "execution_count": 173,
   "metadata": {},
   "outputs": [
    {
     "data": {
      "text/plain": [
       "(array([ 1.,  2.,  2., 16., 10., 13., 17., 25., 38., 46., 53., 69., 64.,\n",
       "        80., 95., 88., 78., 70., 61., 52., 31., 32., 24.,  8., 10.,  4.,\n",
       "         4.,  4.,  0.,  3.]),\n",
       " array([-1.04219976, -0.48503776,  0.07212423,  0.62928623,  1.18644823,\n",
       "         1.74361023,  2.30077223,  2.85793422,  3.41509622,  3.97225822,\n",
       "         4.52942022,  5.08658222,  5.64374421,  6.20090621,  6.75806821,\n",
       "         7.31523021,  7.87239221,  8.4295542 ,  8.9867162 ,  9.5438782 ,\n",
       "        10.1010402 , 10.6582022 , 11.21536419, 11.77252619, 12.32968819,\n",
       "        12.88685019, 13.44401219, 14.00117418, 14.55833618, 15.11549818,\n",
       "        15.67266018]),\n",
       " <a list of 30 Patch objects>)"
      ]
     },
     "execution_count": 173,
     "metadata": {},
     "output_type": "execute_result"
    },
    {
     "data": {
      "image/png": "[encoded data removed]",
      "text/plain": [
       "<Figure size 432x288 with 1 Axes>"
      ]
     },
     "metadata": {
      "needs_background": "light"
     },
     "output_type": "display_data"
    }
   ],
   "source": [
    "mix = (stats.norm.rvs(size=1000, loc=10, scale=5)/2 + stats.norm.rvs(size=1000, loc=4, scale=2)/2)\n",
    "plt.xlabel('Генеральная совокупность')\n",
    "plt.hist(mix, bins = 30)"
   ]
  },
  {
   "cell_type": "code",
   "execution_count": null,
   "metadata": {},
   "outputs": [],
   "source": []
  },
  {
   "cell_type": "markdown",
   "metadata": {},
   "source": [
    "# Задание 4"
   ]
  },
  {
   "cell_type": "markdown",
   "metadata": {},
   "source": [
    "## Проверка гипотезы для коэффициента корреляции"
   ]
  },
  {
   "cell_type": "code",
   "execution_count": 177,
   "metadata": {},
   "outputs": [],
   "source": [
    "brain = pd.read_csv('brain.tsv', delimiter='\\t')\n",
    "carprefs = pd.read_csv('carprefs.tsv', delimiter='\\t')"
   ]
  },
  {
   "cell_type": "code",
   "execution_count": 189,
   "metadata": {},
   "outputs": [
    {
     "data": {
      "text/html": [
       "<div>\n",
       "<style scoped>\n",
       "    .dataframe tbody tr th:only-of-type {\n",
       "        vertical-align: middle;\n",
       "    }\n",
       "\n",
       "    .dataframe tbody tr th {\n",
       "        vertical-align: top;\n",
       "    }\n",
       "\n",
       "    .dataframe thead th {\n",
       "        text-align: right;\n",
       "    }\n",
       "</style>\n",
       "<table border=\"1\" class=\"dataframe\">\n",
       "  <thead>\n",
       "    <tr style=\"text-align: right;\">\n",
       "      <th></th>\n",
       "      <th>Gender</th>\n",
       "      <th>FSIQ</th>\n",
       "      <th>VIQ</th>\n",
       "      <th>PIQ</th>\n",
       "      <th>Weight</th>\n",
       "      <th>Height</th>\n",
       "      <th>MRI_Count</th>\n",
       "    </tr>\n",
       "  </thead>\n",
       "  <tbody>\n",
       "    <tr>\n",
       "      <td>0</td>\n",
       "      <td>Female</td>\n",
       "      <td>133</td>\n",
       "      <td>132</td>\n",
       "      <td>124</td>\n",
       "      <td>118</td>\n",
       "      <td>64.5</td>\n",
       "      <td>816932</td>\n",
       "    </tr>\n",
       "    <tr>\n",
       "      <td>1</td>\n",
       "      <td>Male</td>\n",
       "      <td>140</td>\n",
       "      <td>150</td>\n",
       "      <td>124</td>\n",
       "      <td>�</td>\n",
       "      <td>72.5</td>\n",
       "      <td>1001121</td>\n",
       "    </tr>\n",
       "    <tr>\n",
       "      <td>2</td>\n",
       "      <td>Male</td>\n",
       "      <td>139</td>\n",
       "      <td>123</td>\n",
       "      <td>150</td>\n",
       "      <td>143</td>\n",
       "      <td>73.3</td>\n",
       "      <td>1038437</td>\n",
       "    </tr>\n",
       "    <tr>\n",
       "      <td>3</td>\n",
       "      <td>Male</td>\n",
       "      <td>133</td>\n",
       "      <td>129</td>\n",
       "      <td>128</td>\n",
       "      <td>172</td>\n",
       "      <td>68.8</td>\n",
       "      <td>965353</td>\n",
       "    </tr>\n",
       "    <tr>\n",
       "      <td>4</td>\n",
       "      <td>Female</td>\n",
       "      <td>137</td>\n",
       "      <td>132</td>\n",
       "      <td>134</td>\n",
       "      <td>147</td>\n",
       "      <td>65.0</td>\n",
       "      <td>951545</td>\n",
       "    </tr>\n",
       "  </tbody>\n",
       "</table>\n",
       "</div>"
      ],
      "text/plain": [
       "   Gender  FSIQ  VIQ  PIQ Weight Height  MRI_Count\n",
       "0  Female   133  132  124    118   64.5     816932\n",
       "1    Male   140  150  124      �   72.5    1001121\n",
       "2    Male   139  123  150    143   73.3    1038437\n",
       "3    Male   133  129  128    172   68.8     965353\n",
       "4  Female   137  132  134    147   65.0     951545"
      ]
     },
     "execution_count": 189,
     "metadata": {},
     "output_type": "execute_result"
    }
   ],
   "source": [
    "brain.head()"
   ]
  },
  {
   "cell_type": "code",
   "execution_count": 218,
   "metadata": {},
   "outputs": [
    {
     "name": "stderr",
     "output_type": "stream",
     "text": [
      "'c' argument looks like a single numeric RGB or RGBA sequence, which should be avoided as value-mapping will have precedence in case its length matches with 'x' & 'y'.  Please use a 2-D array with a single row if you really want to specify the same RGB or RGBA value for all points.\n",
      "'c' argument looks like a single numeric RGB or RGBA sequence, which should be avoided as value-mapping will have precedence in case its length matches with 'x' & 'y'.  Please use a 2-D array with a single row if you really want to specify the same RGB or RGBA value for all points.\n"
     ]
    },
    {
     "data": {
      "image/png": "[encoded data removed]",
      "text/plain": [
       "<Figure size 432x288 with 1 Axes>"
      ]
     },
     "metadata": {
      "needs_background": "light"
     },
     "output_type": "display_data"
    }
   ],
   "source": [
    "cat = np.unique(brain['Gender'])\n",
    "colors = [plt.cm.tab10(i/float(len(cat)-1)) for i in range(len(cat))]\n",
    "plt.figure()\n",
    "for i, cat in enumerate(cat):\n",
    "    plt.scatter('MRI_Count', 'FSIQ', data = brain.loc[brain.Gender==cat, :],\n",
    "               s=20, c=colors[i], label=str(cat))\n",
    "plt.xlabel('Размер мозга')\n",
    "plt.ylabel('IQ')\n",
    "plt.legend(fontsize=12)\n",
    "plt.show()"
   ]
  },
  {
   "cell_type": "code",
   "execution_count": 201,
   "metadata": {},
   "outputs": [],
   "source": [
    "def f1(x, y, a):\n",
    "    x_m = np.mean(x)\n",
    "    y_m = np.mean(y)\n",
    "    r = sum((x-x_m)*(y-y_m))\n",
    "    r /= sum((x-x_m) ** 2) ** 0.5\n",
    "    r /= sum((y-y_m) ** 2) ** 0.5\n",
    "    t = r/(1-r**2)**0.5 * (len(x)-2)**0.5\n",
    "    t1 = stats.t.ppf(1 - a, len(x)-2)\n",
    "    if abs(t) > abs(t1):\n",
    "        return 'Отвергаем H0'\n",
    "    else:\n",
    "        return 'Не отвергаем H0'"
   ]
  },
  {
   "cell_type": "markdown",
   "metadata": {},
   "source": [
    "### Выборка без разделения по полу"
   ]
  },
  {
   "cell_type": "code",
   "execution_count": 202,
   "metadata": {},
   "outputs": [
    {
     "data": {
      "text/plain": [
       "'Отвергаем H0'"
      ]
     },
     "execution_count": 202,
     "metadata": {},
     "output_type": "execute_result"
    }
   ],
   "source": [
    "f1(brain['FSIQ'], brain['MRI_Count'], 0.95)"
   ]
  },
  {
   "cell_type": "code",
   "execution_count": 203,
   "metadata": {},
   "outputs": [],
   "source": [
    "men_brain = brain[brain['Gender']=='Male']\n",
    "women_brain = brain[brain['Gender']=='Female']"
   ]
  },
  {
   "cell_type": "markdown",
   "metadata": {},
   "source": [
    "### Выборка по мужскому полу"
   ]
  },
  {
   "cell_type": "code",
   "execution_count": 204,
   "metadata": {},
   "outputs": [
    {
     "data": {
      "text/plain": [
       "'Отвергаем H0'"
      ]
     },
     "execution_count": 204,
     "metadata": {},
     "output_type": "execute_result"
    }
   ],
   "source": [
    "f1(men_brain['FSIQ'], men_brain['MRI_Count'], 0.95)"
   ]
  },
  {
   "cell_type": "markdown",
   "metadata": {},
   "source": [
    "### Выборка по женскому полу"
   ]
  },
  {
   "cell_type": "code",
   "execution_count": 205,
   "metadata": {},
   "outputs": [
    {
     "data": {
      "text/plain": [
       "'Не отвергаем H0'"
      ]
     },
     "execution_count": 205,
     "metadata": {},
     "output_type": "execute_result"
    }
   ],
   "source": [
    "f1(women_brain['FSIQ'], women_brain['MRI_Count'], 0.95)"
   ]
  },
  {
   "cell_type": "markdown",
   "metadata": {},
   "source": [
    "## Критерий Хи-квадрат"
   ]
  },
  {
   "cell_type": "code",
   "execution_count": 219,
   "metadata": {},
   "outputs": [
    {
     "data": {
      "text/html": [
       "<div>\n",
       "<style scoped>\n",
       "    .dataframe tbody tr th:only-of-type {\n",
       "        vertical-align: middle;\n",
       "    }\n",
       "\n",
       "    .dataframe tbody tr th {\n",
       "        vertical-align: top;\n",
       "    }\n",
       "\n",
       "    .dataframe thead th {\n",
       "        text-align: right;\n",
       "    }\n",
       "</style>\n",
       "<table border=\"1\" class=\"dataframe\">\n",
       "  <thead>\n",
       "    <tr style=\"text-align: right;\">\n",
       "      <th></th>\n",
       "      <th>ID</th>\n",
       "      <th>Age</th>\n",
       "      <th>Sex</th>\n",
       "      <th>LicYr</th>\n",
       "      <th>LicMth</th>\n",
       "      <th>ActCar</th>\n",
       "      <th>Kids5</th>\n",
       "      <th>Kids6</th>\n",
       "      <th>PreferCar</th>\n",
       "      <th>Car15K</th>\n",
       "      <th>...</th>\n",
       "      <th>Reliable</th>\n",
       "      <th>Perform</th>\n",
       "      <th>Fuel</th>\n",
       "      <th>Safety</th>\n",
       "      <th>AC/PS</th>\n",
       "      <th>Park</th>\n",
       "      <th>Room</th>\n",
       "      <th>Doors</th>\n",
       "      <th>Prestige</th>\n",
       "      <th>Colour</th>\n",
       "    </tr>\n",
       "  </thead>\n",
       "  <tbody>\n",
       "    <tr>\n",
       "      <td>0</td>\n",
       "      <td>110</td>\n",
       "      <td>18</td>\n",
       "      <td>2</td>\n",
       "      <td>0</td>\n",
       "      <td>2</td>\n",
       "      <td>3</td>\n",
       "      <td>2</td>\n",
       "      <td>2</td>\n",
       "      <td>2</td>\n",
       "      <td>2</td>\n",
       "      <td>...</td>\n",
       "      <td>4</td>\n",
       "      <td>3</td>\n",
       "      <td>3</td>\n",
       "      <td>3</td>\n",
       "      <td>3</td>\n",
       "      <td>3</td>\n",
       "      <td>3</td>\n",
       "      <td>3</td>\n",
       "      <td>3</td>\n",
       "      <td>2</td>\n",
       "    </tr>\n",
       "    <tr>\n",
       "      <td>1</td>\n",
       "      <td>111</td>\n",
       "      <td>25</td>\n",
       "      <td>1</td>\n",
       "      <td>8</td>\n",
       "      <td>0</td>\n",
       "      <td>1</td>\n",
       "      <td>2</td>\n",
       "      <td>2</td>\n",
       "      <td>1</td>\n",
       "      <td>1</td>\n",
       "      <td>...</td>\n",
       "      <td>4</td>\n",
       "      <td>4</td>\n",
       "      <td>4</td>\n",
       "      <td>4</td>\n",
       "      <td>3</td>\n",
       "      <td>4</td>\n",
       "      <td>4</td>\n",
       "      <td>2</td>\n",
       "      <td>3</td>\n",
       "      <td>3</td>\n",
       "    </tr>\n",
       "    <tr>\n",
       "      <td>2</td>\n",
       "      <td>112</td>\n",
       "      <td>63</td>\n",
       "      <td>2</td>\n",
       "      <td>46</td>\n",
       "      <td>0</td>\n",
       "      <td>3</td>\n",
       "      <td>2</td>\n",
       "      <td>2</td>\n",
       "      <td>3</td>\n",
       "      <td>2</td>\n",
       "      <td>...</td>\n",
       "      <td>3</td>\n",
       "      <td>3</td>\n",
       "      <td>3</td>\n",
       "      <td>3</td>\n",
       "      <td>3</td>\n",
       "      <td>3</td>\n",
       "      <td>3</td>\n",
       "      <td>3</td>\n",
       "      <td>3</td>\n",
       "      <td>3</td>\n",
       "    </tr>\n",
       "    <tr>\n",
       "      <td>3</td>\n",
       "      <td>113</td>\n",
       "      <td>51</td>\n",
       "      <td>1</td>\n",
       "      <td>35</td>\n",
       "      <td>0</td>\n",
       "      <td>3</td>\n",
       "      <td>2</td>\n",
       "      <td>2</td>\n",
       "      <td>2</td>\n",
       "      <td>2</td>\n",
       "      <td>...</td>\n",
       "      <td>3</td>\n",
       "      <td>3</td>\n",
       "      <td>3</td>\n",
       "      <td>4</td>\n",
       "      <td>3</td>\n",
       "      <td>3</td>\n",
       "      <td>3</td>\n",
       "      <td>3</td>\n",
       "      <td>1</td>\n",
       "      <td>3</td>\n",
       "    </tr>\n",
       "    <tr>\n",
       "      <td>4</td>\n",
       "      <td>114</td>\n",
       "      <td>19</td>\n",
       "      <td>1</td>\n",
       "      <td>2</td>\n",
       "      <td>0</td>\n",
       "      <td>2</td>\n",
       "      <td>2</td>\n",
       "      <td>2</td>\n",
       "      <td>2</td>\n",
       "      <td>1</td>\n",
       "      <td>...</td>\n",
       "      <td>3</td>\n",
       "      <td>4</td>\n",
       "      <td>3</td>\n",
       "      <td>3</td>\n",
       "      <td>2</td>\n",
       "      <td>3</td>\n",
       "      <td>3</td>\n",
       "      <td>2</td>\n",
       "      <td>3</td>\n",
       "      <td>3</td>\n",
       "    </tr>\n",
       "  </tbody>\n",
       "</table>\n",
       "<p>5 rows × 22 columns</p>\n",
       "</div>"
      ],
      "text/plain": [
       "    ID  Age  Sex  LicYr  LicMth  ActCar  Kids5  Kids6  PreferCar  Car15K  ...  \\\n",
       "0  110   18    2      0       2       3      2      2          2       2  ...   \n",
       "1  111   25    1      8       0       1      2      2          1       1  ...   \n",
       "2  112   63    2     46       0       3      2      2          3       2  ...   \n",
       "3  113   51    1     35       0       3      2      2          2       2  ...   \n",
       "4  114   19    1      2       0       2      2      2          2       1  ...   \n",
       "\n",
       "   Reliable  Perform  Fuel  Safety  AC/PS  Park  Room  Doors  Prestige  Colour  \n",
       "0         4        3     3       3      3     3     3      3         3       2  \n",
       "1         4        4     4       4      3     4     4      2         3       3  \n",
       "2         3        3     3       3      3     3     3      3         3       3  \n",
       "3         3        3     3       4      3     3     3      3         1       3  \n",
       "4         3        4     3       3      2     3     3      2         3       3  \n",
       "\n",
       "[5 rows x 22 columns]"
      ]
     },
     "execution_count": 219,
     "metadata": {},
     "output_type": "execute_result"
    }
   ],
   "source": [
    "carprefs.head()"
   ]
  },
  {
   "cell_type": "code",
   "execution_count": 223,
   "metadata": {},
   "outputs": [
    {
     "data": {
      "text/plain": [
       "array([1, 2, 3, 4], dtype=int64)"
      ]
     },
     "execution_count": 223,
     "metadata": {},
     "output_type": "execute_result"
    }
   ],
   "source": [
    "np.unique(carprefs.PreferCar)"
   ]
  },
  {
   "cell_type": "code",
   "execution_count": 253,
   "metadata": {},
   "outputs": [],
   "source": [
    "from scipy.stats import chi2_contingency\n",
    "table = pd.crosstab(carprefs['Sex'], carprefs['PreferCar'])\n",
    "stat, p, dof, expected = chi2_contingency(table)"
   ]
  },
  {
   "cell_type": "code",
   "execution_count": 252,
   "metadata": {},
   "outputs": [
    {
     "name": "stderr",
     "output_type": "stream",
     "text": [
      "C:\\Users\\user\\Anaconda3\\lib\\site-packages\\ipykernel_launcher.py:5: MatplotlibDeprecationWarning: \n",
      "The 'normed' kwarg was deprecated in Matplotlib 2.1 and will be removed in 3.1. Use 'density' instead.\n",
      "  \"\"\"\n"
     ]
    },
    {
     "data": {
      "image/png": "[encoded data removed]",
      "text/plain": [
       "<Figure size 720x504 with 2 Axes>"
      ]
     },
     "metadata": {
      "needs_background": "light"
     },
     "output_type": "display_data"
    }
   ],
   "source": [
    "fig = plt.figure(figsize=(10,7))\n",
    "fig.suptitle('Распределение автомобилей по полу покупателя', fontsize=20)\n",
    "for i in range(1, 3):\n",
    "    plt.subplot(2, 1, i)\n",
    "    plt.hist(carprefs[carprefs['Sex']==i]['PreferCar'],bins=7, normed=1)\n",
    "    plt.xlabel('Sex ' + str(i))\n",
    "plt.show()"
   ]
  },
  {
   "cell_type": "code",
   "execution_count": 254,
   "metadata": {},
   "outputs": [
    {
     "data": {
      "text/plain": [
       "0.0005555699275518034"
      ]
     },
     "execution_count": 254,
     "metadata": {},
     "output_type": "execute_result"
    }
   ],
   "source": [
    "p"
   ]
  },
  {
   "cell_type": "markdown",
   "metadata": {},
   "source": [
    "P уровень значимости < 0.05\n",
    "\n",
    "H0 - не принимается, корреляции нет"
   ]
  },
  {
   "cell_type": "code",
   "execution_count": null,
   "metadata": {},
   "outputs": [],
   "source": []
  }
 ],
 "metadata": {
  "kernelspec": {
   "display_name": "Python 3",
   "language": "python",
   "name": "python3"
  },
  "language_info": {
   "codemirror_mode": {
    "name": "ipython",
    "version": 3
   },
   "file_extension": ".py",
   "mimetype": "text/x-python",
   "name": "python",
   "nbconvert_exporter": "python",
   "pygments_lexer": "ipython3",
   "version": "3.7.4"
  }
 },
 "nbformat": 4,
 "nbformat_minor": 2
}
